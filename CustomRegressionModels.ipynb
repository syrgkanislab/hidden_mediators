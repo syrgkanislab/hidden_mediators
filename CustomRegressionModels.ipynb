{
 "cells": [
  {
   "cell_type": "markdown",
   "id": "0",
   "metadata": {
    "id": "nJSbD4Nr8VNq"
   },
   "source": [
    "## Setup Only for Colab"
   ]
  },
  {
   "cell_type": "code",
   "execution_count": null,
   "id": "1",
   "metadata": {},
   "outputs": [],
   "source": [
    "from IPython.display import clear_output\n",
    "from google.colab import drive\n",
    "import time\n",
    "drive.mount('/content/drive') # First mount drive\n",
    "%cd /content/drive/MyDrive/Colab\\ Notebooks"
   ]
  },
  {
   "cell_type": "code",
   "execution_count": null,
   "id": "2",
   "metadata": {},
   "outputs": [],
   "source": [
    "## Run if you haven't set up hidden_mediators\n",
    "! git clone https://github.com/syrgkanislab/hidden_mediators\n",
    "%cd hidden_mediators\n",
    "! pip install -r requirements.txt\n",
    "! python setup.py install\n",
    "time.sleep(2)\n",
    "clear_output()"
   ]
  },
  {
   "cell_type": "code",
   "execution_count": null,
   "id": "3",
   "metadata": {},
   "outputs": [],
   "source": [
    "## Run if you have already set up hidden_mediators\n",
    "%cd hidden_mediators\n",
    "time.sleep(2)\n",
    "clear_output()"
   ]
  },
  {
   "cell_type": "markdown",
   "id": "4",
   "metadata": {
    "id": "T6FelHd78d8T"
   },
   "source": [
    "# Main Logic"
   ]
  },
  {
   "cell_type": "code",
   "execution_count": null,
   "id": "5",
   "metadata": {
    "id": "a1446bbd-c4be-4846-b09a-e36fad2802ab"
   },
   "outputs": [],
   "source": [
    "%load_ext autoreload\n",
    "%autoreload 2"
   ]
  },
  {
   "cell_type": "code",
   "execution_count": null,
   "id": "6",
   "metadata": {
    "id": "c79a60f7-dde3-4c7c-8419-ce831b20e824"
   },
   "outputs": [],
   "source": [
    "import numpy as np\n",
    "from proximalde.proximal import ProximalDE\n",
    "from proximalde.gen_synthetic_data import gen_data\n",
    "from sklearn.model_selection import GridSearchCV\n",
    "from xgboost import XGBRegressor, XGBClassifier\n",
    "from sklearn.base import BaseEstimator, ClassifierMixin, RegressorMixin\n",
    "from sklearn.model_selection import train_test_split\n",
    "from proximalde.utilities import GridSearchCVList\n",
    "from sklearn.linear_model import Lasso, LogisticRegression"
   ]
  },
  {
   "cell_type": "markdown",
   "id": "7",
   "metadata": {
    "id": "57abc1f7-1569-469d-8239-12fce056e875"
   },
   "source": [
    "# Using custom ML models for regressing W\n",
    "Must be of type (BaseEstimator, RegressorMixin)\n",
    "## Example 1: Simple XGB wrapper "
   ]
  },
  {
   "cell_type": "code",
   "execution_count": null,
   "id": "8",
   "metadata": {},
   "outputs": [],
   "source": [
    "class XGBRegressorWrapper(BaseEstimator, RegressorMixin):\n",
    "\n",
    "    def __init__(self, *, max_depth=3, early_stopping_rounds=50, learning_rate=.1):\n",
    "        self.max_depth = max_depth\n",
    "        self.early_stopping_rounds = early_stopping_rounds\n",
    "        self.learning_rate = learning_rate\n",
    "\n",
    "    def fit(self, X, y):\n",
    "        Xtrain, Xval, ytrain, yval = train_test_split(X, y, test_size=.2)\n",
    "        self.model_ = XGBRegressor(max_depth=self.max_depth,\n",
    "                                   early_stopping_rounds=self.early_stopping_rounds,\n",
    "                                   learning_rate=self.learning_rate, random_state=123)\n",
    "        self.model_.fit(Xtrain, ytrain, eval_set=[(Xval, yval)], verbose=False)\n",
    "        return self\n",
    "\n",
    "    def predict(self, X):\n",
    "        return self.model_.predict(X)\n",
    "\n",
    "\n",
    "class XGBClassifierWrapper(BaseEstimator, ClassifierMixin):\n",
    "\n",
    "    def __init__(self, *, max_depth=3, early_stopping_rounds=50, learning_rate=.1):\n",
    "        self.max_depth = max_depth\n",
    "        self.early_stopping_rounds = early_stopping_rounds\n",
    "        self.learning_rate = learning_rate\n",
    "\n",
    "    def fit(self, X, y):\n",
    "        Xtrain, Xval, ytrain, yval = train_test_split(X, y, test_size=.2)\n",
    "        self.model_ = XGBClassifier(max_depth=self.max_depth,\n",
    "                                   early_stopping_rounds=self.early_stopping_rounds,\n",
    "                                   learning_rate=self.learning_rate, eval_metric='logloss', random_state=123)\n",
    "        self.model_.fit(Xtrain, ytrain, eval_set=[(Xval, yval)], verbose=False)\n",
    "        self.classes_ = self.model_.classes_\n",
    "        return self\n",
    "\n",
    "    def predict(self, X):\n",
    "        return self.model_.predict(X)\n",
    "\n",
    "    def predict_proba(self, X):\n",
    "        return self.model_.predict_proba(X)"
   ]
  },
  {
   "cell_type": "code",
   "execution_count": null,
   "id": "9",
   "metadata": {
    "id": "6d25b0a6-3839-42a7-afce-ee0bd39b920d"
   },
   "outputs": [],
   "source": [
    "a = 1.0  # a*b is the indirect effect through mediator\n",
    "b = 1.0\n",
    "c = .5  # this is the direct effect we want to estimate\n",
    "d = 0  # this can be zero; does not hurt\n",
    "e = .5  # if the product of e*f is small, then we have a weak instrument\n",
    "f = .5  # if the product of e*f is small, then we have a weak instrument\n",
    "g = 0  # this can be zero; does not hurt\n",
    "n = 50000 # number of samples \n",
    "pw = 5 # dimension of controls / confounders; should be > 0 for this notebook\n",
    "pz = 5 # dimension of Z\n",
    "px = 5 # dimension of X\n",
    "pm = 1 # dimension of the mediator M; should not be more than max(pz,px)\n",
    "sm = 1.0  # strength of mediator noise; needs to be non-zero for identifiability; only used when pm=1."
   ]
  },
  {
   "cell_type": "code",
   "execution_count": null,
   "id": "10",
   "metadata": {
    "id": "rLG9OoLVME8w"
   },
   "outputs": [],
   "source": [
    "W, X, Z, D, Y = gen_data(a, b, c, d, e, f, g, pm, pz, px, pw, n, sm=sm, seed=42)\n",
    "est = ProximalDE(model_regression=XGBRegressorWrapper(), model_classification=XGBClassifierWrapper(),\n",
    "                 cv=3, semi=False, n_jobs=-1, random_state=3, verbose=3)\n",
    "est.fit(W, D, Z, X, Y)"
   ]
  },
  {
   "cell_type": "code",
   "execution_count": null,
   "id": "11",
   "metadata": {},
   "outputs": [],
   "source": [
    "est.summary()"
   ]
  },
  {
   "cell_type": "markdown",
   "id": "12",
   "metadata": {},
   "source": [
    "## Example 2: Adding HyperParam Tuning and Semi-Crossfitting"
   ]
  },
  {
   "cell_type": "code",
   "execution_count": null,
   "id": "13",
   "metadata": {},
   "outputs": [],
   "source": [
    "regression = GridSearchCV(XGBRegressorWrapper(), {'learning_rate': [.01, .1, 1]}, scoring='neg_root_mean_squared_error')\n",
    "classification = GridSearchCV(XGBClassifierWrapper(), {'learning_rate': [.01, .1, 1]}, scoring='neg_log_loss')"
   ]
  },
  {
   "cell_type": "code",
   "execution_count": null,
   "id": "14",
   "metadata": {},
   "outputs": [],
   "source": [
    "est = ProximalDE(model_regression=regression, model_classification=classification,\n",
    "                 cv=3, semi=True, n_jobs=-1, random_state=3, verbose=3)\n",
    "est.fit(W, D, Z, X, Y)"
   ]
  },
  {
   "cell_type": "code",
   "execution_count": null,
   "id": "15",
   "metadata": {},
   "outputs": [],
   "source": [
    "est.summary()"
   ]
  },
  {
   "cell_type": "markdown",
   "id": "16",
   "metadata": {},
   "source": [
    "## Example 3: Adding grid search among many types of models"
   ]
  },
  {
   "cell_type": "code",
   "execution_count": null,
   "id": "17",
   "metadata": {},
   "outputs": [],
   "source": [
    "regression = GridSearchCVList([XGBRegressorWrapper(), Lasso()],\n",
    "                              [{'learning_rate': [.01, .1, 1]},\n",
    "                               {'alpha': np.logspace(-4, 2, 20)}],\n",
    "                              scoring='neg_root_mean_squared_error')\n",
    "classification = GridSearchCVList([XGBClassifierWrapper(),\n",
    "                                   LogisticRegression(penalty='l1', solver='liblinear',\n",
    "                                                      tol=1e-6, intercept_scaling=100)],\n",
    "                                  [{'learning_rate': [.01, .1, 1]},\n",
    "                                   {'C': np.logspace(-4, 4, 10)}],\n",
    "                                  scoring='neg_log_loss')"
   ]
  },
  {
   "cell_type": "code",
   "execution_count": null,
   "id": "18",
   "metadata": {},
   "outputs": [],
   "source": [
    "est = ProximalDE(model_regression=regression, model_classification=classification,\n",
    "                 cv=3, semi=True, n_jobs=-1, random_state=3, verbose=3)\n",
    "est.fit(W, D, Z, X, Y)"
   ]
  },
  {
   "cell_type": "code",
   "execution_count": null,
   "id": "19",
   "metadata": {},
   "outputs": [],
   "source": [
    "est.summary()"
   ]
  }
 ],
 "metadata": {
  "accelerator": "GPU",
  "colab": {
   "collapsed_sections": [
    "T6FelHd78d8T",
    "57abc1f7-1569-469d-8239-12fce056e875",
    "a482021b-9c5b-4123-b20c-878b2940ee33",
    "M0Zp1JDoZBbi"
   ],
   "gpuType": "T4",
   "machine_shape": "hm",
   "provenance": [
    {
     "file_id": "11wI4lKMKFJmVN9v4WAK15TtifoY686Vb",
     "timestamp": 1726017290265
    }
   ],
   "toc_visible": true
  },
  "kernelspec": {
   "display_name": "Python 3 (ipykernel)",
   "language": "python",
   "name": "python3"
  },
  "language_info": {
   "codemirror_mode": {
    "name": "ipython",
    "version": 3
   },
   "file_extension": ".py",
   "mimetype": "text/x-python",
   "name": "python",
   "nbconvert_exporter": "python",
   "pygments_lexer": "ipython3",
   "version": "3.8.13"
  }
 },
 "nbformat": 4,
 "nbformat_minor": 5
}
