{
 "cells": [
  {
   "cell_type": "code",
   "execution_count": null,
   "id": "0",
   "metadata": {},
   "outputs": [],
   "source": [
    "%load_ext autoreload\n",
    "%autoreload 2"
   ]
  },
  {
   "cell_type": "code",
   "execution_count": null,
   "id": "1",
   "metadata": {},
   "outputs": [],
   "source": [
    "import numpy as np\n",
    "\n",
    "n = 50000\n",
    "pw = 1\n",
    "pm = 10\n",
    "pz, px = 20, 15\n",
    "n_splits = 3\n",
    "# Indirect effect is a*b, direct effect is c\n",
    "a, b, c = 1.0, 1.0, .5\n",
    "# D has direct relationship to Z, Z has no relationship to M,\n",
    "# X has direct relationship to M, X has no direct relationship to Y\n",
    "d, e, f, g = 0.0, 1.0, 1.0, 0.0\n",
    "sm = 2.0"
   ]
  },
  {
   "cell_type": "code",
   "execution_count": null,
   "id": "2",
   "metadata": {},
   "outputs": [],
   "source": [
    "full_rank = False\n",
    "while not full_rank:\n",
    "    E = np.random.normal(0, 2, (pm, pz))\n",
    "    F = np.random.normal(0, 2, (pm, px))\n",
    "    if (np.linalg.matrix_rank(E, tol=0.5) == pm) and (np.linalg.matrix_rank(F, tol=0.5) == pm):\n",
    "        full_rank = True"
   ]
  },
  {
   "cell_type": "code",
   "execution_count": null,
   "id": "3",
   "metadata": {},
   "outputs": [],
   "source": [
    "from sklearn.model_selection import train_test_split\n",
    "from sklearn.base import clone\n",
    "from proximalde.ivreg import AdvIV\n",
    "import scipy.linalg\n",
    "from proximalde.gen_data import gen_data_no_controls_discrete_m\n",
    "\n",
    "def exp(it):\n",
    "    np.random.seed(it)\n",
    "    \n",
    "    W, D, _, Z, X, Y = gen_data_no_controls_discrete_m(n, pw, pz, px, a, b, c, d, E, F, g, sm=sm, pm=pm)\n",
    "    D = D.reshape(-1, 1)\n",
    "    D = D - D.mean(axis=0)\n",
    "    X = X - X.mean(axis=0)\n",
    "    Z = Z - Z.mean(axis=0)\n",
    "\n",
    "    random_state = it\n",
    "    nobs = X.shape[0]\n",
    "    train, test = train_test_split(np.arange(nobs), test_size=.3, shuffle=True, random_state=random_state)\n",
    "    ntest = len(test)\n",
    "    ntrain = len(train)\n",
    "    ivreg_train = AdvIV(alphas=[1.0 * nobs**(0.3)], cv=5, random_state=random_state).fit(X[train], Z[train], D[train])\n",
    "    coef = ivreg_train.coef_\n",
    "    # coef, _, _ = adv_iv(X[train], Z[train], D[train], n**(0.3))\n",
    "    # Estimate of projection matrix E[XZ] E[ZX]^+\n",
    "    # using a regularized SVD decomposition\n",
    "    U, S, _ = scipy.linalg.svd((X[train].T @ Z[train]) / ntrain, full_matrices=False)\n",
    "    P = U @ np.diag(S / (S + 1 / ntrain**(0.2))) @ U.T\n",
    "    Dbar = D - Z @ coef.reshape(-1, 1)\n",
    "    dual_phi = X * Dbar\n",
    "    dual_phi[train] = dual_phi[train] @ P.T\n",
    "    dual_moments = np.mean(dual_phi[test], axis=0)\n",
    "    dual_phi[test] = dual_phi[test] - dual_moments.reshape(1, -1)\n",
    "    dual_cov = (dual_phi[test].T @ dual_phi[test]) / ntest**2\n",
    "    dual_cov += (dual_phi[train].T @ dual_phi[train]) / ntrain**2\n",
    "    dual_violation_stat = dual_moments.T @ scipy.linalg.pinvh(dual_cov) @ dual_moments\n",
    "    return dual_violation_stat"
   ]
  },
  {
   "cell_type": "code",
   "execution_count": null,
   "id": "4",
   "metadata": {},
   "outputs": [],
   "source": [
    "exp(0)"
   ]
  },
  {
   "cell_type": "code",
   "execution_count": null,
   "id": "5",
   "metadata": {},
   "outputs": [],
   "source": [
    "from joblib import Parallel, delayed\n",
    "\n",
    "res = Parallel(n_jobs=-1)(delayed(exp)(it) for it in range(1000))"
   ]
  },
  {
   "cell_type": "code",
   "execution_count": null,
   "id": "6",
   "metadata": {},
   "outputs": [],
   "source": [
    "import matplotlib.pyplot as plt\n",
    "\n",
    "plt.title(np.mean(res > scipy.stats.chi2(df=px).ppf(.95)))\n",
    "plt.hist(res)\n",
    "plt.axvline(scipy.stats.chi2(df=px).ppf(.95))\n",
    "plt.show()"
   ]
  },
  {
   "cell_type": "code",
   "execution_count": null,
   "id": "7",
   "metadata": {},
   "outputs": [],
   "source": []
  }
 ],
 "metadata": {
  "kernelspec": {
   "display_name": "Python 3 (ipykernel)",
   "language": "python",
   "name": "python3"
  },
  "language_info": {
   "codemirror_mode": {
    "name": "ipython",
    "version": 3
   },
   "file_extension": ".py",
   "mimetype": "text/x-python",
   "name": "python",
   "nbconvert_exporter": "python",
   "pygments_lexer": "ipython3",
   "version": "3.12.4"
  }
 },
 "nbformat": 4,
 "nbformat_minor": 5
}
