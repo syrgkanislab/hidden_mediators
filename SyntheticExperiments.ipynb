{
 "cells": [
  {
   "cell_type": "code",
   "execution_count": 1,
   "id": "a1446bbd-c4be-4846-b09a-e36fad2802ab",
   "metadata": {},
   "outputs": [],
   "source": [
    "%load_ext autoreload\n",
    "%autoreload 2"
   ]
  },
  {
   "cell_type": "code",
   "execution_count": 2,
   "id": "c79a60f7-dde3-4c7c-8419-ce831b20e824",
   "metadata": {},
   "outputs": [],
   "source": [
    "import numpy as np\n",
    "from gen_data import gen_data_complex\n",
    "from proximal import proximal_direct_effect, ProximalDE"
   ]
  },
  {
   "cell_type": "code",
   "execution_count": 3,
   "id": "b52e1c58-e69e-481b-9522-e507d499f501",
   "metadata": {},
   "outputs": [],
   "source": [
    "def exp_res(it, n, pw, pz, px, a, b, c, d, e, f, g, *,\n",
    "            n_splits=5, semi=False, multitask=False, n_jobs=-1):\n",
    "    np.random.seed(it)\n",
    "    # M is unobserved so we omit it from the return variables\n",
    "    W, D, _, Z, X, Y = gen_data_complex(n, pw, pz, px, a, b, c, d, e, f, g)\n",
    "    return proximal_direct_effect(W, D, Z, X, Y,\n",
    "                                  cv=n_splits, semi=semi,\n",
    "                                  multitask=multitask, n_jobs=n_jobs,\n",
    "                                  random_state=it)"
   ]
  },
  {
   "cell_type": "code",
   "execution_count": 4,
   "id": "6d25b0a6-3839-42a7-afce-ee0bd39b920d",
   "metadata": {},
   "outputs": [],
   "source": [
    "a = .3\n",
    "b = .6\n",
    "c = .5 # this is the direct effect we want to estimate\n",
    "d = .7\n",
    "e = .5 # if the product of e*f is small, then we have a weak instrument\n",
    "f = .5 # if the product of e*f is small, then we have a weak instrument\n",
    "g = .9"
   ]
  },
  {
   "cell_type": "code",
   "execution_count": 5,
   "id": "509f25ef-64ea-44e1-9de8-af63039ef619",
   "metadata": {},
   "outputs": [
    {
     "name": "stdout",
     "output_type": "stream",
     "text": [
      "Residualizing D...\n",
      "Residualizing Z...\n",
      "Residualizing X...\n",
      "Residualizing Y...\n"
     ]
    },
    {
     "data": {
      "text/html": [
       "<div>\n",
       "<style scoped>\n",
       "    .dataframe tbody tr th:only-of-type {\n",
       "        vertical-align: middle;\n",
       "    }\n",
       "\n",
       "    .dataframe tbody tr th {\n",
       "        vertical-align: top;\n",
       "    }\n",
       "\n",
       "    .dataframe thead th {\n",
       "        text-align: right;\n",
       "    }\n",
       "</style>\n",
       "<table border=\"1\" class=\"dataframe\">\n",
       "  <thead>\n",
       "    <tr style=\"text-align: right;\">\n",
       "      <th></th>\n",
       "      <th>point</th>\n",
       "      <th>se</th>\n",
       "      <th>r2D</th>\n",
       "      <th>r2Z</th>\n",
       "      <th>r2X</th>\n",
       "      <th>r2Y</th>\n",
       "      <th>Jacobian</th>\n",
       "      <th>point_pre</th>\n",
       "      <th>se_pre</th>\n",
       "    </tr>\n",
       "  </thead>\n",
       "  <tbody>\n",
       "    <tr>\n",
       "      <th>0</th>\n",
       "      <td>0.526032</td>\n",
       "      <td>0.036299</td>\n",
       "      <td>0.365023</td>\n",
       "      <td>0.590544</td>\n",
       "      <td>0.539387</td>\n",
       "      <td>0.614712</td>\n",
       "      <td>0.155583</td>\n",
       "      <td>0.507735</td>\n",
       "      <td>0.035534</td>\n",
       "    </tr>\n",
       "  </tbody>\n",
       "</table>\n",
       "</div>"
      ],
      "text/plain": [
       "      point        se       r2D       r2Z       r2X       r2Y  Jacobian  \\\n",
       "0  0.526032  0.036299  0.365023  0.590544  0.539387  0.614712  0.155583   \n",
       "\n",
       "   point_pre    se_pre  \n",
       "0   0.507735  0.035534  "
      ]
     },
     "execution_count": 5,
     "metadata": {},
     "output_type": "execute_result"
    }
   ],
   "source": [
    "import pandas as pd\n",
    "\n",
    "n = 10000\n",
    "pw = 10\n",
    "pz, px = 5, 5\n",
    "n_splits = 3\n",
    "point, stderr, r2D, r2Z, r2X, r2Y, jac, point_pre, stderr_pre = exp_res(3, n, pw, pz, px, a, b, c, d, e, f, g,\n",
    "                                                 n_splits=n_splits, semi=True)\n",
    "pd.DataFrame({'point': point, 'se': stderr, 'r2D': r2D, 'r2Z': r2Z, 'r2X': r2X, 'r2Y': r2Y, 'Jacobian': jac,\n",
    "              'point_pre': point_pre, 'se_pre': stderr_pre}, index=[0])"
   ]
  },
  {
   "cell_type": "code",
   "execution_count": 6,
   "id": "83041b59-4dd1-440d-b3b6-275e7fb36159",
   "metadata": {},
   "outputs": [
    {
     "name": "stdout",
     "output_type": "stream",
     "text": [
      "Residualizing D...\n",
      "Residualizing Z...\n",
      "Residualizing X...\n",
      "Residualizing Y...\n"
     ]
    }
   ],
   "source": [
    "np.random.seed(3)\n",
    "W, D, _, Z, X, Y = gen_data_complex(n, pw, pz, px, a, b, c, d, e, f, g)\n",
    "est = ProximalDE(cv=3, semi=True, multitask=False, n_jobs=-1, random_state=3)\n",
    "est.fit(W, D, Z, X, Y)"
   ]
  },
  {
   "cell_type": "code",
   "execution_count": 7,
   "id": "5ba47d2f-d2ef-4811-8e1d-02591397c949",
   "metadata": {},
   "outputs": [
    {
     "data": {
      "text/plain": [
       "(0.5260322276129851, 0.03629901339493049)"
      ]
     },
     "execution_count": 7,
     "metadata": {},
     "output_type": "execute_result"
    }
   ],
   "source": [
    "est.point_, est.std_"
   ]
  },
  {
   "cell_type": "code",
   "execution_count": 22,
   "id": "9340f9ef-7453-4108-9974-a06005f3fb50",
   "metadata": {},
   "outputs": [
    {
     "name": "stderr",
     "output_type": "stream",
     "text": [
      "[Parallel(n_jobs=-1)]: Using backend LokyBackend with 20 concurrent workers.\n",
      "[Parallel(n_jobs=-1)]: Done 156 tasks      | elapsed:    0.6s\n",
      "[Parallel(n_jobs=-1)]: Done 796 tasks      | elapsed:    2.6s\n",
      "[Parallel(n_jobs=-1)]: Done 1000 out of 1000 | elapsed:    2.8s finished\n"
     ]
    },
    {
     "name": "stdout",
     "output_type": "stream",
     "text": [
      "0.038104723235631396\n"
     ]
    }
   ],
   "source": [
    "point_dist = est.subsample_third_stage(n_subsamples=1000, fraction=0.5, replace=False, verbose=3)\n",
    "print(np.std(point_dist))"
   ]
  },
  {
   "cell_type": "code",
   "execution_count": 23,
   "id": "7594f89f-47a6-47a5-910d-e2bba3d266c3",
   "metadata": {},
   "outputs": [
    {
     "data": {
      "image/png": "[encoded data removed]",
      "text/plain": [
       "<Figure size 640x480 with 1 Axes>"
      ]
     },
     "metadata": {},
     "output_type": "display_data"
    }
   ],
   "source": [
    "import matplotlib.pyplot as plt\n",
    "plt.hist(point_dist)\n",
    "plt.vlines([est.point_], 0, 300, color='r')\n",
    "plt.show()"
   ]
  },
  {
   "cell_type": "code",
   "execution_count": 24,
   "id": "f3967537-e6e1-41f0-b26d-9647f6f3139d",
   "metadata": {},
   "outputs": [
    {
     "name": "stderr",
     "output_type": "stream",
     "text": [
      "[Parallel(n_jobs=-1)]: Using backend LokyBackend with 20 concurrent workers.\n",
      "[Parallel(n_jobs=-1)]: Done  88 tasks      | elapsed:    7.0s\n",
      "[Parallel(n_jobs=-1)]: Done 248 tasks      | elapsed:   18.1s\n",
      "[Parallel(n_jobs=-1)]: Done 472 tasks      | elapsed:   33.7s\n",
      "[Parallel(n_jobs=-1)]: Done 760 tasks      | elapsed:   54.0s\n"
     ]
    },
    {
     "name": "stdout",
     "output_type": "stream",
     "text": [
      "0.05337168685164048\n"
     ]
    },
    {
     "name": "stderr",
     "output_type": "stream",
     "text": [
      "[Parallel(n_jobs=-1)]: Done 1000 out of 1000 | elapsed:  1.2min finished\n"
     ]
    }
   ],
   "source": [
    "point_dist = est.subsample_second_stage(n_subsamples=1000, fraction=0.5, replace=False, verbose=3)\n",
    "print(np.std(point_dist))"
   ]
  },
  {
   "cell_type": "code",
   "execution_count": 25,
   "id": "d86373a6-c7d6-4afe-a817-116996436819",
   "metadata": {},
   "outputs": [
    {
     "data": {
      "image/png": "[encoded data removed]",
      "text/plain": [
       "<Figure size 640x480 with 1 Axes>"
      ]
     },
     "metadata": {},
     "output_type": "display_data"
    }
   ],
   "source": [
    "import matplotlib.pyplot as plt\n",
    "plt.hist(point_dist)\n",
    "plt.vlines([est.point_], 0, 300, color='r')\n",
    "plt.show()"
   ]
  },
  {
   "cell_type": "code",
   "execution_count": 26,
   "id": "893a8afa-12eb-435c-9fdc-99c9e6527f53",
   "metadata": {},
   "outputs": [
    {
     "name": "stderr",
     "output_type": "stream",
     "text": [
      "[Parallel(n_jobs=-1)]: Using backend LokyBackend with 20 concurrent workers.\n",
      "[Parallel(n_jobs=-1)]: Done  95 out of 100 | elapsed:   27.9s remaining:    1.4s\n"
     ]
    },
    {
     "name": "stdout",
     "output_type": "stream",
     "text": [
      "0.04472238050380597\n"
     ]
    },
    {
     "name": "stderr",
     "output_type": "stream",
     "text": [
      "[Parallel(n_jobs=-1)]: Done 100 out of 100 | elapsed:   28.4s finished\n"
     ]
    }
   ],
   "source": [
    "point_dist = est.subsample_all_stages(n_subsamples=100, fraction=0.5, replace=False, verbose=3)\n",
    "print(np.std(point_dist))"
   ]
  },
  {
   "cell_type": "code",
   "execution_count": 27,
   "id": "d5bb8d5c-6014-4f02-9c6f-6300171839a4",
   "metadata": {},
   "outputs": [
    {
     "data": {
      "image/png": "[encoded data removed]",
      "text/plain": [
       "<Figure size 640x480 with 1 Axes>"
      ]
     },
     "metadata": {},
     "output_type": "display_data"
    }
   ],
   "source": [
    "import matplotlib.pyplot as plt\n",
    "plt.hist(point_dist)\n",
    "plt.vlines([est.point_], 0, 40, color='r')\n",
    "plt.show()"
   ]
  },
  {
   "cell_type": "markdown",
   "id": "a482021b-9c5b-4123-b20c-878b2940ee33",
   "metadata": {},
   "source": [
    "# Coverage Experiment"
   ]
  },
  {
   "cell_type": "code",
   "execution_count": 14,
   "id": "049c9f10-c821-4b00-bcce-c850162c5c23",
   "metadata": {},
   "outputs": [
    {
     "name": "stderr",
     "output_type": "stream",
     "text": [
      "[Parallel(n_jobs=-1)]: Using backend LokyBackend with 20 concurrent workers.\n",
      "[Parallel(n_jobs=-1)]: Done  95 out of 100 | elapsed: 24.3min remaining:  1.3min\n",
      "[Parallel(n_jobs=-1)]: Done 100 out of 100 | elapsed: 24.4min finished\n"
     ]
    }
   ],
   "source": [
    "from joblib import Parallel, delayed\n",
    "\n",
    "n = 10000\n",
    "pw = 10\n",
    "pz, px = 30, 30\n",
    "n_splits = 3\n",
    "\n",
    "results = Parallel(n_jobs=-1, verbose=3)(delayed(exp_res)(i, n, pw, pz, px, a, b, c, d, e, f, g,\n",
    "                                                           n_splits=n_splits, semi=True, n_jobs=1)\n",
    "                                          for i in range(100))"
   ]
  },
  {
   "cell_type": "code",
   "execution_count": 15,
   "id": "26cc2396-5f19-4ad5-8266-3a48a7b7c2bc",
   "metadata": {},
   "outputs": [
    {
     "name": "stdout",
     "output_type": "stream",
     "text": [
      "Coverage: 0.950\n",
      "RMSE: 0.034\n",
      "Bias: 0.009\n",
      "Std: 0.033\n",
      "Mean CI length: 0.143\n",
      "Median CI length: 0.143\n",
      "Mean Estimated Stderr: 0.037\n",
      "Nuisance R^2 (D, Z, X, Y): 0.367, 0.594, 0.544, 0.618\n",
      "Coverage: 0.480\n",
      "RMSE: 0.071\n",
      "Bias: 0.061\n",
      "Std: 0.036\n",
      "Mean CI length: 0.131\n",
      "Median CI length: 0.131\n",
      "Mean Estimated Stderr: 0.033\n",
      "Nuisance R^2 (D, Z, X, Y): 0.367, 0.594, 0.544, 0.618\n"
     ]
    }
   ],
   "source": [
    "points_base, stderrs_base, rmseD, rmseZ, rmseX, rmseY, jac, points_alt, stderrs_alt = zip(*results)\n",
    "points_base = np.array(points_base)\n",
    "stderrs_base = np.array(stderrs_base)\n",
    "points_alt = np.array(points_alt)\n",
    "stderrs_alt = np.array(stderrs_alt)\n",
    "\n",
    "for points, stderrs in [(points_base, stderrs_base), (points_alt, stderrs_alt)]:\n",
    "    coverage = np.mean((points + 1.96 * stderrs >= c) & (points - 1.96 * stderrs <= c))\n",
    "    rmse = np.sqrt(np.mean((points - c)**2))\n",
    "    bias = np.abs(np.mean(points) - c)\n",
    "    std = np.std(points)\n",
    "    mean_stderr = np.mean(stderrs)\n",
    "    mean_length = np.mean(2 * 1.96 * stderrs)\n",
    "    median_length = np.median(2 * 1.96 * stderrs)\n",
    "    print(f\"Coverage: {coverage:.3f}\")\n",
    "    print(f\"RMSE: {rmse:.3f}\")\n",
    "    print(f\"Bias: {bias:.3f}\")\n",
    "    print(f\"Std: {std:.3f}\")\n",
    "    print(f\"Mean CI length: {mean_length:.3f}\")\n",
    "    print(f\"Median CI length: {mean_length:.3f}\")\n",
    "    print(f\"Mean Estimated Stderr: {mean_stderr:.3f}\")\n",
    "    print(f\"Nuisance R^2 (D, Z, X, Y): {np.mean(rmseD):.3f}, {np.mean(rmseZ):.3f}, {np.mean(rmseX):.3f}, {np.mean(rmseY):.3f}\")"
   ]
  },
  {
   "cell_type": "code",
   "execution_count": 16,
   "id": "8aa77e2c-305e-4638-a8cf-03a26062436c",
   "metadata": {},
   "outputs": [
    {
     "data": {
      "image/png": "[encoded data removed]",
      "text/plain": [
       "<Figure size 640x480 with 1 Axes>"
      ]
     },
     "metadata": {},
     "output_type": "display_data"
    }
   ],
   "source": [
    "import matplotlib.pyplot as plt\n",
    "plt.hist(points_base, label='Distribution of Estimates: debiased')\n",
    "plt.hist(points_alt, label='Distribution of Estimates: original', alpha=.3)\n",
    "plt.vlines([c], 0, plt.ylim()[1], color='red', label='truth')\n",
    "plt.legend()\n",
    "plt.show()"
   ]
  },
  {
   "cell_type": "code",
   "execution_count": null,
   "id": "7a8a54f5-54dd-445b-8f99-d3645ed0a9ed",
   "metadata": {},
   "outputs": [],
   "source": []
  }
 ],
 "metadata": {
  "kernelspec": {
   "display_name": "Python 3 (ipykernel)",
   "language": "python",
   "name": "python3"
  },
  "language_info": {
   "codemirror_mode": {
    "name": "ipython",
    "version": 3
   },
   "file_extension": ".py",
   "mimetype": "text/x-python",
   "name": "python",
   "nbconvert_exporter": "python",
   "pygments_lexer": "ipython3",
   "version": "3.12.4"
  }
 },
 "nbformat": 4,
 "nbformat_minor": 5
}
