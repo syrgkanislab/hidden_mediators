{
 "cells": [
  {
   "cell_type": "markdown",
   "id": "0",
   "metadata": {
    "id": "nJSbD4Nr8VNq"
   },
   "source": [
    "## Setup Only for Colab"
   ]
  },
  {
   "cell_type": "code",
   "execution_count": null,
   "id": "1",
   "metadata": {
    "colab": {
     "base_uri": "https://localhost:8080/"
    },
    "executionInfo": {
     "elapsed": 21235,
     "status": "ok",
     "timestamp": 1725497018902,
     "user": {
      "displayName": "Vasilis Syrganis",
      "userId": "00968929417250286436"
     },
     "user_tz": 420
    },
    "id": "j4wBu9BNomlq",
    "outputId": "83a6c826-b42c-4eb1-e58d-47ec2150a77c"
   },
   "outputs": [],
   "source": [
    "# prompt: mount drive\n",
    "\n",
    "from google.colab import drive\n",
    "drive.mount('/content/drive')"
   ]
  },
  {
   "cell_type": "code",
   "execution_count": null,
   "id": "2",
   "metadata": {
    "colab": {
     "base_uri": "https://localhost:8080/"
    },
    "executionInfo": {
     "elapsed": 514,
     "status": "ok",
     "timestamp": 1725497019414,
     "user": {
      "displayName": "Vasilis Syrganis",
      "userId": "00968929417250286436"
     },
     "user_tz": 420
    },
    "id": "JfB4MISjovTQ",
    "outputId": "96a9cfb8-3272-4934-a359-0c656e2fdbd3"
   },
   "outputs": [],
   "source": [
    "%cd /content/drive/MyDrive/Colab\\ Notebooks/hidden_mediators"
   ]
  },
  {
   "cell_type": "code",
   "execution_count": null,
   "id": "3",
   "metadata": {
    "colab": {
     "base_uri": "https://localhost:8080/"
    },
    "executionInfo": {
     "elapsed": 519,
     "status": "ok",
     "timestamp": 1725497019931,
     "user": {
      "displayName": "Vasilis Syrganis",
      "userId": "00968929417250286436"
     },
     "user_tz": 420
    },
    "id": "D5tm-9Fno5Xn",
    "outputId": "477e3400-4222-41d8-ecfc-74a6fa68eaef"
   },
   "outputs": [],
   "source": [
    "%ls"
   ]
  },
  {
   "cell_type": "code",
   "execution_count": null,
   "id": "4",
   "metadata": {
    "executionInfo": {
     "elapsed": 8,
     "status": "ok",
     "timestamp": 1725497019932,
     "user": {
      "displayName": "Vasilis Syrganis",
      "userId": "00968929417250286436"
     },
     "user_tz": 420
    },
    "id": "MFy1PyP89gR3"
   },
   "outputs": [],
   "source": [
    "from IPython.display import clear_output"
   ]
  },
  {
   "cell_type": "code",
   "execution_count": null,
   "id": "5",
   "metadata": {
    "executionInfo": {
     "elapsed": 6895,
     "status": "ok",
     "timestamp": 1725497026820,
     "user": {
      "displayName": "Vasilis Syrganis",
      "userId": "00968929417250286436"
     },
     "user_tz": 420
    },
    "id": "VGF-ucGhpC5P"
   },
   "outputs": [],
   "source": [
    "import time\n",
    "!pip install -r requirements.txt\n",
    "time.sleep(2)\n",
    "clear_output()"
   ]
  },
  {
   "cell_type": "code",
   "execution_count": null,
   "id": "6",
   "metadata": {
    "executionInfo": {
     "elapsed": 7427,
     "status": "ok",
     "timestamp": 1725497034243,
     "user": {
      "displayName": "Vasilis Syrganis",
      "userId": "00968929417250286436"
     },
     "user_tz": 420
    },
    "id": "0wsNOzNVtonf"
   },
   "outputs": [],
   "source": [
    "import time\n",
    "# replace `develop` with `install` if you wont make library code changes\n",
    "!python setup.py develop\n",
    "time.sleep(2)\n",
    "clear_output()\n",
    "# Restart the session after running this"
   ]
  },
  {
   "cell_type": "code",
   "execution_count": null,
   "id": "7",
   "metadata": {
    "colab": {
     "base_uri": "https://localhost:8080/"
    },
    "executionInfo": {
     "elapsed": 11,
     "status": "ok",
     "timestamp": 1725497034243,
     "user": {
      "displayName": "Vasilis Syrganis",
      "userId": "00968929417250286436"
     },
     "user_tz": 420
    },
    "id": "zyL1_6L73Z9e",
    "outputId": "736376b7-f954-47eb-a6f4-7e1a4ffb9712"
   },
   "outputs": [],
   "source": [
    "%cd /content/drive/MyDrive/Colab\\ Notebooks"
   ]
  },
  {
   "cell_type": "markdown",
   "id": "8",
   "metadata": {
    "id": "T6FelHd78d8T"
   },
   "source": [
    "# Main Logic"
   ]
  },
  {
   "cell_type": "code",
   "execution_count": null,
   "id": "9",
   "metadata": {
    "colab": {
     "base_uri": "https://localhost:8080/"
    },
    "executionInfo": {
     "elapsed": 386,
     "status": "ok",
     "timestamp": 1725304888843,
     "user": {
      "displayName": "Vasilis Syrganis",
      "userId": "00968929417250286436"
     },
     "user_tz": 420
    },
    "id": "a1446bbd-c4be-4846-b09a-e36fad2802ab",
    "outputId": "1da66a3a-0830-4d54-dea1-3e05fdadb7a0"
   },
   "outputs": [],
   "source": [
    "%load_ext autoreload\n",
    "%autoreload 2"
   ]
  },
  {
   "cell_type": "code",
   "execution_count": null,
   "id": "10",
   "metadata": {
    "id": "c79a60f7-dde3-4c7c-8419-ce831b20e824"
   },
   "outputs": [],
   "source": [
    "import numpy as np\n",
    "import pandas as pd\n",
    "import matplotlib.pyplot as plt\n",
    "import scipy.stats\n",
    "from joblib import Parallel, delayed\n",
    "from proximalde.gen_data import gen_data_complex, gen_data_no_controls\n",
    "from proximalde.proximal import proximal_direct_effect, ProximalDE, residualizeW\n",
    "from sklearn.linear_model import LinearRegression\n",
    "from proximalde.crossfit import fit_predict"
   ]
  },
  {
   "cell_type": "markdown",
   "id": "11",
   "metadata": {
    "id": "57abc1f7-1569-469d-8239-12fce056e875"
   },
   "source": [
    "# Running a Single Experiment"
   ]
  },
  {
   "cell_type": "code",
   "execution_count": null,
   "id": "12",
   "metadata": {
    "id": "6d25b0a6-3839-42a7-afce-ee0bd39b920d"
   },
   "outputs": [],
   "source": [
    "a = 1.0  # a*b is the indirect effect through mediator\n",
    "b = 1.0\n",
    "c = .5  # this is the direct effect we want to estimate\n",
    "d = .6  # this can be zero; does not hurt\n",
    "e = .7  # if the product of e*f is small, then we have a weak instrument\n",
    "f = .5  # if the product of e*f is small, then we have a weak instrument\n",
    "g = .9  # this can be zero; does not hurt"
   ]
  },
  {
   "cell_type": "code",
   "execution_count": null,
   "id": "13",
   "metadata": {
    "id": "2a8593cd-71f2-4cf9-b210-f3225bc0dfd9"
   },
   "outputs": [],
   "source": [
    "n = 100000\n",
    "pw = 100\n",
    "pz, px = 10, 10"
   ]
  },
  {
   "cell_type": "code",
   "execution_count": null,
   "id": "14",
   "metadata": {
    "id": "rLG9OoLVME8w"
   },
   "outputs": [],
   "source": [
    "np.random.seed(4)\n",
    "W, D, _, Z, X, Y = gen_data_complex(n, pw, pz, px, a, b, c, d, e, f, g)\n",
    "# _, D, _, Z, X, Y = gen_data_no_controls(n, pw, pz, px, a, b, c, d, e, f, g)\n",
    "# W = None"
   ]
  },
  {
   "cell_type": "markdown",
   "id": "15",
   "metadata": {
    "id": "52002a05-5e4e-4f83-a76c-cd2e0e02cd28"
   },
   "source": [
    "### Using the ProximalDE Estimator Class"
   ]
  },
  {
   "cell_type": "code",
   "execution_count": null,
   "id": "16",
   "metadata": {
    "colab": {
     "base_uri": "https://localhost:8080/",
     "height": 325
    },
    "executionInfo": {
     "elapsed": 19330,
     "status": "ok",
     "timestamp": 1725305025363,
     "user": {
      "displayName": "Vasilis Syrganis",
      "userId": "00968929417250286436"
     },
     "user_tz": 420
    },
    "id": "83041b59-4dd1-440d-b3b6-275e7fb36159",
    "outputId": "d5fbaf7f-b038-464c-efbb-c686405baeff"
   },
   "outputs": [],
   "source": [
    "est = ProximalDE(cv=3, semi=True,\n",
    "                 multitask=False, n_jobs=-1, random_state=3, verbose=3)\n",
    "est.fit(W, D, Z, X, Y)"
   ]
  },
  {
   "cell_type": "code",
   "execution_count": null,
   "id": "17",
   "metadata": {
    "colab": {
     "base_uri": "https://localhost:8080/",
     "height": 580
    },
    "executionInfo": {
     "elapsed": 353,
     "status": "ok",
     "timestamp": 1725305044362,
     "user": {
      "displayName": "Vasilis Syrganis",
      "userId": "00968929417250286436"
     },
     "user_tz": 420
    },
    "id": "911cd658-57a5-4c30-9900-95770ded7f0b",
    "outputId": "d7effea1-869c-4612-f7fd-84c207ee3c45"
   },
   "outputs": [],
   "source": [
    "est.summary(decimals=5)"
   ]
  },
  {
   "cell_type": "code",
   "execution_count": null,
   "id": "18",
   "metadata": {
    "colab": {
     "base_uri": "https://localhost:8080/",
     "height": 88
    },
    "executionInfo": {
     "elapsed": 371,
     "status": "ok",
     "timestamp": 1725305030571,
     "user": {
      "displayName": "Vasilis Syrganis",
      "userId": "00968929417250286436"
     },
     "user_tz": 420
    },
    "id": "WlKQ5gKeLx0A",
    "outputId": "ec825789-6d90-474a-91fa-ee4647a0e62c"
   },
   "outputs": [],
   "source": [
    "# tests can also be accessed individually\n",
    "display(est.weakiv_test(alpha=0.05))\n",
    "display(est.idstrength_violation_test(alpha=0.05))\n",
    "display(est.primal_violation_test(alpha=0.05))\n",
    "display(est.dual_violation_test(alpha=0.05))"
   ]
  },
  {
   "cell_type": "markdown",
   "id": "19",
   "metadata": {
    "id": "b4bf6f73-c115-4f04-b1a1-4580df6494bf"
   },
   "source": [
    "#### Covariance Rank Diagnostic for Covariance of Proxies"
   ]
  },
  {
   "cell_type": "code",
   "execution_count": null,
   "id": "20",
   "metadata": {
    "id": "539c686f-e097-4e7f-aa49-c93cf1b35ec6"
   },
   "outputs": [],
   "source": [
    "svalues, svalues_crit = est.covariance_rank_test(calculate_critical=True)"
   ]
  },
  {
   "cell_type": "code",
   "execution_count": null,
   "id": "21",
   "metadata": {
    "colab": {
     "base_uri": "https://localhost:8080/",
     "height": 452
    },
    "executionInfo": {
     "elapsed": 587,
     "status": "ok",
     "timestamp": 1725305080398,
     "user": {
      "displayName": "Vasilis Syrganis",
      "userId": "00968929417250286436"
     },
     "user_tz": 420
    },
    "id": "481f517a-319c-4494-a9f9-82ba77db47b7",
    "outputId": "510cee4f-4671-4e1c-a65e-aef1f42f86b1"
   },
   "outputs": [],
   "source": [
    "plt.title(f\"Number of singular values above threshold: {np.sum(svalues >= svalues_crit)}. \"\n",
    "          f\"Threshold={svalues_crit:.3f}. Top singular value={svalues[0]:.3f}\")\n",
    "plt.scatter(np.arange(len(svalues)), svalues)\n",
    "plt.axhline(svalues_crit)\n",
    "plt.show()"
   ]
  },
  {
   "cell_type": "markdown",
   "id": "22",
   "metadata": {
    "id": "4a5c7948-4252-471b-a8ef-ebee20030797"
   },
   "source": [
    "#### Confidence Intervals and Robust Confidence Intervals"
   ]
  },
  {
   "cell_type": "code",
   "execution_count": null,
   "id": "23",
   "metadata": {
    "colab": {
     "base_uri": "https://localhost:8080/"
    },
    "executionInfo": {
     "elapsed": 177,
     "status": "ok",
     "timestamp": 1725302412430,
     "user": {
      "displayName": "Vasilis Syrganis",
      "userId": "00968929417250286436"
     },
     "user_tz": 420
    },
    "id": "3efdc8bf-2a67-472c-9bd2-03612fef1041",
    "outputId": "45864a1b-693b-4447-8e79-a088c7b4bbad"
   },
   "outputs": [],
   "source": [
    "est.conf_int(alpha=.05) # 95% confidence interval"
   ]
  },
  {
   "cell_type": "code",
   "execution_count": null,
   "id": "24",
   "metadata": {
    "colab": {
     "base_uri": "https://localhost:8080/"
    },
    "executionInfo": {
     "elapsed": 377,
     "status": "ok",
     "timestamp": 1725302412707,
     "user": {
      "displayName": "Vasilis Syrganis",
      "userId": "00968929417250286436"
     },
     "user_tz": 420
    },
    "id": "e0b1e98d-d4b0-42b2-9b08-c04c74a4d759",
    "outputId": "1e9f240e-f387-4841-d682-0a3dab915192"
   },
   "outputs": [],
   "source": [
    "# 95% confidence interval, robust to weak identification\n",
    "est.robust_conf_int(alpha=0.05, lb=.1, ub=1.0, ngrid=1000)"
   ]
  },
  {
   "cell_type": "markdown",
   "id": "25",
   "metadata": {
    "id": "bcda4ac4-ccea-41a0-a9b9-e54a2cf6d9f8"
   },
   "source": [
    "#### Unusual Data Diagnostics"
   ]
  },
  {
   "cell_type": "code",
   "execution_count": null,
   "id": "26",
   "metadata": {
    "id": "d566ecd4-2574-4f72-a5d2-c9d2e645ad5c"
   },
   "outputs": [],
   "source": [
    "diag = est.run_diagnostics()"
   ]
  },
  {
   "cell_type": "code",
   "execution_count": null,
   "id": "27",
   "metadata": {
    "colab": {
     "base_uri": "https://localhost:8080/"
    },
    "executionInfo": {
     "elapsed": 18,
     "status": "ok",
     "timestamp": 1725302413080,
     "user": {
      "displayName": "Vasilis Syrganis",
      "userId": "00968929417250286436"
     },
     "user_tz": 420
    },
    "id": "Qtle13yEbT5o",
    "outputId": "6b85040c-a41c-4538-d1b9-e1000e3c1645"
   },
   "outputs": [],
   "source": [
    "inds = est.influential_set(alpha=0.05)\n",
    "len(inds)  # size of influential set that can flip the result"
   ]
  },
  {
   "cell_type": "code",
   "execution_count": null,
   "id": "28",
   "metadata": {
    "colab": {
     "base_uri": "https://localhost:8080/",
     "height": 829
    },
    "executionInfo": {
     "elapsed": 119672,
     "status": "ok",
     "timestamp": 1725302532744,
     "user": {
      "displayName": "Vasilis Syrganis",
      "userId": "00968929417250286436"
     },
     "user_tz": 420
    },
    "id": "KHRAV2mgbYLO",
    "outputId": "054f6b4f-d6be-48aa-8607-b306e8f227e8"
   },
   "outputs": [],
   "source": [
    "from sklearn.base import clone\n",
    "# let's re-train a clone of the estimator on all the data\n",
    "# except the influential set\n",
    "est2 = clone(est)\n",
    "est2.fit(np.delete(W, inds, axis=0), np.delete(D, inds, axis=0),\n",
    "         np.delete(Z, inds, axis=0), np.delete(X, inds, axis=0),\n",
    "         np.delete(Y, inds, axis=0))\n",
    "est2.summary(alpha=0.05)"
   ]
  },
  {
   "cell_type": "code",
   "execution_count": null,
   "id": "29",
   "metadata": {
    "colab": {
     "base_uri": "https://localhost:8080/",
     "height": 430
    },
    "executionInfo": {
     "elapsed": 1023,
     "status": "ok",
     "timestamp": 1725302533764,
     "user": {
      "displayName": "Vasilis Syrganis",
      "userId": "00968929417250286436"
     },
     "user_tz": 420
    },
    "id": "96d68394-cc6e-49d9-8c90-29822f00b46e",
    "outputId": "bb6f60dc-0c63-48c7-f919-9bb749afec09"
   },
   "outputs": [],
   "source": [
    "diag.cookd_plot()\n",
    "plt.show()"
   ]
  },
  {
   "cell_type": "code",
   "execution_count": null,
   "id": "30",
   "metadata": {
    "colab": {
     "base_uri": "https://localhost:8080/",
     "height": 430
    },
    "executionInfo": {
     "elapsed": 7,
     "status": "ok",
     "timestamp": 1725302533764,
     "user": {
      "displayName": "Vasilis Syrganis",
      "userId": "00968929417250286436"
     },
     "user_tz": 420
    },
    "id": "fe0b6501-f2de-40ce-a527-e7613dcedc32",
    "outputId": "c74d6e0d-da24-4d2c-bdfd-b3628826761c"
   },
   "outputs": [],
   "source": [
    "diag.l2influence_plot()\n",
    "plt.show()"
   ]
  },
  {
   "cell_type": "code",
   "execution_count": null,
   "id": "31",
   "metadata": {
    "colab": {
     "base_uri": "https://localhost:8080/",
     "height": 480
    },
    "executionInfo": {
     "elapsed": 730,
     "status": "ok",
     "timestamp": 1725302534489,
     "user": {
      "displayName": "Vasilis Syrganis",
      "userId": "00968929417250286436"
     },
     "user_tz": 420
    },
    "id": "aa9a76a8-c1db-4cbd-8504-832030cd4da6",
    "outputId": "7cf670d7-08f2-4698-d2d6-42bf5129b641"
   },
   "outputs": [],
   "source": [
    "diag.influence_plot(influence_measure='cook', npoints=10)\n",
    "plt.show()"
   ]
  },
  {
   "cell_type": "code",
   "execution_count": null,
   "id": "32",
   "metadata": {
    "colab": {
     "base_uri": "https://localhost:8080/",
     "height": 494
    },
    "executionInfo": {
     "elapsed": 1638,
     "status": "ok",
     "timestamp": 1725302536121,
     "user": {
      "displayName": "Vasilis Syrganis",
      "userId": "00968929417250286436"
     },
     "user_tz": 420
    },
    "id": "c40cc148-0463-431e-b9e2-5fa8b877092a",
    "outputId": "874c50f8-722d-4a06-cbcb-2862160a97d4"
   },
   "outputs": [],
   "source": [
    "diag.influence_plot(influence_measure='l2influence', npoints=10)\n",
    "plt.show()"
   ]
  },
  {
   "cell_type": "markdown",
   "id": "33",
   "metadata": {
    "id": "2ca3adc1-ce7c-4a2b-b832-42ea1e0b60a3"
   },
   "source": [
    "### Subsample-Based Inference"
   ]
  },
  {
   "cell_type": "code",
   "execution_count": null,
   "id": "34",
   "metadata": {
    "colab": {
     "base_uri": "https://localhost:8080/",
     "height": 151
    },
    "executionInfo": {
     "elapsed": 5887,
     "status": "ok",
     "timestamp": 1725234999705,
     "user": {
      "displayName": "Vasilis Syrganis",
      "userId": "00968929417250286436"
     },
     "user_tz": 420
    },
    "id": "9340f9ef-7453-4108-9974-a06005f3fb50",
    "outputId": "56ca676c-bd56-49a9-d00d-ff257ab9a91d"
   },
   "outputs": [],
   "source": [
    "inf = est.bootstrap_inference(stage=3, n_subsamples=1000, fraction=0.5, replace=False, verbose=3, random_state=123)\n",
    "inf.summary()"
   ]
  },
  {
   "cell_type": "code",
   "execution_count": null,
   "id": "35",
   "metadata": {
    "colab": {
     "base_uri": "https://localhost:8080/",
     "height": 430
    },
    "executionInfo": {
     "elapsed": 4,
     "status": "ok",
     "timestamp": 1725234999705,
     "user": {
      "displayName": "Vasilis Syrganis",
      "userId": "00968929417250286436"
     },
     "user_tz": 420
    },
    "id": "7594f89f-47a6-47a5-910d-e2bba3d266c3",
    "outputId": "6d68f449-0f83-4fd4-99b4-84120a16f6f8"
   },
   "outputs": [],
   "source": [
    "plt.hist(inf.point_dist)\n",
    "plt.vlines([inf.point], 0, 300, color='r')\n",
    "plt.show()"
   ]
  },
  {
   "cell_type": "code",
   "execution_count": null,
   "id": "36",
   "metadata": {
    "colab": {
     "base_uri": "https://localhost:8080/",
     "height": 133
    },
    "executionInfo": {
     "elapsed": 76509,
     "status": "ok",
     "timestamp": 1725235076211,
     "user": {
      "displayName": "Vasilis Syrganis",
      "userId": "00968929417250286436"
     },
     "user_tz": 420
    },
    "id": "f3967537-e6e1-41f0-b26d-9647f6f3139d",
    "outputId": "88206567-3075-4ade-e8b9-5020ce00b5c9"
   },
   "outputs": [],
   "source": [
    "inf = est.bootstrap_inference(stage=2, n_subsamples=100, fraction=0.5, replace=False, verbose=3, random_state=123)\n",
    "inf.summary()"
   ]
  },
  {
   "cell_type": "code",
   "execution_count": null,
   "id": "37",
   "metadata": {
    "colab": {
     "base_uri": "https://localhost:8080/",
     "height": 430
    },
    "executionInfo": {
     "elapsed": 6,
     "status": "ok",
     "timestamp": 1725235076211,
     "user": {
      "displayName": "Vasilis Syrganis",
      "userId": "00968929417250286436"
     },
     "user_tz": 420
    },
    "id": "d86373a6-c7d6-4afe-a817-116996436819",
    "outputId": "528e9949-caa5-423a-b255-b366a9d53d8a"
   },
   "outputs": [],
   "source": [
    "plt.hist(inf.point_dist)\n",
    "plt.vlines([inf.point], 0, 300, color='r')\n",
    "plt.show()"
   ]
  },
  {
   "cell_type": "code",
   "execution_count": null,
   "id": "38",
   "metadata": {
    "id": "893a8afa-12eb-435c-9fdc-99c9e6527f53"
   },
   "outputs": [],
   "source": [
    "inf = est.bootstrap_inference(stage=1, n_subsamples=10, fraction=0.5, replace=False, verbose=3, random_state=123)\n",
    "inf.summary()"
   ]
  },
  {
   "cell_type": "code",
   "execution_count": null,
   "id": "39",
   "metadata": {
    "id": "d5bb8d5c-6014-4f02-9c6f-6300171839a4"
   },
   "outputs": [],
   "source": [
    "plt.hist(inf.point_dist)\n",
    "plt.vlines([inf.point], 0, 300, color='r')\n",
    "plt.show()"
   ]
  },
  {
   "cell_type": "code",
   "execution_count": null,
   "id": "40",
   "metadata": {
    "id": "c9d44d07-5132-45ee-8830-424cc215ee04"
   },
   "outputs": [],
   "source": [
    "inf.summary(pivot=True)"
   ]
  },
  {
   "cell_type": "markdown",
   "id": "41",
   "metadata": {
    "id": "a482021b-9c5b-4123-b20c-878b2940ee33"
   },
   "source": [
    "# Quality of Procedure and Diagnostics Across Many Experiments"
   ]
  },
  {
   "cell_type": "code",
   "execution_count": null,
   "id": "42",
   "metadata": {
    "executionInfo": {
     "elapsed": 291,
     "status": "ok",
     "timestamp": 1725497044689,
     "user": {
      "displayName": "Vasilis Syrganis",
      "userId": "00968929417250286436"
     },
     "user_tz": 420
    },
    "id": "RBfYb0V9JCQh"
   },
   "outputs": [],
   "source": [
    "%load_ext autoreload\n",
    "%autoreload 2"
   ]
  },
  {
   "cell_type": "code",
   "execution_count": null,
   "id": "43",
   "metadata": {
    "executionInfo": {
     "elapsed": 6403,
     "status": "ok",
     "timestamp": 1725497051951,
     "user": {
      "displayName": "Vasilis Syrganis",
      "userId": "00968929417250286436"
     },
     "user_tz": 420
    },
    "id": "Yb7c-hsCJDuU"
   },
   "outputs": [],
   "source": [
    "import numpy as np\n",
    "import pandas as pd\n",
    "import matplotlib.pyplot as plt\n",
    "from joblib import Parallel, delayed\n",
    "from proximalde.gen_data import gen_data_complex, gen_data_no_controls\n",
    "from proximalde.proximal import ProximalDE"
   ]
  },
  {
   "cell_type": "code",
   "execution_count": null,
   "id": "44",
   "metadata": {
    "executionInfo": {
     "elapsed": 2,
     "status": "ok",
     "timestamp": 1725497051951,
     "user": {
      "displayName": "Vasilis Syrganis",
      "userId": "00968929417250286436"
     },
     "user_tz": 420
    },
    "id": "kbCj0xisicEy"
   },
   "outputs": [],
   "source": [
    "def exp_res(it, n, pw, pz, px, a, b, c, d, e, f, g, sm, *,\n",
    "            dual_type='Z', ivreg_type='adv', n_splits=5, semi=False,\n",
    "            multitask=False, n_jobs=-1, verbose=0):\n",
    "    np.random.seed(it)\n",
    "    if pw > 0:\n",
    "        # M is unobserved so we omit it from the return variables\n",
    "        W, D, _, Z, X, Y = gen_data_complex(n, pw, pz, px, a, b, c, d, e, f, g, sm=sm)\n",
    "        est = ProximalDE(cv=n_splits, semi=semi,\n",
    "                         dual_type=dual_type, ivreg_type=ivreg_type,\n",
    "                         multitask=multitask, n_jobs=n_jobs,\n",
    "                         random_state=it, verbose=verbose)\n",
    "        est.fit(W, D, Z, X, Y)\n",
    "    else:\n",
    "        _, D, _, Z, X, Y = gen_data_no_controls(n, pw, pz, px, a, b, c, d, e, f, g, sm=sm)\n",
    "        est = ProximalDE(cv=n_splits, semi=semi,\n",
    "                         dual_type=dual_type, ivreg_type=ivreg_type,\n",
    "                         multitask=multitask, n_jobs=n_jobs,\n",
    "                         random_state=it, verbose=verbose)\n",
    "        est.fit(None, D, Z, X, Y)\n",
    "    weakiv_stat, _, _, weakiv_crit = est.weakiv_test(alpha=0.05)\n",
    "    idstr, _, _, idstr_crit = est.idstrength_violation_test(alpha=0.05)\n",
    "    pval, _, _, pval_crit = est.primal_violation_test(alpha=0.05)\n",
    "    dval, _, _, dval_crit = est.dual_violation_test(alpha=0.05)\n",
    "    lb, ub = est.robust_conf_int(lb=-2, ub=2)\n",
    "    return est.point_, est.stderr_, est.r2D_, est.r2Z_, est.r2X_, est.r2Y_, \\\n",
    "        idstr, idstr_crit, est.point_pre_, est.stderr_pre_, \\\n",
    "        pval, pval_crit, dval, dval_crit, weakiv_stat, weakiv_crit, \\\n",
    "        lb, ub"
   ]
  },
  {
   "cell_type": "markdown",
   "id": "45",
   "metadata": {
    "id": "blGY8rsUPTvM"
   },
   "source": [
    "```\n",
    "a : strength of D -> M edge\n",
    "b : strength of M -> Y edge\n",
    "c : strength of D -> Y edge\n",
    "d : strength of D -> Z edge\n",
    "e : strength of M -> Z edge\n",
    "f : strength of M -> X edge\n",
    "g : strength of X -> Y edge\n",
    "```"
   ]
  },
  {
   "cell_type": "code",
   "execution_count": null,
   "id": "46",
   "metadata": {
    "colab": {
     "base_uri": "https://localhost:8080/"
    },
    "executionInfo": {
     "elapsed": 10710,
     "status": "ok",
     "timestamp": 1725497115084,
     "user": {
      "displayName": "Vasilis Syrganis",
      "userId": "00968929417250286436"
     },
     "user_tz": 420
    },
    "id": "049c9f10-c821-4b00-bcce-c850162c5c23",
    "outputId": "0ee1b378-e8d4-4947-c537-07a1fffea5a7"
   },
   "outputs": [],
   "source": [
    "a = 1.0  # a*b is the indirect effect through mediator\n",
    "b = 1.0\n",
    "c = .5  # this is the direct effect we want to estimate\n",
    "d = .0  # this can be zero; does not hurt\n",
    "e = .01  # if the product of e*f is small, then we have a weak instrument\n",
    "f = .01  # if the product of e*f is small, then we have a weak instrument\n",
    "g = .0  # this can be zero; does not hurt\n",
    "sm = 2.0  # strength of mediator noise; needs to be non-zero for identifiability\n",
    "n = 50000\n",
    "pw = 0\n",
    "pz, px = 5, 5\n",
    "\n",
    "results = Parallel(n_jobs=-1, verbose=3)(delayed(exp_res)(i, n, pw, pz, px, a, b, c, d, e, f, g, sm,\n",
    "                                                          dual_type='Z', ivreg_type='adv',\n",
    "                                                          n_splits=3, semi=True, n_jobs=1)\n",
    "                                          for i in range(100))"
   ]
  },
  {
   "cell_type": "markdown",
   "id": "47",
   "metadata": {
    "id": "e936273a-0829-4c8b-bd86-e3fb929a296c"
   },
   "source": [
    "#### Summarize"
   ]
  },
  {
   "cell_type": "code",
   "execution_count": null,
   "id": "48",
   "metadata": {
    "colab": {
     "base_uri": "https://localhost:8080/"
    },
    "executionInfo": {
     "elapsed": 9,
     "status": "ok",
     "timestamp": 1725497115084,
     "user": {
      "displayName": "Vasilis Syrganis",
      "userId": "00968929417250286436"
     },
     "user_tz": 420
    },
    "id": "26cc2396-5f19-4ad5-8266-3a48a7b7c2bc",
    "outputId": "9a574f90-8c55-4f13-9d55-f0880cd79355"
   },
   "outputs": [],
   "source": [
    "points_base, stderrs_base, rmseD, rmseZ, rmseX, rmseY, \\\n",
    "    idstr, idstr_crit, points_alt, stderrs_alt, \\\n",
    "    pval, pval_crit, dval, dval_crit, wiv_stat, wiv_crit, \\\n",
    "    rlb, rub = map(np.array, zip(*results))\n",
    "\n",
    "points_base = np.array(points_base)\n",
    "stderrs_base = np.array(stderrs_base)\n",
    "points_alt = np.array(points_alt)\n",
    "stderrs_alt = np.array(stderrs_alt)\n",
    "\n",
    "print(\"Estimation Quality\")\n",
    "for name, points, stderrs in [('Debiased', points_base, stderrs_base), ('Regularized', points_alt, stderrs_alt)]:\n",
    "    print(f\"\\n{name} Estimate\")\n",
    "    coverage = np.mean((points + 1.96 * stderrs >= c) & (points - 1.96 * stderrs <= c))\n",
    "    rmse = np.sqrt(np.mean((points - c)**2))\n",
    "    bias = np.abs(np.mean(points) - c)\n",
    "    std = np.std(points)\n",
    "    mean_stderr = np.mean(stderrs)\n",
    "    mean_length = np.mean(2 * 1.96 * stderrs)\n",
    "    median_length = np.median(2 * 1.96 * stderrs)\n",
    "    print(f\"Coverage: {coverage:.3f}\")\n",
    "    print(f\"RMSE: {rmse:.3f}\")\n",
    "    print(f\"Bias: {bias:.3f}\")\n",
    "    print(f\"Std: {std:.3f}\")\n",
    "    print(f\"Mean CI length: {mean_length:.3f}\")\n",
    "    print(f\"Median CI length: {mean_length:.3f}\")\n",
    "    print(f\"Mean Estimated Stderr: {mean_stderr:.3f}\")\n",
    "    print(f\"Nuisance R^2 (D, Z, X, Y): {np.mean(rmseD):.3f}, {np.mean(rmseZ):.3f}, {np.mean(rmseX):.3f}, {np.mean(rmseY):.3f}\")\n",
    "\n",
    "print(\"\\nRobust ConfInt Coverage\")\n",
    "rcoverage = np.mean((rub >= c) & (rlb <= c))\n",
    "print(f\"Robust Coverage: {rcoverage:.3f}\")\n",
    "\n",
    "print(\"\\nViolations\")\n",
    "for name, stat, crit in [('Id-Strenth', idstr, idstr_crit), ('WeakIV F-test', wiv_stat, wiv_crit)]:\n",
    "    violation = np.mean(stat <= crit)\n",
    "    print(f\"% Violations of {name}: {violation:.3f}\")\n",
    "for name, stat, crit in [('Primal Existence', pval, pval_crit), ('Dual Existence', dval, dval_crit)]:\n",
    "    violation = np.mean(stat >= crit)\n",
    "    print(f\"% Violations of {name}: {violation:.3f}\")"
   ]
  },
  {
   "cell_type": "code",
   "execution_count": null,
   "id": "49",
   "metadata": {
    "colab": {
     "base_uri": "https://localhost:8080/",
     "height": 430
    },
    "executionInfo": {
     "elapsed": 308,
     "status": "ok",
     "timestamp": 1725497126628,
     "user": {
      "displayName": "Vasilis Syrganis",
      "userId": "00968929417250286436"
     },
     "user_tz": 420
    },
    "id": "8aa77e2c-305e-4638-a8cf-03a26062436c",
    "outputId": "8fdd12c8-153b-45e5-f782-7c1ee9a24735"
   },
   "outputs": [],
   "source": [
    "plt.hist(points_base, label='Distribution of Estimates: debiased')\n",
    "plt.hist(points_alt, label='Distribution of Estimates: original', alpha=.3)\n",
    "plt.vlines([c], 0, plt.ylim()[1], color='red', label='truth')\n",
    "plt.legend()\n",
    "plt.show()"
   ]
  },
  {
   "cell_type": "code",
   "execution_count": null,
   "id": "50",
   "metadata": {
    "id": "nemTbAS4FZQw"
   },
   "outputs": [],
   "source": []
  }
 ],
 "metadata": {
  "accelerator": "GPU",
  "colab": {
   "gpuType": "T4",
   "machine_shape": "hm",
   "provenance": []
  },
  "kernelspec": {
   "display_name": "Python 3 (ipykernel)",
   "language": "python",
   "name": "python3"
  },
  "language_info": {
   "codemirror_mode": {
    "name": "ipython",
    "version": 3
   },
   "file_extension": ".py",
   "mimetype": "text/x-python",
   "name": "python",
   "nbconvert_exporter": "python",
   "pygments_lexer": "ipython3",
   "version": "3.12.4"
  }
 },
 "nbformat": 4,
 "nbformat_minor": 5
}
