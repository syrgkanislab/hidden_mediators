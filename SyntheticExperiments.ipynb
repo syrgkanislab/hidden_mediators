{
 "cells": [
  {
   "cell_type": "code",
   "execution_count": 1,
   "id": "a1446bbd-c4be-4846-b09a-e36fad2802ab",
   "metadata": {
    "scrolled": true
   },
   "outputs": [],
   "source": [
    "%load_ext autoreload\n",
    "%autoreload 2"
   ]
  },
  {
   "cell_type": "code",
   "execution_count": 2,
   "id": "c79a60f7-dde3-4c7c-8419-ce831b20e824",
   "metadata": {},
   "outputs": [],
   "source": [
    "import numpy as np\n",
    "import pandas as pd\n",
    "import matplotlib.pyplot as plt\n",
    "import scipy.stats\n",
    "from joblib import Parallel, delayed\n",
    "from proximalde.gen_data import gen_data_complex\n",
    "from proximalde.proximal import proximal_direct_effect, ProximalDE"
   ]
  },
  {
   "cell_type": "markdown",
   "id": "57abc1f7-1569-469d-8239-12fce056e875",
   "metadata": {},
   "source": [
    "# Running a Single Experiment"
   ]
  },
  {
   "cell_type": "code",
   "execution_count": 3,
   "id": "b52e1c58-e69e-481b-9522-e507d499f501",
   "metadata": {},
   "outputs": [],
   "source": [
    "def exp_res(it, n, pw, pz, px, a, b, c, d, e, f, g, *,\n",
    "            dual_type='Z', n_splits=5, semi=False, multitask=False, n_jobs=-1):\n",
    "    np.random.seed(it)\n",
    "    # M is unobserved so we omit it from the return variables\n",
    "    W, D, _, Z, X, Y = gen_data_complex(n, pw, pz, px, a, b, c, d, e, f, g)\n",
    "    return proximal_direct_effect(W, D, Z, X, Y,\n",
    "                                  dual_type=dual_type,\n",
    "                                  cv=n_splits, semi=semi,\n",
    "                                  multitask=multitask, n_jobs=n_jobs,\n",
    "                                  random_state=it)"
   ]
  },
  {
   "cell_type": "code",
   "execution_count": 4,
   "id": "6d25b0a6-3839-42a7-afce-ee0bd39b920d",
   "metadata": {},
   "outputs": [],
   "source": [
    "a = .3\n",
    "b = .6\n",
    "c = .5 # this is the direct effect we want to estimate\n",
    "d = .7\n",
    "e = .5 # if the product of e*f is small, then we have a weak instrument\n",
    "f = .5 # if the product of e*f is small, then we have a weak instrument\n",
    "g = .9"
   ]
  },
  {
   "cell_type": "code",
   "execution_count": 5,
   "id": "509f25ef-64ea-44e1-9de8-af63039ef619",
   "metadata": {},
   "outputs": [
    {
     "name": "stdout",
     "output_type": "stream",
     "text": [
      "Residualizing D...\n",
      "Residualizing Z...\n",
      "Residualizing X...\n",
      "Residualizing Y...\n"
     ]
    },
    {
     "name": "stderr",
     "output_type": "stream",
     "text": [
      "C:\\ProgramData\\anaconda3\\Lib\\site-packages\\joblib\\externals\\loky\\process_executor.py:752: UserWarning: A worker stopped while some jobs were given to the executor. This can be caused by a too short worker timeout or by a memory leak.\n",
      "  warnings.warn(\n",
      "\n",
      "KeyboardInterrupt\n",
      "\n"
     ]
    }
   ],
   "source": [
    "n = 500000\n",
    "pw = 100\n",
    "pz, px = 50, 50\n",
    "n_splits = 3\n",
    "point, stderr, r2D, r2Z, r2X, r2Y, jac, point_pre, stderr_pre = exp_res(3, n, pw, pz, px, a, b, c, d, e, f, g,\n",
    "                                                 dual_type='Z', n_splits=n_splits, semi=True)\n",
    "pd.DataFrame({'point': point, 'se': stderr, 'r2D': r2D, 'r2Z': r2Z, 'r2X': r2X, 'r2Y': r2Y, 'Jacobian': jac,\n",
    "              'point_pre': point_pre, 'se_pre': stderr_pre}, index=[0])"
   ]
  },
  {
   "cell_type": "markdown",
   "id": "52002a05-5e4e-4f83-a76c-cd2e0e02cd28",
   "metadata": {},
   "source": [
    "### Using the ProximalDE Estimator Class"
   ]
  },
  {
   "cell_type": "code",
   "execution_count": null,
   "id": "83041b59-4dd1-440d-b3b6-275e7fb36159",
   "metadata": {},
   "outputs": [],
   "source": [
    "np.random.seed(3)\n",
    "W, D, _, Z, X, Y = gen_data_complex(n, pw, pz, px, a, b, c, d, e, f, g)\n",
    "est = ProximalDE(dual_type='Z', cv=3, semi=True, multitask=False, n_jobs=-1, random_state=3)\n",
    "est.fit(W, D, Z, X, Y)"
   ]
  },
  {
   "cell_type": "markdown",
   "id": "ae8e0324-b7c3-486c-b7b2-a270c9e0908d",
   "metadata": {},
   "source": [
    "#### Summary of estimation results with diagnostic tests"
   ]
  },
  {
   "cell_type": "code",
   "execution_count": null,
   "id": "900af9be-c82f-4e20-ac1f-4724905ac6f6",
   "metadata": {},
   "outputs": [],
   "source": [
    "est.summary(decimals=5)"
   ]
  },
  {
   "cell_type": "markdown",
   "id": "4a5c7948-4252-471b-a8ef-ebee20030797",
   "metadata": {},
   "source": [
    "#### Confidence Intervals and Robust Confidence Intervals"
   ]
  },
  {
   "cell_type": "code",
   "execution_count": null,
   "id": "3efdc8bf-2a67-472c-9bd2-03612fef1041",
   "metadata": {},
   "outputs": [],
   "source": [
    "est.conf_int(alpha=.05) # 95% confidence interval"
   ]
  },
  {
   "cell_type": "code",
   "execution_count": null,
   "id": "e0b1e98d-d4b0-42b2-9b08-c04c74a4d759",
   "metadata": {},
   "outputs": [],
   "source": [
    "# 95% confidence interval, robust to weak identification\n",
    "est.robust_conf_int(alpha=0.05, lb=.1, ub=1.0, ngrid=1000)"
   ]
  },
  {
   "cell_type": "markdown",
   "id": "bcda4ac4-ccea-41a0-a9b9-e54a2cf6d9f8",
   "metadata": {},
   "source": [
    "#### Unusual Data Diagnostics"
   ]
  },
  {
   "cell_type": "code",
   "execution_count": null,
   "id": "d566ecd4-2574-4f72-a5d2-c9d2e645ad5c",
   "metadata": {},
   "outputs": [],
   "source": [
    "diag = est.run_diagnostics()"
   ]
  },
  {
   "cell_type": "code",
   "execution_count": null,
   "id": "96d68394-cc6e-49d9-8c90-29822f00b46e",
   "metadata": {},
   "outputs": [],
   "source": [
    "diag.cookd_plot()\n",
    "plt.show()"
   ]
  },
  {
   "cell_type": "code",
   "execution_count": null,
   "id": "fe0b6501-f2de-40ce-a527-e7613dcedc32",
   "metadata": {},
   "outputs": [],
   "source": [
    "diag.l2influence_plot()\n",
    "plt.show()"
   ]
  },
  {
   "cell_type": "code",
   "execution_count": null,
   "id": "aa9a76a8-c1db-4cbd-8504-832030cd4da6",
   "metadata": {},
   "outputs": [],
   "source": [
    "diag.influence_plot(influence_measure='cook', npoints=10)\n",
    "plt.show()"
   ]
  },
  {
   "cell_type": "code",
   "execution_count": null,
   "id": "c40cc148-0463-431e-b9e2-5fa8b877092a",
   "metadata": {},
   "outputs": [],
   "source": [
    "diag.influence_plot(influence_measure='l2influence', npoints=10)\n",
    "plt.show()"
   ]
  },
  {
   "cell_type": "markdown",
   "id": "2ca3adc1-ce7c-4a2b-b832-42ea1e0b60a3",
   "metadata": {},
   "source": [
    "### Subsample-Based Inference"
   ]
  },
  {
   "cell_type": "code",
   "execution_count": null,
   "id": "9340f9ef-7453-4108-9974-a06005f3fb50",
   "metadata": {},
   "outputs": [],
   "source": [
    "inf = est.bootstrap_inference(stage=3, n_subsamples=1000, fraction=0.5, replace=False, verbose=3, random_state=123)\n",
    "inf.summary()"
   ]
  },
  {
   "cell_type": "code",
   "execution_count": null,
   "id": "7594f89f-47a6-47a5-910d-e2bba3d266c3",
   "metadata": {},
   "outputs": [],
   "source": [
    "plt.hist(inf.point_dist)\n",
    "plt.vlines([inf.point], 0, 300, color='r')\n",
    "plt.show()"
   ]
  },
  {
   "cell_type": "code",
   "execution_count": null,
   "id": "f3967537-e6e1-41f0-b26d-9647f6f3139d",
   "metadata": {},
   "outputs": [],
   "source": [
    "inf = est.bootstrap_inference(stage=2, n_subsamples=100, fraction=0.5, replace=False, verbose=3, random_state=123)\n",
    "inf.summary()"
   ]
  },
  {
   "cell_type": "code",
   "execution_count": null,
   "id": "d86373a6-c7d6-4afe-a817-116996436819",
   "metadata": {},
   "outputs": [],
   "source": [
    "plt.hist(inf.point_dist)\n",
    "plt.vlines([inf.point], 0, 300, color='r')\n",
    "plt.show()"
   ]
  },
  {
   "cell_type": "code",
   "execution_count": null,
   "id": "893a8afa-12eb-435c-9fdc-99c9e6527f53",
   "metadata": {},
   "outputs": [],
   "source": [
    "inf = est.bootstrap_inference(stage=1, n_subsamples=10, fraction=0.5, replace=False, verbose=3, random_state=123)\n",
    "inf.summary()"
   ]
  },
  {
   "cell_type": "code",
   "execution_count": null,
   "id": "d5bb8d5c-6014-4f02-9c6f-6300171839a4",
   "metadata": {},
   "outputs": [],
   "source": [
    "plt.hist(inf.point_dist)\n",
    "plt.vlines([inf.point], 0, 300, color='r')\n",
    "plt.show()"
   ]
  },
  {
   "cell_type": "code",
   "execution_count": null,
   "id": "c9d44d07-5132-45ee-8830-424cc215ee04",
   "metadata": {},
   "outputs": [],
   "source": [
    "inf.summary(pivot=True)"
   ]
  },
  {
   "cell_type": "markdown",
   "id": "a482021b-9c5b-4123-b20c-878b2940ee33",
   "metadata": {},
   "source": [
    "# Coverage Experiment"
   ]
  },
  {
   "cell_type": "code",
   "execution_count": null,
   "id": "049c9f10-c821-4b00-bcce-c850162c5c23",
   "metadata": {},
   "outputs": [],
   "source": [
    "n = 500000\n",
    "pw = 100\n",
    "pz, px = 50, 50\n",
    "n_splits = 3\n",
    "\n",
    "results = Parallel(n_jobs=-1, verbose=3)(delayed(exp_res)(i, n, pw, pz, px, a, b, c, d, e, f, g,\n",
    "                                                           n_splits=n_splits, semi=True, n_jobs=1)\n",
    "                                          for i in range(100))"
   ]
  },
  {
   "cell_type": "markdown",
   "id": "e936273a-0829-4c8b-bd86-e3fb929a296c",
   "metadata": {},
   "source": [
    "#### Summarize"
   ]
  },
  {
   "cell_type": "code",
   "execution_count": null,
   "id": "26cc2396-5f19-4ad5-8266-3a48a7b7c2bc",
   "metadata": {},
   "outputs": [],
   "source": [
    "points_base, stderrs_base, rmseD, rmseZ, rmseX, rmseY, jac, points_alt, stderrs_alt = zip(*results)\n",
    "points_base = np.array(points_base)\n",
    "stderrs_base = np.array(stderrs_base)\n",
    "points_alt = np.array(points_alt)\n",
    "stderrs_alt = np.array(stderrs_alt)\n",
    "\n",
    "for points, stderrs in [(points_base, stderrs_base), (points_alt, stderrs_alt)]:\n",
    "    coverage = np.mean((points + 1.96 * stderrs >= c) & (points - 1.96 * stderrs <= c))\n",
    "    rmse = np.sqrt(np.mean((points - c)**2))\n",
    "    bias = np.abs(np.mean(points) - c)\n",
    "    std = np.std(points)\n",
    "    mean_stderr = np.mean(stderrs)\n",
    "    mean_length = np.mean(2 * 1.96 * stderrs)\n",
    "    median_length = np.median(2 * 1.96 * stderrs)\n",
    "    print(f\"Coverage: {coverage:.3f}\")\n",
    "    print(f\"RMSE: {rmse:.3f}\")\n",
    "    print(f\"Bias: {bias:.3f}\")\n",
    "    print(f\"Std: {std:.3f}\")\n",
    "    print(f\"Mean CI length: {mean_length:.3f}\")\n",
    "    print(f\"Median CI length: {mean_length:.3f}\")\n",
    "    print(f\"Mean Estimated Stderr: {mean_stderr:.3f}\")\n",
    "    print(f\"Nuisance R^2 (D, Z, X, Y): {np.mean(rmseD):.3f}, {np.mean(rmseZ):.3f}, {np.mean(rmseX):.3f}, {np.mean(rmseY):.3f}\")"
   ]
  },
  {
   "cell_type": "code",
   "execution_count": null,
   "id": "8aa77e2c-305e-4638-a8cf-03a26062436c",
   "metadata": {},
   "outputs": [],
   "source": [
    "plt.hist(points_base, label='Distribution of Estimates: debiased')\n",
    "plt.hist(points_alt, label='Distribution of Estimates: original', alpha=.3)\n",
    "plt.vlines([c], 0, plt.ylim()[1], color='red', label='truth')\n",
    "plt.legend()\n",
    "plt.show()"
   ]
  },
  {
   "cell_type": "code",
   "execution_count": null,
   "id": "7a8a54f5-54dd-445b-8f99-d3645ed0a9ed",
   "metadata": {},
   "outputs": [],
   "source": []
  }
 ],
 "metadata": {
  "kernelspec": {
   "display_name": "Python 3 (ipykernel)",
   "language": "python",
   "name": "python3"
  },
  "language_info": {
   "codemirror_mode": {
    "name": "ipython",
    "version": 3
   },
   "file_extension": ".py",
   "mimetype": "text/x-python",
   "name": "python",
   "nbconvert_exporter": "python",
   "pygments_lexer": "ipython3",
   "version": "3.12.4"
  }
 },
 "nbformat": 4,
 "nbformat_minor": 5
}
