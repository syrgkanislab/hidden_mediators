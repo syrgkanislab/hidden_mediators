{
 "cells": [
  {
   "cell_type": "markdown",
   "id": "0",
   "metadata": {
    "id": "nJSbD4Nr8VNq"
   },
   "source": [
    "## Setup Only for Colab"
   ]
  },
  {
   "cell_type": "code",
   "execution_count": null,
   "id": "1",
   "metadata": {
    "colab": {
     "base_uri": "https://localhost:8080/"
    },
    "executionInfo": {
     "elapsed": 22127,
     "status": "ok",
     "timestamp": 1725293991593,
     "user": {
      "displayName": "Vasilis Syrganis",
      "userId": "00968929417250286436"
     },
     "user_tz": 420
    },
    "id": "j4wBu9BNomlq",
    "outputId": "9779aebb-7c6c-4ca4-ccc6-934e68a4c55c"
   },
   "outputs": [],
   "source": [
    "# prompt: mount drive\n",
    "\n",
    "from google.colab import drive\n",
    "drive.mount('/content/drive')"
   ]
  },
  {
   "cell_type": "code",
   "execution_count": null,
   "id": "2",
   "metadata": {
    "colab": {
     "base_uri": "https://localhost:8080/"
    },
    "executionInfo": {
     "elapsed": 380,
     "status": "ok",
     "timestamp": 1725293993528,
     "user": {
      "displayName": "Vasilis Syrganis",
      "userId": "00968929417250286436"
     },
     "user_tz": 420
    },
    "id": "JfB4MISjovTQ",
    "outputId": "693b8c9c-aaa2-4509-f8ef-360bcc01fe14"
   },
   "outputs": [],
   "source": [
    "%cd /content/drive/MyDrive/Colab\\ Notebooks/hidden_mediators"
   ]
  },
  {
   "cell_type": "code",
   "execution_count": null,
   "id": "3",
   "metadata": {
    "colab": {
     "base_uri": "https://localhost:8080/"
    },
    "executionInfo": {
     "elapsed": 373,
     "status": "ok",
     "timestamp": 1725293994278,
     "user": {
      "displayName": "Vasilis Syrganis",
      "userId": "00968929417250286436"
     },
     "user_tz": 420
    },
    "id": "D5tm-9Fno5Xn",
    "outputId": "c22cb8f9-d6e0-42e2-e544-4441acbafad9"
   },
   "outputs": [],
   "source": [
    "%ls"
   ]
  },
  {
   "cell_type": "code",
   "execution_count": null,
   "id": "4",
   "metadata": {
    "executionInfo": {
     "elapsed": 1,
     "status": "ok",
     "timestamp": 1725293994278,
     "user": {
      "displayName": "Vasilis Syrganis",
      "userId": "00968929417250286436"
     },
     "user_tz": 420
    },
    "id": "MFy1PyP89gR3"
   },
   "outputs": [],
   "source": [
    "from IPython.display import clear_output"
   ]
  },
  {
   "cell_type": "code",
   "execution_count": null,
   "id": "5",
   "metadata": {
    "executionInfo": {
     "elapsed": 7197,
     "status": "ok",
     "timestamp": 1725294002268,
     "user": {
      "displayName": "Vasilis Syrganis",
      "userId": "00968929417250286436"
     },
     "user_tz": 420
    },
    "id": "VGF-ucGhpC5P"
   },
   "outputs": [],
   "source": [
    "import time\n",
    "!pip install -r requirements.txt\n",
    "time.sleep(2)\n",
    "clear_output()"
   ]
  },
  {
   "cell_type": "code",
   "execution_count": null,
   "id": "6",
   "metadata": {
    "executionInfo": {
     "elapsed": 9774,
     "status": "ok",
     "timestamp": 1725294012039,
     "user": {
      "displayName": "Vasilis Syrganis",
      "userId": "00968929417250286436"
     },
     "user_tz": 420
    },
    "id": "0wsNOzNVtonf"
   },
   "outputs": [],
   "source": [
    "import time\n",
    "# replace `develop` with `install` if you wont make library code changes\n",
    "!python setup.py develop\n",
    "time.sleep(2)\n",
    "clear_output()\n",
    "# Restart the session after running this"
   ]
  },
  {
   "cell_type": "code",
   "execution_count": null,
   "id": "7",
   "metadata": {
    "colab": {
     "base_uri": "https://localhost:8080/"
    },
    "executionInfo": {
     "elapsed": 3,
     "status": "ok",
     "timestamp": 1725294012039,
     "user": {
      "displayName": "Vasilis Syrganis",
      "userId": "00968929417250286436"
     },
     "user_tz": 420
    },
    "id": "zyL1_6L73Z9e",
    "outputId": "687df3cb-9887-4fd6-d891-99c3e34bbf6b"
   },
   "outputs": [],
   "source": [
    "%cd /content/drive/MyDrive/Colab\\ Notebooks"
   ]
  },
  {
   "cell_type": "markdown",
   "id": "8",
   "metadata": {
    "id": "T6FelHd78d8T"
   },
   "source": [
    "# Main Logic"
   ]
  },
  {
   "cell_type": "code",
   "execution_count": null,
   "id": "9",
   "metadata": {
    "executionInfo": {
     "elapsed": 336,
     "status": "ok",
     "timestamp": 1725294132524,
     "user": {
      "displayName": "Vasilis Syrganis",
      "userId": "00968929417250286436"
     },
     "user_tz": 420
    },
    "id": "a1446bbd-c4be-4846-b09a-e36fad2802ab"
   },
   "outputs": [],
   "source": [
    "%load_ext autoreload\n",
    "%autoreload 2"
   ]
  },
  {
   "cell_type": "code",
   "execution_count": null,
   "id": "10",
   "metadata": {
    "executionInfo": {
     "elapsed": 847,
     "status": "ok",
     "timestamp": 1725294133863,
     "user": {
      "displayName": "Vasilis Syrganis",
      "userId": "00968929417250286436"
     },
     "user_tz": 420
    },
    "id": "c79a60f7-dde3-4c7c-8419-ce831b20e824"
   },
   "outputs": [],
   "source": [
    "import numpy as np\n",
    "import pandas as pd\n",
    "import matplotlib.pyplot as plt\n",
    "import scipy.stats\n",
    "from joblib import Parallel, delayed\n",
    "from proximalde.gen_data import gen_data_complex, gen_data_no_controls\n",
    "from proximalde.proximal import proximal_direct_effect, ProximalDE, residualizeW\n",
    "from sklearn.linear_model import LinearRegression\n",
    "from proximalde.crossfit import fit_predict"
   ]
  },
  {
   "cell_type": "markdown",
   "id": "11",
   "metadata": {
    "id": "57abc1f7-1569-469d-8239-12fce056e875"
   },
   "source": [
    "# Running a Single Experiment"
   ]
  },
  {
   "cell_type": "code",
   "execution_count": null,
   "id": "12",
   "metadata": {
    "executionInfo": {
     "elapsed": 2,
     "status": "ok",
     "timestamp": 1725294133864,
     "user": {
      "displayName": "Vasilis Syrganis",
      "userId": "00968929417250286436"
     },
     "user_tz": 420
    },
    "id": "b52e1c58-e69e-481b-9522-e507d499f501"
   },
   "outputs": [],
   "source": [
    "def exp_res(it, n, pw, pz, px, a, b, c, d, e, f, g, *,\n",
    "            dual_type='Z', n_splits=5, semi=False,\n",
    "            multitask=False, n_jobs=-1, verbose=0):\n",
    "    np.random.seed(it)\n",
    "    # M is unobserved so we omit it from the return variables\n",
    "    W, D, _, Z, X, Y = gen_data_complex(n, pw, pz, px, a, b, c, d, e, f, g)\n",
    "    # return fit_predict(X, Y, LinearRegression(), LinearRegression(), n_splits, semi, multitask, n_jobs, 3)\n",
    "    # return residualizeW(W, D, Z, X, Y)\n",
    "    return proximal_direct_effect(W, D, Z, X, Y,\n",
    "                                  dual_type=dual_type,\n",
    "                                  cv=n_splits, semi=semi,\n",
    "                                  multitask=multitask, n_jobs=n_jobs,\n",
    "                                  verbose=verbose,\n",
    "                                  random_state=it)"
   ]
  },
  {
   "cell_type": "code",
   "execution_count": null,
   "id": "13",
   "metadata": {
    "executionInfo": {
     "elapsed": 339,
     "status": "ok",
     "timestamp": 1725294138983,
     "user": {
      "displayName": "Vasilis Syrganis",
      "userId": "00968929417250286436"
     },
     "user_tz": 420
    },
    "id": "6d25b0a6-3839-42a7-afce-ee0bd39b920d"
   },
   "outputs": [],
   "source": [
    "a = 1.0  # a*b is the indirect effect through mediator\n",
    "b = 1.0\n",
    "c = .5  # this is the direct effect we want to estimate\n",
    "d = .6  # this can be zero; does not hurt\n",
    "e = .7  # if the product of e*f is small, then we have a weak instrument\n",
    "f = .5  # if the product of e*f is small, then we have a weak instrument\n",
    "g = .9  # this can be zero; does not hurt"
   ]
  },
  {
   "cell_type": "code",
   "execution_count": null,
   "id": "14",
   "metadata": {
    "id": "2a8593cd-71f2-4cf9-b210-f3225bc0dfd9"
   },
   "outputs": [],
   "source": [
    "n = 100000\n",
    "pw = 100\n",
    "pz, px = 170, 60\n",
    "n_splits = 3"
   ]
  },
  {
   "cell_type": "code",
   "execution_count": null,
   "id": "15",
   "metadata": {
    "colab": {
     "base_uri": "https://localhost:8080/",
     "height": 295
    },
    "executionInfo": {
     "elapsed": 136912,
     "status": "ok",
     "timestamp": 1725234725075,
     "user": {
      "displayName": "Vasilis Syrganis",
      "userId": "00968929417250286436"
     },
     "user_tz": 420
    },
    "id": "509f25ef-64ea-44e1-9de8-af63039ef619",
    "outputId": "19879137-3782-4dec-ae6e-c82457134956"
   },
   "outputs": [],
   "source": [
    "point, stderr, r2D, r2Z, r2X, r2Y, idstrength, idstrength_std, point_pre, stderr_pre = exp_res(3, n, pw, pz, px, a, b, c, d, e, f, g,\n",
    "                                                 dual_type='Z', n_splits=n_splits, semi=True, verbose=1)\n",
    "pd.DataFrame({'point': point, 'se': stderr, 'r2D': r2D, 'r2Z': r2Z, 'r2X': r2X, 'r2Y': r2Y, 'Jacobian': idstrength,\n",
    "              'point_pre': point_pre, 'se_pre': stderr_pre}, index=[0])"
   ]
  },
  {
   "cell_type": "markdown",
   "id": "16",
   "metadata": {
    "id": "52002a05-5e4e-4f83-a76c-cd2e0e02cd28"
   },
   "source": [
    "### Using the ProximalDE Estimator Class"
   ]
  },
  {
   "cell_type": "code",
   "execution_count": null,
   "id": "17",
   "metadata": {
    "colab": {
     "base_uri": "https://localhost:8080/",
     "height": 75
    },
    "executionInfo": {
     "elapsed": 7969,
     "status": "ok",
     "timestamp": 1725234733042,
     "user": {
      "displayName": "Vasilis Syrganis",
      "userId": "00968929417250286436"
     },
     "user_tz": 420
    },
    "id": "83041b59-4dd1-440d-b3b6-275e7fb36159",
    "outputId": "8be090d1-e41d-4f56-e37c-ca42e949bc08"
   },
   "outputs": [],
   "source": [
    "np.random.seed(4)\n",
    "W, D, _, Z, X, Y = gen_data_complex(n, pw, pz, px, a, b, c, d, e, f, g)\n",
    "# W, D, _, Z, X, Y = gen_data_no_controls(n, pw, pz, px, a, b, c, d, e, f, g)\n",
    "est = ProximalDE(cv=3, semi=True,\n",
    "                 multitask=False, n_jobs=-1, random_state=3, verbose=3)\n",
    "est.fit(W, D, Z, X, Y)"
   ]
  },
  {
   "cell_type": "code",
   "execution_count": null,
   "id": "18",
   "metadata": {
    "colab": {
     "base_uri": "https://localhost:8080/",
     "height": 597
    },
    "executionInfo": {
     "elapsed": 1013,
     "status": "ok",
     "timestamp": 1725234734051,
     "user": {
      "displayName": "Vasilis Syrganis",
      "userId": "00968929417250286436"
     },
     "user_tz": 420
    },
    "id": "911cd658-57a5-4c30-9900-95770ded7f0b",
    "outputId": "91472c6d-9a06-4211-edec-d8f64df02154"
   },
   "outputs": [],
   "source": [
    "est.summary(decimals=5)"
   ]
  },
  {
   "cell_type": "markdown",
   "id": "19",
   "metadata": {
    "id": "b4bf6f73-c115-4f04-b1a1-4580df6494bf"
   },
   "source": [
    "#### Covariance Rank Diagnostic for Covariance of Proxies"
   ]
  },
  {
   "cell_type": "code",
   "execution_count": null,
   "id": "20",
   "metadata": {
    "colab": {
     "base_uri": "https://localhost:8080/"
    },
    "executionInfo": {
     "elapsed": 136350,
     "status": "ok",
     "timestamp": 1725234870399,
     "user": {
      "displayName": "Vasilis Syrganis",
      "userId": "00968929417250286436"
     },
     "user_tz": 420
    },
    "id": "539c686f-e097-4e7f-aa49-c93cf1b35ec6",
    "outputId": "c1847136-e320-4995-82e4-772cde7215ff"
   },
   "outputs": [],
   "source": [
    "svalues, svalues_crit = est.covariance_rank_test(calculate_critical=True)"
   ]
  },
  {
   "cell_type": "code",
   "execution_count": null,
   "id": "21",
   "metadata": {
    "colab": {
     "base_uri": "https://localhost:8080/",
     "height": 452
    },
    "executionInfo": {
     "elapsed": 6,
     "status": "ok",
     "timestamp": 1725234870400,
     "user": {
      "displayName": "Vasilis Syrganis",
      "userId": "00968929417250286436"
     },
     "user_tz": 420
    },
    "id": "481f517a-319c-4494-a9f9-82ba77db47b7",
    "outputId": "986b7894-62d5-435f-f831-9b83bbfe75a5"
   },
   "outputs": [],
   "source": [
    "plt.title(f\"Number of singular values above threshold: {np.sum(svalues >= svalues_crit)}. \"\n",
    "          f\"Threshold={svalues_crit:.3f}. Top singular value={svalues[0]:.3f}\")\n",
    "plt.scatter(np.arange(len(svalues)), svalues)\n",
    "plt.axhline(svalues_crit)\n",
    "plt.show()"
   ]
  },
  {
   "cell_type": "markdown",
   "id": "22",
   "metadata": {
    "id": "4a5c7948-4252-471b-a8ef-ebee20030797"
   },
   "source": [
    "#### Confidence Intervals and Robust Confidence Intervals"
   ]
  },
  {
   "cell_type": "code",
   "execution_count": null,
   "id": "23",
   "metadata": {
    "colab": {
     "base_uri": "https://localhost:8080/"
    },
    "executionInfo": {
     "elapsed": 5,
     "status": "ok",
     "timestamp": 1725234870400,
     "user": {
      "displayName": "Vasilis Syrganis",
      "userId": "00968929417250286436"
     },
     "user_tz": 420
    },
    "id": "3efdc8bf-2a67-472c-9bd2-03612fef1041",
    "outputId": "63f2d3d7-7c92-45bf-c651-36662a658354"
   },
   "outputs": [],
   "source": [
    "est.conf_int(alpha=.05) # 95% confidence interval"
   ]
  },
  {
   "cell_type": "code",
   "execution_count": null,
   "id": "24",
   "metadata": {
    "colab": {
     "base_uri": "https://localhost:8080/"
    },
    "executionInfo": {
     "elapsed": 1377,
     "status": "ok",
     "timestamp": 1725234871773,
     "user": {
      "displayName": "Vasilis Syrganis",
      "userId": "00968929417250286436"
     },
     "user_tz": 420
    },
    "id": "e0b1e98d-d4b0-42b2-9b08-c04c74a4d759",
    "outputId": "1819dbca-2d9d-4c12-a06c-237bd576698c"
   },
   "outputs": [],
   "source": [
    "# 95% confidence interval, robust to weak identification\n",
    "est.robust_conf_int(alpha=0.05, lb=.1, ub=1.0, ngrid=1000)"
   ]
  },
  {
   "cell_type": "markdown",
   "id": "25",
   "metadata": {
    "id": "bcda4ac4-ccea-41a0-a9b9-e54a2cf6d9f8"
   },
   "source": [
    "#### Unusual Data Diagnostics"
   ]
  },
  {
   "cell_type": "code",
   "execution_count": null,
   "id": "26",
   "metadata": {
    "id": "d566ecd4-2574-4f72-a5d2-c9d2e645ad5c"
   },
   "outputs": [],
   "source": [
    "diag = est.run_diagnostics()"
   ]
  },
  {
   "cell_type": "code",
   "execution_count": null,
   "id": "27",
   "metadata": {
    "colab": {
     "base_uri": "https://localhost:8080/"
    },
    "executionInfo": {
     "elapsed": 7,
     "status": "ok",
     "timestamp": 1725234871773,
     "user": {
      "displayName": "Vasilis Syrganis",
      "userId": "00968929417250286436"
     },
     "user_tz": 420
    },
    "id": "Qtle13yEbT5o",
    "outputId": "9f26edf3-90fa-4f8c-8555-5b8dcef517ea"
   },
   "outputs": [],
   "source": [
    "inds = est.influential_set(alpha=0.05)\n",
    "len(inds)  # size of influential set that can flip the result"
   ]
  },
  {
   "cell_type": "code",
   "execution_count": null,
   "id": "28",
   "metadata": {
    "colab": {
     "base_uri": "https://localhost:8080/",
     "height": 829
    },
    "executionInfo": {
     "elapsed": 119587,
     "status": "ok",
     "timestamp": 1725234991354,
     "user": {
      "displayName": "Vasilis Syrganis",
      "userId": "00968929417250286436"
     },
     "user_tz": 420
    },
    "id": "KHRAV2mgbYLO",
    "outputId": "51efa638-5602-42a6-e46a-35ba11a023e3"
   },
   "outputs": [],
   "source": [
    "from sklearn.base import clone\n",
    "# let's re-train a clone of the estimator on all the data\n",
    "# except the influential set\n",
    "est2 = clone(est)\n",
    "est2.fit(np.delete(W, inds, axis=0), np.delete(D, inds, axis=0),\n",
    "         np.delete(Z, inds, axis=0), np.delete(X, inds, axis=0),\n",
    "         np.delete(Y, inds, axis=0))\n",
    "est2.summary(alpha=0.05)"
   ]
  },
  {
   "cell_type": "code",
   "execution_count": null,
   "id": "29",
   "metadata": {
    "colab": {
     "base_uri": "https://localhost:8080/",
     "height": 430
    },
    "executionInfo": {
     "elapsed": 4,
     "status": "ok",
     "timestamp": 1725234991354,
     "user": {
      "displayName": "Vasilis Syrganis",
      "userId": "00968929417250286436"
     },
     "user_tz": 420
    },
    "id": "96d68394-cc6e-49d9-8c90-29822f00b46e",
    "outputId": "2d187f3e-7149-4ef2-8270-937e0223f3bc"
   },
   "outputs": [],
   "source": [
    "diag.cookd_plot()\n",
    "plt.show()"
   ]
  },
  {
   "cell_type": "code",
   "execution_count": null,
   "id": "30",
   "metadata": {
    "colab": {
     "base_uri": "https://localhost:8080/",
     "height": 430
    },
    "executionInfo": {
     "elapsed": 989,
     "status": "ok",
     "timestamp": 1725234992340,
     "user": {
      "displayName": "Vasilis Syrganis",
      "userId": "00968929417250286436"
     },
     "user_tz": 420
    },
    "id": "fe0b6501-f2de-40ce-a527-e7613dcedc32",
    "outputId": "5bd7830b-689f-4b99-9c82-9041e273af15"
   },
   "outputs": [],
   "source": [
    "diag.l2influence_plot()\n",
    "plt.show()"
   ]
  },
  {
   "cell_type": "code",
   "execution_count": null,
   "id": "31",
   "metadata": {
    "colab": {
     "base_uri": "https://localhost:8080/",
     "height": 480
    },
    "executionInfo": {
     "elapsed": 1484,
     "status": "ok",
     "timestamp": 1725234993821,
     "user": {
      "displayName": "Vasilis Syrganis",
      "userId": "00968929417250286436"
     },
     "user_tz": 420
    },
    "id": "aa9a76a8-c1db-4cbd-8504-832030cd4da6",
    "outputId": "40a1c890-1f99-456d-9527-5314c27985ec"
   },
   "outputs": [],
   "source": [
    "diag.influence_plot(influence_measure='cook', npoints=10)\n",
    "plt.show()"
   ]
  },
  {
   "cell_type": "code",
   "execution_count": null,
   "id": "32",
   "metadata": {
    "colab": {
     "base_uri": "https://localhost:8080/",
     "height": 492
    },
    "executionInfo": {
     "elapsed": 4,
     "status": "ok",
     "timestamp": 1725234993821,
     "user": {
      "displayName": "Vasilis Syrganis",
      "userId": "00968929417250286436"
     },
     "user_tz": 420
    },
    "id": "c40cc148-0463-431e-b9e2-5fa8b877092a",
    "outputId": "1b117d64-de1a-4095-c64e-bf181eed498f"
   },
   "outputs": [],
   "source": [
    "diag.influence_plot(influence_measure='l2influence', npoints=10)\n",
    "plt.show()"
   ]
  },
  {
   "cell_type": "markdown",
   "id": "33",
   "metadata": {
    "id": "2ca3adc1-ce7c-4a2b-b832-42ea1e0b60a3"
   },
   "source": [
    "### Subsample-Based Inference"
   ]
  },
  {
   "cell_type": "code",
   "execution_count": null,
   "id": "34",
   "metadata": {
    "colab": {
     "base_uri": "https://localhost:8080/",
     "height": 151
    },
    "executionInfo": {
     "elapsed": 5887,
     "status": "ok",
     "timestamp": 1725234999705,
     "user": {
      "displayName": "Vasilis Syrganis",
      "userId": "00968929417250286436"
     },
     "user_tz": 420
    },
    "id": "9340f9ef-7453-4108-9974-a06005f3fb50",
    "outputId": "56ca676c-bd56-49a9-d00d-ff257ab9a91d"
   },
   "outputs": [],
   "source": [
    "inf = est.bootstrap_inference(stage=3, n_subsamples=1000, fraction=0.5, replace=False, verbose=3, random_state=123)\n",
    "inf.summary()"
   ]
  },
  {
   "cell_type": "code",
   "execution_count": null,
   "id": "35",
   "metadata": {
    "colab": {
     "base_uri": "https://localhost:8080/",
     "height": 430
    },
    "executionInfo": {
     "elapsed": 4,
     "status": "ok",
     "timestamp": 1725234999705,
     "user": {
      "displayName": "Vasilis Syrganis",
      "userId": "00968929417250286436"
     },
     "user_tz": 420
    },
    "id": "7594f89f-47a6-47a5-910d-e2bba3d266c3",
    "outputId": "6d68f449-0f83-4fd4-99b4-84120a16f6f8"
   },
   "outputs": [],
   "source": [
    "plt.hist(inf.point_dist)\n",
    "plt.vlines([inf.point], 0, 300, color='r')\n",
    "plt.show()"
   ]
  },
  {
   "cell_type": "code",
   "execution_count": null,
   "id": "36",
   "metadata": {
    "colab": {
     "base_uri": "https://localhost:8080/",
     "height": 133
    },
    "executionInfo": {
     "elapsed": 76509,
     "status": "ok",
     "timestamp": 1725235076211,
     "user": {
      "displayName": "Vasilis Syrganis",
      "userId": "00968929417250286436"
     },
     "user_tz": 420
    },
    "id": "f3967537-e6e1-41f0-b26d-9647f6f3139d",
    "outputId": "88206567-3075-4ade-e8b9-5020ce00b5c9"
   },
   "outputs": [],
   "source": [
    "inf = est.bootstrap_inference(stage=2, n_subsamples=100, fraction=0.5, replace=False, verbose=3, random_state=123)\n",
    "inf.summary()"
   ]
  },
  {
   "cell_type": "code",
   "execution_count": null,
   "id": "37",
   "metadata": {
    "colab": {
     "base_uri": "https://localhost:8080/",
     "height": 430
    },
    "executionInfo": {
     "elapsed": 6,
     "status": "ok",
     "timestamp": 1725235076211,
     "user": {
      "displayName": "Vasilis Syrganis",
      "userId": "00968929417250286436"
     },
     "user_tz": 420
    },
    "id": "d86373a6-c7d6-4afe-a817-116996436819",
    "outputId": "528e9949-caa5-423a-b255-b366a9d53d8a"
   },
   "outputs": [],
   "source": [
    "plt.hist(inf.point_dist)\n",
    "plt.vlines([inf.point], 0, 300, color='r')\n",
    "plt.show()"
   ]
  },
  {
   "cell_type": "code",
   "execution_count": null,
   "id": "38",
   "metadata": {
    "colab": {
     "base_uri": "https://localhost:8080/",
     "height": 311
    },
    "executionInfo": {
     "elapsed": 5,
     "status": "error",
     "timestamp": 1725235076211,
     "user": {
      "displayName": "Vasilis Syrganis",
      "userId": "00968929417250286436"
     },
     "user_tz": 420
    },
    "id": "893a8afa-12eb-435c-9fdc-99c9e6527f53",
    "outputId": "f7f7f15e-fe1b-4003-b96a-2349495453f1"
   },
   "outputs": [],
   "source": [
    "inf = est.bootstrap_inference(stage=1, n_subsamples=10, fraction=0.5, replace=False, verbose=3, random_state=123)\n",
    "inf.summary()"
   ]
  },
  {
   "cell_type": "code",
   "execution_count": null,
   "id": "39",
   "metadata": {
    "id": "d5bb8d5c-6014-4f02-9c6f-6300171839a4"
   },
   "outputs": [],
   "source": [
    "plt.hist(inf.point_dist)\n",
    "plt.vlines([inf.point], 0, 300, color='r')\n",
    "plt.show()"
   ]
  },
  {
   "cell_type": "code",
   "execution_count": null,
   "id": "40",
   "metadata": {
    "id": "c9d44d07-5132-45ee-8830-424cc215ee04"
   },
   "outputs": [],
   "source": [
    "inf.summary(pivot=True)"
   ]
  },
  {
   "cell_type": "markdown",
   "id": "41",
   "metadata": {
    "id": "a482021b-9c5b-4123-b20c-878b2940ee33"
   },
   "source": [
    "# Coverage Experiment"
   ]
  },
  {
   "cell_type": "code",
   "execution_count": null,
   "id": "42",
   "metadata": {
    "executionInfo": {
     "elapsed": 441,
     "status": "ok",
     "timestamp": 1725298517364,
     "user": {
      "displayName": "Vasilis Syrganis",
      "userId": "00968929417250286436"
     },
     "user_tz": 420
    },
    "id": "kbCj0xisicEy"
   },
   "outputs": [],
   "source": [
    "def exp_res(it, n, pw, pz, px, a, b, c, d, e, f, g, *,\n",
    "            dual_type='Z', ivreg_type='adv', n_splits=5, semi=False,\n",
    "            multitask=False, n_jobs=-1, verbose=0):\n",
    "    np.random.seed(it)\n",
    "    if pw > 0:\n",
    "        # M is unobserved so we omit it from the return variables\n",
    "        W, D, _, Z, X, Y = gen_data_complex(n, pw, pz, px, a, b, c, d, e, f, g)\n",
    "        est = ProximalDE(cv=n_splits, semi=semi,\n",
    "                         dual_type=dual_type, ivreg_type=ivreg_type,\n",
    "                         multitask=multitask, n_jobs=n_jobs,\n",
    "                         random_state=it, verbose=verbose)\n",
    "        est.fit(W, D, Z, X, Y)\n",
    "    else:\n",
    "        _, D, _, Z, X, Y = gen_data_no_controls(n, pw, pz, px, a, b, c, d, e, f, g)\n",
    "        est = ProximalDE(cv=n_splits, semi=semi,\n",
    "                         dual_type=dual_type, ivreg_type=ivreg_type,\n",
    "                         multitask=multitask, n_jobs=n_jobs,\n",
    "                         random_state=it, verbose=verbose)\n",
    "        est.fit(None, D, Z, X, Y)\n",
    "    return est.point_, est.stderr_, est.r2D_, est.r2Z_, est.r2X_, est.r2Y_, \\\n",
    "        est.idstrength_, est.idstrength_std_, est.point_pre_, est.stderr_pre_"
   ]
  },
  {
   "cell_type": "code",
   "execution_count": null,
   "id": "43",
   "metadata": {
    "colab": {
     "base_uri": "https://localhost:8080/"
    },
    "executionInfo": {
     "elapsed": 17951,
     "status": "ok",
     "timestamp": 1725298645097,
     "user": {
      "displayName": "Vasilis Syrganis",
      "userId": "00968929417250286436"
     },
     "user_tz": 420
    },
    "id": "049c9f10-c821-4b00-bcce-c850162c5c23",
    "outputId": "85f9763a-e3bf-4319-ab3b-05cf8ffa6744"
   },
   "outputs": [],
   "source": [
    "a = 1.0  # a*b is the indirect effect through mediator\n",
    "b = 1.0\n",
    "c = .5  # this is the direct effect we want to estimate\n",
    "d = .6  # this can be zero; does not hurt\n",
    "e = .7  # if the product of e*f is small, then we have a weak instrument\n",
    "f = .5  # if the product of e*f is small, then we have a weak instrument\n",
    "g = .9  # this can be zero; does not hurt\n",
    "n = 100000\n",
    "pw = 0\n",
    "pz, px = 20, 20\n",
    "\n",
    "results = Parallel(n_jobs=-1, verbose=3)(delayed(exp_res)(i, n, pw, pz, px, a, b, c, d, e, f, g,\n",
    "                                                          dual_type='Z', ivreg_type='adv',\n",
    "                                                          n_splits=3, semi=True, n_jobs=1)\n",
    "                                          for i in range(100))"
   ]
  },
  {
   "cell_type": "markdown",
   "id": "44",
   "metadata": {
    "id": "e936273a-0829-4c8b-bd86-e3fb929a296c"
   },
   "source": [
    "#### Summarize"
   ]
  },
  {
   "cell_type": "code",
   "execution_count": null,
   "id": "45",
   "metadata": {
    "colab": {
     "base_uri": "https://localhost:8080/"
    },
    "executionInfo": {
     "elapsed": 4,
     "status": "ok",
     "timestamp": 1725298645097,
     "user": {
      "displayName": "Vasilis Syrganis",
      "userId": "00968929417250286436"
     },
     "user_tz": 420
    },
    "id": "26cc2396-5f19-4ad5-8266-3a48a7b7c2bc",
    "outputId": "3f3670cd-bd8c-4ffb-db20-2bc82282e235"
   },
   "outputs": [],
   "source": [
    "points_base, stderrs_base, rmseD, rmseZ, rmseX, rmseY, strength, strength_std, points_alt, stderrs_alt = zip(*results)\n",
    "\n",
    "points_base = np.array(points_base)\n",
    "stderrs_base = np.array(stderrs_base)\n",
    "points_alt = np.array(points_alt)\n",
    "stderrs_alt = np.array(stderrs_alt)\n",
    "\n",
    "for points, stderrs in [(points_base, stderrs_base), (points_alt, stderrs_alt)]:\n",
    "    coverage = np.mean((points + 1.96 * stderrs >= c) & (points - 1.96 * stderrs <= c))\n",
    "    rmse = np.sqrt(np.mean((points - c)**2))\n",
    "    bias = np.abs(np.mean(points) - c)\n",
    "    std = np.std(points)\n",
    "    mean_stderr = np.mean(stderrs)\n",
    "    mean_length = np.mean(2 * 1.96 * stderrs)\n",
    "    median_length = np.median(2 * 1.96 * stderrs)\n",
    "    print(f\"Coverage: {coverage:.3f}\")\n",
    "    print(f\"RMSE: {rmse:.3f}\")\n",
    "    print(f\"Bias: {bias:.3f}\")\n",
    "    print(f\"Std: {std:.3f}\")\n",
    "    print(f\"Mean CI length: {mean_length:.3f}\")\n",
    "    print(f\"Median CI length: {mean_length:.3f}\")\n",
    "    print(f\"Mean Estimated Stderr: {mean_stderr:.3f}\")\n",
    "    print(f\"Nuisance R^2 (D, Z, X, Y): {np.mean(rmseD):.3f}, {np.mean(rmseZ):.3f}, {np.mean(rmseX):.3f}, {np.mean(rmseY):.3f}\")"
   ]
  },
  {
   "cell_type": "code",
   "execution_count": null,
   "id": "46",
   "metadata": {
    "colab": {
     "base_uri": "https://localhost:8080/",
     "height": 432
    },
    "executionInfo": {
     "elapsed": 3,
     "status": "ok",
     "timestamp": 1725298645097,
     "user": {
      "displayName": "Vasilis Syrganis",
      "userId": "00968929417250286436"
     },
     "user_tz": 420
    },
    "id": "8aa77e2c-305e-4638-a8cf-03a26062436c",
    "outputId": "87f77847-af05-414f-8984-40bb27b71fd8"
   },
   "outputs": [],
   "source": [
    "plt.hist(points_base, label='Distribution of Estimates: debiased')\n",
    "plt.hist(points_alt, label='Distribution of Estimates: original', alpha=.3)\n",
    "plt.vlines([c], 0, plt.ylim()[1], color='red', label='truth')\n",
    "plt.legend()\n",
    "plt.show()"
   ]
  },
  {
   "cell_type": "code",
   "execution_count": null,
   "id": "47",
   "metadata": {
    "colab": {
     "background_save": true
    },
    "id": "7a8a54f5-54dd-445b-8f99-d3645ed0a9ed"
   },
   "outputs": [],
   "source": []
  }
 ],
 "metadata": {
  "accelerator": "GPU",
  "colab": {
   "gpuType": "T4",
   "machine_shape": "hm",
   "provenance": []
  },
  "kernelspec": {
   "display_name": "Python 3 (ipykernel)",
   "language": "python",
   "name": "python3"
  },
  "language_info": {
   "codemirror_mode": {
    "name": "ipython",
    "version": 3
   },
   "file_extension": ".py",
   "mimetype": "text/x-python",
   "name": "python",
   "nbconvert_exporter": "python",
   "pygments_lexer": "ipython3",
   "version": "3.12.4"
  }
 },
 "nbformat": 4,
 "nbformat_minor": 5
}
