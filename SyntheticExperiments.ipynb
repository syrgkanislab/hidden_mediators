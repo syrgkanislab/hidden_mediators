{
 "cells": [
  {
   "cell_type": "markdown",
   "id": "0",
   "metadata": {
    "id": "nJSbD4Nr8VNq"
   },
   "source": [
    "## Setup Only for Colab"
   ]
  },
  {
   "cell_type": "code",
   "execution_count": null,
   "id": "1",
   "metadata": {
    "colab": {
     "base_uri": "https://localhost:8080/"
    },
    "executionInfo": {
     "elapsed": 21063,
     "status": "ok",
     "timestamp": 1725927383816,
     "user": {
      "displayName": "Vasilis Syrganis",
      "userId": "00968929417250286436"
     },
     "user_tz": 420
    },
    "id": "j4wBu9BNomlq",
    "outputId": "36e84e73-c55f-4652-f056-eb17acd0125a"
   },
   "outputs": [],
   "source": [
    "# prompt: mount drive\n",
    "\n",
    "from google.colab import drive\n",
    "drive.mount('/content/drive')"
   ]
  },
  {
   "cell_type": "code",
   "execution_count": null,
   "id": "2",
   "metadata": {
    "colab": {
     "base_uri": "https://localhost:8080/"
    },
    "executionInfo": {
     "elapsed": 413,
     "status": "ok",
     "timestamp": 1725927384225,
     "user": {
      "displayName": "Vasilis Syrganis",
      "userId": "00968929417250286436"
     },
     "user_tz": 420
    },
    "id": "JfB4MISjovTQ",
    "outputId": "df9194c2-ea83-4f02-a33d-17c20235099a"
   },
   "outputs": [],
   "source": [
    "%cd /content/drive/MyDrive/Colab\\ Notebooks/hidden_mediators"
   ]
  },
  {
   "cell_type": "code",
   "execution_count": null,
   "id": "3",
   "metadata": {
    "colab": {
     "base_uri": "https://localhost:8080/"
    },
    "executionInfo": {
     "elapsed": 324,
     "status": "ok",
     "timestamp": 1725927384546,
     "user": {
      "displayName": "Vasilis Syrganis",
      "userId": "00968929417250286436"
     },
     "user_tz": 420
    },
    "id": "D5tm-9Fno5Xn",
    "outputId": "4b78d38c-5810-48e6-d06e-a0931bd9409f"
   },
   "outputs": [],
   "source": [
    "%ls"
   ]
  },
  {
   "cell_type": "code",
   "execution_count": null,
   "id": "4",
   "metadata": {
    "executionInfo": {
     "elapsed": 3,
     "status": "ok",
     "timestamp": 1725927384546,
     "user": {
      "displayName": "Vasilis Syrganis",
      "userId": "00968929417250286436"
     },
     "user_tz": 420
    },
    "id": "MFy1PyP89gR3"
   },
   "outputs": [],
   "source": [
    "from IPython.display import clear_output"
   ]
  },
  {
   "cell_type": "code",
   "execution_count": null,
   "id": "5",
   "metadata": {
    "executionInfo": {
     "elapsed": 6336,
     "status": "ok",
     "timestamp": 1725927390880,
     "user": {
      "displayName": "Vasilis Syrganis",
      "userId": "00968929417250286436"
     },
     "user_tz": 420
    },
    "id": "VGF-ucGhpC5P"
   },
   "outputs": [],
   "source": [
    "import time\n",
    "!pip install -r requirements.txt\n",
    "time.sleep(2)\n",
    "clear_output()"
   ]
  },
  {
   "cell_type": "code",
   "execution_count": null,
   "id": "6",
   "metadata": {
    "executionInfo": {
     "elapsed": 5429,
     "status": "ok",
     "timestamp": 1725927396305,
     "user": {
      "displayName": "Vasilis Syrganis",
      "userId": "00968929417250286436"
     },
     "user_tz": 420
    },
    "id": "0wsNOzNVtonf"
   },
   "outputs": [],
   "source": [
    "import time\n",
    "# replace `develop` with `install` if you wont make library code changes\n",
    "!python setup.py develop\n",
    "time.sleep(2)\n",
    "clear_output()\n",
    "# Restart the session after running this"
   ]
  },
  {
   "cell_type": "code",
   "execution_count": null,
   "id": "7",
   "metadata": {
    "colab": {
     "base_uri": "https://localhost:8080/"
    },
    "executionInfo": {
     "elapsed": 12,
     "status": "ok",
     "timestamp": 1725927396306,
     "user": {
      "displayName": "Vasilis Syrganis",
      "userId": "00968929417250286436"
     },
     "user_tz": 420
    },
    "id": "zyL1_6L73Z9e",
    "outputId": "fd1aa9b5-11a4-481c-9d5b-e7f94fbf326a"
   },
   "outputs": [],
   "source": [
    "%cd /content/drive/MyDrive/Colab\\ Notebooks"
   ]
  },
  {
   "cell_type": "markdown",
   "id": "8",
   "metadata": {
    "id": "T6FelHd78d8T"
   },
   "source": [
    "# Main Logic"
   ]
  },
  {
   "cell_type": "code",
   "execution_count": null,
   "id": "9",
   "metadata": {
    "executionInfo": {
     "elapsed": 174,
     "status": "ok",
     "timestamp": 1725928560280,
     "user": {
      "displayName": "Vasilis Syrganis",
      "userId": "00968929417250286436"
     },
     "user_tz": 420
    },
    "id": "a1446bbd-c4be-4846-b09a-e36fad2802ab"
   },
   "outputs": [],
   "source": [
    "%load_ext autoreload\n",
    "%autoreload 2"
   ]
  },
  {
   "cell_type": "code",
   "execution_count": null,
   "id": "10",
   "metadata": {
    "executionInfo": {
     "elapsed": 3070,
     "status": "ok",
     "timestamp": 1725928563544,
     "user": {
      "displayName": "Vasilis Syrganis",
      "userId": "00968929417250286436"
     },
     "user_tz": 420
    },
    "id": "c79a60f7-dde3-4c7c-8419-ce831b20e824"
   },
   "outputs": [],
   "source": [
    "import numpy as np\n",
    "import pandas as pd\n",
    "import matplotlib.pyplot as plt\n",
    "import scipy.stats\n",
    "from joblib import Parallel, delayed\n",
    "from proximalde.gen_data import gen_data_complex, gen_data_no_controls, gen_data_no_controls_discrete_m\n",
    "from proximalde.proximal import proximal_direct_effect, ProximalDE, residualizeW\n",
    "from sklearn.linear_model import LinearRegression\n",
    "from proximalde.crossfit import fit_predict\n",
    "import os"
   ]
  },
  {
   "cell_type": "markdown",
   "id": "11",
   "metadata": {
    "id": "57abc1f7-1569-469d-8239-12fce056e875"
   },
   "source": [
    "# Running a Single Experiment"
   ]
  },
  {
   "cell_type": "code",
   "execution_count": null,
   "id": "12",
   "metadata": {
    "executionInfo": {
     "elapsed": 3,
     "status": "ok",
     "timestamp": 1725928563545,
     "user": {
      "displayName": "Vasilis Syrganis",
      "userId": "00968929417250286436"
     },
     "user_tz": 420
    },
    "id": "6d25b0a6-3839-42a7-afce-ee0bd39b920d"
   },
   "outputs": [],
   "source": [
    "a = 1.0  # a*b is the indirect effect through mediator\n",
    "b = 1.0\n",
    "c = .5  # this is the direct effect we want to estimate\n",
    "d = .6  # this can be zero; does not hurt\n",
    "e = .7  # if the product of e*f is small, then we have a weak instrument\n",
    "f = .5  # if the product of e*f is small, then we have a weak instrument\n",
    "g = .9  # this can be zero; does not hurt"
   ]
  },
  {
   "cell_type": "code",
   "execution_count": null,
   "id": "13",
   "metadata": {
    "executionInfo": {
     "elapsed": 181,
     "status": "ok",
     "timestamp": 1725928690252,
     "user": {
      "displayName": "Vasilis Syrganis",
      "userId": "00968929417250286436"
     },
     "user_tz": 420
    },
    "id": "2a8593cd-71f2-4cf9-b210-f3225bc0dfd9"
   },
   "outputs": [],
   "source": [
    "n = 100000\n",
    "pw = 170\n",
    "pz, px = 196, 65"
   ]
  },
  {
   "cell_type": "code",
   "execution_count": null,
   "id": "14",
   "metadata": {
    "executionInfo": {
     "elapsed": 518,
     "status": "ok",
     "timestamp": 1725928690957,
     "user": {
      "displayName": "Vasilis Syrganis",
      "userId": "00968929417250286436"
     },
     "user_tz": 420
    },
    "id": "rLG9OoLVME8w"
   },
   "outputs": [],
   "source": [
    "np.random.seed(2)\n",
    "W, D, _, Z, X, Y = gen_data_complex(n, pw, pz, px, a, b, c, d, e, f, g)\n",
    "\n",
    "## for no controls un-comment this\n",
    "# _, D, _, Z, X, Y = gen_data_no_controls(n, pw, pz, px, a, b, c, d, e, f, g)\n",
    "# W = None\n",
    "\n",
    "## for multi-dimensional mediator uncomment this\n",
    "# pm = 5\n",
    "# full_rank = False\n",
    "# while not full_rank:\n",
    "#     E = np.random.normal(0, 2, (pm, pz))\n",
    "#     F = np.random.normal(0, 2, (pm, px))\n",
    "#     if (np.linalg.matrix_rank(E, tol=0.5) == pm) and (np.linalg.matrix_rank(F, tol=0.5) == pm):\n",
    "#         full_rank = True\n",
    "# W, D, _, Z, X, Y = gen_data_no_controls_discrete_m(n, pw, pz, px, a, b, c, d, e*E, f*F, g, pm=pm)"
   ]
  },
  {
   "cell_type": "markdown",
   "id": "15",
   "metadata": {
    "id": "52002a05-5e4e-4f83-a76c-cd2e0e02cd28"
   },
   "source": [
    "### Using the ProximalDE Estimator Class"
   ]
  },
  {
   "cell_type": "code",
   "execution_count": null,
   "id": "16",
   "metadata": {
    "colab": {
     "base_uri": "https://localhost:8080/",
     "height": 75
    },
    "executionInfo": {
     "elapsed": 374,
     "status": "ok",
     "timestamp": 1725928699963,
     "user": {
      "displayName": "Vasilis Syrganis",
      "userId": "00968929417250286436"
     },
     "user_tz": 420
    },
    "id": "83041b59-4dd1-440d-b3b6-275e7fb36159",
    "outputId": "4988fc2d-11f0-4802-97d9-20f5c2914af4"
   },
   "outputs": [],
   "source": [
    "est = ProximalDE(cv=3, semi=True, dual_type='Q',\n",
    "                 multitask=False, n_jobs=-1, random_state=3, verbose=3)\n",
    "est.fit(W, D, Z, X, Y)"
   ]
  },
  {
   "cell_type": "code",
   "execution_count": null,
   "id": "17",
   "metadata": {
    "colab": {
     "base_uri": "https://localhost:8080/",
     "height": 615
    },
    "executionInfo": {
     "elapsed": 250,
     "status": "ok",
     "timestamp": 1725928700395,
     "user": {
      "displayName": "Vasilis Syrganis",
      "userId": "00968929417250286436"
     },
     "user_tz": 420
    },
    "id": "911cd658-57a5-4c30-9900-95770ded7f0b",
    "outputId": "4c763439-9b74-4f07-a831-7da78374b3c4"
   },
   "outputs": [],
   "source": [
    "est.summary(decimals=5)"
   ]
  },
  {
   "cell_type": "code",
   "execution_count": null,
   "id": "18",
   "metadata": {
    "colab": {
     "base_uri": "https://localhost:8080/",
     "height": 88
    },
    "executionInfo": {
     "elapsed": 6,
     "status": "ok",
     "timestamp": 1725927674697,
     "user": {
      "displayName": "Vasilis Syrganis",
      "userId": "00968929417250286436"
     },
     "user_tz": 420
    },
    "id": "WlKQ5gKeLx0A",
    "outputId": "e085c1d4-7ff4-4ef4-b305-df64573cb0f5"
   },
   "outputs": [],
   "source": [
    "# tests can also be accessed individually\n",
    "display(est.weakiv_test(alpha=0.05))\n",
    "display(est.idstrength_violation_test(alpha=0.05))\n",
    "display(est.primal_violation_test(alpha=0.05))\n",
    "display(est.dual_violation_test(alpha=0.05))"
   ]
  },
  {
   "cell_type": "markdown",
   "id": "19",
   "metadata": {
    "id": "b4bf6f73-c115-4f04-b1a1-4580df6494bf"
   },
   "source": [
    "#### Covariance Rank Diagnostic for Covariance of Proxies"
   ]
  },
  {
   "cell_type": "code",
   "execution_count": null,
   "id": "20",
   "metadata": {
    "id": "539c686f-e097-4e7f-aa49-c93cf1b35ec6"
   },
   "outputs": [],
   "source": [
    "svalues, svalues_crit = est.covariance_rank_test(calculate_critical=True)"
   ]
  },
  {
   "cell_type": "code",
   "execution_count": null,
   "id": "21",
   "metadata": {
    "colab": {
     "base_uri": "https://localhost:8080/",
     "height": 452
    },
    "executionInfo": {
     "elapsed": 223,
     "status": "ok",
     "timestamp": 1725835013485,
     "user": {
      "displayName": "Vasilis Syrganis",
      "userId": "00968929417250286436"
     },
     "user_tz": 420
    },
    "id": "481f517a-319c-4494-a9f9-82ba77db47b7",
    "outputId": "6c5afd6c-6c1c-47c7-fe4b-0bd684745a84"
   },
   "outputs": [],
   "source": [
    "plt.title(f\"Number of singular values above threshold: {np.sum(svalues >= svalues_crit)}. \"\n",
    "          f\"Threshold={svalues_crit:.3f}. Top singular value={svalues[0]:.3f}\")\n",
    "plt.scatter(np.arange(len(svalues)), svalues)\n",
    "plt.axhline(svalues_crit)\n",
    "plt.show()"
   ]
  },
  {
   "cell_type": "markdown",
   "id": "22",
   "metadata": {
    "id": "4a5c7948-4252-471b-a8ef-ebee20030797"
   },
   "source": [
    "#### Confidence Intervals and Robust Confidence Intervals"
   ]
  },
  {
   "cell_type": "code",
   "execution_count": null,
   "id": "23",
   "metadata": {
    "colab": {
     "base_uri": "https://localhost:8080/"
    },
    "executionInfo": {
     "elapsed": 177,
     "status": "ok",
     "timestamp": 1725302412430,
     "user": {
      "displayName": "Vasilis Syrganis",
      "userId": "00968929417250286436"
     },
     "user_tz": 420
    },
    "id": "3efdc8bf-2a67-472c-9bd2-03612fef1041",
    "outputId": "45864a1b-693b-4447-8e79-a088c7b4bbad"
   },
   "outputs": [],
   "source": [
    "est.conf_int(alpha=.05) # 95% confidence interval"
   ]
  },
  {
   "cell_type": "code",
   "execution_count": null,
   "id": "24",
   "metadata": {
    "colab": {
     "base_uri": "https://localhost:8080/"
    },
    "executionInfo": {
     "elapsed": 377,
     "status": "ok",
     "timestamp": 1725302412707,
     "user": {
      "displayName": "Vasilis Syrganis",
      "userId": "00968929417250286436"
     },
     "user_tz": 420
    },
    "id": "e0b1e98d-d4b0-42b2-9b08-c04c74a4d759",
    "outputId": "1e9f240e-f387-4841-d682-0a3dab915192"
   },
   "outputs": [],
   "source": [
    "# 95% confidence interval, robust to weak identification\n",
    "est.robust_conf_int(alpha=0.05, lb=.1, ub=1.0, ngrid=1000)"
   ]
  },
  {
   "cell_type": "markdown",
   "id": "25",
   "metadata": {
    "id": "bcda4ac4-ccea-41a0-a9b9-e54a2cf6d9f8"
   },
   "source": [
    "#### Unusual Data Diagnostics"
   ]
  },
  {
   "cell_type": "code",
   "execution_count": null,
   "id": "26",
   "metadata": {
    "id": "d566ecd4-2574-4f72-a5d2-c9d2e645ad5c"
   },
   "outputs": [],
   "source": [
    "diag = est.run_diagnostics()"
   ]
  },
  {
   "cell_type": "code",
   "execution_count": null,
   "id": "27",
   "metadata": {
    "colab": {
     "base_uri": "https://localhost:8080/"
    },
    "executionInfo": {
     "elapsed": 18,
     "status": "ok",
     "timestamp": 1725302413080,
     "user": {
      "displayName": "Vasilis Syrganis",
      "userId": "00968929417250286436"
     },
     "user_tz": 420
    },
    "id": "Qtle13yEbT5o",
    "outputId": "6b85040c-a41c-4538-d1b9-e1000e3c1645"
   },
   "outputs": [],
   "source": [
    "inds = est.influential_set(alpha=0.05)\n",
    "len(inds)  # size of influential set that can flip the result"
   ]
  },
  {
   "cell_type": "code",
   "execution_count": null,
   "id": "28",
   "metadata": {
    "colab": {
     "base_uri": "https://localhost:8080/",
     "height": 829
    },
    "executionInfo": {
     "elapsed": 119672,
     "status": "ok",
     "timestamp": 1725302532744,
     "user": {
      "displayName": "Vasilis Syrganis",
      "userId": "00968929417250286436"
     },
     "user_tz": 420
    },
    "id": "KHRAV2mgbYLO",
    "outputId": "054f6b4f-d6be-48aa-8607-b306e8f227e8"
   },
   "outputs": [],
   "source": [
    "from sklearn.base import clone\n",
    "# let's re-train a clone of the estimator on all the data\n",
    "# except the influential set\n",
    "est2 = clone(est)\n",
    "est2.fit(np.delete(W, inds, axis=0), np.delete(D, inds, axis=0),\n",
    "         np.delete(Z, inds, axis=0), np.delete(X, inds, axis=0),\n",
    "         np.delete(Y, inds, axis=0))\n",
    "est2.summary(alpha=0.05)"
   ]
  },
  {
   "cell_type": "code",
   "execution_count": null,
   "id": "29",
   "metadata": {
    "colab": {
     "base_uri": "https://localhost:8080/",
     "height": 430
    },
    "executionInfo": {
     "elapsed": 1023,
     "status": "ok",
     "timestamp": 1725302533764,
     "user": {
      "displayName": "Vasilis Syrganis",
      "userId": "00968929417250286436"
     },
     "user_tz": 420
    },
    "id": "96d68394-cc6e-49d9-8c90-29822f00b46e",
    "outputId": "bb6f60dc-0c63-48c7-f919-9bb749afec09"
   },
   "outputs": [],
   "source": [
    "diag.cookd_plot()\n",
    "plt.show()"
   ]
  },
  {
   "cell_type": "code",
   "execution_count": null,
   "id": "30",
   "metadata": {
    "colab": {
     "base_uri": "https://localhost:8080/",
     "height": 430
    },
    "executionInfo": {
     "elapsed": 7,
     "status": "ok",
     "timestamp": 1725302533764,
     "user": {
      "displayName": "Vasilis Syrganis",
      "userId": "00968929417250286436"
     },
     "user_tz": 420
    },
    "id": "fe0b6501-f2de-40ce-a527-e7613dcedc32",
    "outputId": "c74d6e0d-da24-4d2c-bdfd-b3628826761c"
   },
   "outputs": [],
   "source": [
    "diag.l2influence_plot()\n",
    "plt.show()"
   ]
  },
  {
   "cell_type": "code",
   "execution_count": null,
   "id": "31",
   "metadata": {
    "colab": {
     "base_uri": "https://localhost:8080/",
     "height": 480
    },
    "executionInfo": {
     "elapsed": 730,
     "status": "ok",
     "timestamp": 1725302534489,
     "user": {
      "displayName": "Vasilis Syrganis",
      "userId": "00968929417250286436"
     },
     "user_tz": 420
    },
    "id": "aa9a76a8-c1db-4cbd-8504-832030cd4da6",
    "outputId": "7cf670d7-08f2-4698-d2d6-42bf5129b641"
   },
   "outputs": [],
   "source": [
    "diag.influence_plot(influence_measure='cook', npoints=10)\n",
    "plt.show()"
   ]
  },
  {
   "cell_type": "code",
   "execution_count": null,
   "id": "32",
   "metadata": {
    "colab": {
     "base_uri": "https://localhost:8080/",
     "height": 494
    },
    "executionInfo": {
     "elapsed": 1638,
     "status": "ok",
     "timestamp": 1725302536121,
     "user": {
      "displayName": "Vasilis Syrganis",
      "userId": "00968929417250286436"
     },
     "user_tz": 420
    },
    "id": "c40cc148-0463-431e-b9e2-5fa8b877092a",
    "outputId": "874c50f8-722d-4a06-cbcb-2862160a97d4"
   },
   "outputs": [],
   "source": [
    "diag.influence_plot(influence_measure='l2influence', npoints=10)\n",
    "plt.show()"
   ]
  },
  {
   "cell_type": "markdown",
   "id": "33",
   "metadata": {
    "id": "2ca3adc1-ce7c-4a2b-b832-42ea1e0b60a3"
   },
   "source": [
    "### Subsample-Based Inference"
   ]
  },
  {
   "cell_type": "code",
   "execution_count": null,
   "id": "34",
   "metadata": {
    "colab": {
     "base_uri": "https://localhost:8080/",
     "height": 151
    },
    "executionInfo": {
     "elapsed": 5887,
     "status": "ok",
     "timestamp": 1725234999705,
     "user": {
      "displayName": "Vasilis Syrganis",
      "userId": "00968929417250286436"
     },
     "user_tz": 420
    },
    "id": "9340f9ef-7453-4108-9974-a06005f3fb50",
    "outputId": "56ca676c-bd56-49a9-d00d-ff257ab9a91d"
   },
   "outputs": [],
   "source": [
    "inf = est.bootstrap_inference(stage=3, n_subsamples=1000, fraction=0.5, replace=False, verbose=3, random_state=123)\n",
    "inf.summary()"
   ]
  },
  {
   "cell_type": "code",
   "execution_count": null,
   "id": "35",
   "metadata": {
    "colab": {
     "base_uri": "https://localhost:8080/",
     "height": 430
    },
    "executionInfo": {
     "elapsed": 4,
     "status": "ok",
     "timestamp": 1725234999705,
     "user": {
      "displayName": "Vasilis Syrganis",
      "userId": "00968929417250286436"
     },
     "user_tz": 420
    },
    "id": "7594f89f-47a6-47a5-910d-e2bba3d266c3",
    "outputId": "6d68f449-0f83-4fd4-99b4-84120a16f6f8"
   },
   "outputs": [],
   "source": [
    "plt.hist(inf.point_dist)\n",
    "plt.axvline(inf.point, color='r')\n",
    "plt.show()"
   ]
  },
  {
   "cell_type": "code",
   "execution_count": null,
   "id": "36",
   "metadata": {
    "colab": {
     "base_uri": "https://localhost:8080/",
     "height": 133
    },
    "executionInfo": {
     "elapsed": 76509,
     "status": "ok",
     "timestamp": 1725235076211,
     "user": {
      "displayName": "Vasilis Syrganis",
      "userId": "00968929417250286436"
     },
     "user_tz": 420
    },
    "id": "f3967537-e6e1-41f0-b26d-9647f6f3139d",
    "outputId": "88206567-3075-4ade-e8b9-5020ce00b5c9"
   },
   "outputs": [],
   "source": [
    "inf = est.bootstrap_inference(stage=2, n_subsamples=100, fraction=0.5, replace=False, verbose=3, random_state=123)\n",
    "inf.summary()"
   ]
  },
  {
   "cell_type": "code",
   "execution_count": null,
   "id": "37",
   "metadata": {
    "colab": {
     "base_uri": "https://localhost:8080/",
     "height": 430
    },
    "executionInfo": {
     "elapsed": 6,
     "status": "ok",
     "timestamp": 1725235076211,
     "user": {
      "displayName": "Vasilis Syrganis",
      "userId": "00968929417250286436"
     },
     "user_tz": 420
    },
    "id": "d86373a6-c7d6-4afe-a817-116996436819",
    "outputId": "528e9949-caa5-423a-b255-b366a9d53d8a"
   },
   "outputs": [],
   "source": [
    "plt.hist(inf.point_dist)\n",
    "plt.axvline(inf.point, color='r')\n",
    "plt.show()"
   ]
  },
  {
   "cell_type": "code",
   "execution_count": null,
   "id": "38",
   "metadata": {
    "id": "893a8afa-12eb-435c-9fdc-99c9e6527f53"
   },
   "outputs": [],
   "source": [
    "inf = est.bootstrap_inference(stage=1, n_subsamples=10, fraction=0.5, replace=False, verbose=3, random_state=123)\n",
    "inf.summary()"
   ]
  },
  {
   "cell_type": "code",
   "execution_count": null,
   "id": "39",
   "metadata": {
    "id": "d5bb8d5c-6014-4f02-9c6f-6300171839a4"
   },
   "outputs": [],
   "source": [
    "plt.hist(inf.point_dist)\n",
    "plt.vlines([inf.point], 0, 300, color='r')\n",
    "plt.show()"
   ]
  },
  {
   "cell_type": "code",
   "execution_count": null,
   "id": "40",
   "metadata": {
    "id": "c9d44d07-5132-45ee-8830-424cc215ee04"
   },
   "outputs": [],
   "source": [
    "inf.summary(pivot=True)"
   ]
  },
  {
   "cell_type": "markdown",
   "id": "41",
   "metadata": {
    "id": "a482021b-9c5b-4123-b20c-878b2940ee33"
   },
   "source": [
    "# Quality of Procedure and Diagnostics Across Many Experiments"
   ]
  },
  {
   "cell_type": "code",
   "execution_count": null,
   "id": "42",
   "metadata": {
    "id": "RBfYb0V9JCQh"
   },
   "outputs": [],
   "source": [
    "%load_ext autoreload\n",
    "%autoreload 2"
   ]
  },
  {
   "cell_type": "code",
   "execution_count": null,
   "id": "43",
   "metadata": {
    "id": "Yb7c-hsCJDuU"
   },
   "outputs": [],
   "source": [
    "import numpy as np\n",
    "import pandas as pd\n",
    "import matplotlib.pyplot as plt\n",
    "from joblib import Parallel, delayed\n",
    "from proximalde.gen_data import gen_data_complex, gen_data_no_controls, gen_data_no_controls_discrete_m\n",
    "from proximalde.proximal import ProximalDE"
   ]
  },
  {
   "cell_type": "code",
   "execution_count": null,
   "id": "44",
   "metadata": {
    "id": "kbCj0xisicEy"
   },
   "outputs": [],
   "source": [
    "def exp_res(it, n, pw, pm, pz, px, a, b, c, d, e, f, g, sm, *,\n",
    "            dual_type='Z', ivreg_type='adv', n_splits=3, semi=True,\n",
    "            multitask=False, n_jobs=-1, verbose=0):\n",
    "    np.random.seed(it)\n",
    "    if pm > 1:\n",
    "        full_rank = False\n",
    "        while not full_rank:\n",
    "            E = np.random.normal(0, 2, (pm, pz))\n",
    "            F = np.random.normal(0, 2, (pm, px))\n",
    "            if (np.linalg.matrix_rank(E, tol=0.5) == pm) and (np.linalg.matrix_rank(F, tol=0.5) == pm):\n",
    "                full_rank = True\n",
    "        W, D, _, Z, X, Y = gen_data_no_controls_discrete_m(n, pw, pz, px, a, b, c, d, e*E, f*F, g, pm=pm)\n",
    "        if pw == 0:\n",
    "            W = None\n",
    "    elif pw > 0:\n",
    "        # M is unobserved so we omit it from the return variables\n",
    "        W, D, _, Z, X, Y = gen_data_complex(n, pw, pz, px, a, b, c, d, e, f, g, sm=sm)\n",
    "    else:\n",
    "        _, D, _, Z, X, Y = gen_data_no_controls(n, pw, pz, px, a, b, c, d, e, f, g, sm=sm)\n",
    "        W = None\n",
    "\n",
    "    est = ProximalDE(cv=n_splits, semi=semi,\n",
    "                             dual_type=dual_type, ivreg_type=ivreg_type,\n",
    "                             multitask=multitask, n_jobs=n_jobs,\n",
    "                             random_state=it, verbose=verbose)\n",
    "    est.fit(W, D, Z, X, Y)\n",
    "    weakiv_stat, _, _, weakiv_crit = est.weakiv_test(alpha=0.05)\n",
    "    idstr, _, _, idstr_crit = est.idstrength_violation_test(alpha=0.05)\n",
    "    pval, _, _, pval_crit = est.primal_violation_test(alpha=0.05)\n",
    "    dval, _, _, dval_crit = est.dual_violation_test(alpha=0.05)\n",
    "    lb, ub = est.robust_conf_int(lb=-2, ub=2)\n",
    "    return est.point_, est.stderr_, est.r2D_, est.r2Z_, est.r2X_, est.r2Y_, \\\n",
    "        idstr, idstr_crit, est.point_pre_, est.stderr_pre_, \\\n",
    "        pval, pval_crit, dval, dval_crit, weakiv_stat, weakiv_crit, \\\n",
    "        lb, ub"
   ]
  },
  {
   "cell_type": "markdown",
   "id": "45",
   "metadata": {
    "id": "blGY8rsUPTvM"
   },
   "source": [
    "```\n",
    "a : strength of D -> M edge\n",
    "b : strength of M -> Y edge\n",
    "c : strength of D -> Y edge\n",
    "d : strength of D -> Z edge\n",
    "e : strength of M -> Z edge\n",
    "f : strength of M -> X edge\n",
    "g : strength of X -> Y edge\n",
    "```"
   ]
  },
  {
   "cell_type": "code",
   "execution_count": null,
   "id": "46",
   "metadata": {
    "colab": {
     "base_uri": "https://localhost:8080/"
    },
    "executionInfo": {
     "elapsed": 37015,
     "status": "ok",
     "timestamp": 1725810620726,
     "user": {
      "displayName": "Vasilis Syrganis",
      "userId": "00968929417250286436"
     },
     "user_tz": 420
    },
    "id": "049c9f10-c821-4b00-bcce-c850162c5c23",
    "outputId": "16a837f1-4b0a-4e58-a09f-f5958217a1e8"
   },
   "outputs": [],
   "source": [
    "a = 1.0  # a*b is the indirect effect through mediator\n",
    "b = 1.0\n",
    "c = .5  # this is the direct effect we want to estimate\n",
    "d = .5  # this can be zero; does not hurt\n",
    "e = .5  # if the product of e*f is small, then we have a weak instrument\n",
    "f = .5  # if the product of e*f is small, then we have a weak instrument\n",
    "g = .5  # this can be zero; does not hurt\n",
    "sm = 0.05  # strength of mediator noise; needs to be non-zero for identifiability; only used when pm=1.\n",
    "n = 50000\n",
    "pw = 0\n",
    "pm = 1\n",
    "pz, px = 100, 50\n",
    "\n",
    "results = Parallel(n_jobs=-1, verbose=3)(delayed(exp_res)(i, n, pw, pm, pz, px, a, b, c, d, e, f, g, sm,\n",
    "                                                          dual_type='Z', ivreg_type='adv',\n",
    "                                                          n_splits=3, semi=True, n_jobs=1)\n",
    "                                          for i in range(100))"
   ]
  },
  {
   "cell_type": "markdown",
   "id": "47",
   "metadata": {
    "id": "e936273a-0829-4c8b-bd86-e3fb929a296c"
   },
   "source": [
    "#### Summarize"
   ]
  },
  {
   "cell_type": "code",
   "execution_count": null,
   "id": "48",
   "metadata": {
    "colab": {
     "base_uri": "https://localhost:8080/"
    },
    "executionInfo": {
     "elapsed": 38,
     "status": "ok",
     "timestamp": 1725810620726,
     "user": {
      "displayName": "Vasilis Syrganis",
      "userId": "00968929417250286436"
     },
     "user_tz": 420
    },
    "id": "26cc2396-5f19-4ad5-8266-3a48a7b7c2bc",
    "outputId": "c61e3238-e4e5-46e4-923d-5bb4326aec36"
   },
   "outputs": [],
   "source": [
    "points_base, stderrs_base, rmseD, rmseZ, rmseX, rmseY, \\\n",
    "    idstr, idstr_crit, points_alt, stderrs_alt, \\\n",
    "    pval, pval_crit, dval, dval_crit, wiv_stat, wiv_crit, \\\n",
    "    rlb, rub = map(np.array, zip(*results))\n",
    "\n",
    "points_base = np.array(points_base)\n",
    "stderrs_base = np.array(stderrs_base)\n",
    "points_alt = np.array(points_alt)\n",
    "stderrs_alt = np.array(stderrs_alt)\n",
    "\n",
    "print(\"Estimation Quality\")\n",
    "for name, points, stderrs in [('Debiased', points_base, stderrs_base), ('Regularized', points_alt, stderrs_alt)]:\n",
    "    print(f\"\\n{name} Estimate\")\n",
    "    coverage = np.mean((points + 1.96 * stderrs >= c) & (points - 1.96 * stderrs <= c))\n",
    "    rmse = np.sqrt(np.mean((points - c)**2))\n",
    "    bias = np.abs(np.mean(points) - c)\n",
    "    std = np.std(points)\n",
    "    mean_stderr = np.mean(stderrs)\n",
    "    mean_length = np.mean(2 * 1.96 * stderrs)\n",
    "    median_length = np.median(2 * 1.96 * stderrs)\n",
    "    print(f\"Coverage: {coverage:.3f}\")\n",
    "    print(f\"RMSE: {rmse:.3f}\")\n",
    "    print(f\"Bias: {bias:.3f}\")\n",
    "    print(f\"Std: {std:.3f}\")\n",
    "    print(f\"Mean CI length: {mean_length:.3f}\")\n",
    "    print(f\"Median CI length: {mean_length:.3f}\")\n",
    "    print(f\"Mean Estimated Stderr: {mean_stderr:.3f}\")\n",
    "    print(f\"Nuisance R^2 (D, Z, X, Y): {np.mean(rmseD):.3f}, {np.mean(rmseZ):.3f}, {np.mean(rmseX):.3f}, {np.mean(rmseY):.3f}\")\n",
    "\n",
    "print(\"\\nRobust ConfInt Coverage\")\n",
    "rcoverage = np.mean((rub >= c) & (rlb <= c))\n",
    "print(f\"Robust Coverage: {rcoverage:.3f}\")\n",
    "\n",
    "print(\"\\nViolations\")\n",
    "for name, stat, crit in [('Id-Strenth', idstr, idstr_crit), ('WeakIV F-test', wiv_stat, wiv_crit)]:\n",
    "    violation = np.mean(stat <= crit)\n",
    "    print(f\"% Violations of {name}: {violation:.3f}\")\n",
    "for name, stat, crit in [('Primal Existence', pval, pval_crit), ('Dual Existence', dval, dval_crit)]:\n",
    "    violation = np.mean(stat >= crit)\n",
    "    print(f\"% Violations of {name}: {violation:.3f}\")"
   ]
  },
  {
   "cell_type": "code",
   "execution_count": null,
   "id": "49",
   "metadata": {
    "colab": {
     "base_uri": "https://localhost:8080/",
     "height": 468
    },
    "executionInfo": {
     "elapsed": 554,
     "status": "ok",
     "timestamp": 1725810621246,
     "user": {
      "displayName": "Vasilis Syrganis",
      "userId": "00968929417250286436"
     },
     "user_tz": 420
    },
    "id": "FpysCHFz6PC5",
    "outputId": "692df221-8431-4943-be03-1d5ac1db5cd4"
   },
   "outputs": [],
   "source": [
    "import scipy.stats\n",
    "plt.figure(figsize=(15, 5))\n",
    "plt.subplot(1, 2, 1)\n",
    "plt.title(f\"{np.mean(dval > scipy.stats.chi2(df=px).ppf(.95))} vs 0.05, {np.mean(dval, axis=0):.3f} vs {px}, {np.var(dval, axis=0):.3f} vs {2*px}\")\n",
    "plt.hist(dval)\n",
    "plt.axvline(scipy.stats.chi2(df=px).ppf(.95), color='r')\n",
    "plt.subplot(1, 2, 2)\n",
    "plt.title(f\"{np.mean(pval > scipy.stats.chi2(df=pz + 1).ppf(.95))} vs 0.05, \"\n",
    "          f\"{np.mean(pval, axis=0):.3f} vs {pz + 1}, {np.var(pval, axis=0):.3f} vs {2*(pz + 1)}\")\n",
    "plt.hist(pval)\n",
    "plt.axvline(scipy.stats.chi2(df=pz + 1).ppf(.95), color='r')\n",
    "plt.show()"
   ]
  },
  {
   "cell_type": "code",
   "execution_count": null,
   "id": "50",
   "metadata": {
    "colab": {
     "base_uri": "https://localhost:8080/",
     "height": 465
    },
    "executionInfo": {
     "elapsed": 31,
     "status": "ok",
     "timestamp": 1725810621247,
     "user": {
      "displayName": "Vasilis Syrganis",
      "userId": "00968929417250286436"
     },
     "user_tz": 420
    },
    "id": "oVh3Nb0W9SF1",
    "outputId": "3d08fef5-7640-415f-a155-e1992a64383d"
   },
   "outputs": [],
   "source": [
    "from statsmodels.graphics.gofplots import qqplot\n",
    "import scipy.stats\n",
    "plt.figure(figsize=(15, 5))\n",
    "ax = plt.subplot(1, 2, 1)\n",
    "qqplot(np.array(dval), dist=scipy.stats.chi2(df=px), line='45', ax=ax)\n",
    "ax = plt.subplot(1, 2, 2)\n",
    "qqplot(np.array(pval), dist=scipy.stats.chi2(df=pz+1), line='45', ax=ax)\n",
    "plt.show()"
   ]
  },
  {
   "cell_type": "code",
   "execution_count": null,
   "id": "51",
   "metadata": {
    "colab": {
     "base_uri": "https://localhost:8080/",
     "height": 468
    },
    "executionInfo": {
     "elapsed": 446,
     "status": "ok",
     "timestamp": 1725810621664,
     "user": {
      "displayName": "Vasilis Syrganis",
      "userId": "00968929417250286436"
     },
     "user_tz": 420
    },
    "id": "ac39fd4a-fd3e-48d5-8a33-f187bf955c9f",
    "outputId": "868561c7-2982-4b6f-c266-81d7fd2293aa"
   },
   "outputs": [],
   "source": [
    "import scipy.stats\n",
    "plt.figure(figsize=(15, 5))\n",
    "plt.subplot(1, 2, 1)\n",
    "plt.title(f\"{np.mean(idstr / idstr_crit > 1)} vs. 0.05, {np.mean(idstr / idstr_crit, axis=0):.3f}\")\n",
    "plt.hist(idstr)\n",
    "plt.axvline(np.mean(idstr_crit), color='r')\n",
    "plt.subplot(1, 2, 2)\n",
    "plt.title(f\"{np.mean(wiv_stat):.3f}, {np.mean(wiv_stat / wiv_crit, axis=0):.3f}\")\n",
    "plt.hist(wiv_stat)\n",
    "plt.axvline(np.mean(wiv_crit), color='r')\n",
    "plt.show()"
   ]
  },
  {
   "cell_type": "code",
   "execution_count": null,
   "id": "52",
   "metadata": {
    "colab": {
     "base_uri": "https://localhost:8080/",
     "height": 430
    },
    "executionInfo": {
     "elapsed": 32,
     "status": "ok",
     "timestamp": 1725810621665,
     "user": {
      "displayName": "Vasilis Syrganis",
      "userId": "00968929417250286436"
     },
     "user_tz": 420
    },
    "id": "8aa77e2c-305e-4638-a8cf-03a26062436c",
    "outputId": "97b9ef40-638b-443f-f029-547c9bd710c7"
   },
   "outputs": [],
   "source": [
    "plt.hist(points_base, label='Distribution of Estimates: debiased')\n",
    "plt.hist(points_alt, label='Distribution of Estimates: original', alpha=.3)\n",
    "plt.vlines([c], 0, plt.ylim()[1], color='red', label='truth')\n",
    "plt.legend()\n",
    "plt.show()"
   ]
  },
  {
   "cell_type": "markdown",
   "id": "53",
   "metadata": {
    "id": "M0Zp1JDoZBbi"
   },
   "source": [
    "# Mediations that Trigger Violations of Both Assumptions"
   ]
  },
  {
   "cell_type": "code",
   "execution_count": null,
   "id": "54",
   "metadata": {
    "colab": {
     "base_uri": "https://localhost:8080/"
    },
    "executionInfo": {
     "elapsed": 259,
     "status": "ok",
     "timestamp": 1725935425853,
     "user": {
      "displayName": "Vasilis Syrganis",
      "userId": "00968929417250286436"
     },
     "user_tz": 420
    },
    "id": "Ts2i4pRkZ87z",
    "outputId": "b36714c4-b128-4579-b4a0-cab4ce99ba96"
   },
   "outputs": [],
   "source": [
    "%load_ext autoreload\n",
    "%autoreload 2"
   ]
  },
  {
   "cell_type": "code",
   "execution_count": null,
   "id": "55",
   "metadata": {
    "executionInfo": {
     "elapsed": 3,
     "status": "ok",
     "timestamp": 1725935425853,
     "user": {
      "displayName": "Vasilis Syrganis",
      "userId": "00968929417250286436"
     },
     "user_tz": 420
    },
    "id": "Cr_1N_wdZ7yp"
   },
   "outputs": [],
   "source": [
    "import numpy as np\n",
    "import pandas as pd\n",
    "import matplotlib.pyplot as plt\n",
    "import scipy.stats\n",
    "from joblib import Parallel, delayed\n",
    "from proximalde.proximal import ProximalDE"
   ]
  },
  {
   "cell_type": "code",
   "execution_count": null,
   "id": "56",
   "metadata": {
    "executionInfo": {
     "elapsed": 207,
     "status": "ok",
     "timestamp": 1725935426398,
     "user": {
      "displayName": "Vasilis Syrganis",
      "userId": "00968929417250286436"
     },
     "user_tz": 420
    },
    "id": "a3r5qm3G92ek"
   },
   "outputs": [],
   "source": [
    "def gen_data_with_mediator_violations(n, pw, pz, px, a, b, c, d, e, f, g, *, sm=2, sz=1, sx=1, sy=1):\n",
    "    ''' Controls are generated but are irrelevant to the rest\n",
    "    of the data. We now also have mediation paths:\n",
    "        D -> Mp -> X\n",
    "        Z -> Mpp -> Y\n",
    "    Such paths violate the assumptions required for the method to work. The\n",
    "    mediator Mp can trigger a violation of the dual test, and the mediator Mpp\n",
    "    can trigger a violation of the primal test.\n",
    "\n",
    "    n: number of samples\n",
    "    pw: dimension of controls\n",
    "    pz: dimension of treatment proxies (\"instruments\")\n",
    "    px: dimension of outcome proxies (\"treatments\")\n",
    "    a : strength of D -> M edge\n",
    "    b : strength of M -> Y edge\n",
    "    c : strength of D -> Y edge\n",
    "    d : strength of D -> Z edge\n",
    "    e : strength of M -> Z edge\n",
    "    f : strength of M -> X edge\n",
    "    g : strength of X -> Y edge\n",
    "    '''\n",
    "    W = np.random.normal(0, 1, size=(n, pw))\n",
    "    D = np.random.binomial(1, .5 * np.ones(n,))\n",
    "    M = a * D + sm * np.random.normal(0, 1, (n,))\n",
    "    Mp = a * D + sm * np.random.normal(0, 1, (n,))\n",
    "\n",
    "    Z = np.zeros((n, pz))\n",
    "    Z = (e * M + d * D).reshape(-1, 1) + sz * np.random.normal(0, 1, (n, pz))\n",
    "\n",
    "    X = np.zeros((n, px))\n",
    "    X[:, 0] = f * M + sx * np.random.normal(0, 1, (n))\n",
    "    X[:, 1:] = f * Mp.reshape(-1, 1)\n",
    "\n",
    "    Mpp = Z[:, 0] + sm * np.random.normal(0, 1, (n,))\n",
    "    Y = b * M + b * Mpp + c * D + g * X[:, 0] + sy * np.random.normal(0, 1, n)\n",
    "    return W, D, M, Z, X, Y"
   ]
  },
  {
   "cell_type": "code",
   "execution_count": null,
   "id": "57",
   "metadata": {
    "executionInfo": {
     "elapsed": 4,
     "status": "ok",
     "timestamp": 1725935426665,
     "user": {
      "displayName": "Vasilis Syrganis",
      "userId": "00968929417250286436"
     },
     "user_tz": 420
    },
    "id": "fObwIvAzaKXy"
   },
   "outputs": [],
   "source": [
    "a = 1.0  # a*b is the indirect effect through mediator\n",
    "b = 1.0\n",
    "c = .5  # this is the direct effect we want to estimate\n",
    "d = .6  # this can be zero; does not hurt\n",
    "e = .7  # if the product of e*f is small, then we have a weak instrument\n",
    "f = .5  # if the product of e*f is small, then we have a weak instrument\n",
    "g = .9  # this can be zero; does not hurt\n",
    "\n",
    "n = 100000\n",
    "pw = 100\n",
    "pz, px = 2, 2"
   ]
  },
  {
   "cell_type": "code",
   "execution_count": null,
   "id": "58",
   "metadata": {
    "executionInfo": {
     "elapsed": 244,
     "status": "ok",
     "timestamp": 1725935427889,
     "user": {
      "displayName": "Vasilis Syrganis",
      "userId": "00968929417250286436"
     },
     "user_tz": 420
    },
    "id": "lv6zb4EKZgeC"
   },
   "outputs": [],
   "source": [
    "W, D, _, Z, X, Y = gen_data_with_mediator_violations(n, pw, pz, px, a, b, c, d, e, f, g)\n",
    "W = None"
   ]
  },
  {
   "cell_type": "code",
   "execution_count": null,
   "id": "59",
   "metadata": {
    "colab": {
     "base_uri": "https://localhost:8080/",
     "height": 615
    },
    "executionInfo": {
     "elapsed": 408,
     "status": "ok",
     "timestamp": 1725935428463,
     "user": {
      "displayName": "Vasilis Syrganis",
      "userId": "00968929417250286436"
     },
     "user_tz": 420
    },
    "id": "2mRCLSaQaN1g",
    "outputId": "a91100eb-2bd3-4ecd-c161-7dfc2ea444b3"
   },
   "outputs": [],
   "source": [
    "est = ProximalDE(cv=3, semi=True,\n",
    "                 multitask=False, n_jobs=-1, random_state=3, verbose=3)\n",
    "est.fit(W, D, Z, X, Y)\n",
    "est.summary()"
   ]
  },
  {
   "cell_type": "markdown",
   "id": "60",
   "metadata": {
    "id": "3FH5cxTvaSNn"
   },
   "source": [
    "## Explanation\n",
    "\n",
    "For the primal moment to hold, we essentially need that:\n",
    "\\begin{equation}\n",
    "\\text{Cov}(Y, DZ) \\in \\text{column-span}(\\text{Cov}(DZ, DX))\n",
    "\\end{equation}\n",
    "where $DZ, DX$ are the concatenation of $D$ with $Z$ and $X$ correspondingly. Roughly this should be satisfied if:\n",
    "\\begin{equation}\n",
    "\\text{Cov}(Y, Z) \\in \\text{column-span}(\\text{Cov}(Z, X))\n",
    "\\end{equation}\n",
    "\n",
    "\n",
    "For the dual moment to hold, we essentially need that:\n",
    "\\begin{equation}\n",
    "\\text{Cov}(D, X) \\in \\text{column-span}(\\text{Cov}(X, Z)) = \\text{row-span}(\\text{Cov}(Z, X))\n",
    "\\end{equation}\n",
    "\n",
    "Let's verify that this is indeed not the case"
   ]
  },
  {
   "cell_type": "code",
   "execution_count": null,
   "id": "61",
   "metadata": {
    "executionInfo": {
     "elapsed": 347,
     "status": "ok",
     "timestamp": 1725935430102,
     "user": {
      "displayName": "Vasilis Syrganis",
      "userId": "00968929417250286436"
     },
     "user_tz": 420
    },
    "id": "FoJIsFrvZjek"
   },
   "outputs": [],
   "source": [
    "Z = Z - np.mean(Z, axis=0)\n",
    "X = X - np.mean(X, axis=0)\n",
    "D = D - np.mean(D, axis=0)\n",
    "Y = Y - np.mean(Y, axis=0)\n",
    "D = D.reshape(-1, 1)\n",
    "Y = Y.reshape(-1, 1)"
   ]
  },
  {
   "cell_type": "markdown",
   "id": "62",
   "metadata": {
    "id": "cWBVt96YbEiH"
   },
   "source": [
    "Let's calculate the three relevant covariances:"
   ]
  },
  {
   "cell_type": "code",
   "execution_count": null,
   "id": "63",
   "metadata": {
    "executionInfo": {
     "elapsed": 175,
     "status": "ok",
     "timestamp": 1725935431161,
     "user": {
      "displayName": "Vasilis Syrganis",
      "userId": "00968929417250286436"
     },
     "user_tz": 420
    },
    "id": "lPoi2F90ZoZu"
   },
   "outputs": [],
   "source": [
    "CovZX = Z.T @ X / n\n",
    "CovXD = X.T @ D / n\n",
    "CovYZ = Z.T @ Y / n"
   ]
  },
  {
   "cell_type": "markdown",
   "id": "64",
   "metadata": {
    "id": "vIZnkfFdbOBi"
   },
   "source": [
    "Let's investigate the condition for the existence of the dual, so we need $Cov(X,D)$ to be in the row span of $Cov(Z,X)$, equivalently, column span of $Cov(X, Z)$. We perform a singular value decomposition and take only the significant non-zero eigenvalues. This can be done by using the critical value computed by the \"covariance_rank_test\""
   ]
  },
  {
   "cell_type": "code",
   "execution_count": null,
   "id": "65",
   "metadata": {
    "colab": {
     "base_uri": "https://localhost:8080/"
    },
    "executionInfo": {
     "elapsed": 304,
     "status": "ok",
     "timestamp": 1725935432294,
     "user": {
      "displayName": "Vasilis Syrganis",
      "userId": "00968929417250286436"
     },
     "user_tz": 420
    },
    "id": "1jLVEcjSbsM_",
    "outputId": "775d69b9-db11-41d0-f456-5c77710d6433"
   },
   "outputs": [],
   "source": [
    "_, Scrit = est.covariance_rank_test(calculate_critical=True)\n",
    "Scrit"
   ]
  },
  {
   "cell_type": "code",
   "execution_count": null,
   "id": "66",
   "metadata": {
    "executionInfo": {
     "elapsed": 217,
     "status": "ok",
     "timestamp": 1725935434000,
     "user": {
      "displayName": "Vasilis Syrganis",
      "userId": "00968929417250286436"
     },
     "user_tz": 420
    },
    "id": "nIsX8XmNZw4v"
   },
   "outputs": [],
   "source": [
    "U, S, Vh = np.linalg.svd(CovZX, full_matrices=False)"
   ]
  },
  {
   "cell_type": "code",
   "execution_count": null,
   "id": "67",
   "metadata": {
    "colab": {
     "base_uri": "https://localhost:8080/"
    },
    "executionInfo": {
     "elapsed": 196,
     "status": "ok",
     "timestamp": 1725935451632,
     "user": {
      "displayName": "Vasilis Syrganis",
      "userId": "00968929417250286436"
     },
     "user_tz": 420
    },
    "id": "9AHaG6jWbvaN",
    "outputId": "8b3ee940-9b8b-439d-aa37-3cee4a6171c9"
   },
   "outputs": [],
   "source": [
    "# row span of CovZX, with stat-sig non-zero singular values, vs CovXD\n",
    "print(\"Basis of row span of CovZX:\\n\", Vh[:, S > Scrit], \"\\n\",\n",
    "      \"Vector CovXD:\\n\", CovXD)"
   ]
  },
  {
   "cell_type": "markdown",
   "id": "68",
   "metadata": {
    "id": "lzvD9gE6cjgJ"
   },
   "source": [
    "We see that $CovXD\\approx (0.12, 0.12)$, while the row span of CovZX is the subspace spanned by approximately the single vector $(-1, 0)$, i.e. multiples of this single vector. So obviously, the first vector is not in that subspace.\n",
    "\n",
    "---\n",
    "\n"
   ]
  },
  {
   "cell_type": "markdown",
   "id": "69",
   "metadata": {
    "id": "pTr0iPt6c70t"
   },
   "source": [
    "Let's examine the primal existence:"
   ]
  },
  {
   "cell_type": "code",
   "execution_count": null,
   "id": "70",
   "metadata": {
    "colab": {
     "base_uri": "https://localhost:8080/"
    },
    "executionInfo": {
     "elapsed": 344,
     "status": "ok",
     "timestamp": 1725935504185,
     "user": {
      "displayName": "Vasilis Syrganis",
      "userId": "00968929417250286436"
     },
     "user_tz": 420
    },
    "id": "9jIOSovrcKty",
    "outputId": "f72039ff-a4c1-494c-f27e-42f93df26093"
   },
   "outputs": [],
   "source": [
    "# column span of CovZX, with stat-sig non-zero singular values, vs CovXD\n",
    "print(\"Basis of column span of CovZX:\\n\", U[:, S > Scrit], \"\\n\",\n",
    "      \"Vector CovYZ:\\n\", CovYZ)"
   ]
  },
  {
   "cell_type": "markdown",
   "id": "71",
   "metadata": {
    "id": "hd9iZywudNhQ"
   },
   "source": [
    "We see that $CovYZ\\approx (8, 7)$, while the column span of CovZX is the subspace spanned by the single vector $(-.7, -.7)$, i.e. multiples of this single vector. So obviously, the first vector is not in that subspace.\n",
    "\n"
   ]
  },
  {
   "cell_type": "markdown",
   "id": "72",
   "metadata": {
    "id": "VK9mJbE-fNsu"
   },
   "source": [
    "# Semi-Synthetic Data Generation (in-progress)\n",
    "\n"
   ]
  },
  {
   "cell_type": "code",
   "execution_count": null,
   "id": "73",
   "metadata": {
    "colab": {
     "base_uri": "https://localhost:8080/"
    },
    "executionInfo": {
     "elapsed": 187,
     "status": "ok",
     "timestamp": 1725935506591,
     "user": {
      "displayName": "Vasilis Syrganis",
      "userId": "00968929417250286436"
     },
     "user_tz": 420
    },
    "id": "hJUqcqoufNs3",
    "outputId": "540087a7-3c6d-4a7b-93b6-3bd0a74c2032"
   },
   "outputs": [],
   "source": [
    "%load_ext autoreload\n",
    "%autoreload 2"
   ]
  },
  {
   "cell_type": "code",
   "execution_count": null,
   "id": "74",
   "metadata": {
    "executionInfo": {
     "elapsed": 3,
     "status": "ok",
     "timestamp": 1725935507189,
     "user": {
      "displayName": "Vasilis Syrganis",
      "userId": "00968929417250286436"
     },
     "user_tz": 420
    },
    "id": "fxF9peCrfNs3"
   },
   "outputs": [],
   "source": [
    "import numpy as np\n",
    "import pandas as pd\n",
    "import matplotlib.pyplot as plt\n",
    "import scipy.stats\n",
    "from joblib import Parallel, delayed\n",
    "from proximalde.proximal import ProximalDE, residualizeW"
   ]
  },
  {
   "cell_type": "markdown",
   "id": "75",
   "metadata": {
    "id": "aXezYVsxfhIQ"
   },
   "source": [
    "Suppose we are given some real-world dataset $(W, D, Z, X, Y)$"
   ]
  },
  {
   "cell_type": "code",
   "execution_count": null,
   "id": "76",
   "metadata": {
    "executionInfo": {
     "elapsed": 236,
     "status": "ok",
     "timestamp": 1725935508973,
     "user": {
      "displayName": "Vasilis Syrganis",
      "userId": "00968929417250286436"
     },
     "user_tz": 420
    },
    "id": "PJtuAGHtfNs4"
   },
   "outputs": [],
   "source": [
    "def gen_data_with_mediator_violations(n, pw, pz, px, a, b, c, d, e, f, g, *, sm=2, sz=1, sx=1, sy=1):\n",
    "    ''' Controls are generated but are irrelevant to the rest\n",
    "    of the data. We now also have mediation paths:\n",
    "        D -> Mp -> X\n",
    "        Z -> Mpp -> Y\n",
    "    Such paths violate the assumptions required for the method to work. The\n",
    "    mediator Mp can trigger a violation of the dual test, and the mediator Mpp\n",
    "    can trigger a violation of the primal test.\n",
    "\n",
    "    n: number of samples\n",
    "    pw: dimension of controls\n",
    "    pz: dimension of treatment proxies (\"instruments\")\n",
    "    px: dimension of outcome proxies (\"treatments\")\n",
    "    a : strength of D -> M edge\n",
    "    b : strength of M -> Y edge\n",
    "    c : strength of D -> Y edge\n",
    "    d : strength of D -> Z edge\n",
    "    e : strength of M -> Z edge\n",
    "    f : strength of M -> X edge\n",
    "    g : strength of X -> Y edge\n",
    "    '''\n",
    "    W = np.random.normal(0, 1, size=(n, pw))\n",
    "    D = np.random.binomial(1, .5 * np.ones(n,))\n",
    "    M = a * D + sm * np.random.normal(0, 1, (n,))\n",
    "    Mp = a * D + sm * np.random.normal(0, 1, (n,))\n",
    "\n",
    "    Z = np.zeros((n, pz))\n",
    "    Z = (e * M + d * D).reshape(-1, 1) + sz * np.random.normal(0, 1, (n, pz))\n",
    "\n",
    "    X = np.zeros((n, px))\n",
    "    X[:, 0] = f * M + sx * np.random.normal(0, 1, (n))\n",
    "    X[:, 1:] = f * Mp.reshape(-1, 1)\n",
    "\n",
    "    Mpp = Z[:, 0] + sm * np.random.normal(0, 1, (n,))\n",
    "    Y = b * M + b * Mpp + c * D + g * X[:, 0] + sy * np.random.normal(0, 1, n)\n",
    "    return W, D, M, Z, X, Y"
   ]
  },
  {
   "cell_type": "code",
   "execution_count": null,
   "id": "77",
   "metadata": {
    "executionInfo": {
     "elapsed": 211,
     "status": "ok",
     "timestamp": 1725935510367,
     "user": {
      "displayName": "Vasilis Syrganis",
      "userId": "00968929417250286436"
     },
     "user_tz": 420
    },
    "id": "MIpvQby9fNs4"
   },
   "outputs": [],
   "source": [
    "a = 1.0  # a*b is the indirect effect through mediator\n",
    "b = 1.0\n",
    "c = .5  # this is the direct effect we want to estimate\n",
    "d = .6  # this can be zero; does not hurt\n",
    "e = .7  # if the product of e*f is small, then we have a weak instrument\n",
    "f = .5  # if the product of e*f is small, then we have a weak instrument\n",
    "g = .9  # this can be zero; does not hurt\n",
    "\n",
    "n = 100000\n",
    "pw = 100\n",
    "pz, px = 10, 5"
   ]
  },
  {
   "cell_type": "code",
   "execution_count": null,
   "id": "78",
   "metadata": {
    "executionInfo": {
     "elapsed": 551,
     "status": "ok",
     "timestamp": 1725935512300,
     "user": {
      "displayName": "Vasilis Syrganis",
      "userId": "00968929417250286436"
     },
     "user_tz": 420
    },
    "id": "CMHwvUYkfNs4"
   },
   "outputs": [],
   "source": [
    "np.random.seed(1234)\n",
    "W, D, _, Z, X, Y = gen_data_with_mediator_violations(n, pw, pz, px, a, b, c, d, e, f, g)\n",
    "W = None"
   ]
  },
  {
   "cell_type": "code",
   "execution_count": null,
   "id": "79",
   "metadata": {
    "colab": {
     "base_uri": "https://localhost:8080/",
     "height": 615
    },
    "executionInfo": {
     "elapsed": 641,
     "status": "ok",
     "timestamp": 1725935513469,
     "user": {
      "displayName": "Vasilis Syrganis",
      "userId": "00968929417250286436"
     },
     "user_tz": 420
    },
    "id": "9_LP_IZnjkFY",
    "outputId": "44bd6665-461f-4640-8db1-4869839019d0"
   },
   "outputs": [],
   "source": [
    "# as we said this dgp violates the assumptions so the test will fail\n",
    "est = ProximalDE(cv=3, semi=True,\n",
    "                 multitask=False, n_jobs=-1, random_state=3, verbose=3)\n",
    "est.fit(W, D, Z, X, Y)\n",
    "est.summary()"
   ]
  },
  {
   "cell_type": "markdown",
   "id": "80",
   "metadata": {
    "id": "InB0JdLSf1p6"
   },
   "source": [
    "## Semi-Synthetic Generation Process\n",
    "We will create a semi-synthetic DGP as follows. We first find the top component of the covariance of $(Z - E[Z|W], X - E[X|W])$, by running a singular value decomposition.\n",
    "\n",
    "We then have a direction $u_z$ and a direction $v_x$ that is associated with this principal component. We will assume that the mediator basically alters $Z$ and $X$ along this top component.\n",
    "\n",
    "So if the value of the mediator is $\\tilde{M}$, then we set:\n",
    "\\begin{equation}\n",
    "\\tilde{Z} = Z + \\tilde{M} \\cdot u_z\\\\\n",
    "\\tilde{X} = X + \\tilde{M} \\cdot v_x\n",
    "\\end{equation}\n",
    "for each sample in the original dataset. Now we have samples of $X, Z$ whose principal component is moderated by $M$.\n",
    "\n",
    "Moreover, we generate the mediator as follows. We learn a propensity model $E[D|W]$ and we generate a treatment $D$ by sampling from the propensity. Then we  set the value of the mediator to be:\n",
    "\\begin{equation}\n",
    "\\tilde{M} = f_M(D, \\epsilon_M)\n",
    "\\end{equation}\n",
    "so that the mediator is affected by the treatment. Then we also impute outcomes:\n",
    "\\begin{equation}\n",
    "\\tilde{Y} = f_Y(\\tilde{M}, D, \\tilde{X}, \\epsilon_Y)\n",
    "\\end{equation}\n",
    "The reason why we want to resample D is to break any violating mediation paths $D->Mp->X$ that might exist in the original data, which would create a failure in this new dataset, if we didn't resample the treatment. We could try not resampling the treatment. If then we get a failure of the dual violation, then this hints at an auxiliary violating mediation path $D->Mp->X$.\n",
    "\n",
    "Now for every sample $(W, D, Z, X, Y)$ in the original dataset, we now have a sample $(W, \\tilde{D}, \\tilde{Z}, \\tilde{X}, \\tilde{Y})$, where $W$ is real, $\\tilde{D}$ is sampled from the estimated propensity, given $W$, and $\\tilde{Z}, \\tilde{X}$ are slight modifications of the real $X,Z$ along only a particular direction and $\\tilde{Y}$ is fully synthetic.\n",
    "\n",
    "\n",
    "For simplicity, we will first choose linear structural functions $f_M$ and $f_Y$:\n",
    "\\begin{align}\n",
    "f_M(D, \\epsilon_M) =& a \\cdot D + N(0, \\sigma_m^2)\\\\\n",
    "f_Y(M, D, X, \\epsilon_Y) =& b M + c D + g X[:, 0] + N(0, \\sigma_y^2)\n",
    "\\end{align}\n",
    "\n"
   ]
  },
  {
   "cell_type": "code",
   "execution_count": null,
   "id": "81",
   "metadata": {
    "executionInfo": {
     "elapsed": 2,
     "status": "ok",
     "timestamp": 1725935514634,
     "user": {
      "displayName": "Vasilis Syrganis",
      "userId": "00968929417250286436"
     },
     "user_tz": 420
    },
    "id": "6kXx7njPj17b"
   },
   "outputs": [],
   "source": [
    "sm = 2.0\n",
    "sy = 1.0"
   ]
  },
  {
   "cell_type": "code",
   "execution_count": null,
   "id": "82",
   "metadata": {
    "executionInfo": {
     "elapsed": 2,
     "status": "ok",
     "timestamp": 1725935515098,
     "user": {
      "displayName": "Vasilis Syrganis",
      "userId": "00968929417250286436"
     },
     "user_tz": 420
    },
    "id": "JkzbuDTmfchE"
   },
   "outputs": [],
   "source": [
    "Dres, Zres, Xres, Yres, *_ = residualizeW(W, D, Z, X, Y, semi=True)"
   ]
  },
  {
   "cell_type": "code",
   "execution_count": null,
   "id": "83",
   "metadata": {
    "colab": {
     "base_uri": "https://localhost:8080/"
    },
    "executionInfo": {
     "elapsed": 364,
     "status": "ok",
     "timestamp": 1725935517600,
     "user": {
      "displayName": "Vasilis Syrganis",
      "userId": "00968929417250286436"
     },
     "user_tz": 420
    },
    "id": "lkz9mLeWiz-X",
    "outputId": "16b8888e-ebb9-4bdb-fc9a-ba490d5eaadf"
   },
   "outputs": [],
   "source": [
    "# The original covariance is U @ diag(S) @ Vh.T\n",
    "U, S, Vh = np.linalg.svd(Zres.T @ Xres / n, full_matrices=False)\n",
    "# so the columnns of U are the column eigenvectors and the columns of Vh are the\n",
    "# row eigenvectors. Hence, uz = U[:, 0] and vx = Vh[:, 0]\n",
    "U[:, 0], S[0], Vh[:, 0]"
   ]
  },
  {
   "cell_type": "code",
   "execution_count": null,
   "id": "84",
   "metadata": {
    "executionInfo": {
     "elapsed": 210,
     "status": "ok",
     "timestamp": 1725935520030,
     "user": {
      "displayName": "Vasilis Syrganis",
      "userId": "00968929417250286436"
     },
     "user_tz": 420
    },
    "id": "IQsUGZYTjM7T"
   },
   "outputs": [],
   "source": [
    "np.random.seed(1234)\n",
    "# first let's not resample the treatment\n",
    "Mtilde = a * D.flatten() + sm * np.random.normal(0, 1, (n,))\n",
    "Ztilde = Z + Mtilde.reshape(-1, 1) * U[:, 0].reshape(1, -1)\n",
    "Xtilde = X + Mtilde.reshape(-1, 1) * Vh[:, 0].reshape(1, -1)\n",
    "Ytilde = b * Mtilde + c * D + g * Xtilde[:, 0] + sy * np.random.normal(0, 1, (n,))"
   ]
  },
  {
   "cell_type": "code",
   "execution_count": null,
   "id": "85",
   "metadata": {
    "colab": {
     "base_uri": "https://localhost:8080/",
     "height": 615
    },
    "executionInfo": {
     "elapsed": 365,
     "status": "ok",
     "timestamp": 1725935521231,
     "user": {
      "displayName": "Vasilis Syrganis",
      "userId": "00968929417250286436"
     },
     "user_tz": 420
    },
    "id": "3-MUEExQfNs4",
    "outputId": "fc530eb7-4bf0-471b-918e-422cf47d0a11"
   },
   "outputs": [],
   "source": [
    "# we find that the dual violation still exists, causing a slight bias (the true\n",
    "# value we should recover is c)\n",
    "est = ProximalDE(cv=3, semi=True,\n",
    "                 multitask=False, n_jobs=-1, random_state=3, verbose=3)\n",
    "est.fit(W, D, Ztilde, Xtilde, Ytilde)\n",
    "est.summary()"
   ]
  },
  {
   "cell_type": "code",
   "execution_count": null,
   "id": "86",
   "metadata": {
    "colab": {
     "base_uri": "https://localhost:8080/",
     "height": 615
    },
    "executionInfo": {
     "elapsed": 894,
     "status": "ok",
     "timestamp": 1725935523841,
     "user": {
      "displayName": "Vasilis Syrganis",
      "userId": "00968929417250286436"
     },
     "user_tz": 420
    },
    "id": "J8M_Gec8rJ4D",
    "outputId": "8ca43644-eb45-4761-8f19-de71a1e796c7"
   },
   "outputs": [],
   "source": [
    "np.random.seed(124)\n",
    "# now let's resample the treatment\n",
    "propensity = D.flatten() - Dres.flatten()\n",
    "Dtilde = np.random.binomial(1, propensity)\n",
    "Mtilde = a * Dtilde.flatten() + sm * np.random.normal(0, 1, (n,))\n",
    "Ztilde = Z + 3 * S[0] * Mtilde.reshape(-1, 1) * U[:, 0].reshape(1, -1)\n",
    "Xtilde = X + 3 * S[0] * Mtilde.reshape(-1, 1) * Vh[:, 0].reshape(1, -1)\n",
    "Ytilde = b * Mtilde + c * Dtilde + g * Xtilde[:, 0] + sy * np.random.normal(0, 1, (n,))\n",
    "\n",
    "# we find that the dual violation still exists, causing a slight bias (the true\n",
    "# value we should recover is c)\n",
    "est = ProximalDE(cv=3, semi=True,\n",
    "                 multitask=False, n_jobs=-1, random_state=3, verbose=3)\n",
    "est.fit(W, Dtilde, Ztilde, Xtilde, Ytilde)\n",
    "est.summary()"
   ]
  },
  {
   "cell_type": "code",
   "execution_count": null,
   "id": "87",
   "metadata": {
    "executionInfo": {
     "elapsed": 235,
     "status": "ok",
     "timestamp": 1725935526513,
     "user": {
      "displayName": "Vasilis Syrganis",
      "userId": "00968929417250286436"
     },
     "user_tz": 420
    },
    "id": "SWWPlnV4mxIk"
   },
   "outputs": [],
   "source": [
    "def gen_semisynth_data(a, b, c, e, f, g, *, sm=2.0, sy=1.0):\n",
    "    # now let's resample the treatment\n",
    "    propensity = D.flatten() - Dres.flatten()\n",
    "    Dtilde = np.random.binomial(1, propensity)\n",
    "    Mtilde = a * Dtilde.flatten() + sm * np.random.normal(0, 1, (n,))\n",
    "    Ztilde = Z + e * S[0] * Mtilde.reshape(-1, 1) * U[:, 0].reshape(1, -1)\n",
    "    Xtilde = X + f * S[0] * Mtilde.reshape(-1, 1) * Vh[:, 0].reshape(1, -1)\n",
    "    Ytilde = b * Mtilde + c * Dtilde + g * Xtilde[:, 0] + sy * np.random.normal(0, 1, (n,))\n",
    "    return W, Dtilde, Mtilde, Ztilde, Xtilde, Ytilde\n",
    "\n",
    "\n",
    "def exp_res(it, a, b, c, e, f, g, *, sm=2.0, sy=1.0,\n",
    "            dual_type='Z', ivreg_type='adv', n_splits=3, semi=True,\n",
    "            multitask=False, n_jobs=-1, verbose=0):\n",
    "    np.random.seed(it)\n",
    "\n",
    "    # M is unobserved so we omit it from the return variables\n",
    "    W, D, _, Z, X, Y = gen_semisynth_data(a, b, c, e, f, g, sm=sm, sy=sy)\n",
    "\n",
    "    est = ProximalDE(cv=n_splits, semi=semi,\n",
    "                     dual_type=dual_type, ivreg_type=ivreg_type,\n",
    "                     multitask=multitask, n_jobs=n_jobs,\n",
    "                     random_state=it, verbose=verbose)\n",
    "    est.fit(W, D, Z, X, Y)\n",
    "    weakiv_stat, _, _, weakiv_crit = est.weakiv_test(alpha=0.05)\n",
    "    idstr, _, _, idstr_crit = est.idstrength_violation_test(alpha=0.05)\n",
    "    pval, _, _, pval_crit = est.primal_violation_test(alpha=0.05)\n",
    "    dval, _, _, dval_crit = est.dual_violation_test(alpha=0.05)\n",
    "    lb, ub = est.robust_conf_int(lb=-2, ub=2)\n",
    "    return est.point_, est.stderr_, est.r2D_, est.r2Z_, est.r2X_, est.r2Y_, \\\n",
    "        idstr, idstr_crit, est.point_pre_, est.stderr_pre_, \\\n",
    "        pval, pval_crit, dval, dval_crit, weakiv_stat, weakiv_crit, \\\n",
    "        lb, ub"
   ]
  },
  {
   "cell_type": "code",
   "execution_count": null,
   "id": "88",
   "metadata": {
    "colab": {
     "base_uri": "https://localhost:8080/",
     "height": 615
    },
    "executionInfo": {
     "elapsed": 888,
     "status": "ok",
     "timestamp": 1725934958958,
     "user": {
      "displayName": "Vasilis Syrganis",
      "userId": "00968929417250286436"
     },
     "user_tz": 420
    },
    "id": "I1zkSOthnB1R",
    "outputId": "052a1f97-7c74-4ecc-e61b-3f57b6cd3523"
   },
   "outputs": [],
   "source": [
    "# we find that the dual violation still exists, causing a slight bias (the true\n",
    "# value we should recover is c)\n",
    "est = ProximalDE(cv=3, semi=True,\n",
    "                 multitask=False, n_jobs=-1, random_state=3, verbose=3)\n",
    "est.fit(W, Dtilde, Ztilde, Xtilde, Ytilde)\n",
    "est.summary()"
   ]
  },
  {
   "cell_type": "markdown",
   "id": "89",
   "metadata": {
    "id": "0T59GiuafNs4"
   },
   "source": [
    "## Explanation\n",
    "\n",
    "For the primal moment to hold, we essentially need that:\n",
    "\\begin{equation}\n",
    "\\text{Cov}(Y, DZ) \\in \\text{column-span}(\\text{Cov}(DZ, DX))\n",
    "\\end{equation}\n",
    "where $DZ, DX$ are the concatenation of $D$ with $Z$ and $X$ correspondingly. Roughly this should be satisfied if:\n",
    "\\begin{equation}\n",
    "\\text{Cov}(Y, Z) \\in \\text{column-span}(\\text{Cov}(Z, X))\n",
    "\\end{equation}\n",
    "\n",
    "\n",
    "For the dual moment to hold, we essentially need that:\n",
    "\\begin{equation}\n",
    "\\text{Cov}(D, X) \\in \\text{column-span}(\\text{Cov}(X, Z)) = \\text{row-span}(\\text{Cov}(Z, X))\n",
    "\\end{equation}\n",
    "\n",
    "Let's verify that this is indeed not the case"
   ]
  },
  {
   "cell_type": "code",
   "execution_count": null,
   "id": "90",
   "metadata": {
    "executionInfo": {
     "elapsed": 276,
     "status": "ok",
     "timestamp": 1725935541028,
     "user": {
      "displayName": "Vasilis Syrganis",
      "userId": "00968929417250286436"
     },
     "user_tz": 420
    },
    "id": "-83TynakfNs4"
   },
   "outputs": [],
   "source": [
    "Ztilde = Ztilde - np.mean(Ztilde, axis=0)\n",
    "Xtilde = Xtilde - np.mean(Xtilde, axis=0)\n",
    "Dtilde = Dtilde - np.mean(Dtilde, axis=0)\n",
    "Ytilde = Ytilde - np.mean(Ytilde, axis=0)\n",
    "Dtilde = Dtilde.reshape(-1, 1)\n",
    "Ytilde = Ytilde.reshape(-1, 1)"
   ]
  },
  {
   "cell_type": "markdown",
   "id": "91",
   "metadata": {
    "id": "JdRkEmDwfNs5"
   },
   "source": [
    "Let's calculate the three relevant covariances:"
   ]
  },
  {
   "cell_type": "code",
   "execution_count": null,
   "id": "92",
   "metadata": {
    "executionInfo": {
     "elapsed": 550,
     "status": "ok",
     "timestamp": 1725935542358,
     "user": {
      "displayName": "Vasilis Syrganis",
      "userId": "00968929417250286436"
     },
     "user_tz": 420
    },
    "id": "RMHxTrI0fNs5"
   },
   "outputs": [],
   "source": [
    "CovZX = Ztilde.T @ Xtilde / n\n",
    "CovXD = Xtilde.T @ Dtilde / n\n",
    "CovYZ = Ztilde.T @ Ytilde / n"
   ]
  },
  {
   "cell_type": "code",
   "execution_count": null,
   "id": "93",
   "metadata": {
    "colab": {
     "base_uri": "https://localhost:8080/"
    },
    "executionInfo": {
     "elapsed": 3,
     "status": "ok",
     "timestamp": 1725934961492,
     "user": {
      "displayName": "Vasilis Syrganis",
      "userId": "00968929417250286436"
     },
     "user_tz": 420
    },
    "id": "iUTzruvTfNs5",
    "outputId": "fb04ca0f-70a7-471e-cc04-7ab6e8e26b32"
   },
   "outputs": [],
   "source": [
    "_, Scrit = est.covariance_rank_test(calculate_critical=True)\n",
    "Scrit"
   ]
  },
  {
   "cell_type": "code",
   "execution_count": null,
   "id": "94",
   "metadata": {
    "executionInfo": {
     "elapsed": 2,
     "status": "ok",
     "timestamp": 1725934961492,
     "user": {
      "displayName": "Vasilis Syrganis",
      "userId": "00968929417250286436"
     },
     "user_tz": 420
    },
    "id": "WI7lF0LNfNs5"
   },
   "outputs": [],
   "source": [
    "U, S, Vh = np.linalg.svd(CovZX, full_matrices=False)"
   ]
  },
  {
   "cell_type": "code",
   "execution_count": null,
   "id": "95",
   "metadata": {
    "colab": {
     "base_uri": "https://localhost:8080/"
    },
    "executionInfo": {
     "elapsed": 3,
     "status": "ok",
     "timestamp": 1725934961797,
     "user": {
      "displayName": "Vasilis Syrganis",
      "userId": "00968929417250286436"
     },
     "user_tz": 420
    },
    "id": "FkBDwzdcfNs5",
    "outputId": "62a47774-eee9-4a55-c5d1-8c17c3f46f30"
   },
   "outputs": [],
   "source": [
    "# row span of CovZX, with stat-sig non-zero singular values, vs CovXD\n",
    "print(\"Basis of row span of CovZX:\\n\", Vh[S > Scrit, :].T, \"\\n\",\n",
    "      \"Vector CovXD:\\n\", CovXD)"
   ]
  },
  {
   "cell_type": "code",
   "execution_count": null,
   "id": "96",
   "metadata": {
    "colab": {
     "base_uri": "https://localhost:8080/"
    },
    "executionInfo": {
     "elapsed": 183,
     "status": "ok",
     "timestamp": 1725935148002,
     "user": {
      "displayName": "Vasilis Syrganis",
      "userId": "00968929417250286436"
     },
     "user_tz": 420
    },
    "id": "V_TfBK1-o47X",
    "outputId": "eb75d247-d388-45cf-97ae-f02ef14614b7"
   },
   "outputs": [],
   "source": [
    "gamma = np.zeros(pz)\n",
    "gamma[0] = CovXD[0, 0] / Vh[0, 0]\n",
    "CovZX.T @ gamma - CovXD.flatten()"
   ]
  },
  {
   "cell_type": "code",
   "execution_count": null,
   "id": "97",
   "metadata": {
    "colab": {
     "base_uri": "https://localhost:8080/"
    },
    "executionInfo": {
     "elapsed": 254,
     "status": "ok",
     "timestamp": 1725935335103,
     "user": {
      "displayName": "Vasilis Syrganis",
      "userId": "00968929417250286436"
     },
     "user_tz": 420
    },
    "id": "inO9PXK0woY8",
    "outputId": "04b8235f-1892-4a41-edc7-29f4bbe1af69"
   },
   "outputs": [],
   "source": [
    "gamma = U[:, 0] # * CovXD[0, 0] / Vh[0, 0]\n",
    "CovZX.T @ gamma"
   ]
  },
  {
   "cell_type": "code",
   "execution_count": null,
   "id": "98",
   "metadata": {
    "colab": {
     "base_uri": "https://localhost:8080/"
    },
    "executionInfo": {
     "elapsed": 198,
     "status": "ok",
     "timestamp": 1725935352247,
     "user": {
      "displayName": "Vasilis Syrganis",
      "userId": "00968929417250286436"
     },
     "user_tz": 420
    },
    "id": "LiQABA6Lwz3H",
    "outputId": "06e582e8-0e2c-4889-b573-c6c0babaed31"
   },
   "outputs": [],
   "source": [
    "Vh[0] * S[0]"
   ]
  },
  {
   "cell_type": "code",
   "execution_count": null,
   "id": "99",
   "metadata": {
    "colab": {
     "base_uri": "https://localhost:8080/"
    },
    "executionInfo": {
     "elapsed": 208,
     "status": "ok",
     "timestamp": 1725935227881,
     "user": {
      "displayName": "Vasilis Syrganis",
      "userId": "00968929417250286436"
     },
     "user_tz": 420
    },
    "id": "WiAiRn9XwQ0H",
    "outputId": "36eb5729-366d-4a9c-9e96-295b443a6cf4"
   },
   "outputs": [],
   "source": [
    "Vh[0] * gamma[0] - CovXD.flatten()"
   ]
  },
  {
   "cell_type": "code",
   "execution_count": null,
   "id": "100",
   "metadata": {
    "colab": {
     "base_uri": "https://localhost:8080/"
    },
    "executionInfo": {
     "elapsed": 2,
     "status": "ok",
     "timestamp": 1725934963607,
     "user": {
      "displayName": "Vasilis Syrganis",
      "userId": "00968929417250286436"
     },
     "user_tz": 420
    },
    "id": "FLR5b93NugMo",
    "outputId": "538355e8-d3b4-4bfb-f636-c39c89f24438"
   },
   "outputs": [],
   "source": [
    "est.gamma_"
   ]
  },
  {
   "cell_type": "code",
   "execution_count": null,
   "id": "101",
   "metadata": {
    "colab": {
     "base_uri": "https://localhost:8080/"
    },
    "executionInfo": {
     "elapsed": 172,
     "status": "ok",
     "timestamp": 1725934965339,
     "user": {
      "displayName": "Vasilis Syrganis",
      "userId": "00968929417250286436"
     },
     "user_tz": 420
    },
    "id": "tgh3BcKPszBJ",
    "outputId": "3c8c621f-67bd-4c8e-a170-d5f05b1d7e1c"
   },
   "outputs": [],
   "source": [
    "CovZX.T @ est.gamma_ - CovXD"
   ]
  },
  {
   "cell_type": "markdown",
   "id": "102",
   "metadata": {
    "id": "G4Lb9J-ZfNs5"
   },
   "source": [
    "Let's examine the primal existence:"
   ]
  },
  {
   "cell_type": "code",
   "execution_count": null,
   "id": "103",
   "metadata": {
    "colab": {
     "base_uri": "https://localhost:8080/"
    },
    "executionInfo": {
     "elapsed": 197,
     "status": "ok",
     "timestamp": 1725934631676,
     "user": {
      "displayName": "Vasilis Syrganis",
      "userId": "00968929417250286436"
     },
     "user_tz": 420
    },
    "id": "UulyfjQRfNs5",
    "outputId": "a47effeb-b19f-4b37-f1dc-0601f532a12d"
   },
   "outputs": [],
   "source": [
    "# column span of CovZX, with stat-sig non-zero singular values, vs CovXD\n",
    "print(\"Basis of column span of CovZX:\\n\", U[:, S > Scrit], \"\\n\",\n",
    "      \"Vector CovYZ:\\n\", CovYZ)"
   ]
  },
  {
   "cell_type": "code",
   "execution_count": null,
   "id": "104",
   "metadata": {
    "colab": {
     "base_uri": "https://localhost:8080/"
    },
    "executionInfo": {
     "elapsed": 197,
     "status": "ok",
     "timestamp": 1725934634053,
     "user": {
      "displayName": "Vasilis Syrganis",
      "userId": "00968929417250286436"
     },
     "user_tz": 420
    },
    "id": "i-Jkz7XtsE9U",
    "outputId": "3977ee4c-5e38-499a-ac4b-c233cd252646"
   },
   "outputs": [],
   "source": [
    "U[:, S > Scrit].flatten() / CovYZ.flatten()"
   ]
  },
  {
   "cell_type": "code",
   "execution_count": null,
   "id": "105",
   "metadata": {
    "id": "PF4tZpZ1uIJp"
   },
   "outputs": [],
   "source": []
  }
 ],
 "metadata": {
  "accelerator": "GPU",
  "colab": {
   "gpuType": "T4",
   "machine_shape": "hm",
   "provenance": [],
   "toc_visible": true
  },
  "kernelspec": {
   "display_name": "Python 3 (ipykernel)",
   "language": "python",
   "name": "python3"
  },
  "language_info": {
   "codemirror_mode": {
    "name": "ipython",
    "version": 3
   },
   "file_extension": ".py",
   "mimetype": "text/x-python",
   "name": "python",
   "nbconvert_exporter": "python",
   "pygments_lexer": "ipython3",
   "version": "3.8.13"
  }
 },
 "nbformat": 4,
 "nbformat_minor": 5
}
