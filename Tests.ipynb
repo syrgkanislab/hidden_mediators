{
 "cells": [
  {
   "cell_type": "markdown",
   "id": "0",
   "metadata": {
    "id": "nJSbD4Nr8VNq"
   },
   "source": [
    "## Setup Only for Colab"
   ]
  },
  {
   "cell_type": "code",
   "execution_count": null,
   "id": "1",
   "metadata": {
    "colab": {
     "base_uri": "https://localhost:8080/"
    },
    "executionInfo": {
     "elapsed": 20786,
     "status": "ok",
     "timestamp": 1724430402340,
     "user": {
      "displayName": "Vasilis Syrganis",
      "userId": "00968929417250286436"
     },
     "user_tz": 420
    },
    "id": "j4wBu9BNomlq",
    "outputId": "5d6c0861-d9f8-41f8-e448-0aeecf454a5c"
   },
   "outputs": [],
   "source": [
    "# prompt: mount drive\n",
    "\n",
    "from google.colab import drive\n",
    "drive.mount('/content/drive')"
   ]
  },
  {
   "cell_type": "code",
   "execution_count": null,
   "id": "2",
   "metadata": {
    "colab": {
     "base_uri": "https://localhost:8080/"
    },
    "executionInfo": {
     "elapsed": 155,
     "status": "ok",
     "timestamp": 1724430429765,
     "user": {
      "displayName": "Vasilis Syrganis",
      "userId": "00968929417250286436"
     },
     "user_tz": 420
    },
    "id": "JfB4MISjovTQ",
    "outputId": "6a76c61e-b4cb-4e38-8172-29da9648dd9b"
   },
   "outputs": [],
   "source": [
    "%cd /content/drive/MyDrive/Colab\\ Notebooks/hidden_mediators"
   ]
  },
  {
   "cell_type": "code",
   "execution_count": null,
   "id": "3",
   "metadata": {
    "colab": {
     "base_uri": "https://localhost:8080/"
    },
    "executionInfo": {
     "elapsed": 318,
     "status": "ok",
     "timestamp": 1724430430251,
     "user": {
      "displayName": "Vasilis Syrganis",
      "userId": "00968929417250286436"
     },
     "user_tz": 420
    },
    "id": "D5tm-9Fno5Xn",
    "outputId": "4c81e1ca-3685-4022-943b-a4aa9ebec0bf"
   },
   "outputs": [],
   "source": [
    "%ls"
   ]
  },
  {
   "cell_type": "code",
   "execution_count": null,
   "id": "4",
   "metadata": {
    "executionInfo": {
     "elapsed": 203,
     "status": "ok",
     "timestamp": 1724430430453,
     "user": {
      "displayName": "Vasilis Syrganis",
      "userId": "00968929417250286436"
     },
     "user_tz": 420
    },
    "id": "MFy1PyP89gR3"
   },
   "outputs": [],
   "source": [
    "from IPython.display import clear_output"
   ]
  },
  {
   "cell_type": "code",
   "execution_count": null,
   "id": "5",
   "metadata": {
    "executionInfo": {
     "elapsed": 9641,
     "status": "ok",
     "timestamp": 1724430455469,
     "user": {
      "displayName": "Vasilis Syrganis",
      "userId": "00968929417250286436"
     },
     "user_tz": 420
    },
    "id": "VGF-ucGhpC5P"
   },
   "outputs": [],
   "source": [
    "import time\n",
    "!pip install -r requirements.txt\n",
    "time.sleep(2)\n",
    "clear_output()"
   ]
  },
  {
   "cell_type": "code",
   "execution_count": null,
   "id": "6",
   "metadata": {
    "executionInfo": {
     "elapsed": 7774,
     "status": "ok",
     "timestamp": 1724430463240,
     "user": {
      "displayName": "Vasilis Syrganis",
      "userId": "00968929417250286436"
     },
     "user_tz": 420
    },
    "id": "0wsNOzNVtonf"
   },
   "outputs": [],
   "source": [
    "import time\n",
    "# replace `develop` with `install` if you wont make library code changes\n",
    "!python setup.py develop\n",
    "time.sleep(2)\n",
    "clear_output()\n",
    "# Restart the session after running this"
   ]
  },
  {
   "cell_type": "code",
   "execution_count": null,
   "id": "7",
   "metadata": {
    "colab": {
     "base_uri": "https://localhost:8080/"
    },
    "executionInfo": {
     "elapsed": 3,
     "status": "ok",
     "timestamp": 1724430463240,
     "user": {
      "displayName": "Vasilis Syrganis",
      "userId": "00968929417250286436"
     },
     "user_tz": 420
    },
    "id": "zyL1_6L73Z9e",
    "outputId": "0b83ac0f-3706-4139-fb33-0f27106ab74a"
   },
   "outputs": [],
   "source": [
    "%cd /content/drive/MyDrive/Colab\\ Notebooks"
   ]
  },
  {
   "cell_type": "code",
   "execution_count": null,
   "id": "8",
   "metadata": {},
   "outputs": [],
   "source": [
    "A = np.random.normal(0, 1, size=(3, 3))"
   ]
  },
  {
   "cell_type": "code",
   "execution_count": null,
   "id": "9",
   "metadata": {},
   "outputs": [],
   "source": []
  },
  {
   "cell_type": "markdown",
   "id": "10",
   "metadata": {
    "id": "cvIuehalDudB"
   },
   "source": [
    "# Main Logic"
   ]
  },
  {
   "cell_type": "code",
   "execution_count": null,
   "id": "11",
   "metadata": {
    "executionInfo": {
     "elapsed": 239,
     "status": "ok",
     "timestamp": 1724430474210,
     "user": {
      "displayName": "Vasilis Syrganis",
      "userId": "00968929417250286436"
     },
     "user_tz": 420
    },
    "id": "ab080aab-f8b0-4582-a4fb-1440d7b4ec57"
   },
   "outputs": [],
   "source": [
    "%load_ext autoreload\n",
    "%autoreload 2"
   ]
  },
  {
   "cell_type": "code",
   "execution_count": null,
   "id": "12",
   "metadata": {
    "executionInfo": {
     "elapsed": 12052,
     "status": "ok",
     "timestamp": 1724430486399,
     "user": {
      "displayName": "Vasilis Syrganis",
      "userId": "00968929417250286436"
     },
     "user_tz": 420
    },
    "id": "a0c91797-b6ee-4ffb-a464-832daaabd438"
   },
   "outputs": [],
   "source": [
    "import numpy as np\n",
    "import pandas as pd\n",
    "import matplotlib.pyplot as plt\n",
    "import scipy.stats\n",
    "import pytest\n",
    "from joblib import Parallel, delayed\n",
    "from sklearn.model_selection import KFold, StratifiedKFold, train_test_split\n",
    "from proximalde.gen_data import gen_data_complex, gen_data_no_controls\n",
    "from proximalde.proximal import proximal_direct_effect, ProximalDE, estimate_nuisances, \\\n",
    "    estimate_final, second_stage, _check_input, residualizeW, _gen_subsamples, RegularizedDualIVSolver\n",
    "from proximalde.inference import NormalInferenceResults, pvalue\n",
    "from proximalde.ivreg import Regularized2SLS, AdvIV\n",
    "from proximalde.ivtests import weakiv_tests\n",
    "from proximalde.tests.utilities import gen_iv_data\n",
    "from sklearn.linear_model import RidgeCV, Ridge, LinearRegression, LassoCV\n",
    "from sklearn.base import clone"
   ]
  },
  {
   "cell_type": "markdown",
   "id": "13",
   "metadata": {},
   "source": [
    "```\n",
    "a : strength of D -> M edge\n",
    "b : strength of M -> Y edge\n",
    "c : strength of D -> Y edge\n",
    "d : strength of D -> Z edge\n",
    "e : strength of M -> Z edge\n",
    "f : strength of M -> X edge\n",
    "g : strength of X -> Y edge\n",
    "```"
   ]
  },
  {
   "cell_type": "code",
   "execution_count": null,
   "id": "14",
   "metadata": {},
   "outputs": [],
   "source": [
    "# W, D, _, Z, X, Y = gen_data_complex(n, pw, pz, px, a, b, c, d, e, f, g)"
   ]
  },
  {
   "cell_type": "code",
   "execution_count": null,
   "id": "15",
   "metadata": {},
   "outputs": [],
   "source": [
    "def true_params(pw, pz, px, a, b, c, d, e, f, g, sm, sz=1.0, sd=0.5):\n",
    "    if pz == 1 and px == 1:\n",
    "        true_Zsq = (e * a + d)**2 * sd**2 + e**2 * sm**2 + sz**2\n",
    "        true_Msq = sm**2 + a**2 * sd**2\n",
    "        true_XZ = f * (e * true_Msq + d * a * sd**2)\n",
    "        true_DZ = (a * e + d) * sd**2\n",
    "        true_DX = a * f * sd**2\n",
    "        # D*X / X*Z\n",
    "        if true_XZ == 0:\n",
    "            true_gamma = np.inf\n",
    "        else:\n",
    "            true_gamma = true_DX / true_XZ\n",
    "        # D^2 - gamma D * Z\n",
    "        true_strength = sd**2 - true_gamma * true_DZ\n",
    "        return true_gamma, true_strength\n",
    "    else:\n",
    "        raise AttributeError(\"Not available\")"
   ]
  },
  {
   "cell_type": "code",
   "execution_count": null,
   "id": "16",
   "metadata": {},
   "outputs": [],
   "source": [
    "def exp_summary(it, n, pw, pz, px, a, b, c, d, e, f, g, sm):\n",
    "    np.random.seed(it)\n",
    "    W, D, _, Z, X, Y = gen_data_no_controls(n, pw, pz, px, a, b, c, d, e, f, g, sm=sm)\n",
    "    est = ProximalDE(dual_type='Z', cv=3, semi=True, ivreg_type='adv',\n",
    "                     multitask=False, n_jobs=1, random_state=3, verbose=0)\n",
    "    est.fit(None, D, Z, X, Y)\n",
    "    lb, ub = est.robust_conf_int(lb=-2, ub=2)\n",
    "    weakiv_stat, _, pi, var_pi = est.weakiv_test(return_pi_and_var=True)\n",
    "    eigs, eig_crit = est.covariance_rank_test()\n",
    "    maxeig = eigs[0]\n",
    "    return est.stderr_, est.idstrength_, est.primal_violation_, est.dual_violation_, est.point_, \\\n",
    "        lb, ub, weakiv_stat, maxeig, pi, var_pi, *est.gamma_.flatten(), *est.ivreg_gamma_.stderr_.flatten(), est.idstrength_std_, eig_crit\n",
    "\n",
    "def run_summary(n, pw, pz, px, a, b, c, d, e, f, g, sm):\n",
    "    res = np.array(Parallel(n_jobs=-1, verbose=3)(delayed(exp_summary)(it, n, pw, pz, px, a, b, c, d, e, f, g, sm)\n",
    "                                                  for it in range(100)))\n",
    "    print(f\"Mean estimate: {np.mean(res[:, 4]):.3f}\")\n",
    "    print(f\"Bias: {np.mean(res[:, 4] - c):.3f}\")\n",
    "    print(f\"RMSE: {np.sqrt(np.mean((res[:, 4] - c)**2)):.3f}\")\n",
    "    cov = np.mean((res[:, 4] + 1.96 * res[:, 0] >= c) & (res[:, 4] - 1.96 * res[:, 0] <= c))\n",
    "    print(f\"Coverage: {cov:.3f}\")\n",
    "    rcov = np.mean((res[:, 5] <= c) & (res[:, 6] >= c))\n",
    "    print(f\"ID-Robust Coverage: {rcov:.3f}\")\n",
    "    plt.figure(figsize=(10, 10))\n",
    "    plt.subplot(3, 2, 1)\n",
    "    plt.title(f\"stderr: mean={np.mean(res[:, 0]):.3f}, %>1.0={np.mean(res[:, 0] > 2.0):.3f}\")\n",
    "    plt.hist(res[:, 0])\n",
    "    plt.subplot(3, 2, 2)\n",
    "    crit = np.round(scipy.stats.foldnorm(c=10).ppf(.95), 2)\n",
    "    plt.title(f\"idstrength: mean={np.mean(res[:, 1] / res[:, 11 + 2*pz]):.3f}, %<{crit}={np.mean(res[:, 1] / res[:, 11 + 2*pz] < crit):.3f}\")\n",
    "    plt.hist(res[:, 1] / res[:, 11 + 2*pz])\n",
    "    plt.subplot(3, 2, 3)\n",
    "    crit = np.round(scipy.stats.chi2(df=pz + 1).ppf(.95), 2)\n",
    "    plt.title(f\"primal_violation: mean={np.mean(res[:, 2]):.3f}, %>{crit}={np.mean(res[:, 2] > crit):.3f}\")\n",
    "    plt.hist(res[:, 2])\n",
    "    plt.subplot(3, 2, 4)\n",
    "    crit = np.round(scipy.stats.chi2(df=px).ppf(.95), 2)\n",
    "    plt.title(f\"dual_violation: mean={np.mean(res[:, 3]):.3f}, %>{crit}={np.mean(res[:, 3] > crit):.3f}\")\n",
    "    plt.hist(res[:, 3])\n",
    "    plt.subplot(3, 2, 5)\n",
    "    plt.title(f\"weakiv_test: mean={np.mean(res[:, 7]):.3f}, %<23={np.mean(res[:, 7] < 23):.3f}\")\n",
    "    plt.hist(res[:, 7])\n",
    "    plt.subplot(3, 2, 6)\n",
    "    eig_stat = res[:, 8] / res[:, 11+2*pz+1]\n",
    "    plt.title(f\"rank_test: mean={np.mean(eig_stat):.3f}, %<1={np.mean(eig_stat < 1):.3f}\")\n",
    "    plt.hist(eig_stat)\n",
    "    plt.tight_layout()\n",
    "    plt.show()\n",
    "\n",
    "    pi = res[:, 9]\n",
    "    var_pi = n * res[:, 10]\n",
    "    print(f\"mean(pi) = {np.mean(pi):.3f}\")\n",
    "    print(f\"True n * var(pi)={n * np.var(pi):.3f}\")\n",
    "    print(f\"n * hatvar(pi): mean={np.mean(var_pi):.3f}, median={np.median(var_pi):.3f}, \"\n",
    "          f\"(5%, 95%)=({np.percentile(var_pi, 5):.3f}, {np.percentile(var_pi, 95):.3f})\"\n",
    "          f\"(1%, 99%)=({np.percentile(var_pi, 1):.3f}, {np.percentile(var_pi, 99):.3f})\")\n",
    "\n",
    "    gamma = res[:, 11:11+pz]\n",
    "    var_gamma = n * (res[:, 11+pz:11+2*pz])**2\n",
    "    print(\"mean(gamma) = \", np.round(np.mean(gamma, axis=0), 3))\n",
    "    print(\"True n * var(gamma)=\", np.round(n * np.var(gamma, axis=0), 3))\n",
    "    print(\"n * hatvar(gamma): mean=\", np.round(np.mean(var_gamma, axis=0), 3), \"median=\", np.round(np.median(var_gamma, axis=0), 3),\n",
    "          \"(5%, 95%)=(\", np.round(np.percentile(var_gamma, 5, axis=0), 3), np.round(np.percentile(var_gamma, 95, axis=0),3), \")\")\n",
    "\n",
    "    idstrength = res[:, 1]\n",
    "    var_idstrength = n * (res[:, 11+2*pz])**2\n",
    "    print(\"mean(str) = \", np.round(np.mean(idstrength, axis=0), 3))\n",
    "    print(\"True n * var(str)=\", np.round(n * np.var(idstrength, axis=0), 3))\n",
    "    print(\"n * hatvar(str): mean=\", np.round(np.mean(var_idstrength, axis=0), 3), \"median=\", np.round(np.median(var_idstrength, axis=0), 3),\n",
    "          \"(5%, 95%)=(\", np.round(np.percentile(var_idstrength, 5, axis=0), 3), np.round(np.percentile(var_idstrength, 95, axis=0),3), \")\")\n",
    "\n",
    "    if pz == 1 and px == 1:\n",
    "        true_gamma, _ = true_params(pw, pz, px, a, b, c, d, e, f, g, sm)\n",
    "        W, D, _, Z, X, Y = gen_data_no_controls(100000, pw, pz, px, a, b, c, d, e, f, g, sm=sm)\n",
    "        D = D.reshape(-1, 1)\n",
    "        D = D - D.mean(axis=0)\n",
    "        X = X - X.mean(axis=0)\n",
    "        Z = Z - Z.mean(axis=0)\n",
    "        print(f\"true(pi)={LinearRegression(fit_intercept=False).fit(D - true_gamma * Z, D.flatten()).coef_[0]:.3f}\")"
   ]
  },
  {
   "cell_type": "code",
   "execution_count": null,
   "id": "17",
   "metadata": {},
   "outputs": [],
   "source": [
    "def test_pi_and_var_pi():\n",
    "    np.random.seed(123)\n",
    "    n = 10000\n",
    "    pw = 1\n",
    "    pz, px = 3, 3\n",
    "    n_splits = 3\n",
    "    # Indirect effect is a*b, direct effect is c\n",
    "    a, b, c = 1.0, 1.0, .5\n",
    "    # D has direct relationship to Z, Z has direct relationship to M, \n",
    "    # X has direct relationship to M, X has direct relationship to Y\n",
    "    d, e, f, g = 1.0, 1.0, 1.0, 1.0\n",
    "    sm = 2.0\n",
    "    res = np.array(Parallel(n_jobs=-1, verbose=3)(delayed(exp_summary)(it, n, pw, pz, px, a, b, c, d, e, f, g, sm)\n",
    "                                                  for it in range(100)))\n",
    "\n",
    "    pi = res[:, 9]\n",
    "    var_pi = n * res[:, 10]\n",
    "    print(np.mean(pi))\n",
    "    print(n * np.var(pi), np.mean(var_pi))\n",
    "    print(n * np.var(pi), np.percentile(var_pi, 1))\n",
    "    print(n * np.var(pi), np.percentile(var_pi, 99))\n",
    "    assert np.allclose(n * np.var(pi), np.mean(var_pi), atol=5e-3)\n",
    "    assert np.allclose(n * np.var(pi), np.percentile(var_pi, 1), atol=5e-3)\n",
    "    assert np.allclose(n * np.var(pi), np.percentile(var_pi, 99), atol=5e-3)"
   ]
  },
  {
   "cell_type": "code",
   "execution_count": null,
   "id": "18",
   "metadata": {},
   "outputs": [],
   "source": [
    "# test_pi_and_var_pi()"
   ]
  },
  {
   "cell_type": "code",
   "execution_count": null,
   "id": "19",
   "metadata": {},
   "outputs": [],
   "source": [
    "# exp_summary(0, n, pw, pz, px, a, b, c, d, e, f, g, sm)"
   ]
  },
  {
   "cell_type": "code",
   "execution_count": null,
   "id": "20",
   "metadata": {},
   "outputs": [],
   "source": [
    "n = 10000\n",
    "pw = 1\n",
    "pz, px = 20, 20\n",
    "n_splits = 3\n",
    "np.random.seed(123)\n",
    "# Indirect effect is a*b, direct effect is c\n",
    "a, b, c = 1.0, 1.0, .5\n",
    "d, e, f, g = 1.0, 1.0, 1.0, 1.0\n",
    "sm = 2.0\n",
    "run_summary(n, pw, pz, px, a, b, c, d, e, f, g, sm)"
   ]
  },
  {
   "cell_type": "code",
   "execution_count": null,
   "id": "21",
   "metadata": {},
   "outputs": [],
   "source": [
    "n = 10000\n",
    "pw = 1\n",
    "pz, px = 20, 20\n",
    "n_splits = 3"
   ]
  },
  {
   "cell_type": "markdown",
   "id": "22",
   "metadata": {},
   "source": [
    "## Failure mode 1\n",
    "\n",
    "D has direct relationship to Z, but Z has no direct relationship from M. So Z is not a good proxy treatment. However, X is a good proxy outcome and this can allow us to detect the failure mode. Here the fact that Z is correlated with D, makes the dual assumption not be violated. However, the solution basically leads to an orthogonal instrument that perfectly predicts treatment and hence the identification strength assumption is violated."
   ]
  },
  {
   "cell_type": "code",
   "execution_count": null,
   "id": "23",
   "metadata": {},
   "outputs": [],
   "source": [
    "np.random.seed(123)\n",
    "# Indirect effect is a*b, direct effect is c\n",
    "a, b, c = 1.0, 1.0, .5\n",
    "# D has direct relationship to Z, Z has no relationship to M, \n",
    "# X has direct relationship to M, X has no direct relationship to Y\n",
    "d, e, f, g = 1.0, 0.0, 1.0, 0.0\n",
    "sm = 2.0\n",
    "W, D, _, Z, X, Y = gen_data_no_controls(n, pw, pz, px, a, b, c, d, e, f, g, sm=sm)\n",
    "est = ProximalDE(dual_type='Z', cv=3, semi=True, ivreg_type='adv',\n",
    "                 multitask=False, n_jobs=-1, random_state=3, verbose=0)\n",
    "est.fit(None, D, Z, X, Y)\n",
    "display(est.summary().tables[0])\n",
    "display(est.summary().tables[1])\n",
    "display(est.summary().tables[2])\n",
    "# we see that even though both primal and dual have feasible solutions\n",
    "# the identification is very weak, since Z is only driven by D and\n",
    "# hence D can almost perfectly predict D. So the id_stregth test failed\n",
    "# and caught this failure mode. Also confidence intervals are quite large\n",
    "# so we are not artificially confident about a wrong result."
   ]
  },
  {
   "cell_type": "code",
   "execution_count": null,
   "id": "24",
   "metadata": {},
   "outputs": [],
   "source": [
    "est.summary()"
   ]
  },
  {
   "cell_type": "code",
   "execution_count": null,
   "id": "25",
   "metadata": {},
   "outputs": [],
   "source": [
    "run_summary(n, pw, pz, px, a, b, c, d, e, f, g, sm)"
   ]
  },
  {
   "cell_type": "markdown",
   "id": "26",
   "metadata": {},
   "source": [
    "## Failure mode 2\n",
    "\n",
    "D has no direct relationship to Z, but Z has no direct relationship from M. So Z is not a good proxy treatment. However, X is a good proxy outcome and this can allow us to detect the failure mode. Her Z is un-correlated with D, which makes the dual assumption violated.\n",
    "\n",
    "Because the dual doesn't have a solution, the weakIV test is invalid, as the covariance calculation depends on the validity of the dual moment."
   ]
  },
  {
   "cell_type": "code",
   "execution_count": null,
   "id": "27",
   "metadata": {},
   "outputs": [],
   "source": [
    "np.random.seed(123)\n",
    "# Indirect effect is a*b, direct effect is c\n",
    "a, b, c = 1.0, 1.0, .5\n",
    "# D has no direct relationship to Z, Z has no direct relationship to M, \n",
    "# X has direct relationship to M, X has no direct relationship to Y\n",
    "d, e, f, g = 0.0, 0.0, 1.0, 0.0\n",
    "sm = 2.0\n",
    "W, D, _, Z, X, Y = gen_data_no_controls(n, pw, pz, px, a, b, c, d, e, f, g, sm=sm)\n",
    "est = ProximalDE(dual_type='Z', cv=3, semi=True,\n",
    "                 multitask=False, n_jobs=-1, random_state=3, verbose=0)\n",
    "est.fit(None, D, Z, X, Y)\n",
    "display(est.summary().tables[0])\n",
    "display(est.summary().tables[1])\n",
    "display(est.summary().tables[2])\n",
    "# we see that in this case even though the idstrength test passed\n",
    "# the dual violation test did not pass. In this case the dual problem\n",
    "# does not admit a solution and this was detected by the dual_violation\n",
    "# statistic which was very high"
   ]
  },
  {
   "cell_type": "code",
   "execution_count": null,
   "id": "28",
   "metadata": {},
   "outputs": [],
   "source": [
    "run_summary(n, pw, pz, px, a, b, c, d, e, f, g, sm)"
   ]
  },
  {
   "cell_type": "markdown",
   "id": "29",
   "metadata": {},
   "source": [
    "## Failure Mode 3\n",
    "\n",
    "\n",
    "D is a good proxy outcome, but X is not and is un-related to M. This makes the existence of a solution to the primal IV assumption violated."
   ]
  },
  {
   "cell_type": "code",
   "execution_count": null,
   "id": "30",
   "metadata": {},
   "outputs": [],
   "source": [
    "np.random.seed(123)\n",
    "# Indirect effect is a*b, direct effect is c\n",
    "a, b, c = 1.0, 1.0, .5\n",
    "# D has no direct relationship to Z, Z has direct relationship to M, \n",
    "# X has no direct relationship to M, X has no direct relationship to Y\n",
    "d, e, f, g = 0.0, 1.0, 0.0, 0.0\n",
    "sm = 2.0\n",
    "W, D, _, Z, X, Y = gen_data_no_controls(n, pw, pz, px, a, b, c, d, e, f, g, sm=sm)\n",
    "est = ProximalDE(dual_type='Z', cv=3, semi=True,\n",
    "                 multitask=False, n_jobs=-1, random_state=3, verbose=0)\n",
    "est.fit(None, D, Z, X, Y)\n",
    "display(est.summary().tables[0])\n",
    "display(est.summary().tables[1])\n",
    "display(est.summary().tables[2])\n",
    "# we see that in this case even though the idstrength test passed\n",
    "# and the dual violation test passed, the primal violation almost did\n",
    "# not pass. This test should be catching this failure."
   ]
  },
  {
   "cell_type": "code",
   "execution_count": null,
   "id": "31",
   "metadata": {},
   "outputs": [],
   "source": [
    "run_summary(n, pw, pz, px, a, b, c, d, e, f, g, sm)"
   ]
  },
  {
   "cell_type": "markdown",
   "id": "32",
   "metadata": {},
   "source": [
    "## Failure mode 4\n",
    "\n",
    "\n",
    "Z and X are unrelated to all other variables!\n",
    "\n",
    "The rank test can catch this failure mode.\n",
    "\n",
    "Sometimes the dual violation will catch this failure mode."
   ]
  },
  {
   "cell_type": "code",
   "execution_count": null,
   "id": "33",
   "metadata": {},
   "outputs": [],
   "source": [
    "np.random.seed(123)\n",
    "# Indirect effect is a*b, direct effect is c\n",
    "a, b, c = 1.0, 1.0, .5\n",
    "# D has no direct relationship to Z, Z has no direct relationship to M, \n",
    "# X has no direct relationship to M, X has no direct relationship to Y\n",
    "d, e, f, g = 0.0, 0.0, 0.0, 0.0\n",
    "sm = 2.0\n",
    "W, D, _, Z, X, Y = gen_data_no_controls(n, pw, pz, px, a, b, c, d, e, f, g, sm=sm)\n",
    "est = ProximalDE(dual_type='Z', cv=3, semi=True,\n",
    "                 multitask=False, n_jobs=-1, random_state=3, verbose=0)\n",
    "est.fit(None, D, Z, X, Y)\n",
    "display(est.summary().tables[0])\n",
    "display(est.summary().tables[1])\n",
    "display(est.summary().tables[2])"
   ]
  },
  {
   "cell_type": "code",
   "execution_count": null,
   "id": "34",
   "metadata": {},
   "outputs": [],
   "source": [
    "run_summary(n, pw, pz, px, a, b, c, d, e, f, g, sm)"
   ]
  },
  {
   "cell_type": "markdown",
   "id": "35",
   "metadata": {},
   "source": [
    "## Failure Mode 5\n",
    "\n",
    "Almost the same as mode 4, but only X is related to Y\n",
    "\n",
    "The rank test catches this failure mode.\n",
    "\n",
    "Sometimes the primal/dual violation, catch this failure mode."
   ]
  },
  {
   "cell_type": "code",
   "execution_count": null,
   "id": "36",
   "metadata": {},
   "outputs": [],
   "source": [
    "np.random.seed(123)\n",
    "# Indirect effect is a*b, direct effect is c\n",
    "a, b, c = 1.0, 1.0, .5\n",
    "# D has no direct relationship to Z, Z has no direct relationship to M, \n",
    "# X has no direct relationship to M, X has direct relationship to Y\n",
    "d, e, f, g = 0.0, 0.0, 0.0, 5.0\n",
    "sm = 2.0\n",
    "W, D, _, Z, X, Y = gen_data_no_controls(n, pw, pz, px, a, b, c, d, e, f, g, sm=sm)\n",
    "est = ProximalDE(dual_type='Z', cv=3, semi=True,\n",
    "                 multitask=False, n_jobs=-1, random_state=3, verbose=0)\n",
    "est.fit(None, D, Z, X, Y)\n",
    "display(est.summary().tables[0])\n",
    "display(est.summary().tables[1])\n",
    "display(est.summary().tables[2])"
   ]
  },
  {
   "cell_type": "code",
   "execution_count": null,
   "id": "37",
   "metadata": {},
   "outputs": [],
   "source": [
    "run_summary(n, pw, pz, px, a, b, c, d, e, f, g, sm)"
   ]
  },
  {
   "cell_type": "markdown",
   "id": "38",
   "metadata": {},
   "source": [
    "## Failure Mode 6\n",
    "\n",
    "X, Z are good proxies, but the mediator is super correlated with the treatment, which leads to lack of identification of the direct effect.\n",
    "\n",
    "The weakIV and idstrength tests will catch this case."
   ]
  },
  {
   "cell_type": "code",
   "execution_count": null,
   "id": "39",
   "metadata": {},
   "outputs": [],
   "source": [
    "np.random.seed(123)\n",
    "# Indirect effect is a*b, direct effect is c\n",
    "a, b, c = 1.0, 1.0, .5\n",
    "# D has direct relationship to Z, Z has direct relationship to M, \n",
    "# X has direct relationship to M, X has direct relationship to Y\n",
    "d, e, f, g = 1.0, 1.0, 1.0, 1.0\n",
    "sm = 0.05\n",
    "W, D, _, Z, X, Y = gen_data_no_controls(n, pw, pz, px, a, b, c, d, e, f, g, sm=sm)\n",
    "est = ProximalDE(dual_type='Z', cv=3, semi=True,\n",
    "                 multitask=False, n_jobs=-1, random_state=3, verbose=0)\n",
    "est.fit(None, D, Z, X, Y)\n",
    "display(est.summary().tables[0])\n",
    "display(est.summary().tables[1])\n",
    "display(est.summary().tables[2])"
   ]
  },
  {
   "cell_type": "code",
   "execution_count": null,
   "id": "40",
   "metadata": {},
   "outputs": [],
   "source": [
    "run_summary(n, pw, pz, px, a, b, c, d, e, f, g, sm)"
   ]
  },
  {
   "cell_type": "markdown",
   "id": "41",
   "metadata": {},
   "source": [
    "## No Failure Mode"
   ]
  },
  {
   "cell_type": "code",
   "execution_count": null,
   "id": "42",
   "metadata": {},
   "outputs": [],
   "source": [
    "np.random.seed(1)\n",
    "n = 500000\n",
    "# Indirect effect is a*b, direct effect is c\n",
    "a, b, c = 1.0, 1.0, .5\n",
    "# D has direct relationship to Z, Z has direct relationship to M, \n",
    "# X has direct relationship to M, X has direct relationship to Y\n",
    "d, e, f, g = 1.0, 1.0, 1.0, 1.0\n",
    "sm = 2.0\n",
    "W, D, _, Z, X, Y = gen_data_no_controls(n, pw, pz, px, a, b, c, d, e, f, g, sm=sm)\n",
    "est = ProximalDE(dual_type='Z', cv=3, semi=True,\n",
    "                 multitask=False, n_jobs=-1, random_state=3, verbose=0)\n",
    "est.fit(None, D, Z, X, Y)\n",
    "display(est.summary().tables[0])\n",
    "display(est.summary().tables[1])\n",
    "display(est.summary().tables[2])"
   ]
  },
  {
   "cell_type": "code",
   "execution_count": null,
   "id": "43",
   "metadata": {},
   "outputs": [],
   "source": [
    "run_summary(n, pw, pz, px, a, b, c, d, e, f, g, sm)"
   ]
  },
  {
   "cell_type": "markdown",
   "id": "44",
   "metadata": {},
   "source": [
    "# OLD"
   ]
  },
  {
   "cell_type": "code",
   "execution_count": null,
   "id": "45",
   "metadata": {},
   "outputs": [],
   "source": [
    "np.random.seed(123)\n",
    "# Indirect effect is a*b, direct effect is c\n",
    "a, b, c = 1.0, 1.0, .5\n",
    "# Z has no relationship to M, but X has relationship to M\n",
    "# D also has direct relationship to Z, X doesn't have direct relationship to Y\n",
    "d, e, f, g = 1.0, 0.0, 1.0, 0.0\n",
    "W, D, _, Z, X, Y = gen_data_no_controls(n, pw, pz, px, a, b, c, d, e, f, g)\n",
    "est = ProximalDE(dual_type='Z', cv=3, semi=True,\n",
    "                 multitask=False, n_jobs=-1, random_state=3, verbose=0)\n",
    "est.fit(W, D, Z, X, Y)\n",
    "display(est.summary().tables[0])\n",
    "display(est.summary().tables[1])\n",
    "display(est.summary().tables[2])\n",
    "# we see that even though both primal and dual have feasible solutions\n",
    "# the identification is very weak, since Z is only driven by D and\n",
    "# hence D can almost perfectly predict D. So the id_stregth test failed\n",
    "# and caught this failure mode."
   ]
  },
  {
   "cell_type": "code",
   "execution_count": null,
   "id": "46",
   "metadata": {},
   "outputs": [],
   "source": [
    "# Indirect effect is a*b, direct effect is c\n",
    "a, b, c = 1.0, 1.0, .5\n",
    "# Z has no relationship to M, but X has relationship to M\n",
    "# D also has direct relationship to Z, X doesn't have direct relationship to Y\n",
    "d, e, f, g = 1.0, 0.0, 1.0, 0.0\n",
    "W, D, _, Z, X, Y = gen_data_no_controls(n, pw, pz, px, a, b, c, d, e, f, g)\n",
    "est = ProximalDE(dual_type='Z', cv=3, semi=True,\n",
    "                 multitask=False, n_jobs=-1, random_state=3, verbose=0)\n",
    "est.fit(W, D, Z, X, Y)\n",
    "display(est.summary().tables[0])\n",
    "display(est.summary().tables[1])\n",
    "display(est.summary().tables[2])"
   ]
  },
  {
   "cell_type": "code",
   "execution_count": null,
   "id": "47",
   "metadata": {},
   "outputs": [],
   "source": [
    "np.mean(est.Dres_ * est.Xres_)"
   ]
  },
  {
   "cell_type": "code",
   "execution_count": null,
   "id": "48",
   "metadata": {},
   "outputs": [],
   "source": [
    "np.mean(est.Zres_ * est.Xres_)"
   ]
  },
  {
   "cell_type": "code",
   "execution_count": null,
   "id": "49",
   "metadata": {},
   "outputs": [],
   "source": [
    "est.summary()"
   ]
  },
  {
   "cell_type": "code",
   "execution_count": null,
   "id": "50",
   "metadata": {},
   "outputs": [],
   "source": [
    "diag = est.run_diagnostics()"
   ]
  },
  {
   "cell_type": "code",
   "execution_count": null,
   "id": "51",
   "metadata": {},
   "outputs": [],
   "source": [
    "inds = est.influential_set(alpha=0.05)"
   ]
  },
  {
   "cell_type": "code",
   "execution_count": null,
   "id": "52",
   "metadata": {},
   "outputs": [],
   "source": [
    "from sklearn.base import clone\n",
    "est2 = clone(est)\n",
    "est2.fit(np.delete(W, inds, axis=0), np.delete(D, inds, axis=0),\n",
    "         np.delete(Z, inds, axis=0), np.delete(X, inds, axis=0),\n",
    "         np.delete(Y, inds, axis=0))"
   ]
  },
  {
   "cell_type": "code",
   "execution_count": null,
   "id": "53",
   "metadata": {},
   "outputs": [],
   "source": [
    "est2.summary(alpha=0.05)"
   ]
  },
  {
   "cell_type": "markdown",
   "id": "54",
   "metadata": {
    "id": "7d5c66f2-556c-4ed8-8e59-88e6a697b3d1"
   },
   "source": [
    "#### Verifying we get the same as ivreg on the dataset in the documentation of ivreg"
   ]
  },
  {
   "cell_type": "code",
   "execution_count": null,
   "id": "55",
   "metadata": {
    "executionInfo": {
     "elapsed": 518,
     "status": "ok",
     "timestamp": 1724430494970,
     "user": {
      "displayName": "Vasilis Syrganis",
      "userId": "00968929417250286436"
     },
     "user_tz": 420
    },
    "id": "e105935b-2598-481d-9e23-508795aa2c39"
   },
   "outputs": [],
   "source": [
    "from proximalde.tests.utilities import gen_kmenta_data\n",
    "Z, X, Y, labels, controls = gen_kmenta_data()"
   ]
  },
  {
   "cell_type": "code",
   "execution_count": null,
   "id": "56",
   "metadata": {
    "colab": {
     "base_uri": "https://localhost:8080/"
    },
    "executionInfo": {
     "elapsed": 375,
     "status": "ok",
     "timestamp": 1724430499584,
     "user": {
      "displayName": "Vasilis Syrganis",
      "userId": "00968929417250286436"
     },
     "user_tz": 420
    },
    "id": "bd2101cf-cf48-48e3-8a72-5122692c381e",
    "outputId": "545fd8ca-f05e-4865-97cd-2f9023860c9c"
   },
   "outputs": [],
   "source": [
    "from proximalde.ivtests import weakiv_tests\n",
    "weakiv_tests(Z, X, Y, controls=controls)"
   ]
  },
  {
   "cell_type": "code",
   "execution_count": null,
   "id": "57",
   "metadata": {
    "executionInfo": {
     "elapsed": 167,
     "status": "ok",
     "timestamp": 1724430504672,
     "user": {
      "displayName": "Vasilis Syrganis",
      "userId": "00968929417250286436"
     },
     "user_tz": 420
    },
    "id": "feea4ab3-6c67-49d3-9664-528576df987a"
   },
   "outputs": [],
   "source": [
    "from proximalde.diagnostics import IVDiagnostics\n",
    "diag = IVDiagnostics(add_constant=True).fit(Z, X, Y)"
   ]
  },
  {
   "cell_type": "code",
   "execution_count": null,
   "id": "58",
   "metadata": {
    "colab": {
     "base_uri": "https://localhost:8080/",
     "height": 480
    },
    "executionInfo": {
     "elapsed": 2115,
     "status": "ok",
     "timestamp": 1724430508319,
     "user": {
      "displayName": "Vasilis Syrganis",
      "userId": "00968929417250286436"
     },
     "user_tz": 420
    },
    "id": "42953881-2b06-4728-91c7-3b00f6b66e2e",
    "outputId": "7df1dcf7-bae4-44f0-f897-e47e969a8ab1"
   },
   "outputs": [],
   "source": [
    "diag.influence_plot(labels=labels)\n",
    "plt.show()"
   ]
  },
  {
   "cell_type": "code",
   "execution_count": null,
   "id": "59",
   "metadata": {
    "id": "eaf0df40-8cfd-426e-a81a-d4a9f05c4c79"
   },
   "outputs": [],
   "source": []
  }
 ],
 "metadata": {
  "colab": {
   "provenance": []
  },
  "kernelspec": {
   "display_name": "Python 3 (ipykernel)",
   "language": "python",
   "name": "python3"
  },
  "language_info": {
   "codemirror_mode": {
    "name": "ipython",
    "version": 3
   },
   "file_extension": ".py",
   "mimetype": "text/x-python",
   "name": "python",
   "nbconvert_exporter": "python",
   "pygments_lexer": "ipython3",
   "version": "3.12.4"
  }
 },
 "nbformat": 4,
 "nbformat_minor": 5
}
