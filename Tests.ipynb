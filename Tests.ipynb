{
 "cells": [
  {
   "cell_type": "markdown",
   "id": "0",
   "metadata": {
    "id": "nJSbD4Nr8VNq"
   },
   "source": [
    "## Setup Only for Colab"
   ]
  },
  {
   "cell_type": "code",
   "execution_count": null,
   "id": "1",
   "metadata": {
    "colab": {
     "base_uri": "https://localhost:8080/"
    },
    "executionInfo": {
     "elapsed": 19683,
     "status": "ok",
     "timestamp": 1725683504820,
     "user": {
      "displayName": "Vasilis Syrganis",
      "userId": "00968929417250286436"
     },
     "user_tz": 420
    },
    "id": "j4wBu9BNomlq",
    "outputId": "a3ae3010-940b-4ce1-b94e-84d1c3161f64"
   },
   "outputs": [],
   "source": [
    "# prompt: mount drive\n",
    "\n",
    "from google.colab import drive\n",
    "drive.mount('/content/drive')"
   ]
  },
  {
   "cell_type": "code",
   "execution_count": null,
   "id": "2",
   "metadata": {
    "colab": {
     "base_uri": "https://localhost:8080/"
    },
    "executionInfo": {
     "elapsed": 1225,
     "status": "ok",
     "timestamp": 1725683506042,
     "user": {
      "displayName": "Vasilis Syrganis",
      "userId": "00968929417250286436"
     },
     "user_tz": 420
    },
    "id": "JfB4MISjovTQ",
    "outputId": "39faf57c-b912-464c-96f0-6eae3668d7e2"
   },
   "outputs": [],
   "source": [
    "%cd /content/drive/MyDrive/Colab\\ Notebooks/hidden_mediators"
   ]
  },
  {
   "cell_type": "code",
   "execution_count": null,
   "id": "3",
   "metadata": {
    "colab": {
     "base_uri": "https://localhost:8080/"
    },
    "executionInfo": {
     "elapsed": 7,
     "status": "ok",
     "timestamp": 1725683506042,
     "user": {
      "displayName": "Vasilis Syrganis",
      "userId": "00968929417250286436"
     },
     "user_tz": 420
    },
    "id": "D5tm-9Fno5Xn",
    "outputId": "ba17f30c-ab2b-42da-ace6-33926c4e9ae2"
   },
   "outputs": [],
   "source": [
    "%ls"
   ]
  },
  {
   "cell_type": "code",
   "execution_count": null,
   "id": "4",
   "metadata": {
    "executionInfo": {
     "elapsed": 3,
     "status": "ok",
     "timestamp": 1725683506042,
     "user": {
      "displayName": "Vasilis Syrganis",
      "userId": "00968929417250286436"
     },
     "user_tz": 420
    },
    "id": "MFy1PyP89gR3"
   },
   "outputs": [],
   "source": [
    "from IPython.display import clear_output"
   ]
  },
  {
   "cell_type": "code",
   "execution_count": null,
   "id": "5",
   "metadata": {
    "executionInfo": {
     "elapsed": 6282,
     "status": "ok",
     "timestamp": 1725683512321,
     "user": {
      "displayName": "Vasilis Syrganis",
      "userId": "00968929417250286436"
     },
     "user_tz": 420
    },
    "id": "VGF-ucGhpC5P"
   },
   "outputs": [],
   "source": [
    "import time\n",
    "!pip install -r requirements.txt\n",
    "time.sleep(2)\n",
    "clear_output()"
   ]
  },
  {
   "cell_type": "code",
   "execution_count": null,
   "id": "6",
   "metadata": {
    "executionInfo": {
     "elapsed": 5023,
     "status": "ok",
     "timestamp": 1725683517312,
     "user": {
      "displayName": "Vasilis Syrganis",
      "userId": "00968929417250286436"
     },
     "user_tz": 420
    },
    "id": "0wsNOzNVtonf"
   },
   "outputs": [],
   "source": [
    "import time\n",
    "# replace `develop` with `install` if you wont make library code changes\n",
    "!python setup.py develop\n",
    "time.sleep(2)\n",
    "clear_output()\n",
    "# Restart the session after running this"
   ]
  },
  {
   "cell_type": "code",
   "execution_count": null,
   "id": "7",
   "metadata": {
    "colab": {
     "base_uri": "https://localhost:8080/"
    },
    "executionInfo": {
     "elapsed": 20,
     "status": "ok",
     "timestamp": 1725683517313,
     "user": {
      "displayName": "Vasilis Syrganis",
      "userId": "00968929417250286436"
     },
     "user_tz": 420
    },
    "id": "zyL1_6L73Z9e",
    "outputId": "261ff9e7-a80d-4cd1-8c7c-404688e4ce10"
   },
   "outputs": [],
   "source": [
    "%cd /content/drive/MyDrive/Colab\\ Notebooks"
   ]
  },
  {
   "cell_type": "markdown",
   "id": "8",
   "metadata": {
    "id": "cvIuehalDudB"
   },
   "source": [
    "# Main Logic"
   ]
  },
  {
   "cell_type": "code",
   "execution_count": null,
   "id": "9",
   "metadata": {
    "executionInfo": {
     "elapsed": 246,
     "status": "ok",
     "timestamp": 1725683563084,
     "user": {
      "displayName": "Vasilis Syrganis",
      "userId": "00968929417250286436"
     },
     "user_tz": 420
    },
    "id": "ab080aab-f8b0-4582-a4fb-1440d7b4ec57"
   },
   "outputs": [],
   "source": [
    "%load_ext autoreload\n",
    "%autoreload 2"
   ]
  },
  {
   "cell_type": "code",
   "execution_count": null,
   "id": "10",
   "metadata": {
    "executionInfo": {
     "elapsed": 5518,
     "status": "ok",
     "timestamp": 1725683568791,
     "user": {
      "displayName": "Vasilis Syrganis",
      "userId": "00968929417250286436"
     },
     "user_tz": 420
    },
    "id": "a0c91797-b6ee-4ffb-a464-832daaabd438"
   },
   "outputs": [],
   "source": [
    "import numpy as np\n",
    "import pandas as pd\n",
    "import matplotlib.pyplot as plt\n",
    "import scipy.stats\n",
    "import pytest\n",
    "from joblib import Parallel, delayed\n",
    "from sklearn.model_selection import KFold, StratifiedKFold, train_test_split\n",
    "from proximalde.gen_data import gen_data_complex, gen_data_no_controls, gen_data_no_controls_discrete_m\n",
    "from proximalde.proximal import proximal_direct_effect, ProximalDE, estimate_nuisances, \\\n",
    "    estimate_final, second_stage, _check_input, residualizeW, _gen_subsamples, RegularizedDualIVSolver\n",
    "from proximalde.inference import NormalInferenceResults, pvalue\n",
    "from proximalde.ivreg import Regularized2SLS, AdvIV\n",
    "from proximalde.ivtests import weakiv_tests\n",
    "from proximalde.tests.utilities import gen_iv_data\n",
    "from sklearn.linear_model import RidgeCV, Ridge, LinearRegression, LassoCV\n",
    "from sklearn.base import clone"
   ]
  },
  {
   "cell_type": "markdown",
   "id": "11",
   "metadata": {
    "id": "fc35db26-fa38-4a33-a21c-e8eefbc14d66"
   },
   "source": [
    "```\n",
    "a : strength of D -> M edge\n",
    "b : strength of M -> Y edge\n",
    "c : strength of D -> Y edge\n",
    "d : strength of D -> Z edge\n",
    "e : strength of M -> Z edge\n",
    "f : strength of M -> X edge\n",
    "g : strength of X -> Y edge\n",
    "```"
   ]
  },
  {
   "cell_type": "markdown",
   "id": "12",
   "metadata": {
    "id": "Ac0oA0qXGurV"
   },
   "source": [
    "# Examining the Quality of Different Variants of the Dual Violation Test"
   ]
  },
  {
   "cell_type": "code",
   "execution_count": null,
   "id": "13",
   "metadata": {
    "id": "5bf16d94-a199-482a-bacb-f4808ae19207"
   },
   "outputs": [],
   "source": [
    "np.random.seed(12356)\n",
    "\n",
    "def exp(it, variant, n, pz, px, e):\n",
    "    np.random.seed(it)\n",
    "    W, D, _, Z, X, Y = gen_data_no_controls(n, pw, pz, px, a, b, c, d, e, f, g, sm=sm)\n",
    "    D = D.reshape(-1, 1)\n",
    "    D = D - D.mean(axis=0)\n",
    "    X = X - X.mean(axis=0)\n",
    "    Z = Z - Z.mean(axis=0)\n",
    "\n",
    "    if variant == 0:\n",
    "        # ignore influence from estimation of gamma\n",
    "        phi = np.zeros(X.shape)\n",
    "        for train, test in KFold(2, shuffle=True, random_state=3).split(X, D):\n",
    "            est = AdvIV(alphas=[1.0 * n**(0.3)]).fit(X[train], Z[train], D[train])\n",
    "            gamma = est.coef_\n",
    "            phi[test] = X[test] * (D[test] - Z[test] @ gamma.reshape(-1, 1))\n",
    "\n",
    "        moments = np.mean(phi, axis=0)\n",
    "        phi = phi - moments.reshape(1, -1)\n",
    "        cov = (phi.T @ phi) / n\n",
    "        return n * moments.T @ np.linalg.pinv(cov) @ moments\n",
    "    if variant == 1:\n",
    "        # use Neyman orthogonal score, which involes estimating the projection\n",
    "        # matrix P = E[XZ] E[XZ]^+. Which we estimate via a regularized SVD\n",
    "        phi = np.zeros(X.shape)\n",
    "        for train, test in KFold(3, shuffle=True, random_state=3).split(X, D):\n",
    "            est = AdvIV(alphas=[1.0 * n**(0.3)]).fit(X[train], Z[train], D[train])\n",
    "            gamma = est.coef_\n",
    "            U, S, V = scipy.linalg.svd((X[train].T @ Z[train]) / len(train), full_matrices=False)\n",
    "            P = U @ np.diag((S / (S + n**(-0.1)))) @ U.T\n",
    "            Proj = np.eye(X.shape[1]) - P\n",
    "            phi[test] = X[test] * (D[test] - Z[test] @ gamma.reshape(-1, 1))\n",
    "            phi[test] = phi[test] @ Proj.T\n",
    "\n",
    "        moments = np.mean(phi, axis=0)\n",
    "        phi = phi - moments.reshape(1, -1)\n",
    "        cov = (phi.T @ phi) / n\n",
    "        return n * moments.T @ np.linalg.pinv(cov) @ moments\n",
    "    if variant == 2:\n",
    "        # Use plug-in score and calculate the influence from gamma,\n",
    "        # which ends up being the linear representation sqrt{n} (I - P) E_n[X (D-gamma Z)]\n",
    "        phi = np.zeros(X.shape)\n",
    "        for train, test in KFold(3, shuffle=True, random_state=3).split(X, D):\n",
    "            est = AdvIV(alphas=[1.0 * n**(0.3)]).fit(X[train], Z[train], D[train])\n",
    "            gamma = est.coef_\n",
    "            phi[test] = X[test] * (D[test] - Z[test] @ gamma.reshape(-1, 1))\n",
    "\n",
    "        moments = np.mean(phi, axis=0)\n",
    "\n",
    "        U, S, V = scipy.linalg.svd((X.T @ Z) / n, full_matrices=False)\n",
    "        P = U @ np.diag((S / (S + n**(-0.1)))) @ U.T\n",
    "        Proj = np.eye(X.shape[1]) - P\n",
    "        phi = phi @ Proj.T\n",
    "        cov = (phi.T @ phi) / n\n",
    "        return n * moments.T @ np.linalg.pinv(cov) @ moments\n",
    "    if variant == 3:\n",
    "        # same as variant 1, but without cross-fitting; ignoring influence from gamma\n",
    "        train, test = train_test_split(np.arange(X.shape[0]), test_size=.3)\n",
    "        est = AdvIV(alphas=[1.0 * len(train)**(0.3)]).fit(X[train], Z[train], D[train])\n",
    "        gamma = est.coef_\n",
    "        phi = X[test] * (D[test] - Z[test] @ gamma.reshape(-1, 1))\n",
    "        moments = np.mean(phi, axis=0)\n",
    "        phi = phi - moments.reshape(1, -1)\n",
    "        cov = (phi.T @ phi) / phi.shape[0]\n",
    "        return phi.shape[0] * moments.T @ np.linalg.pinv(cov) @ moments\n",
    "    if variant == 4:\n",
    "        # same as variant 2 but without cross-fitting. Now the influence\n",
    "        # from gamma is sqrt{n//2} P E_{train}[X(D-gamma Z)]\n",
    "        train, test = train_test_split(np.arange(X.shape[0]), test_size=.3)\n",
    "        est = AdvIV(alphas=[1.0 * len(train)**(0.3)]).fit(X[train], Z[train], D[train])\n",
    "        gamma = est.coef_\n",
    "        U, S, V = scipy.linalg.svd((X[train].T @ Z[train]) / len(train), full_matrices=False)\n",
    "        P = U @ np.diag(S / (S + 1 / n**(0.2))) @ U.T\n",
    "        phi = X * (D - Z @ gamma.reshape(-1, 1))\n",
    "        phi[train] = phi[train] @ P.T\n",
    "\n",
    "        moments = np.mean(phi[test], axis=0)\n",
    "        phi[test] = phi[test] - moments.reshape(1, -1)\n",
    "        cov = (phi[test].T @ phi[test]) / phi[test].shape[0]**2\n",
    "        cov += (phi[train].T @ phi[train]) / phi[train].shape[0]**2\n",
    "\n",
    "        return moments.T @ np.linalg.pinv(cov) @ moments\n",
    "    if variant == 5:\n",
    "        # Similar to variant 4, but using the regularized influence function\n",
    "        # from the adviv, which couples the regularization used in the pseudo-inverse\n",
    "        # with the one used to estimate gamma and not a different regularized SVD\n",
    "        train, test = train_test_split(np.arange(X.shape[0]), test_size=.3, shuffle=True, random_state=it)\n",
    "        est = AdvIV(alphas=[1.0 * len(train)**(0.3)]).fit(X[train], Z[train], D[train])\n",
    "        gamma = est.coef_\n",
    "        phi = X[test] * (D[test] - Z[test] @ gamma.reshape(-1, 1))\n",
    "\n",
    "        moments = np.mean(phi, axis=0)\n",
    "        phi = phi - moments.reshape(1, -1)\n",
    "        cov = (phi.T @ phi) / phi.shape[0]**2\n",
    "        der = X.T @ Z / X.shape[0]\n",
    "        cov_gamma = est.inf_.T @ est.inf_ / (est.inf_.shape[0]**2)\n",
    "        cov += der @ cov_gamma @ der.T\n",
    "\n",
    "        return moments.T @ scipy.linalg.pinvh(cov) @ moments"
   ]
  },
  {
   "cell_type": "code",
   "execution_count": null,
   "id": "14",
   "metadata": {
    "id": "Bst3kytumswr"
   },
   "outputs": [],
   "source": [
    "egrid = [0.0, 1.0]\n",
    "variantgrid = [4]\n",
    "ngrid = [50000, 500000]\n",
    "pzpxgrid = [(1, 1), (5, 3), (100, 50)]\n",
    "nexps = 1000"
   ]
  },
  {
   "cell_type": "code",
   "execution_count": null,
   "id": "15",
   "metadata": {
    "colab": {
     "base_uri": "https://localhost:8080/"
    },
    "executionInfo": {
     "elapsed": 817678,
     "status": "ok",
     "timestamp": 1725667589927,
     "user": {
      "displayName": "Vasilis Syrganis",
      "userId": "00968929417250286436"
     },
     "user_tz": 420
    },
    "id": "UhomaXBxtxPa",
    "outputId": "ad92be26-a161-4192-eddd-b8371b92a8f2"
   },
   "outputs": [],
   "source": [
    "res = {}\n",
    "for e in egrid:\n",
    "    res[e] = {}\n",
    "    for variant in variantgrid:\n",
    "        res[e][variant] = {}\n",
    "        for n in ngrid:\n",
    "            res[e][variant][n] = {}\n",
    "            for pz, px in pzpxgrid:\n",
    "                res[e][variant][n][(pz,px)] = Parallel(n_jobs=-1, verbose=3)(delayed(exp)(it, variant, n, pz, px, e)\n",
    "                                                                             for it in range(nexps))"
   ]
  },
  {
   "cell_type": "code",
   "execution_count": null,
   "id": "16",
   "metadata": {
    "colab": {
     "base_uri": "https://localhost:8080/"
    },
    "executionInfo": {
     "elapsed": 11180,
     "status": "ok",
     "timestamp": 1725667601106,
     "user": {
      "displayName": "Vasilis Syrganis",
      "userId": "00968929417250286436"
     },
     "user_tz": 420
    },
    "id": "1C9zQueywNka",
    "outputId": "d9ad3551-081a-48b2-f00e-86df4a23f0dc"
   },
   "outputs": [],
   "source": [
    "for e in egrid:\n",
    "    print(f\"e = {e}\")\n",
    "    for variant in variantgrid:\n",
    "        print(f\"Variant {variant}\")\n",
    "        for n in ngrid:\n",
    "            for pz, px in pzpxgrid:\n",
    "                result = np.array(res[e][variant][n][(pz,px)])\n",
    "                print(f\"({n}, {pz}, {px}): {np.mean(result > scipy.stats.chi2(df=px).ppf(.95))} vs 0.05, \"\n",
    "                    f\"{np.mean(np.array(result), axis=0):.3f} vs {px}, \"\n",
    "                    f\"{np.var(np.array(result), axis=0):.3f} vs {2*px}\")"
   ]
  },
  {
   "cell_type": "code",
   "execution_count": null,
   "id": "17",
   "metadata": {
    "colab": {
     "base_uri": "https://localhost:8080/",
     "height": 400
    },
    "executionInfo": {
     "elapsed": 28,
     "status": "ok",
     "timestamp": 1725667601114,
     "user": {
      "displayName": "Vasilis Syrganis",
      "userId": "00968929417250286436"
     },
     "user_tz": 420
    },
    "id": "GnP15gIivcvw",
    "outputId": "65f72101-19e4-42f2-cd45-72bd7ba84ffa"
   },
   "outputs": [],
   "source": [
    "for variant in variantgrid:\n",
    "    print(f\"Variant {variant}\")\n",
    "    plt.figure(figsize=(20, 5))\n",
    "    it = 1\n",
    "    for n in ngrid:\n",
    "        for pz, px in pzpxgrid:\n",
    "            result = np.array(res[egrid[-1]][variant][n][(pz,px)])\n",
    "            result_violated = {}\n",
    "            for e in egrid[:-1]:\n",
    "                result_violated[e] = np.array(res[e][variant][n][(pz,px)])\n",
    "            plt.subplot(len(ngrid), len(pzpxgrid), it)\n",
    "            plt.title(f\"({n}, {pz}, {px}): {np.mean(result > scipy.stats.chi2(df=px).ppf(.95))} vs 0.05, \"\n",
    "                      f\"{np.mean(np.array(result), axis=0):.3f} vs {px}, \"\n",
    "                      f\"{np.var(np.array(result), axis=0):.3f} vs {2*px}\\n\"\n",
    "                      + \", \".join(f\"Power[{e}]: {np.mean(result_violated[e] > scipy.stats.chi2(df=px).ppf(.95))} vs 1.0\" for e in egrid[:-1]))\n",
    "            plt.hist(result)\n",
    "            plt.axvline(scipy.stats.chi2(df=px).ppf(.95), color='r')\n",
    "            for e in egrid[:-1]:\n",
    "                plt.hist(result_violated[e], alpha=0.4)\n",
    "            it += 1\n",
    "    plt.tight_layout()\n",
    "    plt.show()"
   ]
  },
  {
   "cell_type": "code",
   "execution_count": null,
   "id": "18",
   "metadata": {
    "colab": {
     "base_uri": "https://localhost:8080/",
     "height": 549
    },
    "executionInfo": {
     "elapsed": 30,
     "status": "ok",
     "timestamp": 1725667601124,
     "user": {
      "displayName": "Vasilis Syrganis",
      "userId": "00968929417250286436"
     },
     "user_tz": 420
    },
    "id": "gw1xeG0SY_D4",
    "outputId": "599bb3c7-fe9e-4363-f988-e31bdf38a5ee"
   },
   "outputs": [],
   "source": [
    "from statsmodels.graphics.gofplots import qqplot\n",
    "for variant in variantgrid:\n",
    "    print(f\"Variant {variant}\")\n",
    "    plt.figure(figsize=(20, 7))\n",
    "    it = 1\n",
    "    for n in ngrid:\n",
    "        for pz, px in pzpxgrid:\n",
    "            result = np.array(res[egrid[-1]][variant][n][(pz,px)])\n",
    "            ax = plt.subplot(len(ngrid), len(pzpxgrid), it)\n",
    "            plt.title(f\"({n}, {pz}, {px}): {np.mean(result > scipy.stats.chi2(df=px).ppf(.95))} vs 0.05, \"\n",
    "                    f\"{np.mean(np.array(result), axis=0):.3f} vs {px}, \"\n",
    "                    f\"{np.var(np.array(result), axis=0):.3f} vs {2*px}\")\n",
    "            qqplot(result, dist=scipy.stats.chi2(df=px), line='45', ax=ax)\n",
    "            it += 1\n",
    "    plt.tight_layout()\n",
    "    plt.show()"
   ]
  },
  {
   "cell_type": "code",
   "execution_count": null,
   "id": "19",
   "metadata": {
    "colab": {
     "base_uri": "https://localhost:8080/"
    },
    "executionInfo": {
     "elapsed": 76147,
     "status": "ok",
     "timestamp": 1725667677247,
     "user": {
      "displayName": "Vasilis Syrganis",
      "userId": "00968929417250286436"
     },
     "user_tz": 420
    },
    "id": "_zgsIrUO5Iae",
    "outputId": "494dec12-5ac9-423c-d60b-c1c2ebcb66ad"
   },
   "outputs": [],
   "source": [
    "from sklearn.model_selection import train_test_split\n",
    "n = 50000\n",
    "e = 1.0\n",
    "pz, px = 60, 5\n",
    "def exp(it):\n",
    "    np.random.seed(it)\n",
    "    W, D, _, Z, X, Y = gen_data_no_controls(n, pw, pz, px, a, b, c, d, e, f, g, sm=sm)\n",
    "    est = ProximalDE(dual_type='Z', cv=3, semi=True,\n",
    "                 multitask=False, n_jobs=-1, random_state=it, verbose=0)\n",
    "    est.fit(None, D, Z, X, Y)\n",
    "    return est.dual_violation_test()[0]\n",
    "\n",
    "res = Parallel(n_jobs=-1, verbose=3)(delayed(exp)(it) for it in range(1000))"
   ]
  },
  {
   "cell_type": "code",
   "execution_count": null,
   "id": "20",
   "metadata": {
    "id": "ToW9gWEU5ReY"
   },
   "outputs": [],
   "source": [
    "plt.title(f\"{np.mean(res > scipy.stats.chi2(df=px).ppf(.95))} vs 0.05, {np.mean(np.array(res), axis=0):.3f} vs {px}, {np.var(np.array(res), axis=0):.3f} vs {2*px}\")\n",
    "plt.hist(res)\n",
    "plt.axvline(scipy.stats.chi2(df=px).ppf(.95))\n",
    "# plt.hist(np.random.chisquare(df=px, size=(100,)), alpha=.3,)\n",
    "plt.show()"
   ]
  },
  {
   "cell_type": "code",
   "execution_count": null,
   "id": "21",
   "metadata": {
    "id": "gAHEoQiT5asm"
   },
   "outputs": [],
   "source": [
    "from statsmodels.graphics.gofplots import qqplot\n",
    "qqplot(np.array(res), dist=scipy.stats.chi2(df=px), line='45')\n",
    "plt.show()"
   ]
  },
  {
   "cell_type": "markdown",
   "id": "22",
   "metadata": {
    "id": "HEv24UdI_06P"
   },
   "source": [
    "# Multi-Dimensional Mediator"
   ]
  },
  {
   "cell_type": "code",
   "execution_count": null,
   "id": "23",
   "metadata": {
    "executionInfo": {
     "elapsed": 269,
     "status": "ok",
     "timestamp": 1725683569058,
     "user": {
      "displayName": "Vasilis Syrganis",
      "userId": "00968929417250286436"
     },
     "user_tz": 420
    },
    "id": "870gsezwADpf"
   },
   "outputs": [],
   "source": [
    "np.random.seed(12356)\n",
    "\n",
    "def exp(it, variant, n, pz, px, E, F, pm):\n",
    "    np.random.seed(it)\n",
    "    W, D, _, Z, X, Y = gen_data_no_controls_discrete_m(n, pw, pz, px, a, b, c, d, E, F, g, pm=pm)\n",
    "    D = D.reshape(-1, 1)\n",
    "    D = D - D.mean(axis=0)\n",
    "    X = X - X.mean(axis=0)\n",
    "    Z = Z - Z.mean(axis=0)\n",
    "\n",
    "    if variant == 0:\n",
    "        # ignore influence from estimation of gamma\n",
    "        phi = np.zeros(X.shape)\n",
    "        for train, test in KFold(2, shuffle=True, random_state=3).split(X, D):\n",
    "            est = AdvIV(alphas=[1.0 * n**(0.3)]).fit(X[train], Z[train], D[train])\n",
    "            gamma = est.coef_\n",
    "            phi[test] = X[test] * (D[test] - Z[test] @ gamma.reshape(-1, 1))\n",
    "\n",
    "        moments = np.mean(phi, axis=0)\n",
    "        phi = phi - moments.reshape(1, -1)\n",
    "        cov = (phi.T @ phi) / n\n",
    "        return n * moments.T @ np.linalg.pinv(cov) @ moments\n",
    "    if variant == 1:\n",
    "        # use Neyman orthogonal score, which involes estimating the projection\n",
    "        # matrix P = E[XZ] E[XZ]^+. Which we estimate via a regularized SVD\n",
    "        phi = np.zeros(X.shape)\n",
    "        for train, test in KFold(3, shuffle=True, random_state=3).split(X, D):\n",
    "            est = AdvIV(alphas=[1.0 * n**(0.3)]).fit(X[train], Z[train], D[train])\n",
    "            gamma = est.coef_\n",
    "            U, S, V = scipy.linalg.svd((X[train].T @ Z[train]) / len(train), full_matrices=False)\n",
    "            P = U @ np.diag((S / (S + n**(-0.1)))) @ U.T\n",
    "            Proj = np.eye(X.shape[1]) - P\n",
    "            phi[test] = X[test] * (D[test] - Z[test] @ gamma.reshape(-1, 1))\n",
    "            phi[test] = phi[test] @ Proj.T\n",
    "\n",
    "        moments = np.mean(phi, axis=0)\n",
    "        phi = phi - moments.reshape(1, -1)\n",
    "        cov = (phi.T @ phi) / n\n",
    "        return n * moments.T @ np.linalg.pinv(cov) @ moments\n",
    "    if variant == 2:\n",
    "        # Use plug-in score and calculate the influence from gamma,\n",
    "        # which ends up being the linear representation sqrt{n} (I - P) E_n[X (D-gamma Z)]\n",
    "        phi = np.zeros(X.shape)\n",
    "        for train, test in KFold(3, shuffle=True, random_state=3).split(X, D):\n",
    "            est = AdvIV(alphas=[1.0 * n**(0.3)]).fit(X[train], Z[train], D[train])\n",
    "            gamma = est.coef_\n",
    "            phi[test] = X[test] * (D[test] - Z[test] @ gamma.reshape(-1, 1))\n",
    "\n",
    "        moments = np.mean(phi, axis=0)\n",
    "\n",
    "        U, S, V = scipy.linalg.svd((X.T @ Z) / n, full_matrices=False)\n",
    "        P = U @ np.diag((S / (S + n**(-0.1)))) @ U.T\n",
    "        Proj = np.eye(X.shape[1]) - P\n",
    "        phi = phi @ Proj.T\n",
    "        cov = (phi.T @ phi) / n\n",
    "        return n * moments.T @ np.linalg.pinv(cov) @ moments\n",
    "    if variant == 3:\n",
    "        # same as variant 1, but without cross-fitting; ignoring influence from gamma\n",
    "        train, test = train_test_split(np.arange(X.shape[0]), test_size=.3)\n",
    "        est = AdvIV(alphas=[1.0 * len(train)**(0.3)]).fit(X[train], Z[train], D[train])\n",
    "        gamma = est.coef_\n",
    "        phi = X[test] * (D[test] - Z[test] @ gamma.reshape(-1, 1))\n",
    "        moments = np.mean(phi, axis=0)\n",
    "        phi = phi - moments.reshape(1, -1)\n",
    "        cov = (phi.T @ phi) / phi.shape[0]\n",
    "        return phi.shape[0] * moments.T @ np.linalg.pinv(cov) @ moments\n",
    "    if variant == 4:\n",
    "        # same as variant 2 but without cross-fitting. Now the influence\n",
    "        # from gamma is sqrt{n//2} P E_{train}[X(D-gamma Z)]\n",
    "        train, test = train_test_split(np.arange(X.shape[0]), test_size=.3)\n",
    "        est = AdvIV(alphas=[1.0 * len(train)**(0.3)]).fit(X[train], Z[train], D[train])\n",
    "        gamma = est.coef_\n",
    "        U, S, V = scipy.linalg.svd((X[train].T @ Z[train]) / len(train), full_matrices=False)\n",
    "        P = U @ np.diag(S / (S + 1 / n**(0.2))) @ U.T\n",
    "        phi = X * (D - Z @ gamma.reshape(-1, 1))\n",
    "        phi[train] = phi[train] @ P.T\n",
    "\n",
    "        moments = np.mean(phi[test], axis=0)\n",
    "        phi[test] = phi[test] - moments.reshape(1, -1)\n",
    "        cov = (phi[test].T @ phi[test]) / phi[test].shape[0]**2\n",
    "        cov += (phi[train].T @ phi[train]) / phi[train].shape[0]**2\n",
    "\n",
    "        return moments.T @ np.linalg.pinv(cov) @ moments\n",
    "    if variant == 5:\n",
    "        # Similar to variant 4, but using the regularized influence function\n",
    "        # from the adviv, which couples the regularization used in the pseudo-inverse\n",
    "        # with the one used to estimate gamma and not a different regularized SVD\n",
    "        train, test = train_test_split(np.arange(X.shape[0]), test_size=.3, shuffle=True, random_state=it)\n",
    "        est = AdvIV(alphas=[1.0 * len(train)**(0.3)]).fit(X[train], Z[train], D[train])\n",
    "        gamma = est.coef_\n",
    "        phi = X[test] * (D[test] - Z[test] @ gamma.reshape(-1, 1))\n",
    "\n",
    "        moments = np.mean(phi, axis=0)\n",
    "        phi = phi - moments.reshape(1, -1)\n",
    "        cov = (phi.T @ phi) / phi.shape[0]**2\n",
    "        der = X.T @ Z / X.shape[0]\n",
    "        cov_gamma = est.inf_.T @ est.inf_ / (est.inf_.shape[0]**2)\n",
    "        cov += der @ cov_gamma @ der.T\n",
    "\n",
    "        return moments.T @ scipy.linalg.pinvh(cov) @ moments"
   ]
  },
  {
   "cell_type": "code",
   "execution_count": null,
   "id": "24",
   "metadata": {
    "executionInfo": {
     "elapsed": 2,
     "status": "ok",
     "timestamp": 1725683569058,
     "user": {
      "displayName": "Vasilis Syrganis",
      "userId": "00968929417250286436"
     },
     "user_tz": 420
    },
    "id": "JgAJkZliAH40"
   },
   "outputs": [],
   "source": [
    "pm = 7\n",
    "pzpxgrid = [(20, 10), (100, 50)]\n",
    "ngrid = [50000, 500000]\n",
    "egrid = [0.0, 1.0]\n",
    "variantgrid = [4]\n",
    "nexps = 1000"
   ]
  },
  {
   "cell_type": "code",
   "execution_count": null,
   "id": "25",
   "metadata": {
    "colab": {
     "base_uri": "https://localhost:8080/"
    },
    "executionInfo": {
     "elapsed": 1970198,
     "status": "ok",
     "timestamp": 1725685875293,
     "user": {
      "displayName": "Vasilis Syrganis",
      "userId": "00968929417250286436"
     },
     "user_tz": 420
    },
    "id": "71754BrXAL_H",
    "outputId": "d905cbda-cbfd-410a-a0fa-9eb18880e5e9"
   },
   "outputs": [],
   "source": [
    "res = {}\n",
    "for pz, px in pzpxgrid:\n",
    "    full_rank = False\n",
    "    while not full_rank:\n",
    "        E = np.random.normal(0, 2, (pm, pz))\n",
    "        F = np.random.normal(0, 2, (pm, px))\n",
    "        if (np.linalg.matrix_rank(E, tol=0.5) == pm) and (np.linalg.matrix_rank(F, tol=0.5) == pm):\n",
    "            full_rank = True\n",
    "    res[(pz, px)] = {}\n",
    "    for e in egrid:\n",
    "        res[(pz, px)][e] = {}\n",
    "        for variant in variantgrid:\n",
    "            res[(pz, px)][e][variant] = {}\n",
    "            for n in ngrid:\n",
    "                res[(pz, px)][e][variant][n] = Parallel(n_jobs=-1, verbose=3)(delayed(exp)(it, variant, n, pz, px, e*E, f*F, pm) for it in range(nexps))"
   ]
  },
  {
   "cell_type": "code",
   "execution_count": null,
   "id": "26",
   "metadata": {
    "colab": {
     "base_uri": "https://localhost:8080/"
    },
    "executionInfo": {
     "elapsed": 4,
     "status": "ok",
     "timestamp": 1725685875293,
     "user": {
      "displayName": "Vasilis Syrganis",
      "userId": "00968929417250286436"
     },
     "user_tz": 420
    },
    "id": "MXg_Q3YBAPqd",
    "outputId": "f27be604-3ee8-4bdf-9313-c9d8759f67a2"
   },
   "outputs": [],
   "source": [
    "for pz, px in pzpxgrid:\n",
    "    for e in egrid:\n",
    "        print(f\"e = {e}\")\n",
    "        for variant in variantgrid:\n",
    "            print(f\"Variant {variant}\")\n",
    "            for n in ngrid:\n",
    "\n",
    "                result = np.array(res[(pz, px)][e][variant][n])\n",
    "                print(f\"({n}, {pz}, {px}): {np.mean(result > scipy.stats.chi2(df=px).ppf(.95))} vs 0.05, \"\n",
    "                    f\"{np.mean(np.array(result), axis=0):.3f} vs {px}, \"\n",
    "                    f\"{np.var(np.array(result), axis=0):.3f} vs {2*px}\")"
   ]
  },
  {
   "cell_type": "code",
   "execution_count": null,
   "id": "27",
   "metadata": {
    "colab": {
     "base_uri": "https://localhost:8080/",
     "height": 399
    },
    "executionInfo": {
     "elapsed": 1003,
     "status": "ok",
     "timestamp": 1725685876294,
     "user": {
      "displayName": "Vasilis Syrganis",
      "userId": "00968929417250286436"
     },
     "user_tz": 420
    },
    "id": "g3_PdkHPUuIl",
    "outputId": "1b69a06e-1897-4828-c21e-deed8a3620f1"
   },
   "outputs": [],
   "source": [
    "for variant in variantgrid:\n",
    "    print(f\"Variant {variant}\")\n",
    "    plt.figure(figsize=(20, 5))\n",
    "    it = 1\n",
    "    for n in ngrid:\n",
    "        for pz, px in pzpxgrid:\n",
    "            result = np.array(res[(pz,px)][egrid[-1]][variant][n])\n",
    "            result_violated = {}\n",
    "            for e in egrid[:-1]:\n",
    "                result_violated[e] = np.array(res[(pz,px)][e][variant][n])\n",
    "            plt.subplot(len(ngrid), len(pzpxgrid), it)\n",
    "            plt.title(f\"({n}, {pz}, {px}): {np.mean(result > scipy.stats.chi2(df=px).ppf(.95))} vs 0.05, \"\n",
    "                      f\"{np.mean(np.array(result), axis=0):.3f} vs {px}, \"\n",
    "                      f\"{np.var(np.array(result), axis=0):.3f} vs {2*px}\\n\"\n",
    "                      + \", \".join(f\"Power[{e}]: {np.mean(result_violated[e] > scipy.stats.chi2(df=px).ppf(.95))} vs 1.0\" for e in egrid[:-1]))\n",
    "            plt.hist(result)\n",
    "            plt.axvline(scipy.stats.chi2(df=px).ppf(.95), color='r')\n",
    "            for e in egrid[:-1]:\n",
    "                plt.hist(result_violated[e], alpha=0.4)\n",
    "            it += 1\n",
    "    plt.tight_layout()\n",
    "    plt.show()"
   ]
  },
  {
   "cell_type": "code",
   "execution_count": null,
   "id": "28",
   "metadata": {
    "executionInfo": {
     "elapsed": 12312,
     "status": "ok",
     "timestamp": 1725685888606,
     "user": {
      "displayName": "Vasilis Syrganis",
      "userId": "00968929417250286436"
     },
     "user_tz": 420
    },
    "id": "ispA3qjgBKku"
   },
   "outputs": [],
   "source": [
    "np.random.seed(it)\n",
    "W, D, _, Z, X, Y = gen_data_no_controls_discrete_m(n, pw, pz, px, a, b, c, d, E, F, g, sm=sm, pm=pm)\n",
    "est = ProximalDE().fit(None, D, Z, X, Y)\n"
   ]
  },
  {
   "cell_type": "markdown",
   "id": "29",
   "metadata": {
    "id": "3Si5HMYQG3mZ"
   },
   "source": [
    "# Examining that Tests Capture the Failure Modes they Intend to Capture"
   ]
  },
  {
   "cell_type": "code",
   "execution_count": null,
   "id": "30",
   "metadata": {
    "id": "d1a3270d-5264-469b-acc8-f3309961fa8e"
   },
   "outputs": [],
   "source": [
    "# W, D, _, Z, X, Y = gen_data_complex(n, pw, pz, px, a, b, c, d, e, f, g)"
   ]
  },
  {
   "cell_type": "code",
   "execution_count": null,
   "id": "31",
   "metadata": {
    "id": "7b6dab39-4912-4338-840b-a9c03c55c15e"
   },
   "outputs": [],
   "source": [
    "def true_params(pw, pz, px, a, b, c, d, e, f, g, sm, sz=1.0, sd=0.5):\n",
    "    if pz == 1 and px == 1:\n",
    "        true_Zsq = (e * a + d)**2 * sd**2 + e**2 * sm**2 + sz**2\n",
    "        true_Msq = sm**2 + a**2 * sd**2\n",
    "        true_XZ = f * (e * true_Msq + d * a * sd**2)\n",
    "        true_DZ = (a * e + d) * sd**2\n",
    "        true_DX = a * f * sd**2\n",
    "        # D*X / X*Z\n",
    "        if true_XZ == 0:\n",
    "            true_gamma = np.inf\n",
    "        else:\n",
    "            true_gamma = true_DX / true_XZ\n",
    "        # D^2 - gamma D * Z\n",
    "        true_strength = sd**2 - true_gamma * true_DZ\n",
    "        return true_gamma, true_strength\n",
    "    else:\n",
    "        raise AttributeError(\"Not available\")"
   ]
  },
  {
   "cell_type": "code",
   "execution_count": null,
   "id": "32",
   "metadata": {
    "id": "4bbb859f-c554-480c-af64-53424cab62b2"
   },
   "outputs": [],
   "source": [
    "def exp_summary(it, n, pw, pz, px, a, b, c, d, e, f, g, sm):\n",
    "    np.random.seed(it)\n",
    "    W, D, _, Z, X, Y = gen_data_no_controls(n, pw, pz, px, a, b, c, d, e, f, g, sm=sm)\n",
    "    est = ProximalDE(dual_type='Z', cv=3, semi=True, ivreg_type='adv',\n",
    "                     multitask=False, n_jobs=1, random_state=3, verbose=0)\n",
    "    est.fit(None, D, Z, X, Y)\n",
    "    lb, ub = est.robust_conf_int(lb=-2, ub=2)\n",
    "    weakiv_stat, _, _, _, pi, var_pi = est.weakiv_test(return_pi_and_var=True)\n",
    "    eigs, eig_crit = est.covariance_rank_test(calculate_critical=True)\n",
    "    maxeig = eigs[0]\n",
    "    return est.stderr_, est.idstrength_, est.primal_violation_, est.dual_violation_, est.point_, \\\n",
    "        lb, ub, weakiv_stat, maxeig, pi, var_pi, *est.gamma_.flatten(), *est.ivreg_gamma_.stderr_.flatten(), est.idstrength_std_, eig_crit\n",
    "\n",
    "def run_summary(n, pw, pz, px, a, b, c, d, e, f, g, sm):\n",
    "    res = np.array(Parallel(n_jobs=-1, verbose=3)(delayed(exp_summary)(it, n, pw, pz, px, a, b, c, d, e, f, g, sm)\n",
    "                                                  for it in range(100)))\n",
    "    print(f\"Mean estimate: {np.mean(res[:, 4]):.3f}\")\n",
    "    print(f\"Bias: {np.mean(res[:, 4] - c):.3f}\")\n",
    "    print(f\"RMSE: {np.sqrt(np.mean((res[:, 4] - c)**2)):.3f}\")\n",
    "    cov = np.mean((res[:, 4] + 1.96 * res[:, 0] >= c) & (res[:, 4] - 1.96 * res[:, 0] <= c))\n",
    "    print(f\"Coverage: {cov:.3f}\")\n",
    "    rcov = np.mean((res[:, 5] <= c) & (res[:, 6] >= c))\n",
    "    print(f\"ID-Robust Coverage: {rcov:.3f}\")\n",
    "    plt.figure(figsize=(10, 10))\n",
    "    plt.subplot(3, 2, 1)\n",
    "    plt.title(f\"stderr: mean={np.mean(res[:, 0]):.3f}, %>1.0={np.mean(res[:, 0] > 2.0):.3f}\")\n",
    "    plt.hist(res[:, 0])\n",
    "    plt.subplot(3, 2, 2)\n",
    "    crit = np.round(scipy.stats.foldnorm(c=10).ppf(.95), 2)\n",
    "    plt.title(f\"idstrength: mean={np.mean(res[:, 1] / res[:, 11 + 2*pz]):.3f}, %<{crit}={np.mean(res[:, 1] / res[:, 11 + 2*pz] < crit):.3f}\")\n",
    "    plt.hist(res[:, 1] / res[:, 11 + 2*pz])\n",
    "    plt.subplot(3, 2, 3)\n",
    "    crit = np.round(scipy.stats.chi2(df=pz + 1).ppf(.95), 2)\n",
    "    plt.title(f\"primal_violation: mean={np.mean(res[:, 2]):.3f}, %>{crit}={np.mean(res[:, 2] > crit):.3f}\")\n",
    "    plt.hist(res[:, 2])\n",
    "    plt.subplot(3, 2, 4)\n",
    "    crit = np.round(scipy.stats.chi2(df=px).ppf(.95), 2)\n",
    "    plt.title(f\"dual_violation: mean={np.mean(res[:, 3]):.3f}, %>{crit}={np.mean(res[:, 3] > crit):.3f}\")\n",
    "    plt.hist(res[:, 3])\n",
    "    plt.subplot(3, 2, 5)\n",
    "    plt.title(f\"weakiv_test: mean={np.mean(res[:, 7]):.3f}, %<23={np.mean(res[:, 7] < 23):.3f}\")\n",
    "    plt.hist(res[:, 7])\n",
    "    plt.subplot(3, 2, 6)\n",
    "    eig_stat = res[:, 8] / res[:, 11+2*pz+1]\n",
    "    plt.title(f\"rank_test: mean={np.mean(eig_stat):.3f}, %<1={np.mean(eig_stat < 1):.3f}\")\n",
    "    plt.hist(eig_stat)\n",
    "    plt.tight_layout()\n",
    "    plt.show()\n",
    "\n",
    "    pi = res[:, 9]\n",
    "    var_pi = n * res[:, 10]\n",
    "    print(f\"mean(pi) = {np.mean(pi):.3f}\")\n",
    "    print(f\"True n * var(pi)={n * np.var(pi):.3f}\")\n",
    "    print(f\"n * hatvar(pi): mean={np.mean(var_pi):.3f}, median={np.median(var_pi):.3f}, \"\n",
    "          f\"(5%, 95%)=({np.percentile(var_pi, 5):.3f}, {np.percentile(var_pi, 95):.3f})\"\n",
    "          f\"(1%, 99%)=({np.percentile(var_pi, 1):.3f}, {np.percentile(var_pi, 99):.3f})\")\n",
    "\n",
    "    gamma = res[:, 11:11+pz]\n",
    "    var_gamma = n * (res[:, 11+pz:11+2*pz])**2\n",
    "    print(\"mean(gamma) = \", np.round(np.mean(gamma, axis=0), 3))\n",
    "    print(\"True n * var(gamma)=\", np.round(n * np.var(gamma, axis=0), 3))\n",
    "    print(\"n * hatvar(gamma): mean=\", np.round(np.mean(var_gamma, axis=0), 3), \"median=\", np.round(np.median(var_gamma, axis=0), 3),\n",
    "          \"(5%, 95%)=(\", np.round(np.percentile(var_gamma, 5, axis=0), 3), np.round(np.percentile(var_gamma, 95, axis=0),3), \")\")\n",
    "\n",
    "    idstrength = res[:, 1]\n",
    "    var_idstrength = n * (res[:, 11+2*pz])**2\n",
    "    print(\"mean(str) = \", np.round(np.mean(idstrength, axis=0), 3))\n",
    "    print(\"True n * var(str)=\", np.round(n * np.var(idstrength, axis=0), 3))\n",
    "    print(\"n * hatvar(str): mean=\", np.round(np.mean(var_idstrength, axis=0), 3), \"median=\", np.round(np.median(var_idstrength, axis=0), 3),\n",
    "          \"(5%, 95%)=(\", np.round(np.percentile(var_idstrength, 5, axis=0), 3), np.round(np.percentile(var_idstrength, 95, axis=0),3), \")\")\n",
    "\n",
    "    if pz == 1 and px == 1:\n",
    "        true_gamma, _ = true_params(pw, pz, px, a, b, c, d, e, f, g, sm)\n",
    "        W, D, _, Z, X, Y = gen_data_no_controls(100000, pw, pz, px, a, b, c, d, e, f, g, sm=sm)\n",
    "        D = D.reshape(-1, 1)\n",
    "        D = D - D.mean(axis=0)\n",
    "        X = X - X.mean(axis=0)\n",
    "        Z = Z - Z.mean(axis=0)\n",
    "        print(f\"true(pi)={LinearRegression(fit_intercept=False).fit(D - true_gamma * Z, D.flatten()).coef_[0]:.3f}\")"
   ]
  },
  {
   "cell_type": "code",
   "execution_count": null,
   "id": "33",
   "metadata": {
    "id": "73dd2dd1-a725-45e7-acb0-1d9512688f08"
   },
   "outputs": [],
   "source": [
    "def test_pi_and_var_pi():\n",
    "    np.random.seed(123)\n",
    "    n = 10000\n",
    "    pw = 1\n",
    "    pz, px = 3, 3\n",
    "    n_splits = 3\n",
    "    # Indirect effect is a*b, direct effect is c\n",
    "    a, b, c = 1.0, 1.0, .5\n",
    "    # D has direct relationship to Z, Z has direct relationship to M,\n",
    "    # X has direct relationship to M, X has direct relationship to Y\n",
    "    d, e, f, g = 1.0, 1.0, 1.0, 1.0\n",
    "    sm = 2.0\n",
    "    res = np.array(Parallel(n_jobs=-1, verbose=3)(delayed(exp_summary)(it, n, pw, pz, px, a, b, c, d, e, f, g, sm)\n",
    "                                                  for it in range(100)))\n",
    "\n",
    "    pi = res[:, 9]\n",
    "    var_pi = n * res[:, 10]\n",
    "    print(np.mean(pi))\n",
    "    print(n * np.var(pi), np.mean(var_pi))\n",
    "    print(n * np.var(pi), np.percentile(var_pi, 1))\n",
    "    print(n * np.var(pi), np.percentile(var_pi, 99))\n",
    "    assert np.allclose(n * np.var(pi), np.mean(var_pi), atol=5e-3)\n",
    "    assert np.allclose(n * np.var(pi), np.percentile(var_pi, 1), atol=5e-3)\n",
    "    assert np.allclose(n * np.var(pi), np.percentile(var_pi, 99), atol=5e-3)"
   ]
  },
  {
   "cell_type": "code",
   "execution_count": null,
   "id": "34",
   "metadata": {
    "id": "4830bc0d-6137-4ee7-8fc6-2a73da06cfd0"
   },
   "outputs": [],
   "source": [
    "# test_pi_and_var_pi()"
   ]
  },
  {
   "cell_type": "code",
   "execution_count": null,
   "id": "35",
   "metadata": {
    "id": "8c5428b9-1084-4a5b-9553-6b2e486be3b2"
   },
   "outputs": [],
   "source": [
    "# exp_summary(0, n, pw, pz, px, a, b, c, d, e, f, g, sm)"
   ]
  },
  {
   "cell_type": "code",
   "execution_count": null,
   "id": "36",
   "metadata": {
    "id": "d78cd4d8-1474-482d-8510-69092bd58343"
   },
   "outputs": [],
   "source": [
    "n = 10000\n",
    "pw = 1\n",
    "pz, px = 100, 50\n",
    "n_splits = 3\n",
    "np.random.seed(123)"
   ]
  },
  {
   "cell_type": "markdown",
   "id": "37",
   "metadata": {
    "id": "400c6503-2aaf-4af6-8b8d-0859d53a0074"
   },
   "source": [
    "## Failure mode 1\n",
    "\n",
    "D has direct relationship to Z, but Z has no direct relationship from M. So Z is not a good proxy treatment. However, X is a good proxy outcome and this can allow us to detect the failure mode. Here the fact that Z is correlated with D, makes the dual assumption not be violated. However, the solution basically leads to an orthogonal instrument that perfectly predicts treatment and hence the identification strength assumption is violated."
   ]
  },
  {
   "cell_type": "code",
   "execution_count": null,
   "id": "38",
   "metadata": {
    "colab": {
     "base_uri": "https://localhost:8080/",
     "height": 285
    },
    "executionInfo": {
     "elapsed": 5,
     "status": "ok",
     "timestamp": 1725510194411,
     "user": {
      "displayName": "Vasilis Syrganis",
      "userId": "00968929417250286436"
     },
     "user_tz": 420
    },
    "id": "5e569d31-74f6-457c-a4b1-9cd094724211",
    "outputId": "4739bb77-40fd-474c-971e-c930b2cff6b4"
   },
   "outputs": [],
   "source": [
    "np.random.seed(123)\n",
    "# Indirect effect is a*b, direct effect is c\n",
    "a, b, c = 1.0, 1.0, .5\n",
    "# D has direct relationship to Z, Z has no relationship to M,\n",
    "# X has direct relationship to M, X has no direct relationship to Y\n",
    "d, e, f, g = 1.0, 0.0, 1.0, 0.0\n",
    "sm = 2.0\n",
    "W, D, _, Z, X, Y = gen_data_no_controls(n, pw, pz, px, a, b, c, d, e, f, g, sm=sm)\n",
    "est = ProximalDE(dual_type='Z', cv=3, semi=True, ivreg_type='adv',\n",
    "                 multitask=False, n_jobs=-1, random_state=3, verbose=0)\n",
    "est.fit(None, D, Z, X, Y)\n",
    "display(est.summary().tables[0])\n",
    "display(est.summary().tables[1])\n",
    "display(est.summary().tables[2])\n",
    "# we see that even though both primal and dual have feasible solutions\n",
    "# the identification is very weak, since Z is only driven by D and\n",
    "# hence D can almost perfectly predict D. So the id_stregth test failed\n",
    "# and caught this failure mode. Also confidence intervals are quite large\n",
    "# so we are not artificially confident about a wrong result."
   ]
  },
  {
   "cell_type": "code",
   "execution_count": null,
   "id": "39",
   "metadata": {
    "colab": {
     "base_uri": "https://localhost:8080/",
     "height": 597
    },
    "executionInfo": {
     "elapsed": 141,
     "status": "ok",
     "timestamp": 1725234531521,
     "user": {
      "displayName": "Vasilis Syrganis",
      "userId": "00968929417250286436"
     },
     "user_tz": 420
    },
    "id": "4b353231-39c1-4d8a-8a48-937143311f51",
    "outputId": "cb343ae5-471c-4f0f-952f-e866792d0e91"
   },
   "outputs": [],
   "source": [
    "est.summary()"
   ]
  },
  {
   "cell_type": "code",
   "execution_count": null,
   "id": "40",
   "metadata": {
    "colab": {
     "base_uri": "https://localhost:8080/",
     "height": 1000
    },
    "executionInfo": {
     "elapsed": 5429,
     "status": "ok",
     "timestamp": 1725234537111,
     "user": {
      "displayName": "Vasilis Syrganis",
      "userId": "00968929417250286436"
     },
     "user_tz": 420
    },
    "id": "984b8f19-27af-4599-a65c-0381ddba55c1",
    "outputId": "4b60ae97-3a18-43d2-8d6f-e0dfecae2ec2"
   },
   "outputs": [],
   "source": [
    "run_summary(n, pw, pz, px, a, b, c, d, e, f, g, sm)"
   ]
  },
  {
   "cell_type": "markdown",
   "id": "41",
   "metadata": {
    "id": "4549fa20-ee8b-438d-a1d0-2f3fb4179d4e"
   },
   "source": [
    "## Failure mode 2\n",
    "\n",
    "D has no direct relationship to Z, but Z has no direct relationship from M. So Z is not a good proxy treatment. However, X is a good proxy outcome and this can allow us to detect the failure mode. Her Z is un-correlated with D, which makes the dual assumption violated.\n",
    "\n",
    "Because the dual doesn't have a solution, the weakIV test is invalid, as the covariance calculation depends on the validity of the dual moment."
   ]
  },
  {
   "cell_type": "code",
   "execution_count": null,
   "id": "42",
   "metadata": {
    "colab": {
     "base_uri": "https://localhost:8080/",
     "height": 285
    },
    "executionInfo": {
     "elapsed": 168,
     "status": "ok",
     "timestamp": 1725234537277,
     "user": {
      "displayName": "Vasilis Syrganis",
      "userId": "00968929417250286436"
     },
     "user_tz": 420
    },
    "id": "bf5a6940-c615-4eff-aef4-c14efa420544",
    "outputId": "f40a65e5-444e-43e3-8ce8-a3f7522d0ada"
   },
   "outputs": [],
   "source": [
    "np.random.seed(123)\n",
    "# Indirect effect is a*b, direct effect is c\n",
    "a, b, c = 1.0, 1.0, .5\n",
    "# D has no direct relationship to Z, Z has no direct relationship to M,\n",
    "# X has direct relationship to M, X has no direct relationship to Y\n",
    "d, e, f, g = 0.0, 0.0, 1.0, 0.0\n",
    "sm = 2.0\n",
    "W, D, _, Z, X, Y = gen_data_no_controls(n, pw, pz, px, a, b, c, d, e, f, g, sm=sm)\n",
    "est = ProximalDE(dual_type='Z', cv=3, semi=True,\n",
    "                 multitask=False, n_jobs=-1, random_state=3, verbose=0)\n",
    "est.fit(None, D, Z, X, Y)\n",
    "display(est.summary().tables[0])\n",
    "display(est.summary().tables[1])\n",
    "display(est.summary().tables[2])\n",
    "# we see that in this case even though the idstrength test passed\n",
    "# the dual violation test did not pass. In this case the dual problem\n",
    "# does not admit a solution and this was detected by the dual_violation\n",
    "# statistic which was very high"
   ]
  },
  {
   "cell_type": "code",
   "execution_count": null,
   "id": "43",
   "metadata": {
    "colab": {
     "base_uri": "https://localhost:8080/",
     "height": 1000
    },
    "executionInfo": {
     "elapsed": 5563,
     "status": "ok",
     "timestamp": 1725234542837,
     "user": {
      "displayName": "Vasilis Syrganis",
      "userId": "00968929417250286436"
     },
     "user_tz": 420
    },
    "id": "ce6f2e90-be77-47a1-a816-692e777c6193",
    "outputId": "0883e5a5-e592-4594-d92b-39c4651d6f51"
   },
   "outputs": [],
   "source": [
    "run_summary(n, pw, pz, px, a, b, c, d, e, f, g, sm)"
   ]
  },
  {
   "cell_type": "markdown",
   "id": "44",
   "metadata": {
    "id": "3530245f-2def-40cf-b7a2-8b7b82fb86b8"
   },
   "source": [
    "## Failure Mode 3\n",
    "\n",
    "\n",
    "D is a good proxy outcome, but X is not and is un-related to M. This makes the existence of a solution to the primal IV assumption violated."
   ]
  },
  {
   "cell_type": "code",
   "execution_count": null,
   "id": "45",
   "metadata": {
    "colab": {
     "base_uri": "https://localhost:8080/",
     "height": 285
    },
    "executionInfo": {
     "elapsed": 4,
     "status": "ok",
     "timestamp": 1725234542837,
     "user": {
      "displayName": "Vasilis Syrganis",
      "userId": "00968929417250286436"
     },
     "user_tz": 420
    },
    "id": "61e69035-6c05-495c-ba3e-1d7eedc83603",
    "outputId": "ecc093ef-874b-40fc-a390-a2fd6fbe4e23"
   },
   "outputs": [],
   "source": [
    "np.random.seed(123)\n",
    "# Indirect effect is a*b, direct effect is c\n",
    "a, b, c = 1.0, 1.0, .5\n",
    "# D has no direct relationship to Z, Z has direct relationship to M,\n",
    "# X has no direct relationship to M, X has no direct relationship to Y\n",
    "d, e, f, g = 0.0, 1.0, 0.0, 0.0\n",
    "sm = 2.0\n",
    "W, D, _, Z, X, Y = gen_data_no_controls(n, pw, pz, px, a, b, c, d, e, f, g, sm=sm)\n",
    "est = ProximalDE(dual_type='Z', cv=3, semi=True,\n",
    "                 multitask=False, n_jobs=-1, random_state=3, verbose=0)\n",
    "est.fit(None, D, Z, X, Y)\n",
    "display(est.summary().tables[0])\n",
    "display(est.summary().tables[1])\n",
    "display(est.summary().tables[2])\n",
    "# we see that in this case even though the idstrength test passed\n",
    "# and the dual violation test passed, the primal violation almost did\n",
    "# not pass. This test should be catching this failure."
   ]
  },
  {
   "cell_type": "code",
   "execution_count": null,
   "id": "46",
   "metadata": {
    "colab": {
     "base_uri": "https://localhost:8080/",
     "height": 1000
    },
    "executionInfo": {
     "elapsed": 5408,
     "status": "ok",
     "timestamp": 1725234548242,
     "user": {
      "displayName": "Vasilis Syrganis",
      "userId": "00968929417250286436"
     },
     "user_tz": 420
    },
    "id": "7f1440dc-72c8-4f0a-a456-60814760251c",
    "outputId": "f6dacef7-ac8f-419a-c457-44aadca91d3d"
   },
   "outputs": [],
   "source": [
    "run_summary(n, pw, pz, px, a, b, c, d, e, f, g, sm)"
   ]
  },
  {
   "cell_type": "markdown",
   "id": "47",
   "metadata": {
    "id": "86c9c52d-4062-42ee-94bb-2e860e351057"
   },
   "source": [
    "## Failure mode 4\n",
    "\n",
    "\n",
    "Z and X are unrelated to all other variables!\n",
    "\n",
    "The rank test can catch this failure mode.\n",
    "\n",
    "Sometimes the dual violation will catch this failure mode."
   ]
  },
  {
   "cell_type": "code",
   "execution_count": null,
   "id": "48",
   "metadata": {
    "colab": {
     "base_uri": "https://localhost:8080/",
     "height": 285
    },
    "executionInfo": {
     "elapsed": 138,
     "status": "ok",
     "timestamp": 1725234548375,
     "user": {
      "displayName": "Vasilis Syrganis",
      "userId": "00968929417250286436"
     },
     "user_tz": 420
    },
    "id": "77dc0bb2-95c4-445c-842b-810c5b3c0f8a",
    "outputId": "6d1371d4-a8c3-41a5-801e-a12e80478f1e"
   },
   "outputs": [],
   "source": [
    "np.random.seed(123)\n",
    "# Indirect effect is a*b, direct effect is c\n",
    "a, b, c = 1.0, 1.0, .5\n",
    "# D has no direct relationship to Z, Z has no direct relationship to M,\n",
    "# X has no direct relationship to M, X has no direct relationship to Y\n",
    "d, e, f, g = 0.0, 0.0, 0.0, 0.0\n",
    "sm = 2.0\n",
    "W, D, _, Z, X, Y = gen_data_no_controls(n, pw, pz, px, a, b, c, d, e, f, g, sm=sm)\n",
    "est = ProximalDE(dual_type='Z', cv=3, semi=True,\n",
    "                 multitask=False, n_jobs=-1, random_state=3, verbose=0)\n",
    "est.fit(None, D, Z, X, Y)\n",
    "display(est.summary().tables[0])\n",
    "display(est.summary().tables[1])\n",
    "display(est.summary().tables[2])"
   ]
  },
  {
   "cell_type": "code",
   "execution_count": null,
   "id": "49",
   "metadata": {
    "colab": {
     "base_uri": "https://localhost:8080/",
     "height": 1000
    },
    "executionInfo": {
     "elapsed": 5440,
     "status": "ok",
     "timestamp": 1725234553814,
     "user": {
      "displayName": "Vasilis Syrganis",
      "userId": "00968929417250286436"
     },
     "user_tz": 420
    },
    "id": "9a7ba06f-f527-49cd-82e7-0fcdf1fea627",
    "outputId": "6529fecd-6cd0-41e0-a3ca-67838dec178c"
   },
   "outputs": [],
   "source": [
    "run_summary(n, pw, pz, px, a, b, c, d, e, f, g, sm)"
   ]
  },
  {
   "cell_type": "markdown",
   "id": "50",
   "metadata": {
    "id": "405950d0-6345-4dff-9698-b333df6b8a0d"
   },
   "source": [
    "## Failure Mode 5\n",
    "\n",
    "Almost the same as mode 4, but only X is related to Y\n",
    "\n",
    "The rank test catches this failure mode.\n",
    "\n",
    "Sometimes the primal/dual violation, catch this failure mode."
   ]
  },
  {
   "cell_type": "code",
   "execution_count": null,
   "id": "51",
   "metadata": {
    "colab": {
     "base_uri": "https://localhost:8080/",
     "height": 285
    },
    "executionInfo": {
     "elapsed": 199,
     "status": "ok",
     "timestamp": 1725234554009,
     "user": {
      "displayName": "Vasilis Syrganis",
      "userId": "00968929417250286436"
     },
     "user_tz": 420
    },
    "id": "4d552b22-b904-4aab-bc57-ca6801e75017",
    "outputId": "cd9244d6-ca83-461c-c565-304b8ff66ea7"
   },
   "outputs": [],
   "source": [
    "np.random.seed(123)\n",
    "# Indirect effect is a*b, direct effect is c\n",
    "a, b, c = 1.0, 1.0, .5\n",
    "# D has no direct relationship to Z, Z has no direct relationship to M,\n",
    "# X has no direct relationship to M, X has direct relationship to Y\n",
    "d, e, f, g = 0.0, 0.0, 0.0, 5.0\n",
    "sm = 2.0\n",
    "W, D, _, Z, X, Y = gen_data_no_controls(n, pw, pz, px, a, b, c, d, e, f, g, sm=sm)\n",
    "est = ProximalDE(dual_type='Z', cv=3, semi=True,\n",
    "                 multitask=False, n_jobs=-1, random_state=3, verbose=0)\n",
    "est.fit(None, D, Z, X, Y)\n",
    "display(est.summary().tables[0])\n",
    "display(est.summary().tables[1])\n",
    "display(est.summary().tables[2])"
   ]
  },
  {
   "cell_type": "code",
   "execution_count": null,
   "id": "52",
   "metadata": {
    "colab": {
     "base_uri": "https://localhost:8080/",
     "height": 1000
    },
    "executionInfo": {
     "elapsed": 5550,
     "status": "ok",
     "timestamp": 1725234559557,
     "user": {
      "displayName": "Vasilis Syrganis",
      "userId": "00968929417250286436"
     },
     "user_tz": 420
    },
    "id": "503af39c-d713-40f5-844d-efe10ac07665",
    "outputId": "c57f0acc-03d7-4b74-9392-1e4764e5a015"
   },
   "outputs": [],
   "source": [
    "run_summary(n, pw, pz, px, a, b, c, d, e, f, g, sm)"
   ]
  },
  {
   "cell_type": "markdown",
   "id": "53",
   "metadata": {
    "id": "45c3797e-6e30-461e-b1a6-d0490ef21afc"
   },
   "source": [
    "## Failure Mode 6\n",
    "\n",
    "X, Z are good proxies, but the mediator is super correlated with the treatment, which leads to lack of identification of the direct effect.\n",
    "\n",
    "The weakIV and idstrength tests will catch this case."
   ]
  },
  {
   "cell_type": "code",
   "execution_count": null,
   "id": "54",
   "metadata": {
    "colab": {
     "base_uri": "https://localhost:8080/",
     "height": 285
    },
    "executionInfo": {
     "elapsed": 206,
     "status": "ok",
     "timestamp": 1725234559759,
     "user": {
      "displayName": "Vasilis Syrganis",
      "userId": "00968929417250286436"
     },
     "user_tz": 420
    },
    "id": "dfeedaef-9fa1-412f-b788-4e86001f436e",
    "outputId": "a0061834-4d60-4e75-cc50-54869e5c2139"
   },
   "outputs": [],
   "source": [
    "np.random.seed(123)\n",
    "# Indirect effect is a*b, direct effect is c\n",
    "a, b, c = 1.0, 1.0, .5\n",
    "# D has direct relationship to Z, Z has direct relationship to M,\n",
    "# X has direct relationship to M, X has direct relationship to Y\n",
    "d, e, f, g = 1.0, 1.0, 1.0, 1.0\n",
    "sm = 0.05\n",
    "W, D, _, Z, X, Y = gen_data_no_controls(n, pw, pz, px, a, b, c, d, e, f, g, sm=sm)\n",
    "est = ProximalDE(dual_type='Z', cv=3, semi=True,\n",
    "                 multitask=False, n_jobs=-1, random_state=3, verbose=0)\n",
    "est.fit(None, D, Z, X, Y)\n",
    "display(est.summary().tables[0])\n",
    "display(est.summary().tables[1])\n",
    "display(est.summary().tables[2])"
   ]
  },
  {
   "cell_type": "code",
   "execution_count": null,
   "id": "55",
   "metadata": {
    "colab": {
     "base_uri": "https://localhost:8080/",
     "height": 1000
    },
    "executionInfo": {
     "elapsed": 5261,
     "status": "ok",
     "timestamp": 1725234565019,
     "user": {
      "displayName": "Vasilis Syrganis",
      "userId": "00968929417250286436"
     },
     "user_tz": 420
    },
    "id": "28463e05-3215-48c2-aae1-24bbc3d514bb",
    "outputId": "cf218664-5cd6-4e5d-bfcc-e02dd4131c76"
   },
   "outputs": [],
   "source": [
    "run_summary(n, pw, pz, px, a, b, c, d, e, f, g, sm)"
   ]
  },
  {
   "cell_type": "markdown",
   "id": "56",
   "metadata": {
    "id": "73d438c6-3f34-4fd3-bc3b-19e1bad1e0f1"
   },
   "source": [
    "## No Failure Mode"
   ]
  },
  {
   "cell_type": "code",
   "execution_count": null,
   "id": "57",
   "metadata": {
    "colab": {
     "base_uri": "https://localhost:8080/",
     "height": 285
    },
    "executionInfo": {
     "elapsed": 5139,
     "status": "ok",
     "timestamp": 1725234570155,
     "user": {
      "displayName": "Vasilis Syrganis",
      "userId": "00968929417250286436"
     },
     "user_tz": 420
    },
    "id": "a2582430-aa8c-4c77-aba5-f3afc6dd30a9",
    "outputId": "ea6529e9-8398-4ded-d771-3f7e26001227"
   },
   "outputs": [],
   "source": [
    "np.random.seed(1)\n",
    "# Indirect effect is a*b, direct effect is c\n",
    "a, b, c = 1.0, 1.0, .5\n",
    "# D has direct relationship to Z, Z has direct relationship to M,\n",
    "# X has direct relationship to M, X has direct relationship to Y\n",
    "d, e, f, g = 1.0, 1.0, 1.0, 1.0\n",
    "sm = 2.0\n",
    "W, D, _, Z, X, Y = gen_data_no_controls(n, pw, pz, px, a, b, c, d, e, f, g, sm=sm)\n",
    "est = ProximalDE(dual_type='Z', cv=3, semi=True,\n",
    "                 multitask=False, n_jobs=-1, random_state=3, verbose=0)\n",
    "est.fit(None, D, Z, X, Y)\n",
    "display(est.summary().tables[0])\n",
    "display(est.summary().tables[1])\n",
    "display(est.summary().tables[2])"
   ]
  },
  {
   "cell_type": "code",
   "execution_count": null,
   "id": "58",
   "metadata": {
    "colab": {
     "base_uri": "https://localhost:8080/",
     "height": 1000
    },
    "executionInfo": {
     "elapsed": 193170,
     "status": "ok",
     "timestamp": 1725234763322,
     "user": {
      "displayName": "Vasilis Syrganis",
      "userId": "00968929417250286436"
     },
     "user_tz": 420
    },
    "id": "8425bd27-7651-4ee0-a44a-645f83529e46",
    "outputId": "40fc20fd-2c1b-4635-c2a5-b52b4e802b70"
   },
   "outputs": [],
   "source": [
    "run_summary(n, pw, pz, px, a, b, c, d, e, f, g, sm)"
   ]
  },
  {
   "cell_type": "markdown",
   "id": "59",
   "metadata": {
    "id": "bb11ee46-c51b-4f69-ae3e-e3f0d450b528"
   },
   "source": [
    "# OLD"
   ]
  },
  {
   "cell_type": "code",
   "execution_count": null,
   "id": "60",
   "metadata": {
    "id": "00a70649-74c4-4a77-b6fe-e4710d95b39d"
   },
   "outputs": [],
   "source": [
    "np.random.seed(123)\n",
    "# Indirect effect is a*b, direct effect is c\n",
    "a, b, c = 1.0, 1.0, .5\n",
    "# Z has no relationship to M, but X has relationship to M\n",
    "# D also has direct relationship to Z, X doesn't have direct relationship to Y\n",
    "d, e, f, g = 1.0, 0.0, 1.0, 0.0\n",
    "W, D, _, Z, X, Y = gen_data_no_controls(n, pw, pz, px, a, b, c, d, e, f, g)\n",
    "est = ProximalDE(dual_type='Z', cv=3, semi=True,\n",
    "                 multitask=False, n_jobs=-1, random_state=3, verbose=0)\n",
    "est.fit(W, D, Z, X, Y)\n",
    "display(est.summary().tables[0])\n",
    "display(est.summary().tables[1])\n",
    "display(est.summary().tables[2])\n",
    "# we see that even though both primal and dual have feasible solutions\n",
    "# the identification is very weak, since Z is only driven by D and\n",
    "# hence D can almost perfectly predict D. So the id_stregth test failed\n",
    "# and caught this failure mode."
   ]
  },
  {
   "cell_type": "code",
   "execution_count": null,
   "id": "61",
   "metadata": {
    "id": "966be539-06c1-4bac-9e0e-ed7c131b27d7",
    "outputId": "785ce8f8-8363-41f4-f6e3-779cc48ab04c"
   },
   "outputs": [],
   "source": [
    "# Indirect effect is a*b, direct effect is c\n",
    "a, b, c = 1.0, 1.0, .5\n",
    "# Z has no relationship to M, but X has relationship to M\n",
    "# D also has direct relationship to Z, X doesn't have direct relationship to Y\n",
    "d, e, f, g = 1.0, 0.0, 1.0, 0.0\n",
    "W, D, _, Z, X, Y = gen_data_no_controls(n, pw, pz, px, a, b, c, d, e, f, g)\n",
    "est = ProximalDE(dual_type='Z', cv=3, semi=True,\n",
    "                 multitask=False, n_jobs=-1, random_state=3, verbose=0)\n",
    "est.fit(W, D, Z, X, Y)\n",
    "display(est.summary().tables[0])\n",
    "display(est.summary().tables[1])\n",
    "display(est.summary().tables[2])"
   ]
  },
  {
   "cell_type": "code",
   "execution_count": null,
   "id": "62",
   "metadata": {
    "id": "33565d37-c781-4afa-8739-0132131955d2",
    "outputId": "56c6e7a7-ecf3-4c7a-a27e-f9596eb0b583"
   },
   "outputs": [],
   "source": [
    "np.mean(est.Dres_ * est.Xres_)"
   ]
  },
  {
   "cell_type": "code",
   "execution_count": null,
   "id": "63",
   "metadata": {
    "id": "6b021a92-d488-441a-9268-4e31d2b157c9",
    "outputId": "e5a3911a-64a9-41a8-c59b-cfd3ccbaa405"
   },
   "outputs": [],
   "source": [
    "np.mean(est.Zres_ * est.Xres_)"
   ]
  },
  {
   "cell_type": "code",
   "execution_count": null,
   "id": "64",
   "metadata": {
    "id": "851ecdde-ada3-43e8-8bd5-e1a3ab52058c",
    "outputId": "791efb27-8de0-4608-b440-73cbcad0608f"
   },
   "outputs": [],
   "source": [
    "est.summary()"
   ]
  },
  {
   "cell_type": "code",
   "execution_count": null,
   "id": "65",
   "metadata": {
    "id": "92b5caeb-313e-4602-9d5f-70ec0def32f3"
   },
   "outputs": [],
   "source": [
    "diag = est.run_diagnostics()"
   ]
  },
  {
   "cell_type": "code",
   "execution_count": null,
   "id": "66",
   "metadata": {
    "id": "3e55272f-4873-4728-97c5-09be8a3f6251"
   },
   "outputs": [],
   "source": [
    "inds = est.influential_set(alpha=0.05)"
   ]
  },
  {
   "cell_type": "code",
   "execution_count": null,
   "id": "67",
   "metadata": {
    "id": "556c9e42-d1f9-4453-adfd-d2e0e94bb070",
    "outputId": "4fab8c7e-00ad-4f90-a4af-c32531718815"
   },
   "outputs": [],
   "source": [
    "from sklearn.base import clone\n",
    "est2 = clone(est)\n",
    "est2.fit(np.delete(W, inds, axis=0), np.delete(D, inds, axis=0),\n",
    "         np.delete(Z, inds, axis=0), np.delete(X, inds, axis=0),\n",
    "         np.delete(Y, inds, axis=0))"
   ]
  },
  {
   "cell_type": "code",
   "execution_count": null,
   "id": "68",
   "metadata": {
    "id": "8dccc6d9-cbdc-42ed-9376-052d78998e4e",
    "outputId": "8e9762c2-ea46-4306-bae8-f5046e2e3815"
   },
   "outputs": [],
   "source": [
    "est2.summary(alpha=0.05)"
   ]
  },
  {
   "cell_type": "markdown",
   "id": "69",
   "metadata": {
    "id": "7d5c66f2-556c-4ed8-8e59-88e6a697b3d1"
   },
   "source": [
    "#### Verifying we get the same as ivreg on the dataset in the documentation of ivreg"
   ]
  },
  {
   "cell_type": "code",
   "execution_count": null,
   "id": "70",
   "metadata": {
    "id": "e105935b-2598-481d-9e23-508795aa2c39"
   },
   "outputs": [],
   "source": [
    "from proximalde.tests.utilities import gen_kmenta_data\n",
    "Z, X, Y, labels, controls = gen_kmenta_data()"
   ]
  },
  {
   "cell_type": "code",
   "execution_count": null,
   "id": "71",
   "metadata": {
    "colab": {
     "base_uri": "https://localhost:8080/"
    },
    "executionInfo": {
     "elapsed": 375,
     "status": "ok",
     "timestamp": 1724430499584,
     "user": {
      "displayName": "Vasilis Syrganis",
      "userId": "00968929417250286436"
     },
     "user_tz": 420
    },
    "id": "bd2101cf-cf48-48e3-8a72-5122692c381e",
    "outputId": "545fd8ca-f05e-4865-97cd-2f9023860c9c"
   },
   "outputs": [],
   "source": [
    "from proximalde.ivtests import weakiv_tests\n",
    "weakiv_tests(Z, X, Y, controls=controls)"
   ]
  },
  {
   "cell_type": "code",
   "execution_count": null,
   "id": "72",
   "metadata": {
    "id": "feea4ab3-6c67-49d3-9664-528576df987a"
   },
   "outputs": [],
   "source": [
    "from proximalde.diagnostics import IVDiagnostics\n",
    "diag = IVDiagnostics(add_constant=True).fit(Z, X, Y)"
   ]
  },
  {
   "cell_type": "code",
   "execution_count": null,
   "id": "73",
   "metadata": {
    "colab": {
     "base_uri": "https://localhost:8080/",
     "height": 480
    },
    "executionInfo": {
     "elapsed": 2115,
     "status": "ok",
     "timestamp": 1724430508319,
     "user": {
      "displayName": "Vasilis Syrganis",
      "userId": "00968929417250286436"
     },
     "user_tz": 420
    },
    "id": "42953881-2b06-4728-91c7-3b00f6b66e2e",
    "outputId": "7df1dcf7-bae4-44f0-f897-e47e969a8ab1"
   },
   "outputs": [],
   "source": [
    "diag.influence_plot(labels=labels)\n",
    "plt.show()"
   ]
  },
  {
   "cell_type": "code",
   "execution_count": null,
   "id": "74",
   "metadata": {
    "id": "eaf0df40-8cfd-426e-a81a-d4a9f05c4c79"
   },
   "outputs": [],
   "source": []
  }
 ],
 "metadata": {
  "accelerator": "GPU",
  "colab": {
   "collapsed_sections": [
    "3Si5HMYQG3mZ"
   ],
   "gpuType": "A100",
   "machine_shape": "hm",
   "provenance": [],
   "toc_visible": true
  },
  "kernelspec": {
   "display_name": "Python 3 (ipykernel)",
   "language": "python",
   "name": "python3"
  },
  "language_info": {
   "codemirror_mode": {
    "name": "ipython",
    "version": 3
   },
   "file_extension": ".py",
   "mimetype": "text/x-python",
   "name": "python",
   "nbconvert_exporter": "python",
   "pygments_lexer": "ipython3",
   "version": "3.8.13"
  }
 },
 "nbformat": 4,
 "nbformat_minor": 5
}
