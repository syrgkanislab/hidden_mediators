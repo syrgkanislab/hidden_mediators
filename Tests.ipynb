{
 "cells": [
  {
   "cell_type": "code",
   "execution_count": 1,
   "id": "ab080aab-f8b0-4582-a4fb-1440d7b4ec57",
   "metadata": {},
   "outputs": [],
   "source": [
    "%load_ext autoreload\n",
    "%autoreload 2"
   ]
  },
  {
   "cell_type": "code",
   "execution_count": 2,
   "id": "a0c91797-b6ee-4ffb-a464-832daaabd438",
   "metadata": {},
   "outputs": [],
   "source": [
    "import numpy as np\n",
    "import pandas as pd\n",
    "import matplotlib.pyplot as plt\n",
    "import scipy.stats\n",
    "from joblib import Parallel, delayed\n",
    "from gen_data import gen_data_complex\n",
    "from proximal import proximal_direct_effect, ProximalDE"
   ]
  },
  {
   "cell_type": "markdown",
   "id": "7d5c66f2-556c-4ed8-8e59-88e6a697b3d1",
   "metadata": {},
   "source": [
    "#### Verifying we get the same as ivreg on the dataset in the documentation of ivreg"
   ]
  },
  {
   "cell_type": "code",
   "execution_count": 3,
   "id": "e105935b-2598-481d-9e23-508795aa2c39",
   "metadata": {},
   "outputs": [],
   "source": [
    "from tests.utilities import gen_kmenta_data\n",
    "Z, X, Y, labels, controls = gen_kmenta_data()"
   ]
  },
  {
   "cell_type": "code",
   "execution_count": 4,
   "id": "bd2101cf-cf48-48e3-8a72-5122692c381e",
   "metadata": {},
   "outputs": [
    {
     "data": {
      "text/plain": [
       "(2,\n",
       " 16,\n",
       " array([88.02512828]),\n",
       " array([2.3208161e-09]),\n",
       " array([113.8720112]),\n",
       " array([3.44737137e-10]),\n",
       " array([115.65188314]),\n",
       " array([1.80718541]),\n",
       " array([19.76245769]))"
      ]
     },
     "execution_count": 4,
     "metadata": {},
     "output_type": "execute_result"
    }
   ],
   "source": [
    "from ivtests import weakiv_tests\n",
    "weakiv_tests(Z, X, Y, controls=controls)"
   ]
  },
  {
   "cell_type": "code",
   "execution_count": 116,
   "id": "feea4ab3-6c67-49d3-9664-528576df987a",
   "metadata": {},
   "outputs": [],
   "source": [
    "from diagnostics import IVDiagnostics\n",
    "diag = IVDiagnostics(add_constant=True).fit(Z, X, Y)"
   ]
  },
  {
   "cell_type": "code",
   "execution_count": null,
   "id": "42953881-2b06-4728-91c7-3b00f6b66e2e",
   "metadata": {},
   "outputs": [],
   "source": []
  }
 ],
 "metadata": {
  "kernelspec": {
   "display_name": "Python 3 (ipykernel)",
   "language": "python",
   "name": "python3"
  },
  "language_info": {
   "codemirror_mode": {
    "name": "ipython",
    "version": 3
   },
   "file_extension": ".py",
   "mimetype": "text/x-python",
   "name": "python",
   "nbconvert_exporter": "python",
   "pygments_lexer": "ipython3",
   "version": "3.12.4"
  }
 },
 "nbformat": 4,
 "nbformat_minor": 5
}
