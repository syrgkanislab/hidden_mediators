{
 "cells": [
  {
   "cell_type": "markdown",
   "id": "0",
   "metadata": {
    "id": "nJSbD4Nr8VNq"
   },
   "source": [
    "## Setup Only for Colab"
   ]
  },
  {
   "cell_type": "code",
   "execution_count": null,
   "id": "1",
   "metadata": {},
   "outputs": [],
   "source": [
    "def exp_summary_multidim(it, n, pm, pw, pz, px, a, b, c, d, E, F, g):\n",
    "    np.random.seed(it)\n",
    "    _, D, _, Z, X, Y = gen_data_no_controls_discrete_m(n, pz, px, a, b, c, d, E, F, g, pm=pm)\n",
    "    est = ProximalDE(cv=3, semi=True,\n",
    "                     n_jobs=1, random_state=3, verbose=0)\n",
    "    est.fit(None, D, Z, X, Y)\n",
    "    return est.primal_violation_, est.dual_violation_\n",
    "\n",
    "\n",
    "def test_multidim_mediator_violations_nominal_failure_prob():\n",
    "    np.random.seed(12)\n",
    "    pw = 1\n",
    "    pm = 7\n",
    "    for n, pz, px in [(10000, 20, 10), (10000, 80, 50)]:\n",
    "        # Indirect effect is a*b, direct effect is c\n",
    "        a, b, c = 1.0, 1.0, .5\n",
    "        # D has direct relationship to Z, Z has no relationship to M,\n",
    "        # X has direct relationship to M, X has no direct relationship to Y\n",
    "        d, g = 0.0, 0.0\n",
    "        full_rank = False\n",
    "        while not full_rank:\n",
    "            E = np.random.normal(0, 2, (pm, pz))\n",
    "            F = np.random.normal(0, 2, (pm, px))\n",
    "            if (np.linalg.matrix_rank(E, tol=0.5) == pm) and (np.linalg.matrix_rank(F, tol=0.5) == pm):\n",
    "                full_rank = True\n",
    "\n",
    "        res = np.array(Parallel(n_jobs=-1, verbose=3)(delayed(exp_summary_multidim)(it, n, pm, pw, pz, px,\n",
    "                                                                                    a, b, c, d, E, F, g)\n",
    "                                                      for it in range(100)))\n",
    "        pval, dval = map(np.array, zip(*res))\n",
    "        print(np.mean(dval > chi2(df=px).ppf(.95)))\n",
    "        print(np.mean(pval > chi2(df=pz + 1).ppf(.95)))\n",
    "        try:\n",
    "            assert np.isclose(np.mean(dval > chi2(df=px).ppf(.95)), 0.05, atol=2e-2)\n",
    "            assert np.isclose(np.mean(pval > chi2(df=pz + 1).ppf(.95)), 0.05, atol=3e-2)\n",
    "        except:\n",
    "            import ipdb; ipdb.set_trace()\n",
    "test_multidim_mediator_violations_nominal_failure_prob()"
   ]
  },
  {
   "cell_type": "code",
   "execution_count": null,
   "id": "2",
   "metadata": {},
   "outputs": [],
   "source": [
    "def idstrength_violation_z(sm):\n",
    "    for seed in range(10):\n",
    "        np.random.seed(seed)\n",
    "        errors = []\n",
    "        strengths = []\n",
    "        covs = []\n",
    "        for _ in range(1):\n",
    "            n = 100000\n",
    "            pw = 1\n",
    "            pz, px = 1, 1\n",
    "            # Indirect effect is a*b, direct effect is c\n",
    "            a = .7  # (2 * np.random.binomial(1, .5) - 1) * np.random.uniform(.5, 2)\n",
    "            b = .8  # (2 * np.random.binomial(1, .5) - 1) * np.random.uniform(.5, 2)\n",
    "            c = .5  # (2 * np.random.binomial(1, .5) - 1) * np.random.uniform(.5, 2)\n",
    "            # D has direct relationship to Z, Z has no relationship to M,\n",
    "            # X has direct relationship to M, X has no direct relationship to Y\n",
    "            d = np.random.uniform(.5, 2)\n",
    "            e = np.random.uniform(.5, 2)\n",
    "            f = (2 * np.random.binomial(1, .5) - 1) * np.random.uniform(.5, 2)\n",
    "            g = (2 * np.random.binomial(1, .5) - 1) * np.random.uniform(.5, 2)\n",
    "            sz, sx, sy = np.random.uniform(.5, 2), np.random.uniform(.5, 2), np.random.uniform(.5, 2)\n",
    "            W, D, _, Z, X, Y = gen_data_no_controls(n, pz, px, a, b, c, d, e, f, g, sm=sm, sz=sz, sx=sx, sy=sy)\n",
    "            W=None\n",
    "            D = D.reshape(-1, 1)\n",
    "            D = D - D.mean(axis=0)\n",
    "            sd = np.sqrt(np.mean(D**2))\n",
    "            X = X - X.mean(axis=0)\n",
    "            Z = Z - Z.mean(axis=0)\n",
    "            Y = Y.reshape(-1, 1)\n",
    "            Y = Y - Y.mean(axis=0)\n",
    "\n",
    "            true_Zsq = (e * a + d)**2 * sd**2 + e**2 * sm**2 + sz**2\n",
    "            print('Z**2', np.mean(Z**2), true_Zsq)\n",
    "            assert np.allclose(np.mean(Z**2), true_Zsq, atol=7e-2)\n",
    "            true_Msq = sm**2 + a**2 * sd**2\n",
    "            true_XZ = f * (e * true_Msq + d * a * sd**2)\n",
    "            print('X*Z', np.mean(X*Z), true_XZ)\n",
    "            assert np.allclose(np.mean(X*Z), true_XZ, atol=7e-2)\n",
    "            true_DZ = (a * e + d) * sd**2\n",
    "            print('D*Z', np.mean(D * Z), true_DZ)\n",
    "            assert np.allclose(np.mean(D * Z), true_DZ, atol=5e-2)\n",
    "            true_DX = a * f * sd**2\n",
    "            print('D*X', np.mean(D * X), true_DX)\n",
    "            assert np.allclose(np.mean(D * X), true_DX, atol=5e-2)\n",
    "            # D*X / X*Z\n",
    "            true_gamma = true_DX / true_XZ\n",
    "            print(\"gamma\", true_gamma)\n",
    "            # D^2 - gamma D * Z\n",
    "            true_strength = sd**2 - true_gamma * true_DZ\n",
    "            print(\"strength\", true_strength)\n",
    "\n",
    "            est = ProximalDE(cv=3, semi=True,\n",
    "                             n_jobs=-1, random_state=3, verbose=0)\n",
    "            est.fit(W, D, Z, X, Y)\n",
    "            print('point, std', est.point_, est.stderr_)\n",
    "    #         print(est.gamma_, true_gamma)\n",
    "            assert np.allclose(est.gamma_, true_gamma, rtol=1e-1, atol=8e-2)\n",
    "    #         print(np.mean(est.Dres_ * est.Dbar_), true_strength)\n",
    "            assert np.allclose(np.mean(est.Dres_ * est.Dbar_), true_strength, rtol=1e-1, atol=5e-2)\n",
    "            print(\"id strength\", est.idstrength_, est.primal_violation_, est.dual_violation_)\n",
    "            cov = (est.point_ - 2 * est.stderr_ <= c) & (est.point_ + 2 * est.stderr_ >= c)\n",
    "    #         print(cov, est.idstrength_)\n",
    "            assert cov or (est.idstrength_ < id_cv)\n",
    "            error = np.abs(est.point_ - c)\n",
    "            id_cv = scipy.stats.foldnorm(c=c / est.idstrength_std_, scale=est.idstrength_std_).ppf(1 - .05)\n",
    "            try:\n",
    "                assert (error < .4) or (est.idstrength_ < id_cv)\n",
    "            except: \n",
    "                print(sm, error, est.idstrength_, )\n",
    "                import ipdb; ipdb.set_trace()\n",
    "            errors.append(error)\n",
    "            strengths.append(est.idstrength_)\n",
    "            covs.append(cov)\n",
    "    return errors, strengths, covs\n",
    "def test_strength_violation_z():\n",
    "    errors = []\n",
    "    strengths = []\n",
    "    covs = []\n",
    "    for sm in np.linspace(0, .5, 10):\n",
    "        print(sm)\n",
    "        e, s, c = idstrength_violation_z(sm)\n",
    "        errors += e\n",
    "        strengths += s\n",
    "        covs += c\n",
    "test_strength_violation_z()"
   ]
  },
  {
   "cell_type": "code",
   "execution_count": null,
   "id": "3",
   "metadata": {},
   "outputs": [],
   "source": []
  },
  {
   "cell_type": "code",
   "execution_count": null,
   "id": "4",
   "metadata": {
    "colab": {
     "base_uri": "https://localhost:8080/"
    },
    "executionInfo": {
     "elapsed": 19683,
     "status": "ok",
     "timestamp": 1725683504820,
     "user": {
      "displayName": "Vasilis Syrganis",
      "userId": "00968929417250286436"
     },
     "user_tz": 420
    },
    "id": "j4wBu9BNomlq",
    "outputId": "a3ae3010-940b-4ce1-b94e-84d1c3161f64"
   },
   "outputs": [],
   "source": [
    "from IPython.display import clear_output\n",
    "from google.colab import drive\n",
    "import time\n",
    "drive.mount('/content/drive') # First mount drive\n",
    "%cd /content/drive/MyDrive/Colab\\ Notebooks"
   ]
  },
  {
   "cell_type": "code",
   "execution_count": null,
   "id": "5",
   "metadata": {
    "colab": {
     "base_uri": "https://localhost:8080/"
    },
    "executionInfo": {
     "elapsed": 1225,
     "status": "ok",
     "timestamp": 1725683506042,
     "user": {
      "displayName": "Vasilis Syrganis",
      "userId": "00968929417250286436"
     },
     "user_tz": 420
    },
    "id": "JfB4MISjovTQ",
    "outputId": "39faf57c-b912-464c-96f0-6eae3668d7e2"
   },
   "outputs": [],
   "source": [
    "## Run if you haven't set up hidden_mediators\n",
    "! git clone https://github.com/syrgkanislab/hidden_mediators\n",
    "%cd hidden_mediators\n",
    "! pip install -r requirements.txt\n",
    "! python setup.py install\n",
    "time.sleep(2)\n",
    "clear_output()"
   ]
  },
  {
   "cell_type": "code",
   "execution_count": null,
   "id": "6",
   "metadata": {
    "colab": {
     "base_uri": "https://localhost:8080/"
    },
    "executionInfo": {
     "elapsed": 7,
     "status": "ok",
     "timestamp": 1725683506042,
     "user": {
      "displayName": "Vasilis Syrganis",
      "userId": "00968929417250286436"
     },
     "user_tz": 420
    },
    "id": "D5tm-9Fno5Xn",
    "outputId": "ba17f30c-ab2b-42da-ace6-33926c4e9ae2"
   },
   "outputs": [],
   "source": [
    "## Run if you have already set up hidden_mediators\n",
    "%cd hidden_mediators\n",
    "time.sleep(2)\n",
    "clear_output()"
   ]
  },
  {
   "cell_type": "markdown",
   "id": "7",
   "metadata": {
    "id": "cvIuehalDudB"
   },
   "source": [
    "# Main Logic"
   ]
  },
  {
   "cell_type": "code",
   "execution_count": null,
   "id": "8",
   "metadata": {
    "executionInfo": {
     "elapsed": 246,
     "status": "ok",
     "timestamp": 1725683563084,
     "user": {
      "displayName": "Vasilis Syrganis",
      "userId": "00968929417250286436"
     },
     "user_tz": 420
    },
    "id": "ab080aab-f8b0-4582-a4fb-1440d7b4ec57"
   },
   "outputs": [],
   "source": [
    "%load_ext autoreload\n",
    "%autoreload 2"
   ]
  },
  {
   "cell_type": "code",
   "execution_count": null,
   "id": "9",
   "metadata": {
    "executionInfo": {
     "elapsed": 5518,
     "status": "ok",
     "timestamp": 1725683568791,
     "user": {
      "displayName": "Vasilis Syrganis",
      "userId": "00968929417250286436"
     },
     "user_tz": 420
    },
    "id": "a0c91797-b6ee-4ffb-a464-832daaabd438"
   },
   "outputs": [],
   "source": [
    "import numpy as np\n",
    "import matplotlib.pyplot as plt\n",
    "import scipy.stats\n",
    "from joblib import Parallel, delayed\n",
    "from proximalde.gen_synthetic_data import gen_data_no_controls\n",
    "from proximalde.proximal import ProximalDE"
   ]
  },
  {
   "cell_type": "code",
   "execution_count": null,
   "id": "10",
   "metadata": {},
   "outputs": [],
   "source": [
    "def exp_summary(it, n, pz, px, a, b, c, d, e, f, g, sm):\n",
    "    np.random.seed(it)\n",
    "    _, D, _, Z, X, Y = gen_data_no_controls(n, pz, px, a, b, c, d, e, f, g, sm=sm)\n",
    "    est = ProximalDE(cv=3, semi=True, ivreg_type='adv', n_jobs=1, random_state=3, verbose=0)\n",
    "    est.fit(None, D, Z, X, Y)\n",
    "    lb, ub = est.robust_conf_int(lb=-2, ub=2)\n",
    "    weakiv_stat, _, _, _, pi, var_pi = est.weakiv_test(return_pi_and_var=True)\n",
    "    eigs, eig_crit = est.covariance_rank_test(calculate_critical=True)\n",
    "    maxeig = eigs[0]\n",
    "    return est.stderr_, est.idstrength_, est.primal_violation_, est.dual_violation_, est.point_, \\\n",
    "        lb, ub, weakiv_stat, maxeig, pi, var_pi, *est.gamma_.flatten(), \\\n",
    "        *est.ivreg_gamma_.stderr_.flatten(), est.idstrength_std_, eig_crit\n",
    "\n",
    "def run_summary(n, pz, px, a, b, c, d, e, f, g, sm):\n",
    "    res = np.array(Parallel(n_jobs=-1, verbose=3)(delayed(exp_summary)(it, n, pz, px, a, b, c, d, e, f, g, sm)\n",
    "                                                  for it in range(100)))\n",
    "    print(f\"Mean estimate: {np.mean(res[:, 4]):.3f}\")\n",
    "    print(f\"Bias: {np.mean(res[:, 4] - c):.3f}\")\n",
    "    print(f\"RMSE: {np.sqrt(np.mean((res[:, 4] - c)**2)):.3f}\")\n",
    "    cov = np.mean((res[:, 4] + 1.96 * res[:, 0] >= c) & (res[:, 4] - 1.96 * res[:, 0] <= c))\n",
    "    print(f\"Coverage: {cov:.3f}\")\n",
    "    rcov = np.mean((res[:, 5] <= c) & (res[:, 6] >= c))\n",
    "    print(f\"ID-Robust Coverage: {rcov:.3f}\")\n",
    "    plt.figure(figsize=(10, 10))\n",
    "    plt.subplot(3, 2, 1)\n",
    "    plt.title(f\"stderr: mean={np.mean(res[:, 0]):.3f}\\n%>1.0={np.mean(res[:, 0] > 1.0):.3f}\")\n",
    "    plt.hist(res[:, 0])\n",
    "    plt.subplot(3, 2, 2)\n",
    "    crit = np.round(scipy.stats.foldnorm(c=10).ppf(.95), 2)\n",
    "    plt.title(f\"idstrength: mean={np.mean(res[:, 1] / res[:, 11 + 2*pz]):.3f}\\n%Fail (<{crit})={np.mean(res[:, 1] / res[:, 11 + 2*pz] < crit):.3f}\")\n",
    "    plt.hist(res[:, 1] / res[:, 11 + 2*pz])\n",
    "    plt.subplot(3, 2, 3)\n",
    "    crit = np.round(scipy.stats.chi2(df=pz + 1).ppf(.95), 2)\n",
    "    plt.title(f\"primal_violation: mean={np.mean(res[:, 2]):.3f}\\n%Fail (>{crit})={np.mean(res[:, 2] > crit):.3f}\")\n",
    "    plt.hist(res[:, 2])\n",
    "    plt.subplot(3, 2, 4)\n",
    "    crit = np.round(scipy.stats.chi2(df=px).ppf(.95), 2)\n",
    "    plt.title(f\"dual_violation: mean={np.mean(res[:, 3]):.3f}\\n%Fail (>{crit})={np.mean(res[:, 3] > crit):.3f}\")\n",
    "    plt.hist(res[:, 3])\n",
    "    plt.subplot(3, 2, 5)\n",
    "    plt.title(f\"weakiv_test: mean={np.mean(res[:, 7]):.3f}\\n%Fail (<23)={np.mean(res[:, 7] < 23):.3f}\")\n",
    "    plt.hist(res[:, 7])\n",
    "    plt.subplot(3, 2, 6)\n",
    "    eig_stat = res[:, 8] / res[:, 11+2*pz+1]\n",
    "    plt.title(f\"rank_test: mean={np.mean(eig_stat):.3f}\\n%Fail (<1)={np.mean(eig_stat < 1):.3f}\")\n",
    "    plt.hist(eig_stat)\n",
    "    plt.tight_layout()\n",
    "    plt.show()\n"
   ]
  },
  {
   "cell_type": "markdown",
   "id": "11",
   "metadata": {
    "id": "fc35db26-fa38-4a33-a21c-e8eefbc14d66"
   },
   "source": [
    "```\n",
    "a : strength of D -> M edge\n",
    "b : strength of M -> Y edge\n",
    "c : strength of D -> Y edge\n",
    "d : strength of D -> Z edge\n",
    "e : strength of M -> Z edge\n",
    "f : strength of M -> X edge\n",
    "g : strength of X -> Y edge\n",
    "```"
   ]
  },
  {
   "cell_type": "markdown",
   "id": "12",
   "metadata": {
    "id": "73d438c6-3f34-4fd3-bc3b-19e1bad1e0f1"
   },
   "source": [
    "## No Failure Mode"
   ]
  },
  {
   "cell_type": "code",
   "execution_count": null,
   "id": "13",
   "metadata": {
    "colab": {
     "base_uri": "https://localhost:8080/",
     "height": 285
    },
    "executionInfo": {
     "elapsed": 5139,
     "status": "ok",
     "timestamp": 1725234570155,
     "user": {
      "displayName": "Vasilis Syrganis",
      "userId": "00968929417250286436"
     },
     "user_tz": 420
    },
    "id": "a2582430-aa8c-4c77-aba5-f3afc6dd30a9",
    "outputId": "ea6529e9-8398-4ded-d771-3f7e26001227"
   },
   "outputs": [],
   "source": [
    "np.random.seed(1)\n",
    "# Indirect effect is a*b, direct effect is c\n",
    "a, b, c = 1.0, 1.0, .5\n",
    "# D has direct relationship to Z, Z has direct relationship to M,\n",
    "# X has direct relationship to M, X has direct relationship to Y (but doesn't matter w/ validity of result)\n",
    "d, e, f, g = 1.0, 1.0, 1.0, 1.0\n",
    "sm = 2.0\n",
    "run_summary(n, pz, px, a, b, c, d, e, f, g, sm)"
   ]
  },
  {
   "cell_type": "code",
   "execution_count": null,
   "id": "14",
   "metadata": {
    "colab": {
     "base_uri": "https://localhost:8080/",
     "height": 1000
    },
    "executionInfo": {
     "elapsed": 193170,
     "status": "ok",
     "timestamp": 1725234763322,
     "user": {
      "displayName": "Vasilis Syrganis",
      "userId": "00968929417250286436"
     },
     "user_tz": 420
    },
    "id": "8425bd27-7651-4ee0-a44a-645f83529e46",
    "outputId": "40fc20fd-2c1b-4635-c2a5-b52b4e802b70"
   },
   "outputs": [],
   "source": []
  },
  {
   "cell_type": "markdown",
   "id": "15",
   "metadata": {
    "id": "400c6503-2aaf-4af6-8b8d-0859d53a0074"
   },
   "source": [
    "## Failure mode 1: Z is a bad proxy (no M->Z)\n",
    "\n",
    "Z has a direct relationship to D but no direct relationship to M. So Z is not a good proxy treatment. However, X is a good proxy outcome and this can allow us to detect the failure mode. \n",
    "\n",
    "Here the fact that Z is correlated with D makes the dual assumption not be violated, and the primal should pass as X is a good proxy outcome. However, the solution basically leads to an orthogonal instrument V=D-gammaZ that perfectly predicts treatment D (since Z is only driven by D) and hence the identification strength assumption is violated. Thus we expect the id_stregth test should fail."
   ]
  },
  {
   "cell_type": "code",
   "execution_count": null,
   "id": "16",
   "metadata": {
    "colab": {
     "base_uri": "https://localhost:8080/",
     "height": 285
    },
    "executionInfo": {
     "elapsed": 5,
     "status": "ok",
     "timestamp": 1725510194411,
     "user": {
      "displayName": "Vasilis Syrganis",
      "userId": "00968929417250286436"
     },
     "user_tz": 420
    },
    "id": "5e569d31-74f6-457c-a4b1-9cd094724211",
    "outputId": "4739bb77-40fd-474c-971e-c930b2cff6b4"
   },
   "outputs": [],
   "source": [
    "np.random.seed(123)\n",
    "# Indirect effect is a*b, direct effect is c\n",
    "a, b, c = 1.0, 1.0, .5\n",
    "# D has direct relationship to Z, Z has no relationship to M,\n",
    "# X has direct relationship to M, X has direct relationship to Y (but doesn't matter w/ validity of result)\n",
    "d, e, f, g = 1, 0, 1, 0\n",
    "sm = 2.\n",
    "n = 10000\n",
    "px, pz = 5, 5\n",
    "run_summary(n, pz, px, a, b, c, d, e, f, g, sm=sm)"
   ]
  },
  {
   "cell_type": "markdown",
   "id": "17",
   "metadata": {
    "id": "4549fa20-ee8b-438d-a1d0-2f3fb4179d4e"
   },
   "source": [
    "## Failure mode 2: Z is a bad proxy (no M->Z or D->Z)\n",
    "\n",
    "Z has no direct relationship to D or M. So Z is not a good proxy treatment. However, X is a good proxy outcome and this can allow us to detect the failure mode. \n",
    "\n",
    "Unlike failure mode 1, Z is uncorrelated with D, which makes the dual assumption violated. Because the dual doesn't have a solution, the weakIV test is invalid, as the covariance calculation depends on the validity of the dual moment. We also expect the rank covariance test to fail as there is no relationship between Z and X. "
   ]
  },
  {
   "cell_type": "code",
   "execution_count": null,
   "id": "18",
   "metadata": {
    "colab": {
     "base_uri": "https://localhost:8080/",
     "height": 285
    },
    "executionInfo": {
     "elapsed": 168,
     "status": "ok",
     "timestamp": 1725234537277,
     "user": {
      "displayName": "Vasilis Syrganis",
      "userId": "00968929417250286436"
     },
     "user_tz": 420
    },
    "id": "bf5a6940-c615-4eff-aef4-c14efa420544",
    "outputId": "f40a65e5-444e-43e3-8ce8-a3f7522d0ada"
   },
   "outputs": [],
   "source": [
    "np.random.seed(123)\n",
    "# Indirect effect is a*b, direct effect is c\n",
    "a, b, c = 1.0, 1.0, .5\n",
    "# D has no direct relationship to Z, Z has no direct relationship to M,\n",
    "# X has direct relationship to M, X has no direct relationship to Y\n",
    "d, e, f, g = 0.0, 0.0, 1.0, 0.0\n",
    "sm = 2.0\n",
    "run_summary(n, pz, px, a, b, c, d, e, f, g, sm)"
   ]
  },
  {
   "cell_type": "code",
   "execution_count": null,
   "id": "19",
   "metadata": {
    "colab": {
     "base_uri": "https://localhost:8080/",
     "height": 1000
    },
    "executionInfo": {
     "elapsed": 5563,
     "status": "ok",
     "timestamp": 1725234542837,
     "user": {
      "displayName": "Vasilis Syrganis",
      "userId": "00968929417250286436"
     },
     "user_tz": 420
    },
    "id": "ce6f2e90-be77-47a1-a816-692e777c6193",
    "outputId": "0883e5a5-e592-4594-d92b-39c4651d6f51"
   },
   "outputs": [],
   "source": []
  },
  {
   "cell_type": "markdown",
   "id": "20",
   "metadata": {
    "id": "3530245f-2def-40cf-b7a2-8b7b82fb86b8"
   },
   "source": [
    "## Failure Mode 3: X is a bad proxy (no M->X or X->Y)\n",
    "\n",
    "Z is a good proxy, but X is not and is unrelated to M. This makes the existence of a solution to the primal IV assumption violated. We also expect the rank covariance test to fail as there is no relationship between Z and X. "
   ]
  },
  {
   "cell_type": "code",
   "execution_count": null,
   "id": "21",
   "metadata": {
    "colab": {
     "base_uri": "https://localhost:8080/",
     "height": 285
    },
    "executionInfo": {
     "elapsed": 4,
     "status": "ok",
     "timestamp": 1725234542837,
     "user": {
      "displayName": "Vasilis Syrganis",
      "userId": "00968929417250286436"
     },
     "user_tz": 420
    },
    "id": "61e69035-6c05-495c-ba3e-1d7eedc83603",
    "outputId": "ecc093ef-874b-40fc-a390-a2fd6fbe4e23"
   },
   "outputs": [],
   "source": [
    "np.random.seed(123)\n",
    "# Indirect effect is a*b, direct effect is c\n",
    "a, b, c = 1.0, 1.0, .5\n",
    "# D has no direct relationship to Z, Z has direct relationship to M,\n",
    "# X has no direct relationship to M, X has no direct relationship to Y\n",
    "d, e, f, g = 0.0, 1.0, 0.0, 0.0\n",
    "sm = 2.0\n",
    "run_summary(n, pz, px, a, b, c, d, e, f, g, sm)"
   ]
  },
  {
   "cell_type": "code",
   "execution_count": null,
   "id": "22",
   "metadata": {
    "colab": {
     "base_uri": "https://localhost:8080/",
     "height": 1000
    },
    "executionInfo": {
     "elapsed": 5408,
     "status": "ok",
     "timestamp": 1725234548242,
     "user": {
      "displayName": "Vasilis Syrganis",
      "userId": "00968929417250286436"
     },
     "user_tz": 420
    },
    "id": "7f1440dc-72c8-4f0a-a456-60814760251c",
    "outputId": "f6dacef7-ac8f-419a-c457-44aadca91d3d"
   },
   "outputs": [],
   "source": []
  },
  {
   "cell_type": "markdown",
   "id": "23",
   "metadata": {
    "id": "86c9c52d-4062-42ee-94bb-2e860e351057"
   },
   "source": [
    "## Failure mode 4: X and Z are completely unrelated\n",
    "\n",
    "\n",
    "Z and X are unrelated to all other variables (both are bad proxies). We expect the covariance rank test to can catch this failure mode."
   ]
  },
  {
   "cell_type": "code",
   "execution_count": null,
   "id": "24",
   "metadata": {
    "colab": {
     "base_uri": "https://localhost:8080/",
     "height": 285
    },
    "executionInfo": {
     "elapsed": 138,
     "status": "ok",
     "timestamp": 1725234548375,
     "user": {
      "displayName": "Vasilis Syrganis",
      "userId": "00968929417250286436"
     },
     "user_tz": 420
    },
    "id": "77dc0bb2-95c4-445c-842b-810c5b3c0f8a",
    "outputId": "6d1371d4-a8c3-41a5-801e-a12e80478f1e"
   },
   "outputs": [],
   "source": [
    "np.random.seed(123)\n",
    "# Indirect effect is a*b, direct effect is c\n",
    "a, b, c = 1.0, 1.0, .5\n",
    "# D has no direct relationship to Z, Z has no direct relationship to M,\n",
    "# X has no direct relationship to M, X has no direct relationship to Y (but doesn't affect results if it does; rank test will still catch the failure)\n",
    "d, e, f, g = 0.0, 0.0, 0.0, 0.0\n",
    "sm = 2.0\n",
    "run_summary(n, pz, px, a, b, c, d, e, f, g, sm)"
   ]
  },
  {
   "cell_type": "code",
   "execution_count": null,
   "id": "25",
   "metadata": {
    "colab": {
     "base_uri": "https://localhost:8080/",
     "height": 1000
    },
    "executionInfo": {
     "elapsed": 5550,
     "status": "ok",
     "timestamp": 1725234559557,
     "user": {
      "displayName": "Vasilis Syrganis",
      "userId": "00968929417250286436"
     },
     "user_tz": 420
    },
    "id": "503af39c-d713-40f5-844d-efe10ac07665",
    "outputId": "c57f0acc-03d7-4b74-9392-1e4764e5a015"
   },
   "outputs": [],
   "source": []
  },
  {
   "cell_type": "markdown",
   "id": "26",
   "metadata": {
    "id": "45c3797e-6e30-461e-b1a6-d0490ef21afc"
   },
   "source": [
    "## Failure Mode 5: M ~= D.\n",
    "\n",
    "X, Z are good proxies, but the mediator is super correlated with the treatment, which leads to lack of identification of the direct effect. The weakIV and idstrength tests will catch this case."
   ]
  },
  {
   "cell_type": "code",
   "execution_count": null,
   "id": "27",
   "metadata": {
    "colab": {
     "base_uri": "https://localhost:8080/",
     "height": 285
    },
    "executionInfo": {
     "elapsed": 206,
     "status": "ok",
     "timestamp": 1725234559759,
     "user": {
      "displayName": "Vasilis Syrganis",
      "userId": "00968929417250286436"
     },
     "user_tz": 420
    },
    "id": "dfeedaef-9fa1-412f-b788-4e86001f436e",
    "outputId": "a0061834-4d60-4e75-cc50-54869e5c2139"
   },
   "outputs": [],
   "source": [
    "np.random.seed(123)\n",
    "# Indirect effect is a*b, direct effect is c\n",
    "a, b, c = 1.0, 1.0, .5\n",
    "# D has direct relationship to Z, Z has direct relationship to M,\n",
    "# X has direct relationship to M, X has direct relationship to Y\n",
    "d, e, f, g = 1.0, 1.0, 1.0, 1.0\n",
    "sm = 0.05\n",
    "run_summary(n, pz, px, a, b, c, d, e, f, g, sm)"
   ]
  }
 ],
 "metadata": {
  "accelerator": "GPU",
  "colab": {
   "collapsed_sections": [
    "3Si5HMYQG3mZ"
   ],
   "gpuType": "A100",
   "machine_shape": "hm",
   "provenance": [],
   "toc_visible": true
  },
  "kernelspec": {
   "display_name": "Python 3 (ipykernel)",
   "language": "python",
   "name": "python3"
  },
  "language_info": {
   "codemirror_mode": {
    "name": "ipython",
    "version": 3
   },
   "file_extension": ".py",
   "mimetype": "text/x-python",
   "name": "python",
   "nbconvert_exporter": "python",
   "pygments_lexer": "ipython3",
   "version": "3.8.13"
  }
 },
 "nbformat": 4,
 "nbformat_minor": 5
}
