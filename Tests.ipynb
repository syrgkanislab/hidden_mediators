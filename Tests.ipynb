{
 "cells": [
  {
   "cell_type": "markdown",
   "id": "0",
   "metadata": {
    "id": "nJSbD4Nr8VNq"
   },
   "source": [
    "## Setup Only for Colab"
   ]
  },
  {
   "cell_type": "code",
   "execution_count": null,
   "id": "1",
   "metadata": {
    "colab": {
     "base_uri": "https://localhost:8080/"
    },
    "executionInfo": {
     "elapsed": 20786,
     "status": "ok",
     "timestamp": 1724430402340,
     "user": {
      "displayName": "Vasilis Syrganis",
      "userId": "00968929417250286436"
     },
     "user_tz": 420
    },
    "id": "j4wBu9BNomlq",
    "outputId": "5d6c0861-d9f8-41f8-e448-0aeecf454a5c"
   },
   "outputs": [],
   "source": [
    "# prompt: mount drive\n",
    "\n",
    "from google.colab import drive\n",
    "drive.mount('/content/drive')"
   ]
  },
  {
   "cell_type": "code",
   "execution_count": null,
   "id": "2",
   "metadata": {
    "colab": {
     "base_uri": "https://localhost:8080/"
    },
    "executionInfo": {
     "elapsed": 155,
     "status": "ok",
     "timestamp": 1724430429765,
     "user": {
      "displayName": "Vasilis Syrganis",
      "userId": "00968929417250286436"
     },
     "user_tz": 420
    },
    "id": "JfB4MISjovTQ",
    "outputId": "6a76c61e-b4cb-4e38-8172-29da9648dd9b"
   },
   "outputs": [],
   "source": [
    "%cd /content/drive/MyDrive/Colab\\ Notebooks/hidden_mediators"
   ]
  },
  {
   "cell_type": "code",
   "execution_count": null,
   "id": "3",
   "metadata": {
    "colab": {
     "base_uri": "https://localhost:8080/"
    },
    "executionInfo": {
     "elapsed": 318,
     "status": "ok",
     "timestamp": 1724430430251,
     "user": {
      "displayName": "Vasilis Syrganis",
      "userId": "00968929417250286436"
     },
     "user_tz": 420
    },
    "id": "D5tm-9Fno5Xn",
    "outputId": "4c81e1ca-3685-4022-943b-a4aa9ebec0bf"
   },
   "outputs": [],
   "source": [
    "%ls"
   ]
  },
  {
   "cell_type": "code",
   "execution_count": null,
   "id": "4",
   "metadata": {
    "executionInfo": {
     "elapsed": 203,
     "status": "ok",
     "timestamp": 1724430430453,
     "user": {
      "displayName": "Vasilis Syrganis",
      "userId": "00968929417250286436"
     },
     "user_tz": 420
    },
    "id": "MFy1PyP89gR3"
   },
   "outputs": [],
   "source": [
    "from IPython.display import clear_output"
   ]
  },
  {
   "cell_type": "code",
   "execution_count": null,
   "id": "5",
   "metadata": {
    "executionInfo": {
     "elapsed": 9641,
     "status": "ok",
     "timestamp": 1724430455469,
     "user": {
      "displayName": "Vasilis Syrganis",
      "userId": "00968929417250286436"
     },
     "user_tz": 420
    },
    "id": "VGF-ucGhpC5P"
   },
   "outputs": [],
   "source": [
    "import time\n",
    "!pip install -r requirements.txt\n",
    "time.sleep(2)\n",
    "clear_output()"
   ]
  },
  {
   "cell_type": "code",
   "execution_count": null,
   "id": "6",
   "metadata": {
    "executionInfo": {
     "elapsed": 7774,
     "status": "ok",
     "timestamp": 1724430463240,
     "user": {
      "displayName": "Vasilis Syrganis",
      "userId": "00968929417250286436"
     },
     "user_tz": 420
    },
    "id": "0wsNOzNVtonf"
   },
   "outputs": [],
   "source": [
    "import time\n",
    "# replace `develop` with `install` if you wont make library code changes\n",
    "!python setup.py develop\n",
    "time.sleep(2)\n",
    "clear_output()\n",
    "# Restart the session after running this"
   ]
  },
  {
   "cell_type": "code",
   "execution_count": null,
   "id": "7",
   "metadata": {
    "colab": {
     "base_uri": "https://localhost:8080/"
    },
    "executionInfo": {
     "elapsed": 3,
     "status": "ok",
     "timestamp": 1724430463240,
     "user": {
      "displayName": "Vasilis Syrganis",
      "userId": "00968929417250286436"
     },
     "user_tz": 420
    },
    "id": "zyL1_6L73Z9e",
    "outputId": "0b83ac0f-3706-4139-fb33-0f27106ab74a"
   },
   "outputs": [],
   "source": [
    "%cd /content/drive/MyDrive/Colab\\ Notebooks"
   ]
  },
  {
   "cell_type": "code",
   "execution_count": null,
   "id": "8",
   "metadata": {},
   "outputs": [],
   "source": [
    "A = np.random.normal(0, 1, size=(3, 3))"
   ]
  },
  {
   "cell_type": "markdown",
   "id": "9",
   "metadata": {
    "id": "cvIuehalDudB"
   },
   "source": [
    "# Main Logic"
   ]
  },
  {
   "cell_type": "code",
   "execution_count": null,
   "id": "10",
   "metadata": {
    "executionInfo": {
     "elapsed": 239,
     "status": "ok",
     "timestamp": 1724430474210,
     "user": {
      "displayName": "Vasilis Syrganis",
      "userId": "00968929417250286436"
     },
     "user_tz": 420
    },
    "id": "ab080aab-f8b0-4582-a4fb-1440d7b4ec57"
   },
   "outputs": [],
   "source": [
    "%load_ext autoreload\n",
    "%autoreload 2"
   ]
  },
  {
   "cell_type": "code",
   "execution_count": null,
   "id": "11",
   "metadata": {
    "executionInfo": {
     "elapsed": 12052,
     "status": "ok",
     "timestamp": 1724430486399,
     "user": {
      "displayName": "Vasilis Syrganis",
      "userId": "00968929417250286436"
     },
     "user_tz": 420
    },
    "id": "a0c91797-b6ee-4ffb-a464-832daaabd438"
   },
   "outputs": [],
   "source": [
    "import numpy as np\n",
    "import pandas as pd\n",
    "import matplotlib.pyplot as plt\n",
    "import scipy.stats\n",
    "import pytest\n",
    "from joblib import Parallel, delayed\n",
    "from sklearn.model_selection import KFold, StratifiedKFold, train_test_split\n",
    "from proximalde.gen_data import gen_data_complex, gen_data_no_controls\n",
    "from proximalde.proximal import proximal_direct_effect, ProximalDE, estimate_nuisances, \\\n",
    "    estimate_final, second_stage, _check_input, residualizeW, _gen_subsamples\n",
    "from proximalde.inference import NormalInferenceResults, pvalue\n",
    "from proximalde.ivreg import Regularized2SLS\n",
    "from proximalde.ivtests import weakiv_tests\n",
    "from proximalde.tests.utilities import gen_iv_data\n",
    "from sklearn.linear_model import RidgeCV, Ridge, LinearRegression, LassoCV\n",
    "from sklearn.base import clone"
   ]
  },
  {
   "cell_type": "markdown",
   "id": "12",
   "metadata": {},
   "source": [
    "```\n",
    "a : strength of D -> M edge\n",
    "b : strength of M -> Y edge\n",
    "c : strength of D -> Y edge\n",
    "d : strength of D -> Z edge\n",
    "e : strength of M -> Z edge\n",
    "f : strength of M -> X edge\n",
    "g : strength of X -> Y edge\n",
    "```"
   ]
  },
  {
   "cell_type": "code",
   "execution_count": null,
   "id": "13",
   "metadata": {},
   "outputs": [],
   "source": [
    "# W, D, _, Z, X, Y = gen_data_complex(n, pw, pz, px, a, b, c, d, e, f, g)"
   ]
  },
  {
   "cell_type": "code",
   "execution_count": null,
   "id": "14",
   "metadata": {},
   "outputs": [],
   "source": [
    "def exp_summary(it, n, pw, pz, px, a, b, c, d, e, f, g):\n",
    "    np.random.seed(it)\n",
    "    W, D, _, Z, X, Y = gen_data_no_controls(n, pw, pz, px, a, b, c, d, e, f, g)\n",
    "    est = ProximalDE(dual_type='Z', cv=3, semi=True,\n",
    "                     multitask=False, n_jobs=1, random_state=3, verbose=0)\n",
    "    est.fit(W, D, Z, X, Y)\n",
    "    lb, ub = est.robust_conf_int(lb=-2, ub=2)\n",
    "    return est.stderr_, est.idstrength_, est.primal_violation_, est.dual_violation_, est.point_, lb, ub\n",
    "\n",
    "def run_summary(n, pw, pz, px, a, b, c, d, e, f, g):\n",
    "    res = np.array(Parallel(n_jobs=-1, verbose=3)(delayed(exp_summary)(it, n, pw, pz, px, a, b, c, d, e, f, g)\n",
    "                                                  for it in range(100)))\n",
    "    print(f\"Mean estimate: {np.mean(res[:, 4]):.3f}\")\n",
    "    print(f\"Bias: {np.mean(res[:, 4] - c):.3f}\")\n",
    "    print(f\"RMSE: {np.sqrt(np.mean((res[:, 4] - c)**2)):.3f}\")\n",
    "    cov = np.mean((res[:, 4] + 1.96 * res[:, 0] >= c) & (res[:, 4] - 1.96 * res[:, 0] <= c))\n",
    "    print(f\"Coverage: {cov:.3f}\")\n",
    "    rcov = np.mean((res[:, 5] <= c) & (res[:, 6] >= c))\n",
    "    print(f\"ID-Robust Coverage: {rcov:.3f}\")\n",
    "    plt.figure(figsize=(10, 5))\n",
    "    plt.subplot(2, 2, 1)\n",
    "    plt.title(f\"stderr: mean={np.mean(res[:, 0]):.3f}, %>1.0={np.mean(res[:, 0] > 2.0):.3f}\")\n",
    "    plt.hist(res[:, 0])\n",
    "    plt.subplot(2, 2, 2)\n",
    "    plt.title(f\"idstrength: mean={np.mean(res[:, 1]):.3f}, %<3.85={np.mean(res[:, 1] < 3.85):.3f}\")\n",
    "    plt.hist(res[:, 1])\n",
    "    plt.subplot(2, 2, 3)\n",
    "    plt.title(f\"primal_violation: mean={np.mean(res[:, 2]):.3f}, %>5.99={np.mean(res[:, 2] > 5.99):.3f}\")\n",
    "    plt.hist(res[:, 2])\n",
    "    plt.subplot(2, 2, 4)\n",
    "    plt.title(f\"dual_violation: mean={np.mean(res[:, 3]):.3f}, %>3.85={np.mean(res[:, 3] > 3.85):.3f}\")\n",
    "    plt.hist(res[:, 3])\n",
    "    plt.tight_layout()\n",
    "    plt.show()"
   ]
  },
  {
   "cell_type": "code",
   "execution_count": null,
   "id": "15",
   "metadata": {},
   "outputs": [],
   "source": [
    "n = 10000\n",
    "pw = 1\n",
    "pz, px = 1, 1\n",
    "n_splits = 3"
   ]
  },
  {
   "cell_type": "markdown",
   "id": "16",
   "metadata": {},
   "source": [
    "## Failure mode 1"
   ]
  },
  {
   "cell_type": "code",
   "execution_count": null,
   "id": "17",
   "metadata": {},
   "outputs": [],
   "source": [
    "np.random.seed(123)\n",
    "# Indirect effect is a*b, direct effect is c\n",
    "a, b, c = 1.0, 1.0, .5\n",
    "# D has direct relationship to Z, Z has no relationship to M, \n",
    "# X has direct relationship to M, X has no direct relationship to Y\n",
    "d, e, f, g = 1.0, 0.0, 1.0, 0.0\n",
    "W, D, _, Z, X, Y = gen_data_no_controls(n, pw, pz, px, a, b, c, d, e, f, g)\n",
    "est = ProximalDE(dual_type='Z', cv=3, semi=True,\n",
    "                 multitask=False, n_jobs=-1, random_state=3, verbose=0)\n",
    "est.fit(W, D, Z, X, Y)\n",
    "display(est.summary().tables[0])\n",
    "display(est.summary().tables[1])\n",
    "display(est.summary().tables[2])\n",
    "# we see that even though both primal and dual have feasible solutions\n",
    "# the identification is very weak, since Z is only driven by D and\n",
    "# hence D can almost perfectly predict D. So the id_stregth test failed\n",
    "# and caught this failure mode. Also confidence intervals are quite large\n",
    "# so we are not artificially confident about a wrong result."
   ]
  },
  {
   "cell_type": "code",
   "execution_count": null,
   "id": "18",
   "metadata": {},
   "outputs": [],
   "source": [
    "run_summary(n, pw, pz, px, a, b, c, d, e, f, g)"
   ]
  },
  {
   "cell_type": "markdown",
   "id": "19",
   "metadata": {},
   "source": [
    "## Failure mode 2"
   ]
  },
  {
   "cell_type": "code",
   "execution_count": null,
   "id": "20",
   "metadata": {},
   "outputs": [],
   "source": [
    "np.random.seed(123)\n",
    "# Indirect effect is a*b, direct effect is c\n",
    "a, b, c = 1.0, 1.0, .5\n",
    "# D has no direct relationship to Z, Z has no direct relationship to M, \n",
    "# X has direct relationship to M, X has no direct relationship to Y\n",
    "d, e, f, g = 0.0, 0.0, 1.0, 0.0\n",
    "W, D, _, Z, X, Y = gen_data_no_controls(n, pw, pz, px, a, b, c, d, e, f, g)\n",
    "est = ProximalDE(dual_type='Q', cv=3, semi=True,\n",
    "                 multitask=False, n_jobs=-1, random_state=3, verbose=0)\n",
    "est.fit(W, D, Z, X, Y)\n",
    "display(est.summary().tables[0])\n",
    "display(est.summary().tables[1])\n",
    "display(est.summary().tables[2])\n",
    "# we see that in this case even though the idstrength test passed\n",
    "# the dual violation test did not pass. In this case the dual problem\n",
    "# does not admit a solution and this was detected by the dual_violation\n",
    "# statistic which was very high"
   ]
  },
  {
   "cell_type": "code",
   "execution_count": null,
   "id": "21",
   "metadata": {},
   "outputs": [],
   "source": [
    "run_summary(n, pw, pz, px, a, b, c, d, e, f, g)"
   ]
  },
  {
   "cell_type": "markdown",
   "id": "22",
   "metadata": {},
   "source": [
    "## Failure Mode 3"
   ]
  },
  {
   "cell_type": "code",
   "execution_count": null,
   "id": "23",
   "metadata": {},
   "outputs": [],
   "source": [
    "np.random.seed(123)\n",
    "# Indirect effect is a*b, direct effect is c\n",
    "a, b, c = 1.0, 1.0, .5\n",
    "# D has no direct relationship to Z, Z has direct relationship to M, \n",
    "# X has no direct relationship to M, X has no direct relationship to Y\n",
    "d, e, f, g = 0.0, 1.0, 0.0, 0.0\n",
    "W, D, _, Z, X, Y = gen_data_no_controls(n, pw, pz, px, a, b, c, d, e, f, g)\n",
    "est = ProximalDE(dual_type='Q', cv=3, semi=True,\n",
    "                 multitask=False, n_jobs=-1, random_state=3, verbose=0)\n",
    "est.fit(W, D, Z, X, Y)\n",
    "display(est.summary().tables[0])\n",
    "display(est.summary().tables[1])\n",
    "display(est.summary().tables[2])\n",
    "# we see that in this case even though the idstrength test passed\n",
    "# and the dual violation test passed, the primal violation almost did\n",
    "# not pass. This test should be catching this failure."
   ]
  },
  {
   "cell_type": "code",
   "execution_count": null,
   "id": "24",
   "metadata": {},
   "outputs": [],
   "source": [
    "run_summary(n, pw, pz, px, a, b, c, d, e, f, g)"
   ]
  },
  {
   "cell_type": "markdown",
   "id": "25",
   "metadata": {},
   "source": [
    "## Failure mode 4"
   ]
  },
  {
   "cell_type": "code",
   "execution_count": null,
   "id": "26",
   "metadata": {},
   "outputs": [],
   "source": [
    "np.random.seed(123)\n",
    "# Indirect effect is a*b, direct effect is c\n",
    "a, b, c = 1.0, 1.0, .5\n",
    "# D has no direct relationship to Z, Z has no direct relationship to M, \n",
    "# X has no direct relationship to M, X has no direct relationship to Y\n",
    "d, e, f, g = 0.0, 0.0, 0.0, 0.0\n",
    "W, D, _, Z, X, Y = gen_data_no_controls(n, pw, pz, px, a, b, c, d, e, f, g)\n",
    "est = ProximalDE(dual_type='Q', cv=3, semi=True,\n",
    "                 multitask=False, n_jobs=-1, random_state=3, verbose=0)\n",
    "est.fit(W, D, Z, X, Y)\n",
    "display(est.summary().tables[0])\n",
    "display(est.summary().tables[1])\n",
    "display(est.summary().tables[2])"
   ]
  },
  {
   "cell_type": "code",
   "execution_count": null,
   "id": "27",
   "metadata": {},
   "outputs": [],
   "source": [
    "np.mean(est.Dres_ * est.Xres_), np.mean(est.Zres_ * est.Xres_), np.mean(est.Dres_ * est.Zres_)"
   ]
  },
  {
   "cell_type": "code",
   "execution_count": null,
   "id": "28",
   "metadata": {},
   "outputs": [],
   "source": [
    "est.eta_, est.gamma_"
   ]
  },
  {
   "cell_type": "code",
   "execution_count": null,
   "id": "29",
   "metadata": {},
   "outputs": [],
   "source": [
    "run_summary(n, pw, pz, px, a, b, c, d, e, f, g)"
   ]
  },
  {
   "cell_type": "markdown",
   "id": "30",
   "metadata": {},
   "source": [
    "## Failure Mode 5"
   ]
  },
  {
   "cell_type": "code",
   "execution_count": null,
   "id": "31",
   "metadata": {},
   "outputs": [],
   "source": [
    "np.random.seed(123)\n",
    "# Indirect effect is a*b, direct effect is c\n",
    "a, b, c = 1.0, 1.0, .5\n",
    "# D has no direct relationship to Z, Z has no direct relationship to M, \n",
    "# X has no direct relationship to M, X has direct relationship to Y\n",
    "d, e, f, g = 0.0, 0.0, 0.0, 5.0\n",
    "W, D, _, Z, X, Y = gen_data_no_controls(n, pw, pz, px, a, b, c, d, e, f, g)\n",
    "est = ProximalDE(dual_type='Q', cv=3, semi=True,\n",
    "                 multitask=False, n_jobs=-1, random_state=3, verbose=0)\n",
    "est.fit(W, D, Z, X, Y)\n",
    "display(est.summary().tables[0])\n",
    "display(est.summary().tables[1])\n",
    "display(est.summary().tables[2])"
   ]
  },
  {
   "cell_type": "code",
   "execution_count": null,
   "id": "32",
   "metadata": {},
   "outputs": [],
   "source": [
    "run_summary(n, pw, pz, px, a, b, c, d, e, f, g)"
   ]
  },
  {
   "cell_type": "markdown",
   "id": "33",
   "metadata": {},
   "source": [
    "## No Failure Mode"
   ]
  },
  {
   "cell_type": "code",
   "execution_count": null,
   "id": "34",
   "metadata": {},
   "outputs": [],
   "source": [
    "np.random.seed(123)\n",
    "# Indirect effect is a*b, direct effect is c\n",
    "a, b, c = 1.0, 1.0, .5\n",
    "# D has direct relationship to Z, Z has direct relationship to M, \n",
    "# X has direct relationship to M, X has direct relationship to Y\n",
    "d, e, f, g = 1.0, 1.0, 1.0, 1.0\n",
    "W, D, _, Z, X, Y = gen_data_no_controls(n, pw, pz, px, a, b, c, d, e, f, g)\n",
    "est = ProximalDE(dual_type='Z', cv=3, semi=True,\n",
    "                 multitask=False, n_jobs=-1, random_state=3, verbose=0)\n",
    "est.fit(W, D, Z, X, Y)\n",
    "display(est.summary().tables[0])\n",
    "display(est.summary().tables[1])\n",
    "display(est.summary().tables[2])"
   ]
  },
  {
   "cell_type": "code",
   "execution_count": null,
   "id": "35",
   "metadata": {},
   "outputs": [],
   "source": [
    "run_summary(n, pw, pz, px, a, b, c, d, e, f, g)"
   ]
  },
  {
   "cell_type": "markdown",
   "id": "36",
   "metadata": {},
   "source": [
    "# OLD"
   ]
  },
  {
   "cell_type": "code",
   "execution_count": null,
   "id": "37",
   "metadata": {},
   "outputs": [],
   "source": [
    "np.random.seed(123)\n",
    "# Indirect effect is a*b, direct effect is c\n",
    "a, b, c = 1.0, 1.0, .5\n",
    "# Z has no relationship to M, but X has relationship to M\n",
    "# D also has direct relationship to Z, X doesn't have direct relationship to Y\n",
    "d, e, f, g = 1.0, 0.0, 1.0, 0.0\n",
    "W, D, _, Z, X, Y = gen_data_no_controls(n, pw, pz, px, a, b, c, d, e, f, g)\n",
    "est = ProximalDE(dual_type='Z', cv=3, semi=True,\n",
    "                 multitask=False, n_jobs=-1, random_state=3, verbose=0)\n",
    "est.fit(W, D, Z, X, Y)\n",
    "display(est.summary().tables[0])\n",
    "display(est.summary().tables[1])\n",
    "display(est.summary().tables[2])\n",
    "# we see that even though both primal and dual have feasible solutions\n",
    "# the identification is very weak, since Z is only driven by D and\n",
    "# hence D can almost perfectly predict D. So the id_stregth test failed\n",
    "# and caught this failure mode."
   ]
  },
  {
   "cell_type": "code",
   "execution_count": null,
   "id": "38",
   "metadata": {},
   "outputs": [],
   "source": [
    "# Indirect effect is a*b, direct effect is c\n",
    "a, b, c = 1.0, 1.0, .5\n",
    "# Z has no relationship to M, but X has relationship to M\n",
    "# D also has direct relationship to Z, X doesn't have direct relationship to Y\n",
    "d, e, f, g = 1.0, 0.0, 1.0, 0.0\n",
    "W, D, _, Z, X, Y = gen_data_no_controls(n, pw, pz, px, a, b, c, d, e, f, g)\n",
    "est = ProximalDE(dual_type='Z', cv=3, semi=True,\n",
    "                 multitask=False, n_jobs=-1, random_state=3, verbose=0)\n",
    "est.fit(W, D, Z, X, Y)\n",
    "display(est.summary().tables[0])\n",
    "display(est.summary().tables[1])\n",
    "display(est.summary().tables[2])"
   ]
  },
  {
   "cell_type": "code",
   "execution_count": null,
   "id": "39",
   "metadata": {},
   "outputs": [],
   "source": [
    "np.mean(est.Dres_ * est.Xres_)"
   ]
  },
  {
   "cell_type": "code",
   "execution_count": null,
   "id": "40",
   "metadata": {},
   "outputs": [],
   "source": [
    "np.mean(est.Zres_ * est.Xres_)"
   ]
  },
  {
   "cell_type": "code",
   "execution_count": null,
   "id": "41",
   "metadata": {},
   "outputs": [],
   "source": [
    "est.summary()"
   ]
  },
  {
   "cell_type": "code",
   "execution_count": null,
   "id": "42",
   "metadata": {},
   "outputs": [],
   "source": [
    "diag = est.run_diagnostics()"
   ]
  },
  {
   "cell_type": "code",
   "execution_count": null,
   "id": "43",
   "metadata": {},
   "outputs": [],
   "source": [
    "inds = est.influential_set(alpha=0.05)"
   ]
  },
  {
   "cell_type": "code",
   "execution_count": null,
   "id": "44",
   "metadata": {},
   "outputs": [],
   "source": [
    "from sklearn.base import clone\n",
    "est2 = clone(est)\n",
    "est2.fit(np.delete(W, inds, axis=0), np.delete(D, inds, axis=0),\n",
    "         np.delete(Z, inds, axis=0), np.delete(X, inds, axis=0),\n",
    "         np.delete(Y, inds, axis=0))"
   ]
  },
  {
   "cell_type": "code",
   "execution_count": null,
   "id": "45",
   "metadata": {},
   "outputs": [],
   "source": [
    "est2.summary(alpha=0.05)"
   ]
  },
  {
   "cell_type": "markdown",
   "id": "46",
   "metadata": {
    "id": "7d5c66f2-556c-4ed8-8e59-88e6a697b3d1"
   },
   "source": [
    "#### Verifying we get the same as ivreg on the dataset in the documentation of ivreg"
   ]
  },
  {
   "cell_type": "code",
   "execution_count": null,
   "id": "47",
   "metadata": {
    "executionInfo": {
     "elapsed": 518,
     "status": "ok",
     "timestamp": 1724430494970,
     "user": {
      "displayName": "Vasilis Syrganis",
      "userId": "00968929417250286436"
     },
     "user_tz": 420
    },
    "id": "e105935b-2598-481d-9e23-508795aa2c39"
   },
   "outputs": [],
   "source": [
    "from proximalde.tests.utilities import gen_kmenta_data\n",
    "Z, X, Y, labels, controls = gen_kmenta_data()"
   ]
  },
  {
   "cell_type": "code",
   "execution_count": null,
   "id": "48",
   "metadata": {
    "colab": {
     "base_uri": "https://localhost:8080/"
    },
    "executionInfo": {
     "elapsed": 375,
     "status": "ok",
     "timestamp": 1724430499584,
     "user": {
      "displayName": "Vasilis Syrganis",
      "userId": "00968929417250286436"
     },
     "user_tz": 420
    },
    "id": "bd2101cf-cf48-48e3-8a72-5122692c381e",
    "outputId": "545fd8ca-f05e-4865-97cd-2f9023860c9c"
   },
   "outputs": [],
   "source": [
    "from proximalde.ivtests import weakiv_tests\n",
    "weakiv_tests(Z, X, Y, controls=controls)"
   ]
  },
  {
   "cell_type": "code",
   "execution_count": null,
   "id": "49",
   "metadata": {
    "executionInfo": {
     "elapsed": 167,
     "status": "ok",
     "timestamp": 1724430504672,
     "user": {
      "displayName": "Vasilis Syrganis",
      "userId": "00968929417250286436"
     },
     "user_tz": 420
    },
    "id": "feea4ab3-6c67-49d3-9664-528576df987a"
   },
   "outputs": [],
   "source": [
    "from proximalde.diagnostics import IVDiagnostics\n",
    "diag = IVDiagnostics(add_constant=True).fit(Z, X, Y)"
   ]
  },
  {
   "cell_type": "code",
   "execution_count": null,
   "id": "50",
   "metadata": {
    "colab": {
     "base_uri": "https://localhost:8080/",
     "height": 480
    },
    "executionInfo": {
     "elapsed": 2115,
     "status": "ok",
     "timestamp": 1724430508319,
     "user": {
      "displayName": "Vasilis Syrganis",
      "userId": "00968929417250286436"
     },
     "user_tz": 420
    },
    "id": "42953881-2b06-4728-91c7-3b00f6b66e2e",
    "outputId": "7df1dcf7-bae4-44f0-f897-e47e969a8ab1"
   },
   "outputs": [],
   "source": [
    "diag.influence_plot(labels=labels)\n",
    "plt.show()"
   ]
  },
  {
   "cell_type": "code",
   "execution_count": null,
   "id": "51",
   "metadata": {
    "id": "eaf0df40-8cfd-426e-a81a-d4a9f05c4c79"
   },
   "outputs": [],
   "source": []
  }
 ],
 "metadata": {
  "colab": {
   "provenance": []
  },
  "kernelspec": {
   "display_name": "Python 3 (ipykernel)",
   "language": "python",
   "name": "python3"
  },
  "language_info": {
   "codemirror_mode": {
    "name": "ipython",
    "version": 3
   },
   "file_extension": ".py",
   "mimetype": "text/x-python",
   "name": "python",
   "nbconvert_exporter": "python",
   "pygments_lexer": "ipython3",
   "version": "3.12.4"
  }
 },
 "nbformat": 4,
 "nbformat_minor": 5
}
