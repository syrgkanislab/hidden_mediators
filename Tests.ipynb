{
 "cells": [
  {
   "cell_type": "markdown",
   "id": "0",
   "metadata": {
    "id": "nJSbD4Nr8VNq"
   },
   "source": [
    "## Setup Only for Colab"
   ]
  },
  {
   "cell_type": "code",
   "execution_count": null,
   "id": "1",
   "metadata": {},
   "outputs": [],
   "source": [
    "import scipy.stats\n",
    "np.round(scipy.stats.chi2(1 + 1).ppf(1 - .05), 5)\n"
   ]
  },
  {
   "cell_type": "code",
   "execution_count": null,
   "id": "2",
   "metadata": {},
   "outputs": [],
   "source": [
    "from proximalde.proximal import estimate_nuisances\n",
    "def gen_data_no_controls(n, pw, pz, px, a, b, c, d, e, f, g, *, sm=2, sz=1, sx=1, sy=1):\n",
    "    ''' Controls are generated but are irrelevant to the rest\n",
    "    of the data\n",
    "\n",
    "    n: number of samples\n",
    "    pw: dimension of controls\n",
    "    pz: dimension of treatment proxies (\"instruments\")\n",
    "    px: dimension of outcome proxies (\"treatments\")\n",
    "    a : strength of D -> M edge\n",
    "    b : strength of M -> Y edge\n",
    "    c : strength of D -> Y edge\n",
    "    d : strength of D -> Z edge\n",
    "    e : strength of M -> Z edge\n",
    "    f : strength of M -> X edge\n",
    "    g : strength of X -> Y edge\n",
    "    sm : scale of noise of M\n",
    "    sz : scale of noise of Z\n",
    "    sx : scale of noise of X\n",
    "    sy : scale of noise of Y\n",
    "    '''\n",
    "    W = None#np.random.normal(0, 1, size=(n, pw))\n",
    "    D = np.random.binomial(1, .5 * np.ones(n,))\n",
    "    M = a * D + sm * np.random.normal(0, 1, (n,))\n",
    "    Z = (e * M + d * D).reshape(-1, 1) + sz * np.random.normal(0, 1, (n, pz))\n",
    "    X = f * M.reshape(-1, 1) + sx * np.random.normal(0, 1, (n, px))\n",
    "    Y = b * M + c * D + g * X[:, 0] + sy * np.random.normal(0, 1, n)\n",
    "    return W, D, M, Z, X, Y\n",
    "n=10000\n",
    "np.random.seed(123)\n",
    "W, D, _, Z, X, Y = gen_data_no_controls(n, pw=1, pz=1, px=1, a=1., b=1., c=.5, d=0.0, e=0.0, f=1.0, g=0.0)\n",
    "D = D - D.mean(axis=0, keepdims=True)\n",
    "Z = Z - Z.mean(axis=0, keepdims=True)\n",
    "X = X - X.mean(axis=0, keepdims=True)\n",
    "_, _, _, _, _, _, pval, dval, strength, strength_std, *_ = estimate_nuisances(D, Z, X, Y,\n",
    "                                                                                cv=5, n_jobs=-1, verbose=0,\n",
    "                                                                                random_state=123)\n",
    "print(pval, dval, strength / strength_std)\n",
    "assert dval > 3.84\n",
    "assert pval < 3.84\n",
    "assert strength / strength_std > 11.0"
   ]
  },
  {
   "cell_type": "code",
   "execution_count": null,
   "id": "3",
   "metadata": {
    "colab": {
     "base_uri": "https://localhost:8080/"
    },
    "executionInfo": {
     "elapsed": 19683,
     "status": "ok",
     "timestamp": 1725683504820,
     "user": {
      "displayName": "Vasilis Syrganis",
      "userId": "00968929417250286436"
     },
     "user_tz": 420
    },
    "id": "j4wBu9BNomlq",
    "outputId": "a3ae3010-940b-4ce1-b94e-84d1c3161f64"
   },
   "outputs": [],
   "source": [
    "# prompt: mount drive\n",
    "\n",
    "from google.colab import drive\n",
    "drive.mount('/content/drive')"
   ]
  },
  {
   "cell_type": "code",
   "execution_count": null,
   "id": "4",
   "metadata": {
    "colab": {
     "base_uri": "https://localhost:8080/"
    },
    "executionInfo": {
     "elapsed": 1225,
     "status": "ok",
     "timestamp": 1725683506042,
     "user": {
      "displayName": "Vasilis Syrganis",
      "userId": "00968929417250286436"
     },
     "user_tz": 420
    },
    "id": "JfB4MISjovTQ",
    "outputId": "39faf57c-b912-464c-96f0-6eae3668d7e2"
   },
   "outputs": [],
   "source": [
    "%cd /content/drive/MyDrive/Colab\\ Notebooks/hidden_mediators"
   ]
  },
  {
   "cell_type": "code",
   "execution_count": null,
   "id": "5",
   "metadata": {
    "colab": {
     "base_uri": "https://localhost:8080/"
    },
    "executionInfo": {
     "elapsed": 7,
     "status": "ok",
     "timestamp": 1725683506042,
     "user": {
      "displayName": "Vasilis Syrganis",
      "userId": "00968929417250286436"
     },
     "user_tz": 420
    },
    "id": "D5tm-9Fno5Xn",
    "outputId": "ba17f30c-ab2b-42da-ace6-33926c4e9ae2"
   },
   "outputs": [],
   "source": [
    "%ls"
   ]
  },
  {
   "cell_type": "code",
   "execution_count": null,
   "id": "6",
   "metadata": {
    "executionInfo": {
     "elapsed": 3,
     "status": "ok",
     "timestamp": 1725683506042,
     "user": {
      "displayName": "Vasilis Syrganis",
      "userId": "00968929417250286436"
     },
     "user_tz": 420
    },
    "id": "MFy1PyP89gR3"
   },
   "outputs": [],
   "source": [
    "from IPython.display import clear_output"
   ]
  },
  {
   "cell_type": "code",
   "execution_count": null,
   "id": "7",
   "metadata": {
    "executionInfo": {
     "elapsed": 6282,
     "status": "ok",
     "timestamp": 1725683512321,
     "user": {
      "displayName": "Vasilis Syrganis",
      "userId": "00968929417250286436"
     },
     "user_tz": 420
    },
    "id": "VGF-ucGhpC5P"
   },
   "outputs": [],
   "source": [
    "import time\n",
    "!pip install -r requirements.txt\n",
    "time.sleep(2)\n",
    "clear_output()"
   ]
  },
  {
   "cell_type": "code",
   "execution_count": null,
   "id": "8",
   "metadata": {
    "executionInfo": {
     "elapsed": 5023,
     "status": "ok",
     "timestamp": 1725683517312,
     "user": {
      "displayName": "Vasilis Syrganis",
      "userId": "00968929417250286436"
     },
     "user_tz": 420
    },
    "id": "0wsNOzNVtonf"
   },
   "outputs": [],
   "source": [
    "import time\n",
    "# replace `develop` with `install` if you wont make library code changes\n",
    "!python setup.py develop\n",
    "time.sleep(2)\n",
    "clear_output()\n",
    "# Restart the session after running this"
   ]
  },
  {
   "cell_type": "code",
   "execution_count": null,
   "id": "9",
   "metadata": {
    "colab": {
     "base_uri": "https://localhost:8080/"
    },
    "executionInfo": {
     "elapsed": 20,
     "status": "ok",
     "timestamp": 1725683517313,
     "user": {
      "displayName": "Vasilis Syrganis",
      "userId": "00968929417250286436"
     },
     "user_tz": 420
    },
    "id": "zyL1_6L73Z9e",
    "outputId": "261ff9e7-a80d-4cd1-8c7c-404688e4ce10"
   },
   "outputs": [],
   "source": [
    "%cd /content/drive/MyDrive/Colab\\ Notebooks"
   ]
  },
  {
   "cell_type": "markdown",
   "id": "10",
   "metadata": {
    "id": "cvIuehalDudB"
   },
   "source": [
    "# Main Logic"
   ]
  },
  {
   "cell_type": "code",
   "execution_count": null,
   "id": "11",
   "metadata": {
    "executionInfo": {
     "elapsed": 246,
     "status": "ok",
     "timestamp": 1725683563084,
     "user": {
      "displayName": "Vasilis Syrganis",
      "userId": "00968929417250286436"
     },
     "user_tz": 420
    },
    "id": "ab080aab-f8b0-4582-a4fb-1440d7b4ec57"
   },
   "outputs": [],
   "source": [
    "%load_ext autoreload\n",
    "%autoreload 2"
   ]
  },
  {
   "cell_type": "code",
   "execution_count": null,
   "id": "12",
   "metadata": {
    "executionInfo": {
     "elapsed": 5518,
     "status": "ok",
     "timestamp": 1725683568791,
     "user": {
      "displayName": "Vasilis Syrganis",
      "userId": "00968929417250286436"
     },
     "user_tz": 420
    },
    "id": "a0c91797-b6ee-4ffb-a464-832daaabd438"
   },
   "outputs": [],
   "source": [
    "import numpy as np\n",
    "import pandas as pd\n",
    "import matplotlib.pyplot as plt\n",
    "import scipy.stats\n",
    "import pytest\n",
    "from joblib import Parallel, delayed\n",
    "from proximalde.gen_synthetic_data import gen_data_no_controls\n",
    "from proximalde.proximal import ProximalDE"
   ]
  },
  {
   "cell_type": "code",
   "execution_count": null,
   "id": "13",
   "metadata": {},
   "outputs": [],
   "source": [
    "def exp_summary(it, n, pz, px, a, b, c, d, e, f, g, sm):\n",
    "    np.random.seed(it)\n",
    "    _, D, _, Z, X, Y = gen_data_no_controls(n, pz, px, a, b, c, d, e, f, g, sm=sm)\n",
    "    est = ProximalDE(cv=3, semi=True, ivreg_type='adv', n_jobs=1, random_state=3, verbose=0)\n",
    "    est.fit(None, D, Z, X, Y)\n",
    "    lb, ub = est.robust_conf_int(lb=-2, ub=2)\n",
    "    weakiv_stat, _, _, _, pi, var_pi = est.weakiv_test(return_pi_and_var=True)\n",
    "    eigs, eig_crit = est.covariance_rank_test(calculate_critical=True)\n",
    "    maxeig = eigs[0]\n",
    "    return est.stderr_, est.idstrength_, est.primal_violation_, est.dual_violation_, est.point_, \\\n",
    "        lb, ub, weakiv_stat, maxeig, pi, var_pi, *est.gamma_.flatten(), \\\n",
    "        *est.ivreg_gamma_.stderr_.flatten(), est.idstrength_std_, eig_crit\n",
    "\n",
    "def run_summary(n, pz, px, a, b, c, d, e, f, g, sm):\n",
    "    res = np.array(Parallel(n_jobs=-1, verbose=3)(delayed(exp_summary)(it, n, pz, px, a, b, c, d, e, f, g, sm)\n",
    "                                                  for it in range(100)))\n",
    "    print(f\"Mean estimate: {np.mean(res[:, 4]):.3f}\")\n",
    "    print(f\"Bias: {np.mean(res[:, 4] - c):.3f}\")\n",
    "    print(f\"RMSE: {np.sqrt(np.mean((res[:, 4] - c)**2)):.3f}\")\n",
    "    cov = np.mean((res[:, 4] + 1.96 * res[:, 0] >= c) & (res[:, 4] - 1.96 * res[:, 0] <= c))\n",
    "    print(f\"Coverage: {cov:.3f}\")\n",
    "    rcov = np.mean((res[:, 5] <= c) & (res[:, 6] >= c))\n",
    "    print(f\"ID-Robust Coverage: {rcov:.3f}\")\n",
    "    plt.figure(figsize=(10, 10))\n",
    "    plt.subplot(3, 2, 1)\n",
    "    plt.title(f\"stderr: mean={np.mean(res[:, 0]):.3f}\\n%>1.0={np.mean(res[:, 0] > 1.0):.3f}\")\n",
    "    plt.hist(res[:, 0])\n",
    "    plt.subplot(3, 2, 2)\n",
    "    crit = np.round(scipy.stats.foldnorm(c=10).ppf(.95), 2)\n",
    "    plt.title(f\"idstrength: mean={np.mean(res[:, 1] / res[:, 11 + 2*pz]):.3f}\\n%Fail (<{crit})={np.mean(res[:, 1] / res[:, 11 + 2*pz] < crit):.3f}\")\n",
    "    plt.hist(res[:, 1] / res[:, 11 + 2*pz])\n",
    "    plt.subplot(3, 2, 3)\n",
    "    crit = np.round(scipy.stats.chi2(df=pz + 1).ppf(.95), 2)\n",
    "    plt.title(f\"primal_violation: mean={np.mean(res[:, 2]):.3f}\\n%Fail (>{crit})={np.mean(res[:, 2] > crit):.3f}\")\n",
    "    plt.hist(res[:, 2])\n",
    "    plt.subplot(3, 2, 4)\n",
    "    crit = np.round(scipy.stats.chi2(df=px).ppf(.95), 2)\n",
    "    plt.title(f\"dual_violation: mean={np.mean(res[:, 3]):.3f}\\n%Fail (>{crit})={np.mean(res[:, 3] > crit):.3f}\")\n",
    "    plt.hist(res[:, 3])\n",
    "    plt.subplot(3, 2, 5)\n",
    "    plt.title(f\"weakiv_test: mean={np.mean(res[:, 7]):.3f}\\n%Fail (<23)={np.mean(res[:, 7] < 23):.3f}\")\n",
    "    plt.hist(res[:, 7])\n",
    "    plt.subplot(3, 2, 6)\n",
    "    eig_stat = res[:, 8] / res[:, 11+2*pz+1]\n",
    "    plt.title(f\"rank_test: mean={np.mean(eig_stat):.3f}\\n%Fail (<1)={np.mean(eig_stat < 1):.3f}\")\n",
    "    plt.hist(eig_stat)\n",
    "    plt.tight_layout()\n",
    "    plt.show()\n"
   ]
  },
  {
   "cell_type": "markdown",
   "id": "14",
   "metadata": {
    "id": "fc35db26-fa38-4a33-a21c-e8eefbc14d66"
   },
   "source": [
    "```\n",
    "a : strength of D -> M edge\n",
    "b : strength of M -> Y edge\n",
    "c : strength of D -> Y edge\n",
    "d : strength of D -> Z edge\n",
    "e : strength of M -> Z edge\n",
    "f : strength of M -> X edge\n",
    "g : strength of X -> Y edge\n",
    "```"
   ]
  },
  {
   "cell_type": "markdown",
   "id": "15",
   "metadata": {
    "id": "73d438c6-3f34-4fd3-bc3b-19e1bad1e0f1"
   },
   "source": [
    "## No Failure Mode"
   ]
  },
  {
   "cell_type": "code",
   "execution_count": null,
   "id": "16",
   "metadata": {
    "colab": {
     "base_uri": "https://localhost:8080/",
     "height": 285
    },
    "executionInfo": {
     "elapsed": 5139,
     "status": "ok",
     "timestamp": 1725234570155,
     "user": {
      "displayName": "Vasilis Syrganis",
      "userId": "00968929417250286436"
     },
     "user_tz": 420
    },
    "id": "a2582430-aa8c-4c77-aba5-f3afc6dd30a9",
    "outputId": "ea6529e9-8398-4ded-d771-3f7e26001227"
   },
   "outputs": [],
   "source": [
    "np.random.seed(1)\n",
    "# Indirect effect is a*b, direct effect is c\n",
    "a, b, c = 1.0, 1.0, .5\n",
    "# D has direct relationship to Z, Z has direct relationship to M,\n",
    "# X has direct relationship to M, X has direct relationship to Y (but doesn't matter w/ validity of result)\n",
    "d, e, f, g = 1.0, 1.0, 1.0, 1.0\n",
    "sm = 2.0\n",
    "run_summary(n, pz, px, a, b, c, d, e, f, g, sm)"
   ]
  },
  {
   "cell_type": "code",
   "execution_count": null,
   "id": "17",
   "metadata": {
    "colab": {
     "base_uri": "https://localhost:8080/",
     "height": 1000
    },
    "executionInfo": {
     "elapsed": 193170,
     "status": "ok",
     "timestamp": 1725234763322,
     "user": {
      "displayName": "Vasilis Syrganis",
      "userId": "00968929417250286436"
     },
     "user_tz": 420
    },
    "id": "8425bd27-7651-4ee0-a44a-645f83529e46",
    "outputId": "40fc20fd-2c1b-4635-c2a5-b52b4e802b70"
   },
   "outputs": [],
   "source": []
  },
  {
   "cell_type": "markdown",
   "id": "18",
   "metadata": {
    "id": "400c6503-2aaf-4af6-8b8d-0859d53a0074"
   },
   "source": [
    "## Failure mode 1: Z is a bad proxy (no M->Z)\n",
    "\n",
    "Z has a direct relationship to D but no direct relationship to M. So Z is not a good proxy treatment. However, X is a good proxy outcome and this can allow us to detect the failure mode. \n",
    "\n",
    "Here the fact that Z is correlated with D makes the dual assumption not be violated, and the primal should pass as X is a good proxy outcome. However, the solution basically leads to an orthogonal instrument V=D-gammaZ that perfectly predicts treatment D (since Z is only driven by D) and hence the identification strength assumption is violated. Thus we expect the id_stregth test should fail."
   ]
  },
  {
   "cell_type": "code",
   "execution_count": null,
   "id": "19",
   "metadata": {
    "colab": {
     "base_uri": "https://localhost:8080/",
     "height": 285
    },
    "executionInfo": {
     "elapsed": 5,
     "status": "ok",
     "timestamp": 1725510194411,
     "user": {
      "displayName": "Vasilis Syrganis",
      "userId": "00968929417250286436"
     },
     "user_tz": 420
    },
    "id": "5e569d31-74f6-457c-a4b1-9cd094724211",
    "outputId": "4739bb77-40fd-474c-971e-c930b2cff6b4"
   },
   "outputs": [],
   "source": [
    "np.random.seed(123)\n",
    "# Indirect effect is a*b, direct effect is c\n",
    "a, b, c = 1.0, 1.0, .5\n",
    "# D has direct relationship to Z, Z has no relationship to M,\n",
    "# X has direct relationship to M, X has direct relationship to Y (but doesn't matter w/ validity of result)\n",
    "d, e, f, g = 1, 0, 1, 0\n",
    "sm = 2.\n",
    "n = 10000\n",
    "px, pz = 5, 5\n",
    "run_summary(n, pz, px, a, b, c, d, e, f, g, sm=sm)"
   ]
  },
  {
   "cell_type": "markdown",
   "id": "20",
   "metadata": {
    "id": "4549fa20-ee8b-438d-a1d0-2f3fb4179d4e"
   },
   "source": [
    "## Failure mode 2: Z is a bad proxy (no M->Z or D->Z)\n",
    "\n",
    "Z has no direct relationship to D or M. So Z is not a good proxy treatment. However, X is a good proxy outcome and this can allow us to detect the failure mode. \n",
    "\n",
    "Unlike failure mode 1, Z is uncorrelated with D, which makes the dual assumption violated. Because the dual doesn't have a solution, the weakIV test is invalid, as the covariance calculation depends on the validity of the dual moment. We also expect the rank covariance test to fail as there is no relationship between Z and X. "
   ]
  },
  {
   "cell_type": "code",
   "execution_count": null,
   "id": "21",
   "metadata": {
    "colab": {
     "base_uri": "https://localhost:8080/",
     "height": 285
    },
    "executionInfo": {
     "elapsed": 168,
     "status": "ok",
     "timestamp": 1725234537277,
     "user": {
      "displayName": "Vasilis Syrganis",
      "userId": "00968929417250286436"
     },
     "user_tz": 420
    },
    "id": "bf5a6940-c615-4eff-aef4-c14efa420544",
    "outputId": "f40a65e5-444e-43e3-8ce8-a3f7522d0ada"
   },
   "outputs": [],
   "source": [
    "np.random.seed(123)\n",
    "# Indirect effect is a*b, direct effect is c\n",
    "a, b, c = 1.0, 1.0, .5\n",
    "# D has no direct relationship to Z, Z has no direct relationship to M,\n",
    "# X has direct relationship to M, X has no direct relationship to Y\n",
    "d, e, f, g = 0.0, 0.0, 1.0, 0.0\n",
    "sm = 2.0\n",
    "run_summary(n, pz, px, a, b, c, d, e, f, g, sm)"
   ]
  },
  {
   "cell_type": "code",
   "execution_count": null,
   "id": "22",
   "metadata": {
    "colab": {
     "base_uri": "https://localhost:8080/",
     "height": 1000
    },
    "executionInfo": {
     "elapsed": 5563,
     "status": "ok",
     "timestamp": 1725234542837,
     "user": {
      "displayName": "Vasilis Syrganis",
      "userId": "00968929417250286436"
     },
     "user_tz": 420
    },
    "id": "ce6f2e90-be77-47a1-a816-692e777c6193",
    "outputId": "0883e5a5-e592-4594-d92b-39c4651d6f51"
   },
   "outputs": [],
   "source": []
  },
  {
   "cell_type": "markdown",
   "id": "23",
   "metadata": {
    "id": "3530245f-2def-40cf-b7a2-8b7b82fb86b8"
   },
   "source": [
    "## Failure Mode 3: X is a bad proxy (no M->X or X->Y)\n",
    "\n",
    "Z is a good proxy, but X is not and is unrelated to M. This makes the existence of a solution to the primal IV assumption violated. We also expect the rank covariance test to fail as there is no relationship between Z and X. "
   ]
  },
  {
   "cell_type": "code",
   "execution_count": null,
   "id": "24",
   "metadata": {
    "colab": {
     "base_uri": "https://localhost:8080/",
     "height": 285
    },
    "executionInfo": {
     "elapsed": 4,
     "status": "ok",
     "timestamp": 1725234542837,
     "user": {
      "displayName": "Vasilis Syrganis",
      "userId": "00968929417250286436"
     },
     "user_tz": 420
    },
    "id": "61e69035-6c05-495c-ba3e-1d7eedc83603",
    "outputId": "ecc093ef-874b-40fc-a390-a2fd6fbe4e23"
   },
   "outputs": [],
   "source": [
    "np.random.seed(123)\n",
    "# Indirect effect is a*b, direct effect is c\n",
    "a, b, c = 1.0, 1.0, .5\n",
    "# D has no direct relationship to Z, Z has direct relationship to M,\n",
    "# X has no direct relationship to M, X has no direct relationship to Y\n",
    "d, e, f, g = 0.0, 1.0, 0.0, 0.0\n",
    "sm = 2.0\n",
    "run_summary(n, pz, px, a, b, c, d, e, f, g, sm)"
   ]
  },
  {
   "cell_type": "code",
   "execution_count": null,
   "id": "25",
   "metadata": {
    "colab": {
     "base_uri": "https://localhost:8080/",
     "height": 1000
    },
    "executionInfo": {
     "elapsed": 5408,
     "status": "ok",
     "timestamp": 1725234548242,
     "user": {
      "displayName": "Vasilis Syrganis",
      "userId": "00968929417250286436"
     },
     "user_tz": 420
    },
    "id": "7f1440dc-72c8-4f0a-a456-60814760251c",
    "outputId": "f6dacef7-ac8f-419a-c457-44aadca91d3d"
   },
   "outputs": [],
   "source": []
  },
  {
   "cell_type": "markdown",
   "id": "26",
   "metadata": {
    "id": "86c9c52d-4062-42ee-94bb-2e860e351057"
   },
   "source": [
    "## Failure mode 4: X and Z are completely unrelated\n",
    "\n",
    "\n",
    "Z and X are unrelated to all other variables (both are bad proxies). We expect the covariance rank test to can catch this failure mode."
   ]
  },
  {
   "cell_type": "code",
   "execution_count": null,
   "id": "27",
   "metadata": {
    "colab": {
     "base_uri": "https://localhost:8080/",
     "height": 285
    },
    "executionInfo": {
     "elapsed": 138,
     "status": "ok",
     "timestamp": 1725234548375,
     "user": {
      "displayName": "Vasilis Syrganis",
      "userId": "00968929417250286436"
     },
     "user_tz": 420
    },
    "id": "77dc0bb2-95c4-445c-842b-810c5b3c0f8a",
    "outputId": "6d1371d4-a8c3-41a5-801e-a12e80478f1e"
   },
   "outputs": [],
   "source": [
    "np.random.seed(123)\n",
    "# Indirect effect is a*b, direct effect is c\n",
    "a, b, c = 1.0, 1.0, .5\n",
    "# D has no direct relationship to Z, Z has no direct relationship to M,\n",
    "# X has no direct relationship to M, X has no direct relationship to Y (but doesn't affect results if it does; rank test will still catch the failure)\n",
    "d, e, f, g = 0.0, 0.0, 0.0, 0.0\n",
    "sm = 2.0\n",
    "run_summary(n, pz, px, a, b, c, d, e, f, g, sm)"
   ]
  },
  {
   "cell_type": "code",
   "execution_count": null,
   "id": "28",
   "metadata": {
    "colab": {
     "base_uri": "https://localhost:8080/",
     "height": 1000
    },
    "executionInfo": {
     "elapsed": 5550,
     "status": "ok",
     "timestamp": 1725234559557,
     "user": {
      "displayName": "Vasilis Syrganis",
      "userId": "00968929417250286436"
     },
     "user_tz": 420
    },
    "id": "503af39c-d713-40f5-844d-efe10ac07665",
    "outputId": "c57f0acc-03d7-4b74-9392-1e4764e5a015"
   },
   "outputs": [],
   "source": []
  },
  {
   "cell_type": "markdown",
   "id": "29",
   "metadata": {
    "id": "45c3797e-6e30-461e-b1a6-d0490ef21afc"
   },
   "source": [
    "## Failure Mode 5: M ~= D.\n",
    "\n",
    "X, Z are good proxies, but the mediator is super correlated with the treatment, which leads to lack of identification of the direct effect. The weakIV and idstrength tests will catch this case."
   ]
  },
  {
   "cell_type": "code",
   "execution_count": null,
   "id": "30",
   "metadata": {
    "colab": {
     "base_uri": "https://localhost:8080/",
     "height": 285
    },
    "executionInfo": {
     "elapsed": 206,
     "status": "ok",
     "timestamp": 1725234559759,
     "user": {
      "displayName": "Vasilis Syrganis",
      "userId": "00968929417250286436"
     },
     "user_tz": 420
    },
    "id": "dfeedaef-9fa1-412f-b788-4e86001f436e",
    "outputId": "a0061834-4d60-4e75-cc50-54869e5c2139"
   },
   "outputs": [],
   "source": [
    "np.random.seed(123)\n",
    "# Indirect effect is a*b, direct effect is c\n",
    "a, b, c = 1.0, 1.0, .5\n",
    "# D has direct relationship to Z, Z has direct relationship to M,\n",
    "# X has direct relationship to M, X has direct relationship to Y\n",
    "d, e, f, g = 1.0, 1.0, 1.0, 1.0\n",
    "sm = 0.05\n",
    "run_summary(n, pz, px, a, b, c, d, e, f, g, sm)"
   ]
  }
 ],
 "metadata": {
  "accelerator": "GPU",
  "colab": {
   "collapsed_sections": [
    "3Si5HMYQG3mZ"
   ],
   "gpuType": "A100",
   "machine_shape": "hm",
   "provenance": [],
   "toc_visible": true
  },
  "kernelspec": {
   "display_name": "Python 3 (ipykernel)",
   "language": "python",
   "name": "python3"
  },
  "language_info": {
   "codemirror_mode": {
    "name": "ipython",
    "version": 3
   },
   "file_extension": ".py",
   "mimetype": "text/x-python",
   "name": "python",
   "nbconvert_exporter": "python",
   "pygments_lexer": "ipython3",
   "version": "3.8.13"
  }
 },
 "nbformat": 4,
 "nbformat_minor": 5
}
