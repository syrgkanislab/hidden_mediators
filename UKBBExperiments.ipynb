{
 "cells": [
  {
   "cell_type": "markdown",
   "id": "0",
   "metadata": {
    "id": "T6FelHd78d8T"
   },
   "source": [
    "# Main Logic"
   ]
  },
  {
   "cell_type": "code",
   "execution_count": null,
   "id": "1",
   "metadata": {
    "colab": {
     "base_uri": "https://localhost:8080/"
    },
    "executionInfo": {
     "elapsed": 386,
     "status": "ok",
     "timestamp": 1725304888843,
     "user": {
      "displayName": "Vasilis Syrganis",
      "userId": "00968929417250286436"
     },
     "user_tz": 420
    },
    "id": "a1446bbd-c4be-4846-b09a-e36fad2802ab",
    "outputId": "1da66a3a-0830-4d54-dea1-3e05fdadb7a0"
   },
   "outputs": [],
   "source": [
    "%load_ext autoreload\n",
    "%autoreload 2"
   ]
  },
  {
   "cell_type": "code",
   "execution_count": null,
   "id": "2",
   "metadata": {
    "executionInfo": {
     "elapsed": 2,
     "status": "ok",
     "timestamp": 1725304889203,
     "user": {
      "displayName": "Vasilis Syrganis",
      "userId": "00968929417250286436"
     },
     "user_tz": 420
    },
    "id": "c79a60f7-dde3-4c7c-8419-ce831b20e824"
   },
   "outputs": [],
   "source": [
    "import numpy as np\n",
    "import pandas as pd\n",
    "import matplotlib.pyplot as plt\n",
    "import scipy.stats\n",
    "from joblib import Parallel, delayed\n",
    "from proximalde.gen_data import gen_data_complex, gen_data_no_controls, load_ukbb_data\n",
    "from proximalde.proximal import proximal_direct_effect, ProximalDE, residualizeW\n",
    "from sklearn.linear_model import LinearRegression\n",
    "from proximalde.crossfit import fit_predict\n",
    "import os\n",
    "pd.options.display.max_columns = None"
   ]
  },
  {
   "cell_type": "code",
   "execution_count": null,
   "id": "3",
   "metadata": {},
   "outputs": [],
   "source": [
    "SAVE_PATH = './results/'\n",
    "from tqdm import tqdm \n",
    "for D_label in ['Female','Black',  'Obese', 'Asian']:\n",
    "    print(D_label)\n",
    "    for Y_label in tqdm(['OA', 'RA', 'myoc', 'copd', 'deprs', 'back']):\n",
    "        W, W_feats, X, X_feats, Z, Z_feats, Y, D = load_ukbb_data(D_label=D_label, Y_label=Y_label)\n",
    "\n",
    "        for dual_type in ['Z', 'Q']:\n",
    "            for ivreg_type in ['adv']:\n",
    "                save_dir = f'{SAVE_PATH}/ivreg={ivreg_type}_dual={dual_type}_D={D_label}_Y={Y_label}'\n",
    "                print(save_dir)\n",
    "                np.random.seed(4)\n",
    "                est = ProximalDE(cv=3, semi=True, dual_type=dual_type, ivreg_type=ivreg_type,\n",
    "                                 multitask=False, n_jobs=-1, random_state=3, verbose=1)\n",
    "                est.fit(W, D, Z, X, Y, D_label=D_label, Y_label=Y_label)                \n",
    "                sm = est.summary(decimals=5, save_dir=save_dir)\n",
    "                print(sm.tables[0])\n",
    "                print(sm.tables[2])\n"
   ]
  },
  {
   "cell_type": "code",
   "execution_count": null,
   "id": "4",
   "metadata": {},
   "outputs": [],
   "source": [
    "SAVE_PATH = './results/'\n",
    "from tqdm import tqdm \n",
    "for D_label in ['Black', 'Female', 'Obese', 'Asian']:\n",
    "    print(D_label)\n",
    "    for Y_label in tqdm(['OA', 'RA', 'myoc', 'copd', 'deprs', 'back']):\n",
    "        W, W_feats, X, X_feats, Z, Z_feats, Y, D = load_ukbb_data(D_label=D_label, Y_label=Y_label)\n",
    "\n",
    "        for dual_type in ['Z', 'Q']:\n",
    "            for ivreg_type in ['adv', '2sls']:\n",
    "                save_dir = f'{SAVE_PATH}/ivreg={ivreg_type}_dual={dual_type}_D={D_label}_Y={Y_label}'\n",
    "                print(save_dir)\n",
    "                if not os.path.exists(save_dir):\n",
    "                    os.mkdir(save_dir)\n",
    "                if not os.path.exists(save_dir + '/tests.csv'):\n",
    "                    np.random.seed(4)\n",
    "\n",
    "                    est = ProximalDE(cv=3, semi=True, dual_type=dual_type, ivreg_type=ivreg_type,\n",
    "                                     multitask=False, n_jobs=-1, random_state=3, verbose=1)\n",
    "                    est.fit(W, D, Z, X, Y, D_label=D_label, Y_label=Y_label)                \n",
    "                    sm = est.summary(decimals=5, save_dir=save_dir)\n",
    "                    print(sm.tables[0])\n",
    "                    print(sm.tables[2])\n",
    "                    \n",
    "                if dual_type == 'Z' and ivreg_type == 'adv' and not os.path.exists(save_dir + '/covrank_test.csv'):\n",
    "                    svalues, svalues_crit = est.covariance_rank_test(calculate_critical=True)\n",
    "                    np.save(save_dir + '/covrank_test.npy', np.concatenate([svalues, [svalues_crit]]))"
   ]
  },
  {
   "cell_type": "code",
   "execution_count": null,
   "id": "5",
   "metadata": {},
   "outputs": [],
   "source": []
  },
  {
   "cell_type": "markdown",
   "id": "6",
   "metadata": {},
   "source": [
    "## Analyze results "
   ]
  },
  {
   "cell_type": "code",
   "execution_count": null,
   "id": "7",
   "metadata": {},
   "outputs": [],
   "source": [
    "### Load all data into a single dataframe"
   ]
  },
  {
   "cell_type": "code",
   "execution_count": null,
   "id": "8",
   "metadata": {},
   "outputs": [],
   "source": [
    "test_dfs = []\n",
    "point_dfs = []\n",
    "for D_label in ['Black', 'Female', 'Obese','Asian']:\n",
    "    print(D_label)\n",
    "    for Y_label in ['OA', 'RA', 'myoc', 'copd', 'deprs', 'back']:\n",
    "\n",
    "        for dual_type in ['Z', 'Q']:\n",
    "            for ivreg_type in ['adv']:\n",
    "                try:\n",
    "                    save_dir = f'{SAVE_PATH}/ivreg={ivreg_type}_dual={dual_type}_D={D_label}_Y={Y_label}'\n",
    "                    test_df = pd.read_csv(save_dir + '/tests.csv', header=1, index_col=1)\n",
    "                    test_df = test_df.drop(columns=['0'])\n",
    "                    test_df_flat = test_df.T.unstack().to_frame().sort_index(level=1).T\n",
    "                    test_df_flat.columns = test_df_flat.columns.map('_'.join)\n",
    "                    point_df = pd.read_csv(save_dir + '/point_est.csv', header=1, index_col=1)\n",
    "                    point_df = point_df.drop(columns=['0'])\n",
    "                    test_df_flat['D_Y'] = point_df['D_Y'] = f'{D_label}_{Y_label}'\n",
    "                    test_df_flat['dual'] = point_df['dual'] = dual_type\n",
    "                    test_df_flat['ivreg'] = point_df['ivreg'] = ivreg_type\n",
    "                    point_dfs.append(point_df)\n",
    "                    test_dfs.append(test_df_flat)\n",
    "                except:\n",
    "                    pass\n",
    "                \n",
    "point_df = pd.concat(point_dfs)\n",
    "test_df = pd.concat(test_dfs)\n",
    "test_df = test_df.reindex(sorted(test_df.columns), axis=1)\n",
    "point_df.to_csv('./results/all_point_est.csv')\n",
    "test_df.to_csv('./results/all_tests.csv')"
   ]
  },
  {
   "cell_type": "code",
   "execution_count": null,
   "id": "9",
   "metadata": {},
   "outputs": [],
   "source": [
    "ss_DY = point_df[(np.sign(point_df.ci_lower) == np.sign(point_df.ci_upper)) & (np.abs(point_df.point)>.05)].D_Y.unique()\n",
    "point_df[(np.sign(point_df.ci_lower) == np.sign(point_df.ci_upper)) & (np.abs(point_df.point)>.05)]\n"
   ]
  },
  {
   "cell_type": "code",
   "execution_count": null,
   "id": "10",
   "metadata": {},
   "outputs": [],
   "source": [
    "test_df = test_df.reindex(sorted(test_df.columns), axis=1)\n",
    "test_df[test_df.D_Y.isin(ss_DY)] "
   ]
  },
  {
   "cell_type": "code",
   "execution_count": null,
   "id": "11",
   "metadata": {},
   "outputs": [],
   "source": []
  },
  {
   "cell_type": "code",
   "execution_count": null,
   "id": "12",
   "metadata": {},
   "outputs": [],
   "source": []
  },
  {
   "cell_type": "code",
   "execution_count": null,
   "id": "13",
   "metadata": {},
   "outputs": [],
   "source": [
    "for D_label in ['Black', 'Female', 'Obese','Asian']:\n",
    "    print(D_label)\n",
    "    for Y_label in ['OA']:\n",
    "        covrank_data = np.load(f'{SAVE_PATH}/ivreg=adv_dual=Z_D={D_label}_Y={Y_label}/covrank_test.npy')\n",
    "        svalues, svalues_crit = covrank_data[:-1], covrank_data[-1]\n",
    "        plt.title(f\"D={D_label}_Y={Y_label}\\nNumber of singular values above threshold: {np.sum(svalues >= svalues_crit)}. \"\n",
    "                  f\"\\nThreshold={svalues_crit:.3f}. Top singular value={svalues[0]:.3f}\")\n",
    "        plt.scatter(np.arange(len(svalues)), svalues)\n",
    "        plt.axhline(svalues_crit)\n",
    "        plt.show()"
   ]
  },
  {
   "cell_type": "code",
   "execution_count": null,
   "id": "14",
   "metadata": {
    "executionInfo": {
     "elapsed": 378,
     "status": "ok",
     "timestamp": 1725302413079,
     "user": {
      "displayName": "Vasilis Syrganis",
      "userId": "00968929417250286436"
     },
     "user_tz": 420
    },
    "id": "d566ecd4-2574-4f72-a5d2-c9d2e645ad5c"
   },
   "outputs": [],
   "source": [
    "SAVE_PATH = './results/'\n",
    "from tqdm import tqdm \n",
    "for D_label in ['Black', 'Female', 'Obese', 'Asian']:\n",
    "    print(D_label)\n",
    "    for Y_label in tqdm(['OA', 'RA', 'myoc', 'copd', 'deprs', 'back']):\n",
    "        W, W_feats, X, X_feats, Z, Z_feats, Y, D = load_ukbb_data(D_label=D_label, Y_label=Y_label)\n",
    "\n",
    "        for dual_type in ['Z', 'Q']:\n",
    "            for ivreg_type in ['adv']:\n",
    "                save_dir = f'{SAVE_PATH}/ivreg={ivreg_type}_dual={dual_type}_D={D_label}_Y={Y_label}'\n",
    "                print(save_dir)\n",
    "                np.random.seed(4)\n",
    "\n",
    "                est = ProximalDE(cv=3, semi=True, dual_type=dual_type, ivreg_type=ivreg_type,\n",
    "                                     multitask=False, n_jobs=-1, random_state=3, verbose=1)\n",
    "                est.fit(W, D, Z, X, Y, D_label=D_label, Y_label=Y_label)    \n",
    "                if\n",
    "                diag = est.run_diagnostics()\n",
    "                inds = est.influential_set(alpha=0.05)\n",
    "                print(len(inds))\n",
    "                diag.cookd_plot()\n",
    "                plt.title(save_dir)\n",
    "                plt.show()\n",
    "                diag.l2influence_plot()\n",
    "                plt.title(save_dir)\n",
    "                plt.show()\n",
    "                diag.influence_plot(influence_measure='cook', npoints=10)\n",
    "                plt.title(save_dir)\n",
    "                plt.show()\n",
    "        print()\n",
    "        print()"
   ]
  },
  {
   "cell_type": "code",
   "execution_count": null,
   "id": "15",
   "metadata": {},
   "outputs": [],
   "source": [
    "D_label = 'Asian'\n",
    "Y_label = 'OA'\n",
    "dual_type='Z'\n",
    "ivreg_type = 'adv'\n",
    "W, W_feats, X, X_feats, Z, Z_feats, Y, D = load_ukbb_data(D_label=D_label, Y_label=Y_label)\n",
    "np.random.seed(4)\n",
    "est = ProximalDE(cv=3, semi=True, dual_type=dual_type, ivreg_type=ivreg_type,\n",
    "                                     multitask=False, n_jobs=-1, random_state=3, verbose=1)\n",
    "est.fit(W, D, Z, X, Y, D_label=D_label, Y_label=Y_label)   "
   ]
  },
  {
   "cell_type": "code",
   "execution_count": null,
   "id": "16",
   "metadata": {
    "colab": {
     "base_uri": "https://localhost:8080/"
    },
    "executionInfo": {
     "elapsed": 18,
     "status": "ok",
     "timestamp": 1725302413080,
     "user": {
      "displayName": "Vasilis Syrganis",
      "userId": "00968929417250286436"
     },
     "user_tz": 420
    },
    "id": "Qtle13yEbT5o",
    "outputId": "6b85040c-a41c-4538-d1b9-e1000e3c1645"
   },
   "outputs": [],
   "source": [
    "np.random.seed(4)\n",
    "diag = est.run_diagnostics()\n",
    "inds = est.influential_set(alpha=0.05)\n",
    "len(inds)  # size of influential set that can flip the result"
   ]
  },
  {
   "cell_type": "code",
   "execution_count": null,
   "id": "17",
   "metadata": {},
   "outputs": [],
   "source": [
    "test_df[test_df.D_Y == 'Asian_OA']"
   ]
  },
  {
   "cell_type": "code",
   "execution_count": null,
   "id": "18",
   "metadata": {
    "colab": {
     "base_uri": "https://localhost:8080/",
     "height": 829
    },
    "executionInfo": {
     "elapsed": 119672,
     "status": "ok",
     "timestamp": 1725302532744,
     "user": {
      "displayName": "Vasilis Syrganis",
      "userId": "00968929417250286436"
     },
     "user_tz": 420
    },
    "id": "KHRAV2mgbYLO",
    "outputId": "054f6b4f-d6be-48aa-8607-b306e8f227e8"
   },
   "outputs": [],
   "source": [
    "from sklearn.base import clone\n",
    "# let's re-train a clone of the estimator on all the data\n",
    "# except the influential set\n",
    "np.random.seed(4)\n",
    "est2 = clone(est)\n",
    "est2.fit(np.delete(W, inds, axis=0), np.delete(D, inds, axis=0),\n",
    "         np.delete(Z, inds, axis=0), np.delete(X, inds, axis=0),\n",
    "         np.delete(Y, inds, axis=0),D_label=D_label, Y_label=Y_label, save_fname_addn=f'_rmInf{dual_type}')\n",
    "est2.summary(alpha=0.05)"
   ]
  },
  {
   "cell_type": "code",
   "execution_count": null,
   "id": "19",
   "metadata": {
    "colab": {
     "base_uri": "https://localhost:8080/",
     "height": 430
    },
    "executionInfo": {
     "elapsed": 1023,
     "status": "ok",
     "timestamp": 1725302533764,
     "user": {
      "displayName": "Vasilis Syrganis",
      "userId": "00968929417250286436"
     },
     "user_tz": 420
    },
    "id": "96d68394-cc6e-49d9-8c90-29822f00b46e",
    "outputId": "bb6f60dc-0c63-48c7-f919-9bb749afec09"
   },
   "outputs": [],
   "source": [
    "diag.cookd_plot()\n",
    "plt.show()"
   ]
  },
  {
   "cell_type": "code",
   "execution_count": null,
   "id": "20",
   "metadata": {
    "colab": {
     "base_uri": "https://localhost:8080/",
     "height": 430
    },
    "executionInfo": {
     "elapsed": 7,
     "status": "ok",
     "timestamp": 1725302533764,
     "user": {
      "displayName": "Vasilis Syrganis",
      "userId": "00968929417250286436"
     },
     "user_tz": 420
    },
    "id": "fe0b6501-f2de-40ce-a527-e7613dcedc32",
    "outputId": "c74d6e0d-da24-4d2c-bdfd-b3628826761c"
   },
   "outputs": [],
   "source": [
    "diag.l2influence_plot()\n",
    "plt.show()"
   ]
  },
  {
   "cell_type": "code",
   "execution_count": null,
   "id": "21",
   "metadata": {
    "colab": {
     "base_uri": "https://localhost:8080/",
     "height": 480
    },
    "executionInfo": {
     "elapsed": 730,
     "status": "ok",
     "timestamp": 1725302534489,
     "user": {
      "displayName": "Vasilis Syrganis",
      "userId": "00968929417250286436"
     },
     "user_tz": 420
    },
    "id": "aa9a76a8-c1db-4cbd-8504-832030cd4da6",
    "outputId": "7cf670d7-08f2-4698-d2d6-42bf5129b641"
   },
   "outputs": [],
   "source": [
    "diag.influence_plot(influence_measure='cook', npoints=10)\n",
    "plt.show()"
   ]
  },
  {
   "cell_type": "code",
   "execution_count": null,
   "id": "22",
   "metadata": {
    "colab": {
     "base_uri": "https://localhost:8080/",
     "height": 494
    },
    "executionInfo": {
     "elapsed": 1638,
     "status": "ok",
     "timestamp": 1725302536121,
     "user": {
      "displayName": "Vasilis Syrganis",
      "userId": "00968929417250286436"
     },
     "user_tz": 420
    },
    "id": "c40cc148-0463-431e-b9e2-5fa8b877092a",
    "outputId": "874c50f8-722d-4a06-cbcb-2862160a97d4"
   },
   "outputs": [],
   "source": [
    "diag.influence_plot(influence_measure='l2influence', npoints=10)\n",
    "plt.show()"
   ]
  },
  {
   "cell_type": "code",
   "execution_count": null,
   "id": "23",
   "metadata": {
    "colab": {
     "base_uri": "https://localhost:8080/",
     "height": 88
    },
    "executionInfo": {
     "elapsed": 371,
     "status": "ok",
     "timestamp": 1725305030571,
     "user": {
      "displayName": "Vasilis Syrganis",
      "userId": "00968929417250286436"
     },
     "user_tz": 420
    },
    "id": "WlKQ5gKeLx0A",
    "outputId": "ec825789-6d90-474a-91fa-ee4647a0e62c"
   },
   "outputs": [],
   "source": [
    "# tests can also be accessed individually\n",
    "display(est.weakiv_test(alpha=0.05))\n",
    "display(est.idstrength_violation_test(alpha=0.05))\n",
    "display(est.primal_violation_test(alpha=0.05))\n",
    "display(est.dual_violation_test(alpha=0.05))"
   ]
  },
  {
   "cell_type": "markdown",
   "id": "24",
   "metadata": {
    "id": "4a5c7948-4252-471b-a8ef-ebee20030797"
   },
   "source": [
    "#### Confidence Intervals and Robust Confidence Intervals"
   ]
  },
  {
   "cell_type": "code",
   "execution_count": null,
   "id": "25",
   "metadata": {
    "colab": {
     "base_uri": "https://localhost:8080/"
    },
    "executionInfo": {
     "elapsed": 177,
     "status": "ok",
     "timestamp": 1725302412430,
     "user": {
      "displayName": "Vasilis Syrganis",
      "userId": "00968929417250286436"
     },
     "user_tz": 420
    },
    "id": "3efdc8bf-2a67-472c-9bd2-03612fef1041",
    "outputId": "45864a1b-693b-4447-8e79-a088c7b4bbad"
   },
   "outputs": [],
   "source": [
    "est.conf_int(alpha=.05) # 95% confidence interval"
   ]
  },
  {
   "cell_type": "code",
   "execution_count": null,
   "id": "26",
   "metadata": {
    "colab": {
     "base_uri": "https://localhost:8080/"
    },
    "executionInfo": {
     "elapsed": 377,
     "status": "ok",
     "timestamp": 1725302412707,
     "user": {
      "displayName": "Vasilis Syrganis",
      "userId": "00968929417250286436"
     },
     "user_tz": 420
    },
    "id": "e0b1e98d-d4b0-42b2-9b08-c04c74a4d759",
    "outputId": "1e9f240e-f387-4841-d682-0a3dab915192"
   },
   "outputs": [],
   "source": [
    "# 95% confidence interval, robust to weak identification\n",
    "est.robust_conf_int(alpha=0.05, lb=.1, ub=1.0, ngrid=1000)"
   ]
  },
  {
   "cell_type": "markdown",
   "id": "27",
   "metadata": {
    "id": "bcda4ac4-ccea-41a0-a9b9-e54a2cf6d9f8"
   },
   "source": [
    "#### Unusual Data Diagnostics"
   ]
  },
  {
   "cell_type": "code",
   "execution_count": null,
   "id": "28",
   "metadata": {
    "executionInfo": {
     "elapsed": 378,
     "status": "ok",
     "timestamp": 1725302413079,
     "user": {
      "displayName": "Vasilis Syrganis",
      "userId": "00968929417250286436"
     },
     "user_tz": 420
    },
    "id": "d566ecd4-2574-4f72-a5d2-c9d2e645ad5c"
   },
   "outputs": [],
   "source": [
    "diag = est.run_diagnostics()"
   ]
  },
  {
   "cell_type": "code",
   "execution_count": null,
   "id": "29",
   "metadata": {
    "colab": {
     "base_uri": "https://localhost:8080/"
    },
    "executionInfo": {
     "elapsed": 18,
     "status": "ok",
     "timestamp": 1725302413080,
     "user": {
      "displayName": "Vasilis Syrganis",
      "userId": "00968929417250286436"
     },
     "user_tz": 420
    },
    "id": "Qtle13yEbT5o",
    "outputId": "6b85040c-a41c-4538-d1b9-e1000e3c1645"
   },
   "outputs": [],
   "source": [
    "inds = est.influential_set(alpha=0.05)\n",
    "len(inds)  # size of influential set that can flip the result"
   ]
  },
  {
   "cell_type": "code",
   "execution_count": null,
   "id": "30",
   "metadata": {
    "colab": {
     "base_uri": "https://localhost:8080/",
     "height": 829
    },
    "executionInfo": {
     "elapsed": 119672,
     "status": "ok",
     "timestamp": 1725302532744,
     "user": {
      "displayName": "Vasilis Syrganis",
      "userId": "00968929417250286436"
     },
     "user_tz": 420
    },
    "id": "KHRAV2mgbYLO",
    "outputId": "054f6b4f-d6be-48aa-8607-b306e8f227e8"
   },
   "outputs": [],
   "source": [
    "from sklearn.base import clone\n",
    "# let's re-train a clone of the estimator on all the data\n",
    "# except the influential set\n",
    "est2 = clone(est)\n",
    "est2.fit(np.delete(W, inds, axis=0), np.delete(D, inds, axis=0),\n",
    "         np.delete(Z, inds, axis=0), np.delete(X, inds, axis=0),\n",
    "         np.delete(Y, inds, axis=0))\n",
    "est2.summary(alpha=0.05)"
   ]
  },
  {
   "cell_type": "code",
   "execution_count": null,
   "id": "31",
   "metadata": {
    "colab": {
     "base_uri": "https://localhost:8080/",
     "height": 430
    },
    "executionInfo": {
     "elapsed": 1023,
     "status": "ok",
     "timestamp": 1725302533764,
     "user": {
      "displayName": "Vasilis Syrganis",
      "userId": "00968929417250286436"
     },
     "user_tz": 420
    },
    "id": "96d68394-cc6e-49d9-8c90-29822f00b46e",
    "outputId": "bb6f60dc-0c63-48c7-f919-9bb749afec09"
   },
   "outputs": [],
   "source": [
    "diag.cookd_plot()\n",
    "plt.show()"
   ]
  },
  {
   "cell_type": "code",
   "execution_count": null,
   "id": "32",
   "metadata": {
    "colab": {
     "base_uri": "https://localhost:8080/",
     "height": 430
    },
    "executionInfo": {
     "elapsed": 7,
     "status": "ok",
     "timestamp": 1725302533764,
     "user": {
      "displayName": "Vasilis Syrganis",
      "userId": "00968929417250286436"
     },
     "user_tz": 420
    },
    "id": "fe0b6501-f2de-40ce-a527-e7613dcedc32",
    "outputId": "c74d6e0d-da24-4d2c-bdfd-b3628826761c"
   },
   "outputs": [],
   "source": [
    "diag.l2influence_plot()\n",
    "plt.show()"
   ]
  },
  {
   "cell_type": "code",
   "execution_count": null,
   "id": "33",
   "metadata": {
    "colab": {
     "base_uri": "https://localhost:8080/",
     "height": 480
    },
    "executionInfo": {
     "elapsed": 730,
     "status": "ok",
     "timestamp": 1725302534489,
     "user": {
      "displayName": "Vasilis Syrganis",
      "userId": "00968929417250286436"
     },
     "user_tz": 420
    },
    "id": "aa9a76a8-c1db-4cbd-8504-832030cd4da6",
    "outputId": "7cf670d7-08f2-4698-d2d6-42bf5129b641"
   },
   "outputs": [],
   "source": [
    "diag.influence_plot(influence_measure='cook', npoints=10)\n",
    "plt.show()"
   ]
  },
  {
   "cell_type": "code",
   "execution_count": null,
   "id": "34",
   "metadata": {
    "colab": {
     "base_uri": "https://localhost:8080/",
     "height": 494
    },
    "executionInfo": {
     "elapsed": 1638,
     "status": "ok",
     "timestamp": 1725302536121,
     "user": {
      "displayName": "Vasilis Syrganis",
      "userId": "00968929417250286436"
     },
     "user_tz": 420
    },
    "id": "c40cc148-0463-431e-b9e2-5fa8b877092a",
    "outputId": "874c50f8-722d-4a06-cbcb-2862160a97d4"
   },
   "outputs": [],
   "source": [
    "diag.influence_plot(influence_measure='l2influence', npoints=10)\n",
    "plt.show()"
   ]
  },
  {
   "cell_type": "markdown",
   "id": "35",
   "metadata": {
    "id": "2ca3adc1-ce7c-4a2b-b832-42ea1e0b60a3"
   },
   "source": [
    "### Subsample-Based Inference"
   ]
  },
  {
   "cell_type": "code",
   "execution_count": null,
   "id": "36",
   "metadata": {
    "colab": {
     "base_uri": "https://localhost:8080/",
     "height": 151
    },
    "executionInfo": {
     "elapsed": 5887,
     "status": "ok",
     "timestamp": 1725234999705,
     "user": {
      "displayName": "Vasilis Syrganis",
      "userId": "00968929417250286436"
     },
     "user_tz": 420
    },
    "id": "9340f9ef-7453-4108-9974-a06005f3fb50",
    "outputId": "56ca676c-bd56-49a9-d00d-ff257ab9a91d"
   },
   "outputs": [],
   "source": [
    "inf = est.bootstrap_inference(stage=3, n_subsamples=1000, fraction=0.5, replace=False, verbose=3, random_state=123)\n",
    "inf.summary()"
   ]
  },
  {
   "cell_type": "code",
   "execution_count": null,
   "id": "37",
   "metadata": {
    "colab": {
     "base_uri": "https://localhost:8080/",
     "height": 430
    },
    "executionInfo": {
     "elapsed": 4,
     "status": "ok",
     "timestamp": 1725234999705,
     "user": {
      "displayName": "Vasilis Syrganis",
      "userId": "00968929417250286436"
     },
     "user_tz": 420
    },
    "id": "7594f89f-47a6-47a5-910d-e2bba3d266c3",
    "outputId": "6d68f449-0f83-4fd4-99b4-84120a16f6f8"
   },
   "outputs": [],
   "source": [
    "plt.hist(inf.point_dist)\n",
    "plt.vlines([inf.point], 0, 300, color='r')\n",
    "plt.show()"
   ]
  },
  {
   "cell_type": "code",
   "execution_count": null,
   "id": "38",
   "metadata": {
    "colab": {
     "base_uri": "https://localhost:8080/",
     "height": 133
    },
    "executionInfo": {
     "elapsed": 76509,
     "status": "ok",
     "timestamp": 1725235076211,
     "user": {
      "displayName": "Vasilis Syrganis",
      "userId": "00968929417250286436"
     },
     "user_tz": 420
    },
    "id": "f3967537-e6e1-41f0-b26d-9647f6f3139d",
    "outputId": "88206567-3075-4ade-e8b9-5020ce00b5c9"
   },
   "outputs": [],
   "source": [
    "inf = est.bootstrap_inference(stage=2, n_subsamples=100, fraction=0.5, replace=False, verbose=3, random_state=123)\n",
    "inf.summary()"
   ]
  },
  {
   "cell_type": "code",
   "execution_count": null,
   "id": "39",
   "metadata": {
    "colab": {
     "base_uri": "https://localhost:8080/",
     "height": 430
    },
    "executionInfo": {
     "elapsed": 6,
     "status": "ok",
     "timestamp": 1725235076211,
     "user": {
      "displayName": "Vasilis Syrganis",
      "userId": "00968929417250286436"
     },
     "user_tz": 420
    },
    "id": "d86373a6-c7d6-4afe-a817-116996436819",
    "outputId": "528e9949-caa5-423a-b255-b366a9d53d8a"
   },
   "outputs": [],
   "source": [
    "plt.hist(inf.point_dist)\n",
    "plt.vlines([inf.point], 0, 300, color='r')\n",
    "plt.show()"
   ]
  },
  {
   "cell_type": "code",
   "execution_count": null,
   "id": "40",
   "metadata": {
    "id": "893a8afa-12eb-435c-9fdc-99c9e6527f53"
   },
   "outputs": [],
   "source": [
    "inf = est.bootstrap_inference(stage=1, n_subsamples=10, fraction=0.5, replace=False, verbose=3, random_state=123)\n",
    "inf.summary()"
   ]
  },
  {
   "cell_type": "code",
   "execution_count": null,
   "id": "41",
   "metadata": {
    "id": "d5bb8d5c-6014-4f02-9c6f-6300171839a4"
   },
   "outputs": [],
   "source": [
    "plt.hist(inf.point_dist)\n",
    "plt.vlines([inf.point], 0, 300, color='r')\n",
    "plt.show()"
   ]
  },
  {
   "cell_type": "code",
   "execution_count": null,
   "id": "42",
   "metadata": {
    "id": "c9d44d07-5132-45ee-8830-424cc215ee04"
   },
   "outputs": [],
   "source": [
    "inf.summary(pivot=True)"
   ]
  },
  {
   "cell_type": "markdown",
   "id": "43",
   "metadata": {
    "id": "a482021b-9c5b-4123-b20c-878b2940ee33"
   },
   "source": [
    "# Quality of Procedure and Diagnostics Across Many Experiments"
   ]
  },
  {
   "cell_type": "code",
   "execution_count": null,
   "id": "44",
   "metadata": {
    "executionInfo": {
     "elapsed": 341,
     "status": "ok",
     "timestamp": 1725304433281,
     "user": {
      "displayName": "Vasilis Syrganis",
      "userId": "00968929417250286436"
     },
     "user_tz": 420
    },
    "id": "RBfYb0V9JCQh"
   },
   "outputs": [],
   "source": [
    "%load_ext autoreload\n",
    "%autoreload 2"
   ]
  },
  {
   "cell_type": "code",
   "execution_count": null,
   "id": "45",
   "metadata": {
    "executionInfo": {
     "elapsed": 329,
     "status": "ok",
     "timestamp": 1725305135118,
     "user": {
      "displayName": "Vasilis Syrganis",
      "userId": "00968929417250286436"
     },
     "user_tz": 420
    },
    "id": "Yb7c-hsCJDuU"
   },
   "outputs": [],
   "source": [
    "import numpy as np\n",
    "import pandas as pd\n",
    "import matplotlib.pyplot as plt\n",
    "from joblib import Parallel, delayed\n",
    "from proximalde.gen_data import gen_data_complex, gen_data_no_controls\n",
    "from proximalde.proximal import ProximalDE"
   ]
  },
  {
   "cell_type": "code",
   "execution_count": null,
   "id": "46",
   "metadata": {
    "executionInfo": {
     "elapsed": 2,
     "status": "ok",
     "timestamp": 1725305135474,
     "user": {
      "displayName": "Vasilis Syrganis",
      "userId": "00968929417250286436"
     },
     "user_tz": 420
    },
    "id": "kbCj0xisicEy"
   },
   "outputs": [],
   "source": [
    "def exp_res(it, n, pw, pz, px, a, b, c, d, e, f, g, sm, *,\n",
    "            dual_type='Z', ivreg_type='adv', n_splits=5, semi=False,\n",
    "            multitask=False, n_jobs=-1, verbose=0):\n",
    "    np.random.seed(it)\n",
    "    if pw > 0:\n",
    "        # M is unobserved so we omit it from the return variables\n",
    "        W, D, _, Z, X, Y = gen_data_complex(n, pw, pz, px, a, b, c, d, e, f, g, sm=sm)\n",
    "        est = ProximalDE(cv=n_splits, semi=semi,\n",
    "                         dual_type=dual_type, ivreg_type=ivreg_type,\n",
    "                         multitask=multitask, n_jobs=n_jobs,\n",
    "                         random_state=it, verbose=verbose)\n",
    "        est.fit(W, D, Z, X, Y)\n",
    "    else:\n",
    "        _, D, _, Z, X, Y = gen_data_no_controls(n, pw, pz, px, a, b, c, d, e, f, g, sm=sm)\n",
    "        est = ProximalDE(cv=n_splits, semi=semi,\n",
    "                         dual_type=dual_type, ivreg_type=ivreg_type,\n",
    "                         multitask=multitask, n_jobs=n_jobs,\n",
    "                         random_state=it, verbose=verbose)\n",
    "        est.fit(None, D, Z, X, Y)\n",
    "    weakiv_stat, _, _, weakiv_crit = est.weakiv_test(alpha=0.05)\n",
    "    idstr, _, _, idstr_crit = est.idstrength_violation_test(alpha=0.05)\n",
    "    pval, _, _, pval_crit = est.primal_violation_test(alpha=0.05)\n",
    "    dval, _, _, dval_crit = est.dual_violation_test(alpha=0.05)\n",
    "    lb, ub = est.robust_conf_int(lb=-2, ub=2)\n",
    "    return est.point_, est.stderr_, est.r2D_, est.r2Z_, est.r2X_, est.r2Y_, \\\n",
    "        idstr, idstr_crit, est.point_pre_, est.stderr_pre_, \\\n",
    "        pval, pval_crit, dval, dval_crit, weakiv_stat, weakiv_crit, \\\n",
    "        lb, ub"
   ]
  },
  {
   "cell_type": "code",
   "execution_count": null,
   "id": "47",
   "metadata": {
    "colab": {
     "base_uri": "https://localhost:8080/"
    },
    "executionInfo": {
     "elapsed": 12539,
     "status": "ok",
     "timestamp": 1725305148807,
     "user": {
      "displayName": "Vasilis Syrganis",
      "userId": "00968929417250286436"
     },
     "user_tz": 420
    },
    "id": "049c9f10-c821-4b00-bcce-c850162c5c23",
    "outputId": "d2652750-95e8-4486-f8ad-a63fa7c3dd61"
   },
   "outputs": [],
   "source": [
    "a = 1.0  # a*b is the indirect effect through mediator\n",
    "b = 1.0\n",
    "c = .5  # this is the direct effect we want to estimate\n",
    "d = .5  # this can be zero; does not hurt\n",
    "e = .5  # if the product of e*f is small, then we have a weak instrument\n",
    "f = .5  # if the product of e*f is small, then we have a weak instrument\n",
    "g = .9  # this can be zero; does not hurt\n",
    "sm = .35  # strength of mediator noise; needs to be non-zero for identifiability\n",
    "n = 50000\n",
    "pw = 0\n",
    "pz, px = 5, 5\n",
    "\n",
    "results = Parallel(n_jobs=-1, verbose=3)(delayed(exp_res)(i, n, pw, pz, px, a, b, c, d, e, f, g, sm,\n",
    "                                                          dual_type='Z', ivreg_type='adv',\n",
    "                                                          n_splits=3, semi=True, n_jobs=1)\n",
    "                                          for i in range(100))"
   ]
  },
  {
   "cell_type": "markdown",
   "id": "48",
   "metadata": {
    "id": "e936273a-0829-4c8b-bd86-e3fb929a296c"
   },
   "source": [
    "#### Summarize"
   ]
  },
  {
   "cell_type": "code",
   "execution_count": null,
   "id": "49",
   "metadata": {
    "colab": {
     "base_uri": "https://localhost:8080/"
    },
    "executionInfo": {
     "elapsed": 9,
     "status": "ok",
     "timestamp": 1725305148807,
     "user": {
      "displayName": "Vasilis Syrganis",
      "userId": "00968929417250286436"
     },
     "user_tz": 420
    },
    "id": "26cc2396-5f19-4ad5-8266-3a48a7b7c2bc",
    "outputId": "d1efbc80-2f70-453d-d5b9-66ec9ea2f4ec"
   },
   "outputs": [],
   "source": [
    "points_base, stderrs_base, rmseD, rmseZ, rmseX, rmseY, \\\n",
    "    idstr, idstr_crit, points_alt, stderrs_alt, \\\n",
    "    pval, pval_crit, dval, dval_crit, wiv_stat, wiv_crit, \\\n",
    "    rlb, rub = map(np.array, zip(*results))\n",
    "\n",
    "points_base = np.array(points_base)\n",
    "stderrs_base = np.array(stderrs_base)\n",
    "points_alt = np.array(points_alt)\n",
    "stderrs_alt = np.array(stderrs_alt)\n",
    "\n",
    "print(\"Estimation Quality\")\n",
    "for name, points, stderrs in [('Debiased', points_base, stderrs_base), ('Regularized', points_alt, stderrs_alt)]:\n",
    "    print(f\"\\n{name} Estimate\")\n",
    "    coverage = np.mean((points + 1.96 * stderrs >= c) & (points - 1.96 * stderrs <= c))\n",
    "    rmse = np.sqrt(np.mean((points - c)**2))\n",
    "    bias = np.abs(np.mean(points) - c)\n",
    "    std = np.std(points)\n",
    "    mean_stderr = np.mean(stderrs)\n",
    "    mean_length = np.mean(2 * 1.96 * stderrs)\n",
    "    median_length = np.median(2 * 1.96 * stderrs)\n",
    "    print(f\"Coverage: {coverage:.3f}\")\n",
    "    print(f\"RMSE: {rmse:.3f}\")\n",
    "    print(f\"Bias: {bias:.3f}\")\n",
    "    print(f\"Std: {std:.3f}\")\n",
    "    print(f\"Mean CI length: {mean_length:.3f}\")\n",
    "    print(f\"Median CI length: {mean_length:.3f}\")\n",
    "    print(f\"Mean Estimated Stderr: {mean_stderr:.3f}\")\n",
    "    print(f\"Nuisance R^2 (D, Z, X, Y): {np.mean(rmseD):.3f}, {np.mean(rmseZ):.3f}, {np.mean(rmseX):.3f}, {np.mean(rmseY):.3f}\")\n",
    "\n",
    "print(\"\\nRobust ConfInt Coverage\")\n",
    "rcoverage = np.mean((rub >= c) & (rlb <= c))\n",
    "print(f\"Robust Coverage: {rcoverage:.3f}\")\n",
    "\n",
    "print(\"\\nViolations\")\n",
    "for name, stat, crit in [('Id-Strenth', idstr, idstr_crit), ('WeakIV F-test', wiv_stat, wiv_crit)]:\n",
    "    violation = np.mean(stat <= crit)\n",
    "    print(f\"% Violations of {name}: {violation:.3f}\")\n",
    "for name, stat, crit in [('Primal Existence', pval, pval_crit), ('Dual Existence', dval, dval_crit)]:\n",
    "    violation = np.mean(stat >= crit)\n",
    "    print(f\"% Violations of {name}: {violation:.3f}\")"
   ]
  },
  {
   "cell_type": "code",
   "execution_count": null,
   "id": "50",
   "metadata": {
    "colab": {
     "base_uri": "https://localhost:8080/",
     "height": 430
    },
    "executionInfo": {
     "elapsed": 571,
     "status": "ok",
     "timestamp": 1725305158774,
     "user": {
      "displayName": "Vasilis Syrganis",
      "userId": "00968929417250286436"
     },
     "user_tz": 420
    },
    "id": "8aa77e2c-305e-4638-a8cf-03a26062436c",
    "outputId": "cd374a0f-1536-402e-a744-9f44a1495b06"
   },
   "outputs": [],
   "source": [
    "plt.hist(points_base, label='Distribution of Estimates: debiased')\n",
    "plt.hist(points_alt, label='Distribution of Estimates: original', alpha=.3)\n",
    "plt.vlines([c], 0, plt.ylim()[1], color='red', label='truth')\n",
    "plt.legend()\n",
    "plt.show()"
   ]
  },
  {
   "cell_type": "code",
   "execution_count": null,
   "id": "51",
   "metadata": {
    "id": "nemTbAS4FZQw"
   },
   "outputs": [],
   "source": []
  }
 ],
 "metadata": {
  "accelerator": "GPU",
  "colab": {
   "gpuType": "T4",
   "machine_shape": "hm",
   "provenance": []
  },
  "kernelspec": {
   "display_name": "Python 3 (ipykernel)",
   "language": "python",
   "name": "python3"
  },
  "language_info": {
   "codemirror_mode": {
    "name": "ipython",
    "version": 3
   },
   "file_extension": ".py",
   "mimetype": "text/x-python",
   "name": "python",
   "nbconvert_exporter": "python",
   "pygments_lexer": "ipython3",
   "version": "3.8.13"
  }
 },
 "nbformat": 4,
 "nbformat_minor": 5
}
