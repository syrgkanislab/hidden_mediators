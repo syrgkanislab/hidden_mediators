{
 "cells": [
  {
   "cell_type": "markdown",
   "id": "0",
   "metadata": {
    "id": "nJSbD4Nr8VNq"
   },
   "source": [
    "## Setup Only for Colab"
   ]
  },
  {
   "cell_type": "code",
   "execution_count": null,
   "id": "1",
   "metadata": {
    "colab": {
     "base_uri": "https://localhost:8080/"
    },
    "executionInfo": {
     "elapsed": 26091,
     "status": "ok",
     "timestamp": 1726010690747,
     "user": {
      "displayName": "Vasilis Syrganis",
      "userId": "00968929417250286436"
     },
     "user_tz": 420
    },
    "id": "j4wBu9BNomlq",
    "outputId": "1ec53172-b732-4692-c04f-a326c223664b"
   },
   "outputs": [],
   "source": [
    "# prompt: mount drive\n",
    "\n",
    "from google.colab import drive\n",
    "drive.mount('/content/drive')"
   ]
  },
  {
   "cell_type": "code",
   "execution_count": null,
   "id": "2",
   "metadata": {
    "colab": {
     "base_uri": "https://localhost:8080/"
    },
    "executionInfo": {
     "elapsed": 406,
     "status": "ok",
     "timestamp": 1726010691150,
     "user": {
      "displayName": "Vasilis Syrganis",
      "userId": "00968929417250286436"
     },
     "user_tz": 420
    },
    "id": "JfB4MISjovTQ",
    "outputId": "fcfe2ab8-befa-4ac7-c6db-47e2fb56f7f0"
   },
   "outputs": [],
   "source": [
    "%cd /content/drive/MyDrive/Colab\\ Notebooks/hidden_mediators"
   ]
  },
  {
   "cell_type": "code",
   "execution_count": null,
   "id": "3",
   "metadata": {
    "colab": {
     "base_uri": "https://localhost:8080/"
    },
    "executionInfo": {
     "elapsed": 904,
     "status": "ok",
     "timestamp": 1726010692051,
     "user": {
      "displayName": "Vasilis Syrganis",
      "userId": "00968929417250286436"
     },
     "user_tz": 420
    },
    "id": "D5tm-9Fno5Xn",
    "outputId": "08097071-b875-4577-c8bf-9147c356f9bc"
   },
   "outputs": [],
   "source": [
    "%ls"
   ]
  },
  {
   "cell_type": "code",
   "execution_count": null,
   "id": "4",
   "metadata": {
    "id": "MFy1PyP89gR3"
   },
   "outputs": [],
   "source": [
    "from IPython.display import clear_output"
   ]
  },
  {
   "cell_type": "code",
   "execution_count": null,
   "id": "5",
   "metadata": {
    "id": "VGF-ucGhpC5P"
   },
   "outputs": [],
   "source": [
    "import time\n",
    "!pip install -r requirements.txt\n",
    "time.sleep(2)\n",
    "clear_output()"
   ]
  },
  {
   "cell_type": "code",
   "execution_count": null,
   "id": "6",
   "metadata": {
    "id": "0wsNOzNVtonf"
   },
   "outputs": [],
   "source": [
    "import time\n",
    "# replace `develop` with `install` if you wont make library code changes\n",
    "!python setup.py develop\n",
    "time.sleep(2)\n",
    "clear_output()\n",
    "# Restart the session after running this"
   ]
  },
  {
   "cell_type": "code",
   "execution_count": null,
   "id": "7",
   "metadata": {
    "colab": {
     "base_uri": "https://localhost:8080/"
    },
    "executionInfo": {
     "elapsed": 15,
     "status": "ok",
     "timestamp": 1726010708657,
     "user": {
      "displayName": "Vasilis Syrganis",
      "userId": "00968929417250286436"
     },
     "user_tz": 420
    },
    "id": "zyL1_6L73Z9e",
    "outputId": "187a0cf7-f7f5-4731-d93b-7ff36c1212de"
   },
   "outputs": [],
   "source": [
    "%cd /content/drive/MyDrive/Colab\\ Notebooks"
   ]
  },
  {
   "cell_type": "markdown",
   "id": "8",
   "metadata": {
    "id": "T6FelHd78d8T"
   },
   "source": [
    "# Main Logic"
   ]
  },
  {
   "cell_type": "code",
   "execution_count": null,
   "id": "9",
   "metadata": {
    "id": "a1446bbd-c4be-4846-b09a-e36fad2802ab"
   },
   "outputs": [],
   "source": [
    "%load_ext autoreload\n",
    "%autoreload 2"
   ]
  },
  {
   "cell_type": "code",
   "execution_count": null,
   "id": "10",
   "metadata": {
    "id": "c79a60f7-dde3-4c7c-8419-ce831b20e824"
   },
   "outputs": [],
   "source": [
    "import numpy as np\n",
    "import pandas as pd\n",
    "import matplotlib.pyplot as plt\n",
    "from joblib import Parallel, delayed\n",
    "from ..proximalde.gen_synthetic_data import gen_data\n",
    "from ..proximalde.gen_synthetic_data import SemiSyntheticGenerator\n",
    "from ..proximalde.utilities import covariance"
   ]
  },
  {
   "cell_type": "markdown",
   "id": "11",
   "metadata": {
    "id": "InB0JdLSf1p6"
   },
   "source": [
    "# Semi-Synthetic Generation Process\n",
    "We will create a semi-synthetic DGP as follows. \n",
    "\n",
    "\n",
    "We first find the top component of the covariance of $(Z - E[Z|W], X - E[X|W])$ (i.e. Cov$(Z,X)$) by running a singular value decomposition (SVD). We can think of the statistically non-zero singular values of this covariance matrix as the latent factor model. Let the SVD decomposition of Cov$(Z, X)$ = $G \\cdot S \\cdot F'$. Then we see that if we assume the data is generated using the following structural equations:\n",
    "\\begin{align}\n",
    "Z =& G M + \\epsilon_Z \\\\\n",
    "X =& F M + \\epsilon_X\n",
    "\\end{align}\n",
    "where $\\epsilon_Z$ and $\\epsilon_X$ are independent, and $G$ and $F$ are the\n",
    "eigenvectors found by the SVD, then equivalently\n",
    "\\begin{align}\n",
    "\\text{Cov}(Z, X) = G E[MM'] F' \n",
    "\\end{align}\n",
    "Thus, if $E[MM'] = S = diagonal(s_1, ..., s_K)$, then the covariance of the $Z,X$ generated by the above structural model is the same as the covariance we calculated from the SVD. \n",
    "\n",
    "Note, to generate $Z,X$ under the aforementeioned structural equations, we need the distribution of $\\epsilon_Z$ and $\\epsilon_X$. As a proxy we can use the marginal distribution of $Z$ and $X$ from the data (i.e. marginalizing the empirical distribution).\n",
    "\n",
    "To generate $D$, such that it is only dependent on $W$, we learn a propensity model $E[D|W]$ to generate a treatment. (The reason why we want to resample D is to break any violating mediation paths $D->Mp->X$ that might exist in the original data, which would create a failure in this new dataset, if we didn't resample the treatment.)\n",
    "\n",
    "From this, we can set the value of the mediator to be \n",
    "\\begin{equation}\n",
    "\\hat{M} = a \\cdot E[D|W] + \\epsilon_M\n",
    "\\end{equation}\n",
    "where $\\epsilon_M$ is a multi-variate gaussian with covariance $E[MM'] = S = diagonal(s_1, ..., s_K)$, as per above.\n",
    "\n",
    "\n",
    "Thus the DGP is as follows: \n",
    "1. We first learn a propensity model over the observed data to get a treatment $\\hat{D} = E[D | W]$.\n",
    "2. We then compute the SVD of the covariance matrix over the observed data to get Cov$(Z, X)$ = $G \\cdot S \\cdot F'$.\n",
    "2. We then generate a mediator $M$ based on a normal random variable with covariance $S = diagonal(s_1, ..., s_K)$, and using the equation above. \n",
    "3. We generate $Z$ and $X$ based on the structural equations above using the known $G,F$ and computed $M$ and $\\epsilon$'s. \n",
    "4. For the outcome, we choose a simple linear structural function linear structural function:\n",
    "\\begin{align}\n",
    "f_Y(M, D, X, \\epsilon_Y) =& b M + c D + g X[:, 0] + \\sigma_Y F_n(Y)\n",
    "\\end{align}\n",
    "where F_n(Y) is the empirical distribution of $Y$ in the orignal data.\n",
    "\n",
    "Now for every sample $(W, D, Z, X, Y)$ in the original dataset, we now have a sample $(W, \\hat{D}, \\hat{Z}, \\hat{X}, \\hat{Y})$, where $W$ is real, $\\hat{D}$ is sampled from the estimated propensity, given $W$, and $\\hat{Z}, \\hat{X}$ are slight modifications of the real $X,Z$ along only a particular direction and $\\hat{Y}$ is fully synthetic."
   ]
  },
  {
   "cell_type": "code",
   "execution_count": null,
   "id": "12",
   "metadata": {
    "id": "6d25b0a6-3839-42a7-afce-ee0bd39b920d"
   },
   "outputs": [],
   "source": [
    "a = 1.0  # a*b is the indirect effect through mediator\n",
    "b = 1.0\n",
    "c = .5  # this is the direct effect we want to estimate\n",
    "d = 0  # this can be zero; does not hurt\n",
    "e = .5  # if the product of e*f is small, then we ha|ve a weak instrument\n",
    "f = .5  # if the product of e*f is small, then we have a weak instrument\n",
    "g = 0  # this can be zero; does not hurt\n",
    "n = 50000 # number of samples \n",
    "pw = 10 # dimension of controls / confounders\n",
    "pz = 5 # dimension of Z\n",
    "px = 5 # dimension of X\n",
    "pm = 1 # dimension of the mediator M; should not be more than max(pz,px)\n",
    "sm = 1.0  # strength of mediator noise; needs to be non-zero for identifiability; only used when pm=1."
   ]
  },
  {
   "cell_type": "markdown",
   "id": "13",
   "metadata": {},
   "source": [
    "### Single experiment"
   ]
  },
  {
   "cell_type": "code",
   "execution_count": null,
   "id": "14",
   "metadata": {
    "id": "rLG9OoLVME8w"
   },
   "outputs": [],
   "source": [
    "W, X, Z, D, Y = gen_data(a, b, c, d, e, f, g, pm, pz, px, pw, n, sm=sm, seed=42)"
   ]
  },
  {
   "cell_type": "code",
   "execution_count": null,
   "id": "15",
   "metadata": {
    "colab": {
     "base_uri": "https://localhost:8080/"
    },
    "executionInfo": {
     "elapsed": 623,
     "status": "ok",
     "timestamp": 1726019755909,
     "user": {
      "displayName": "Vasilis Syrganis",
      "userId": "00968929417250286436"
     },
     "user_tz": 420
    },
    "id": "xq0f9gwkkBUz",
    "outputId": "085d37c2-c085-4c7d-ae69-4ba76f68e441"
   },
   "outputs": [],
   "source": [
    "generator = SemiSyntheticGenerator(random_state=0,split=True)\n",
    "# if you already computed ZXYres, i.e. if it is expensive, you can pass in as ZXYres = [Zres,Xres,Yres]\n",
    "generator.fit(W, D, Z, X, Y, ZXYres=None) "
   ]
  },
  {
   "cell_type": "code",
   "execution_count": null,
   "id": "16",
   "metadata": {},
   "outputs": [],
   "source": [
    "# Sample from DGP\n",
    "nsamples = 10000\n",
    "What, Dhat, _, Zhat, Xhat, Yhat = generator.sample(nsamples, a, b, c, g, replace=True)"
   ]
  },
  {
   "cell_type": "code",
   "execution_count": null,
   "id": "17",
   "metadata": {},
   "outputs": [],
   "source": [
    "# Basic semisynthetic data comparison to real \n",
    "covariance(Z,X), covariance(Zhat, Xhat)"
   ]
  },
  {
   "cell_type": "code",
   "execution_count": null,
   "id": "18",
   "metadata": {},
   "outputs": [],
   "source": [
    "# Basic semisynthetic data comparison to real \n",
    "for i in range(5):\n",
    "    plt.hist(Zhat[:, i], label='sampled', bins=20, alpha=.2, density=True)\n",
    "    plt.hist(Z[:, i], label='true', bins=20, alpha=.2, density=True)\n",
    "    plt.legend()\n",
    "    plt.show()"
   ]
  },
  {
   "cell_type": "code",
   "execution_count": null,
   "id": "19",
   "metadata": {},
   "outputs": [],
   "source": [
    "# Basic semisynthetic data comparison to real \n",
    "for i in range(5):\n",
    "    plt.hist(Xhat[:, i], label='sampled', bins=20, alpha=.2, density=True)\n",
    "    plt.hist(X[:, i], label='true', bins=20, alpha=.2, density=True)\n",
    "    plt.legend()\n",
    "    plt.show()"
   ]
  },
  {
   "cell_type": "markdown",
   "id": "20",
   "metadata": {},
   "source": [
    "### Repetition over many experiments"
   ]
  },
  {
   "cell_type": "code",
   "execution_count": null,
   "id": "21",
   "metadata": {
    "executionInfo": {
     "elapsed": 1105,
     "status": "ok",
     "timestamp": 1726019762625,
     "user": {
      "displayName": "Vasilis Syrganis",
      "userId": "00968929417250286436"
     },
     "user_tz": 420
    },
    "id": "HK9XULD-wTAt"
   },
   "outputs": [],
   "source": [
    "def run_semi_experiments(it, generator, n, a, b, c, g, *, sy=1.0, n_splits=3, semi=True,\n",
    "            n_jobs=-1, verbose=0):\n",
    "    np.random.seed(it)\n",
    "\n",
    "    # M is unobserved so we omit it from the return variables\n",
    "    W, D, _, Z, X, Y = generator.sample(n, a, b, c, g, sy=sy, replace=True)\n",
    "\n",
    "    est = ProximalDE(cv=n_splits, semi=semi,binary_D=True,\n",
    "                     n_jobs=n_jobs, random_state=it, verbose=verbose)\n",
    "    \n",
    "    est.fit(W, D, Z, X, Y)\n",
    "    weakiv_stat, _, _, weakiv_crit = est.weakiv_test(alpha=0.05)\n",
    "    idstr, _, _, idstr_crit = est.idstrength_violation_test(alpha=0.05)\n",
    "    pval, _, _, pval_crit = est.primal_violation_test(alpha=0.05)\n",
    "    dval, _, _, dval_crit = est.dual_violation_test(alpha=0.05)\n",
    "    lb, ub = est.robust_conf_int(lb=-2, ub=2)\n",
    "    return est.point_, est.stderr_, est.r2D_, est.r2Z_, est.r2X_, est.r2Y_, \\\n",
    "        idstr, idstr_crit, est.point_pre_, est.stderr_pre_, \\\n",
    "        pval, pval_crit, dval, dval_crit, weakiv_stat, weakiv_crit, \\\n",
    "        lb, ub"
   ]
  },
  {
   "cell_type": "code",
   "execution_count": null,
   "id": "22",
   "metadata": {
    "colab": {
     "base_uri": "https://localhost:8080/"
    },
    "executionInfo": {
     "elapsed": 3820,
     "status": "ok",
     "timestamp": 1726019766814,
     "user": {
      "displayName": "Vasilis Syrganis",
      "userId": "00968929417250286436"
     },
     "user_tz": 420
    },
    "id": "PF4tZpZ1uIJp",
    "outputId": "d5048391-9701-435d-c769-ecbe8f4a24e4"
   },
   "outputs": [],
   "source": [
    "results = Parallel(n_jobs=-1, verbose=3)(delayed(run_semi_experiments)(i, generator, n,\n",
    "                                                          a, b, c, g,\n",
    "                                                          n_splits=3, semi=True, n_jobs=1)\n",
    "                                          for i in range(100))"
   ]
  },
  {
   "cell_type": "code",
   "execution_count": null,
   "id": "23",
   "metadata": {
    "colab": {
     "base_uri": "https://localhost:8080/"
    },
    "executionInfo": {
     "elapsed": 9,
     "status": "ok",
     "timestamp": 1726019766814,
     "user": {
      "displayName": "Vasilis Syrganis",
      "userId": "00968929417250286436"
     },
     "user_tz": 420
    },
    "id": "tRdBUIxW0XQ1",
    "outputId": "858ecc04-3d9c-4ae7-8df2-7b76b51c04ea"
   },
   "outputs": [],
   "source": [
    "points_base, stderrs_base, rmseD, rmseZ, rmseX, rmseY, \\\n",
    "    idstr, idstr_crit, points_alt, stderrs_alt, \\\n",
    "    pval, pval_crit, dval, dval_crit, wiv_stat, wiv_crit, \\\n",
    "    rlb, rub = map(np.array, zip(*results))\n",
    "\n",
    "points_base = np.array(points_base)\n",
    "stderrs_base = np.array(stderrs_base)\n",
    "points_alt = np.array(points_alt)\n",
    "stderrs_alt = np.array(stderrs_alt)\n",
    "\n",
    "print(\"Estimation Quality\")\n",
    "for name, points, stderrs in [('Debiased', points_base, stderrs_base), ('Regularized', points_alt, stderrs_alt)]:\n",
    "    print(f\"\\n{name} Estimate\")\n",
    "    coverage = np.mean((points + 1.96 * stderrs >= c) & (points - 1.96 * stderrs <= c))\n",
    "    rmse = np.sqrt(np.mean((points - c)**2))\n",
    "    bias = np.abs(np.mean(points) - c)\n",
    "    std = np.std(points)\n",
    "    mean_stderr = np.mean(stderrs)\n",
    "    mean_length = np.mean(2 * 1.96 * stderrs)\n",
    "    median_length = np.median(2 * 1.96 * stderrs)\n",
    "    print(f\"Coverage: {coverage:.3f}\")\n",
    "    print(f\"RMSE: {rmse:.3f}\")\n",
    "    print(f\"Bias: {bias:.3f}\")\n",
    "    print(f\"Std: {std:.3f}\")\n",
    "    print(f\"Mean CI length: {mean_length:.3f}\")\n",
    "    print(f\"Median CI length: {mean_length:.3f}\")\n",
    "    print(f\"Mean Estimated Stderr: {mean_stderr:.3f}\")\n",
    "    print(f\"Nuisance R^2 (D, Z, X, Y): {np.mean(rmseD):.3f}, {np.mean(rmseZ):.3f}, {np.mean(rmseX):.3f}, {np.mean(rmseY):.3f}\")\n",
    "\n",
    "print(\"\\nRobust ConfInt Coverage\")\n",
    "rcoverage = np.mean((rub >= c) & (rlb <= c))\n",
    "print(f\"Robust Coverage: {rcoverage:.3f}\")\n",
    "\n",
    "print(\"\\nViolations\")\n",
    "for name, stat, crit in [('Id-Strenth', idstr, idstr_crit), ('WeakIV F-test', wiv_stat, wiv_crit)]:\n",
    "    violation = np.mean(stat <= crit)\n",
    "    print(f\"% Violations of {name}: {violation:.3f}\")\n",
    "for name, stat, crit in [('Primal Existence', pval, pval_crit), ('Dual Existence', dval, dval_crit)]:\n",
    "    violation = np.mean(stat >= crit)\n",
    "    print(f\"% Violations of {name}: {violation:.3f}\")"
   ]
  },
  {
   "cell_type": "code",
   "execution_count": null,
   "id": "24",
   "metadata": {
    "id": "2sffn7TE0d5L"
   },
   "outputs": [],
   "source": []
  }
 ],
 "metadata": {
  "accelerator": "GPU",
  "colab": {
   "collapsed_sections": [
    "T6FelHd78d8T",
    "57abc1f7-1569-469d-8239-12fce056e875",
    "a482021b-9c5b-4123-b20c-878b2940ee33",
    "M0Zp1JDoZBbi"
   ],
   "gpuType": "T4",
   "machine_shape": "hm",
   "provenance": [
    {
     "file_id": "11wI4lKMKFJmVN9v4WAK15TtifoY686Vb",
     "timestamp": 1726017290265
    }
   ],
   "toc_visible": true
  },
  "kernelspec": {
   "display_name": "Python 3 (ipykernel)",
   "language": "python",
   "name": "python3"
  },
  "language_info": {
   "codemirror_mode": {
    "name": "ipython",
    "version": 3
   },
   "file_extension": ".py",
   "mimetype": "text/x-python",
   "name": "python",
   "nbconvert_exporter": "python",
   "pygments_lexer": "ipython3",
   "version": "3.8.13"
  }
 },
 "nbformat": 4,
 "nbformat_minor": 5
}
