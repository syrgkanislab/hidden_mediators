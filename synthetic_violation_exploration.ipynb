{
 "cells": [
  {
   "cell_type": "markdown",
   "id": "0",
   "metadata": {
    "id": "nJSbD4Nr8VNq"
   },
   "source": [
    "## Setup Only for Colab"
   ]
  },
  {
   "cell_type": "code",
   "execution_count": null,
   "id": "1",
   "metadata": {
    "colab": {
     "base_uri": "https://localhost:8080/"
    },
    "executionInfo": {
     "elapsed": 26091,
     "status": "ok",
     "timestamp": 1726010690747,
     "user": {
      "displayName": "Vasilis Syrganis",
      "userId": "00968929417250286436"
     },
     "user_tz": 420
    },
    "id": "j4wBu9BNomlq",
    "outputId": "1ec53172-b732-4692-c04f-a326c223664b"
   },
   "outputs": [],
   "source": [
    "# prompt: mount drive\n",
    "\n",
    "from google.colab import drive\n",
    "drive.mount('/content/drive')"
   ]
  },
  {
   "cell_type": "code",
   "execution_count": null,
   "id": "2",
   "metadata": {
    "colab": {
     "base_uri": "https://localhost:8080/"
    },
    "executionInfo": {
     "elapsed": 406,
     "status": "ok",
     "timestamp": 1726010691150,
     "user": {
      "displayName": "Vasilis Syrganis",
      "userId": "00968929417250286436"
     },
     "user_tz": 420
    },
    "id": "JfB4MISjovTQ",
    "outputId": "fcfe2ab8-befa-4ac7-c6db-47e2fb56f7f0"
   },
   "outputs": [],
   "source": [
    "%cd /content/drive/MyDrive/Colab\\ Notebooks/hidden_mediators"
   ]
  },
  {
   "cell_type": "code",
   "execution_count": null,
   "id": "3",
   "metadata": {
    "colab": {
     "base_uri": "https://localhost:8080/"
    },
    "executionInfo": {
     "elapsed": 904,
     "status": "ok",
     "timestamp": 1726010692051,
     "user": {
      "displayName": "Vasilis Syrganis",
      "userId": "00968929417250286436"
     },
     "user_tz": 420
    },
    "id": "D5tm-9Fno5Xn",
    "outputId": "08097071-b875-4577-c8bf-9147c356f9bc"
   },
   "outputs": [],
   "source": [
    "%ls"
   ]
  },
  {
   "cell_type": "code",
   "execution_count": null,
   "id": "4",
   "metadata": {
    "id": "MFy1PyP89gR3"
   },
   "outputs": [],
   "source": [
    "from IPython.display import clear_output"
   ]
  },
  {
   "cell_type": "code",
   "execution_count": null,
   "id": "5",
   "metadata": {
    "id": "VGF-ucGhpC5P"
   },
   "outputs": [],
   "source": [
    "import time\n",
    "!pip install -r requirements.txt\n",
    "time.sleep(2)\n",
    "clear_output()"
   ]
  },
  {
   "cell_type": "code",
   "execution_count": null,
   "id": "6",
   "metadata": {
    "id": "0wsNOzNVtonf"
   },
   "outputs": [],
   "source": [
    "import time\n",
    "# replace `develop` with `install` if you wont make library code changes\n",
    "!python setup.py develop\n",
    "time.sleep(2)\n",
    "clear_output()\n",
    "# Restart the session after running this"
   ]
  },
  {
   "cell_type": "code",
   "execution_count": null,
   "id": "7",
   "metadata": {
    "colab": {
     "base_uri": "https://localhost:8080/"
    },
    "executionInfo": {
     "elapsed": 15,
     "status": "ok",
     "timestamp": 1726010708657,
     "user": {
      "displayName": "Vasilis Syrganis",
      "userId": "00968929417250286436"
     },
     "user_tz": 420
    },
    "id": "zyL1_6L73Z9e",
    "outputId": "187a0cf7-f7f5-4731-d93b-7ff36c1212de"
   },
   "outputs": [],
   "source": [
    "%cd /content/drive/MyDrive/Colab\\ Notebooks"
   ]
  },
  {
   "cell_type": "markdown",
   "id": "8",
   "metadata": {
    "id": "T6FelHd78d8T"
   },
   "source": [
    "# Main Logic"
   ]
  },
  {
   "cell_type": "code",
   "execution_count": null,
   "id": "9",
   "metadata": {
    "id": "a1446bbd-c4be-4846-b09a-e36fad2802ab"
   },
   "outputs": [],
   "source": [
    "%load_ext autoreload\n",
    "%autoreload 2"
   ]
  },
  {
   "cell_type": "code",
   "execution_count": null,
   "id": "10",
   "metadata": {
    "id": "c79a60f7-dde3-4c7c-8419-ce831b20e824"
   },
   "outputs": [],
   "source": [
    "import numpy as np\n",
    "import pandas as pd\n",
    "import matplotlib.pyplot as plt\n",
    "import scipy.stats\n",
    "from joblib import Parallel, delayed\n",
    "from proximalde.gen_synthetic_data import gen_data\n",
    "from proximalde.proximal import proximal_direct_effect, ProximalDE, residualizeW\n",
    "from sklearn.linear_model import LinearRegression\n",
    "from proximalde.crossfit import fit_predict\n",
    "from proximalde.proxy_selection_alg import *\n",
    "from proximalde.gen_synthetic_data import gen_data_no_controls_mediator_violations"
   ]
  },
  {
   "cell_type": "markdown",
   "id": "11",
   "metadata": {
    "id": "M0Zp1JDoZBbi"
   },
   "source": [
    "# Simulating Mediations that Trigger Violations of Both Assumptions\n",
    "We want to explore what causes the primal and dual to both be violated using synthetic data."
   ]
  },
  {
   "cell_type": "code",
   "execution_count": null,
   "id": "12",
   "metadata": {
    "id": "fObwIvAzaKXy"
   },
   "outputs": [],
   "source": [
    "np.random.seed(2)\n",
    "a = 1.0  # a*b is the indirect effect through mediator\n",
    "b = 1.0\n",
    "c = .5  # this is the direct effect we want to estimate\n",
    "d = .0  # this can be zero; does not hurt\n",
    "e = .7  # if the product of e*f is small, then we have a weak instrument\n",
    "f = .5  # if the product of e*f is small, then we have a weak instrument\n",
    "g = .9  # this can be zero; does not hurt\n",
    "\n",
    "n = 100000\n",
    "pw = 100\n",
    "pz, px = 2, 2"
   ]
  },
  {
   "cell_type": "code",
   "execution_count": null,
   "id": "13",
   "metadata": {
    "id": "lv6zb4EKZgeC"
   },
   "outputs": [],
   "source": [
    "# Can choose what indices of X and Z creating violating mediator paths \n",
    "W, D, _, Z, X, Y = gen_data_no_controls_mediator_violations(n, pz, px, a, b, c, d, e, f, g,\n",
    "                                                     invalidZinds=[0], invalidXinds=[1])"
   ]
  },
  {
   "cell_type": "code",
   "execution_count": null,
   "id": "14",
   "metadata": {
    "colab": {
     "base_uri": "https://localhost:8080/",
     "height": 615
    },
    "executionInfo": {
     "elapsed": 362,
     "status": "ok",
     "timestamp": 1726007694659,
     "user": {
      "displayName": "Vasilis Syrganis",
      "userId": "00968929417250286436"
     },
     "user_tz": 420
    },
    "id": "2mRCLSaQaN1g",
    "outputId": "e57ee7d5-f1a4-4b09-f12f-f3a5f15ad91d"
   },
   "outputs": [],
   "source": [
    "# Note: both the primal and the dual fail\n",
    "est = ProximalDE(cv=3, semi=True, n_jobs=-1, random_state=3, verbose=3)\n",
    "est.fit(W, D, Z, X, Y)\n",
    "est.summary()"
   ]
  },
  {
   "cell_type": "code",
   "execution_count": null,
   "id": "15",
   "metadata": {},
   "outputs": [],
   "source": []
  },
  {
   "cell_type": "markdown",
   "id": "16",
   "metadata": {
    "id": "3FH5cxTvaSNn"
   },
   "source": [
    "## Explanation: What could cause these violations? \n",
    "\n",
    "Assume we are dropping the tildes (ie. $\\tilde{V} \\rightarrow V$, etc.).\n",
    "\n",
    "\n",
    "For the __dual moment__ to hold, we essentially need that:\n",
    "\\begin{equation}\n",
    "\\text{Cov}(D, X) \\in \\text{column-span}(\\text{Cov}(X, Z)) = \\text{row-span}(\\text{Cov}(Z, X))\n",
    "\\end{equation}\n",
    "\n",
    "For the __primal moment__ to hold, we essentially need that:\n",
    "\\begin{equation}\n",
    "\\text{Cov}(Y, DZ) \\in \\text{column-span}(\\text{Cov}(DZ, DX))\n",
    "\\end{equation}\n",
    "where $DZ, DX$ are the concatenation of $D$ with $Z$ and $X$ correspondingly. Roughly this should be satisfied if:\n",
    "\\begin{equation}\n",
    "\\text{Cov}(Y, Z) \\in \\text{column-span}(\\text{Cov}(Z, X))\n",
    "\\end{equation}\n",
    "\n",
    "\n",
    "Using the above data, where both the primal and the dual fail, *let's verify that this is indeed not the case.*"
   ]
  },
  {
   "cell_type": "markdown",
   "id": "17",
   "metadata": {
    "id": "cWBVt96YbEiH"
   },
   "source": [
    "### 1. Calculate the three relevant covariances:"
   ]
  },
  {
   "cell_type": "code",
   "execution_count": null,
   "id": "18",
   "metadata": {
    "id": "lPoi2F90ZoZu"
   },
   "outputs": [],
   "source": [
    "Z = Z - np.mean(Z, axis=0)\n",
    "X = X - np.mean(X, axis=0)\n",
    "D = D - np.mean(D, axis=0)\n",
    "Y = Y - np.mean(Y, axis=0)\n",
    "D = D.reshape(-1, 1)\n",
    "Y = Y.reshape(-1, 1)\n",
    "\n",
    "CovZX = Z.T @ X / n\n",
    "CovXD = X.T @ D / n\n",
    "CovYZ = Z.T @ Y / n"
   ]
  },
  {
   "cell_type": "markdown",
   "id": "19",
   "metadata": {
    "id": "vIZnkfFdbOBi"
   },
   "source": [
    "### 2. Let's first investigate the condition for the existence of the dual\n",
    "For the dual to hold, we need $\\text{Cov}(X,D)$ to be in the row span of $\\text{Cov}(Z,X)$, or equivalently, the column span of $\\text{Cov}(X, Z)$. \n",
    "\n",
    "To find the basis (column span) of $\\text{Cov}(X,Z)$, we perform a singular value decomposition and take only the significant non-zero eigenvalues. This can be done by using the critical value computed by the `covariance_rank_test`. "
   ]
  },
  {
   "cell_type": "code",
   "execution_count": null,
   "id": "20",
   "metadata": {
    "colab": {
     "base_uri": "https://localhost:8080/"
    },
    "executionInfo": {
     "elapsed": 215,
     "status": "ok",
     "timestamp": 1726007699711,
     "user": {
      "displayName": "Vasilis Syrganis",
      "userId": "00968929417250286436"
     },
     "user_tz": 420
    },
    "id": "1jLVEcjSbsM_",
    "outputId": "7f6f93a1-960a-4cbb-c63b-5ab7a380d453"
   },
   "outputs": [],
   "source": [
    "# Calculates the critical value for Cov(Z,X)\n",
    "_, Scrit = est.covariance_rank_test(calculate_critical=True)\n",
    "# SVD\n",
    "U, S, Vh = np.linalg.svd(CovZX, full_matrices=False)\n",
    "Scrit"
   ]
  },
  {
   "cell_type": "code",
   "execution_count": null,
   "id": "21",
   "metadata": {
    "colab": {
     "base_uri": "https://localhost:8080/"
    },
    "executionInfo": {
     "elapsed": 5,
     "status": "ok",
     "timestamp": 1726007700552,
     "user": {
      "displayName": "Vasilis Syrganis",
      "userId": "00968929417250286436"
     },
     "user_tz": 420
    },
    "id": "9AHaG6jWbvaN",
    "outputId": "1b17e7cd-ea80-4c65-9c33-5e730a960a0d"
   },
   "outputs": [],
   "source": [
    "# row span of CovZX = column span of CovXZ, with stat-sig non-zero singular values, vs CovXD\n",
    "print(\"Basis of row span of CovZX:\\n\", Vh[:, S > Scrit], \"\\n\",\n",
    "      \"Vector CovXD:\\n\", CovXD)"
   ]
  },
  {
   "cell_type": "markdown",
   "id": "22",
   "metadata": {
    "id": "lzvD9gE6cjgJ"
   },
   "source": [
    "We see that $\\text{Cov}XD\\approx (0.13, 0.15)$, while the row span of $\\text{Cov}ZX$ is the subspace spanned by approximately the single vector $(-0.7, 0.7)$, i.e. multiples of this single vector. So obviously, the first vector is not in that subspace."
   ]
  },
  {
   "cell_type": "markdown",
   "id": "23",
   "metadata": {
    "id": "pTr0iPt6c70t"
   },
   "source": [
    "### 3. Let's next examine the primal existence\n",
    "Similarly, for the primal to hold, we (approximately) need $\\text{Cov}(Z, Y)$ to be in the column span of $\\text{Cov}(Z,X)$."
   ]
  },
  {
   "cell_type": "code",
   "execution_count": null,
   "id": "24",
   "metadata": {
    "colab": {
     "base_uri": "https://localhost:8080/"
    },
    "executionInfo": {
     "elapsed": 193,
     "status": "ok",
     "timestamp": 1726007703508,
     "user": {
      "displayName": "Vasilis Syrganis",
      "userId": "00968929417250286436"
     },
     "user_tz": 420
    },
    "id": "9jIOSovrcKty",
    "outputId": "b71a6ba4-6a02-48f4-ee6a-50b95dae9e0e"
   },
   "outputs": [],
   "source": [
    "# column span of CovZX, with stat-sig non-zero singular values, vs CovXD\n",
    "print(\"Basis of column span of CovZX:\\n\", U[:, S > Scrit], \"\\n\",\n",
    "      \"Vector CovYZ:\\n\", CovYZ)"
   ]
  },
  {
   "cell_type": "markdown",
   "id": "25",
   "metadata": {
    "id": "hd9iZywudNhQ"
   },
   "source": [
    "We see that $\\text{Cov}YZ \\approx (7.5, 6.5)$, while the column span of $\\text{Cov}ZX$ is the subspace spanned by the single vector $(-0.7, -0.7)$, i.e. multiples of this single vector. So obviously, the first vector is not in that subspace.\n",
    "\n"
   ]
  },
  {
   "cell_type": "markdown",
   "id": "26",
   "metadata": {},
   "source": [
    "# Fixing these violations by applying our proposed proxy (=X,Z) selection algorithm\n",
    "In the above example it was feature $Z[:,0]$ that had a violating path with $Y$ and feature $X[:, 1]$ that had a violating path with $D$. *If we remove feature $Z[:,0]$ from $Z$ and $X[:, 1]$ from $X$, would this solve these violations and produce an unbiased estimate?*\n",
    "\n",
    "Potentially. We need to consider two cases: \n",
    "1. Say $D$ has a direct effect on the $Z$'s we removed (in this case $Z[:,0]$). Then, by removing $Z[:,0]$ we are not controlling for the mediation path $D->Z[:,0]->Y$ and thus the implicit bias effect we are estimating does not control for this path, i.e., erronously includes the violating mediation path $D->Z[:,0]->Y$.\n",
    "\n",
    "2. Similarly, removing $X[1:]$ is ok, only if the direct effect of these $X$'s to $Y$ is zero. Otherwise, by removing these X's we are removing the mediation paths $D->X[:,1]->Y$ and not controlling for them.\n",
    "\n",
    "So even though removing the violating proxy features (in this case, $Z[:, 0]$ and $X[:, 1]$) will always lead to the primal and dual violations not being flagged, the implicit bias effect estimate will be the correct estimate only when $d=0$ and , i.e. the direct effect from $D->Z[0]$ is $0$.\n",
    "\n",
    "### Proxy selection algorithm \n",
    "We propose a proxy selection algoritm that selects non-violating $X$ and $Z$ proxies in a data-driven manner. The class can be found in `proximalde/proxy_selection_alg.py`.\n"
   ]
  },
  {
   "cell_type": "code",
   "execution_count": null,
   "id": "27",
   "metadata": {},
   "outputs": [],
   "source": [
    "a = 1.0  # a*b is the indirect effect through mediator\n",
    "b = 1.0\n",
    "c = .5  # this is the direct effect we want to estimate\n",
    "d = .0  # this can be zero; does not hurt\n",
    "e = .7  # if the product of e*f is small, then we have a weak instrument\n",
    "f = .5  # if the product of e*f is small, then we have a weak instrument\n",
    "g = .0  # this can be zero; does not hurt\n",
    "\n",
    "n = 100000\n",
    "pw = 0 # doesn't matter, we don't use W here \n",
    "pz, px = 50, 40\n",
    "invalidZ = [0, 4, 5]\n",
    "invalidX = [0, 6, 8]\n",
    "validZ = np.setdiff1d(np.arange(pz), invalidZ)\n",
    "validX = np.setdiff1d(np.arange(px), invalidX)"
   ]
  },
  {
   "cell_type": "code",
   "execution_count": null,
   "id": "28",
   "metadata": {},
   "outputs": [],
   "source": [
    "W, D, _, Z, X, Y = gen_data_no_controls_mediator_violations(n, pz, px, a, b, c, d, e, f, g,\n",
    "                                                     invalidZinds=invalidZ, invalidXinds=invalidX)\n",
    "np.random.seed(0)\n",
    "Dres, Zres, Xres, Yres, *_ = residualizeW(W, D, Z, X, Y) # no controls, so just zero-means the data"
   ]
  },
  {
   "cell_type": "code",
   "execution_count": null,
   "id": "29",
   "metadata": {},
   "outputs": [],
   "source": [
    "# Confirm that this data, with its violating paths, fails the \n",
    "# primal and dual violation test if we naively use all the proxy variables available to us \n",
    "est = ProximalDE(cv=3, semi=True, n_jobs=-1, random_state=3, verbose=3)\n",
    "est.fit(None, Dres, Zres, Xres, Yres)\n",
    "est.summary()"
   ]
  },
  {
   "cell_type": "code",
   "execution_count": null,
   "id": "30",
   "metadata": {},
   "outputs": [],
   "source": [
    "# Initiate the proxy selection algorithm\n",
    "    # Potential candidate pairs are proposed after searching for sets using violation \n",
    "    # estimation, where we can specify how tight we want our violation estimates to be \n",
    "    # to baseline using est_thresh.\n",
    "    # violation_type determines if we want to confirm candidate pairs at the end of a proposing round\n",
    "    # using the estimate or full violation computation \n",
    "prm = ProxySelection(Xres,Zres,Dres,Yres,primal_type='full', violation_type='full',est_thresh=.05)"
   ]
  },
  {
   "cell_type": "code",
   "execution_count": null,
   "id": "31",
   "metadata": {},
   "outputs": [],
   "source": [
    "# Baseline primal and dual violation estimate if we use all indices \n",
    "prm.violation_est(np.arange(Xres.shape[1]), np.arange(Zres.shape[1]))[:2]"
   ]
  },
  {
   "cell_type": "code",
   "execution_count": null,
   "id": "32",
   "metadata": {},
   "outputs": [],
   "source": [
    "# Baseline primal and dual violation (not estimate) if we use all indices \n",
    "prm.violation_full(np.arange(Xres.shape[1]), np.arange(Zres.shape[1]))[:2]"
   ]
  },
  {
   "cell_type": "code",
   "execution_count": null,
   "id": "33",
   "metadata": {},
   "outputs": [],
   "source": [
    "# determines, for each Zset, how many admissible Xset subsets to look for (or vice versa)\n",
    "# in the paper, we refer to ntrials as K\n",
    "ntrials = 100 \n",
    "candidates = prm.find_candidate_sets(ntrials,niters=2)"
   ]
  },
  {
   "cell_type": "code",
   "execution_count": null,
   "id": "34",
   "metadata": {},
   "outputs": [],
   "source": [
    "# Compute the (unbiased) point estimate and test scores, which should pass,\n",
    "# for all proposed proxy candidate pairs \n",
    "for (Xset, Zset) in candidates: \n",
    "    point,test=prm.violation_full(Xset,Zset,return_dual_primal_only=False)\n",
    "    display(point, test)\n",
    "    rmXset = np.setdiff1d(np.arange(Xres.shape[1]), Xset)\n",
    "    print(\"Kept Xs = \", Xset)\n",
    "    print(\"Deleted Xs =\", rmXset)\n",
    "\n",
    "    rmZset = np.setdiff1d(np.arange(Zres.shape[1]), Zset)\n",
    "    print(\"Kept Zs = \", Zset)\n",
    "    print(\"Deleted Zs =\", rmZset)"
   ]
  },
  {
   "cell_type": "code",
   "execution_count": null,
   "id": "35",
   "metadata": {
    "id": "2sffn7TE0d5L"
   },
   "outputs": [],
   "source": []
  }
 ],
 "metadata": {
  "accelerator": "GPU",
  "colab": {
   "collapsed_sections": [
    "T6FelHd78d8T",
    "57abc1f7-1569-469d-8239-12fce056e875",
    "a482021b-9c5b-4123-b20c-878b2940ee33",
    "M0Zp1JDoZBbi"
   ],
   "gpuType": "T4",
   "machine_shape": "hm",
   "provenance": [
    {
     "file_id": "11wI4lKMKFJmVN9v4WAK15TtifoY686Vb",
     "timestamp": 1726017290265
    }
   ],
   "toc_visible": true
  },
  "kernelspec": {
   "display_name": "Python 3 (ipykernel)",
   "language": "python",
   "name": "python3"
  },
  "language_info": {
   "codemirror_mode": {
    "name": "ipython",
    "version": 3
   },
   "file_extension": ".py",
   "mimetype": "text/x-python",
   "name": "python",
   "nbconvert_exporter": "python",
   "pygments_lexer": "ipython3",
   "version": "3.8.13"
  }
 },
 "nbformat": 4,
 "nbformat_minor": 5
}
