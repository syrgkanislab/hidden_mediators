{
 "cells": [
  {
   "cell_type": "code",
   "execution_count": null,
   "id": "0",
   "metadata": {},
   "outputs": [],
   "source": [
    "import numpy as np\n",
    "from proximalde.gen_data import gen_data_no_controls\n",
    "from joblib import Parallel, delayed\n",
    "import matplotlib.pyplot as plt\n",
    "import scipy.linalg"
   ]
  },
  {
   "cell_type": "code",
   "execution_count": null,
   "id": "1",
   "metadata": {},
   "outputs": [],
   "source": [
    "def true_params(pw, pz, px, a, b, c, d, e, f, g, sm, sz=1.0, sd=0.5):\n",
    "    if pz == 1 and px == 1:\n",
    "        true_Zsq = (e * a + d)**2 * sd**2 + e**2 * sm**2 + sz**2\n",
    "        true_Msq = sm**2 + a**2 * sd**2\n",
    "        true_XZ = f * (e * true_Msq + d * a * sd**2)\n",
    "        true_DZ = (a * e + d) * sd**2\n",
    "        true_DX = a * f * sd**2\n",
    "        # D*X / X*Z\n",
    "        true_gamma = true_DX / true_XZ\n",
    "        # D^2 - gamma D * Z\n",
    "        true_strength = sd**2 - true_gamma * true_DZ\n",
    "        return true_gamma, true_strength\n",
    "    else:\n",
    "        raise AttributeError(\"Not available\")"
   ]
  },
  {
   "cell_type": "code",
   "execution_count": null,
   "id": "2",
   "metadata": {},
   "outputs": [],
   "source": [
    "def exp(it, n, pw, pz, px, a, b, c, d, e, f, g, sm):\n",
    "    np.random.seed(it)\n",
    "    _, Y, _, X, Z, _ = gen_data_no_controls(n, pw, pz, px, a, b, c, d, e, f, g, sm=sm)\n",
    "    Y = Y.reshape(-1, 1)\n",
    "    Y = Y - Y.mean(axis=0)\n",
    "    X = X - X.mean(axis=0)\n",
    "    Z = Z - Z.mean(axis=0)\n",
    "    n = Z.shape[0]\n",
    "    XZ = X.T @ Z / n\n",
    "    XX = X.T @ X / n\n",
    "    ZZinv = scipy.linalg.pinvh(Z.T @ Z / n)\n",
    "    Q = Z @ ZZinv @ XZ.T\n",
    "    \n",
    "    # J = X.T @ Q / n\n",
    "    # eigv, eigvec = scipy.linalg.eigh(J)\n",
    "    # clipped_inv_eig = np.zeros(eigv.shape)\n",
    "    # filter = eigv > 1 / np.sqrt(n)\n",
    "    # clipped_inv_eig[filter] = 1 / eigv[filter]\n",
    "    # Jinv = eigvec @ np.diag(clipped_inv_eig) @ eigvec\n",
    "\n",
    "    Jinv = scipy.linalg.pinvh(X.T @ Q / n + XX / n**(0.4))\n",
    "    gamma = Jinv @ (Q.T @ Y / n)\n",
    "    \n",
    "    inf = Q * Y - Q * (X @ gamma)\n",
    "    inf = inf @ Jinv.T\n",
    "    cov = (inf.T @ inf / n)\n",
    "    stderr = np.sqrt(np.diag(cov) / n)\n",
    "\n",
    "    return *gamma.flatten(), *stderr"
   ]
  },
  {
   "cell_type": "code",
   "execution_count": null,
   "id": "3",
   "metadata": {},
   "outputs": [],
   "source": [
    "np.random.seed(123)\n",
    "n = 10000\n",
    "pw = 1\n",
    "pz, px = 5, 5\n",
    "n_splits = 3\n",
    "# Indirect effect is a*b, direct effect is c\n",
    "a, b, c = 1.0, 1.0, .5\n",
    "# D has direct relationship to Z, Z has direct relationship to M, \n",
    "# X has direct relationship to M, X has direct relationship to Y\n",
    "d, e, f, g = 0.0, 1.0, 1.0, 1.0\n",
    "sm = 2.0\n",
    "if px == 1 and pz == 1:\n",
    "    true_params(pw, pz, px, a, b, c, d, e, f, g, sm)"
   ]
  },
  {
   "cell_type": "code",
   "execution_count": null,
   "id": "4",
   "metadata": {},
   "outputs": [],
   "source": [
    "exp(0, n, pw, pz, px, a, b, c, d, e, f, g, sm)"
   ]
  },
  {
   "cell_type": "code",
   "execution_count": null,
   "id": "5",
   "metadata": {},
   "outputs": [],
   "source": [
    "res = Parallel(n_jobs=-1, verbose=3)(delayed(exp)(it, n, pw, pz, px, a, b, c, d, e, f, g, sm)\n",
    "                                     for it in range(100))"
   ]
  },
  {
   "cell_type": "code",
   "execution_count": null,
   "id": "6",
   "metadata": {},
   "outputs": [],
   "source": [
    "res = np.array(res)"
   ]
  },
  {
   "cell_type": "code",
   "execution_count": null,
   "id": "7",
   "metadata": {},
   "outputs": [],
   "source": [
    "np.mean(res[:, :pz], axis=0), np.std(res[:, :pz], axis=0), np.percentile(res[:, :pz], 5, axis=0), np.percentile(res[:, :pz], 95, axis=0)"
   ]
  },
  {
   "cell_type": "code",
   "execution_count": null,
   "id": "8",
   "metadata": {},
   "outputs": [],
   "source": [
    "np.mean(res[:, pz:], axis=0), np.percentile(res[:, pz:], 5, axis=0), np.percentile(res[:, pz:], 95, axis=0)"
   ]
  },
  {
   "cell_type": "code",
   "execution_count": null,
   "id": "9",
   "metadata": {},
   "outputs": [],
   "source": [
    "plt.hist(res[:, :pz])\n",
    "plt.show()"
   ]
  },
  {
   "cell_type": "code",
   "execution_count": null,
   "id": "10",
   "metadata": {},
   "outputs": [],
   "source": []
  }
 ],
 "metadata": {
  "kernelspec": {
   "display_name": "Python 3 (ipykernel)",
   "language": "python",
   "name": "python3"
  },
  "language_info": {
   "codemirror_mode": {
    "name": "ipython",
    "version": 3
   },
   "file_extension": ".py",
   "mimetype": "text/x-python",
   "name": "python",
   "nbconvert_exporter": "python",
   "pygments_lexer": "ipython3",
   "version": "3.12.3"
  }
 },
 "nbformat": 4,
 "nbformat_minor": 5
}
