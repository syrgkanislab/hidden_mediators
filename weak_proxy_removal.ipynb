{
 "cells": [
  {
   "cell_type": "markdown",
   "id": "0",
   "metadata": {
    "id": "nJSbD4Nr8VNq"
   },
   "source": [
    "## Setup Only for Colab"
   ]
  },
  {
   "cell_type": "code",
   "execution_count": null,
   "id": "1",
   "metadata": {
    "colab": {
     "base_uri": "https://localhost:8080/"
    },
    "executionInfo": {
     "elapsed": 26091,
     "status": "ok",
     "timestamp": 1726010690747,
     "user": {
      "displayName": "Vasilis Syrganis",
      "userId": "00968929417250286436"
     },
     "user_tz": 420
    },
    "id": "j4wBu9BNomlq",
    "outputId": "1ec53172-b732-4692-c04f-a326c223664b"
   },
   "outputs": [],
   "source": [
    "# prompt: mount drive\n",
    "\n",
    "from google.colab import drive\n",
    "drive.mount('/content/drive')"
   ]
  },
  {
   "cell_type": "code",
   "execution_count": null,
   "id": "2",
   "metadata": {
    "colab": {
     "base_uri": "https://localhost:8080/"
    },
    "executionInfo": {
     "elapsed": 406,
     "status": "ok",
     "timestamp": 1726010691150,
     "user": {
      "displayName": "Vasilis Syrganis",
      "userId": "00968929417250286436"
     },
     "user_tz": 420
    },
    "id": "JfB4MISjovTQ",
    "outputId": "fcfe2ab8-befa-4ac7-c6db-47e2fb56f7f0"
   },
   "outputs": [],
   "source": [
    "%cd /content/drive/MyDrive/Colab\\ Notebooks/hidden_mediators"
   ]
  },
  {
   "cell_type": "code",
   "execution_count": null,
   "id": "3",
   "metadata": {
    "colab": {
     "base_uri": "https://localhost:8080/"
    },
    "executionInfo": {
     "elapsed": 904,
     "status": "ok",
     "timestamp": 1726010692051,
     "user": {
      "displayName": "Vasilis Syrganis",
      "userId": "00968929417250286436"
     },
     "user_tz": 420
    },
    "id": "D5tm-9Fno5Xn",
    "outputId": "08097071-b875-4577-c8bf-9147c356f9bc"
   },
   "outputs": [],
   "source": [
    "%ls"
   ]
  },
  {
   "cell_type": "code",
   "execution_count": null,
   "id": "4",
   "metadata": {
    "id": "MFy1PyP89gR3"
   },
   "outputs": [],
   "source": [
    "from IPython.display import clear_output"
   ]
  },
  {
   "cell_type": "code",
   "execution_count": null,
   "id": "5",
   "metadata": {
    "id": "VGF-ucGhpC5P"
   },
   "outputs": [],
   "source": [
    "import time\n",
    "!pip install -r requirements.txt\n",
    "time.sleep(2)\n",
    "clear_output()"
   ]
  },
  {
   "cell_type": "code",
   "execution_count": null,
   "id": "6",
   "metadata": {
    "id": "0wsNOzNVtonf"
   },
   "outputs": [],
   "source": [
    "import time\n",
    "# replace `develop` with `install` if you wont make library code changes\n",
    "!python setup.py develop\n",
    "time.sleep(2)\n",
    "clear_output()\n",
    "# Restart the session after running this"
   ]
  },
  {
   "cell_type": "code",
   "execution_count": null,
   "id": "7",
   "metadata": {
    "colab": {
     "base_uri": "https://localhost:8080/"
    },
    "executionInfo": {
     "elapsed": 15,
     "status": "ok",
     "timestamp": 1726010708657,
     "user": {
      "displayName": "Vasilis Syrganis",
      "userId": "00968929417250286436"
     },
     "user_tz": 420
    },
    "id": "zyL1_6L73Z9e",
    "outputId": "187a0cf7-f7f5-4731-d93b-7ff36c1212de"
   },
   "outputs": [],
   "source": [
    "%cd /content/drive/MyDrive/Colab\\ Notebooks"
   ]
  },
  {
   "cell_type": "markdown",
   "id": "8",
   "metadata": {
    "id": "T6FelHd78d8T"
   },
   "source": [
    "# Main Logic"
   ]
  },
  {
   "cell_type": "code",
   "execution_count": null,
   "id": "9",
   "metadata": {
    "id": "a1446bbd-c4be-4846-b09a-e36fad2802ab"
   },
   "outputs": [],
   "source": [
    "%load_ext autoreload\n",
    "%autoreload 2"
   ]
  },
  {
   "cell_type": "code",
   "execution_count": null,
   "id": "10",
   "metadata": {
    "id": "c79a60f7-dde3-4c7c-8419-ce831b20e824"
   },
   "outputs": [],
   "source": [
    "import numpy as np\n",
    "import pandas as pd\n",
    "import matplotlib.pyplot as plt\n",
    "import scipy.stats\n",
    "from joblib import Parallel, delayed\n",
    "from proximalde.gen_data import gen_data_complex, gen_data_no_controls, gen_data_with_mediator_violations, gen_data_no_controls_discrete_m\n",
    "from proximalde.proximal import proximal_direct_effect, ProximalDE, residualizeW\n",
    "from sklearn.linear_model import LinearRegression\n",
    "from sklearn.preprocessing import StandardScaler\n",
    "from proximalde.crossfit import fit_predict\n",
    "from proximalde.utilities import covariance, svd_critical_value\n",
    "from proximalde.proximal import residualizeW\n",
    "from proximalde.proxy_rm_utils import *\n",
    "from proximalde.ukbb_data_utils import *\n",
    "import seaborn as sns\n",
    "import matplotlib.pyplot as plt"
   ]
  },
  {
   "cell_type": "markdown",
   "id": "11",
   "metadata": {},
   "source": [
    "# Synthetic"
   ]
  },
  {
   "cell_type": "code",
   "execution_count": null,
   "id": "12",
   "metadata": {},
   "outputs": [],
   "source": [
    "a = 1.0  # a*b is the indirect effect through mediator\n",
    "b = 1.0\n",
    "c = .5  # this is the direct effect we want to estimate\n",
    "d = .0  # this can be zero; does not hurt\n",
    "e = .7  # if the product of e*f is small, then we have a weak instrument\n",
    "f = .5  # if the product of e*f is small, then we have a weak instrument\n",
    "g = .0  # this can be zero; does not hurt\n",
    "\n",
    "n = 10000\n",
    "pw = 100\n",
    "pz, px = 50, 40\n",
    "invalidZ = [0, 4, 5]\n",
    "invalidX = [0, 6, 8]\n",
    "validZ = np.setdiff1d(np.arange(pz), invalidZ)\n",
    "validX = np.setdiff1d(np.arange(px), invalidX)\n",
    "np.random.seed(0)\n",
    "W, D, _, Z, X, Y = gen_data_with_mediator_violations(n, pw, pz, px, a, b, c, d, e, f, g,\n",
    "                                                     invalidZinds=invalidZ, invalidXinds=invalidX)\n",
    "W = None\n",
    "\n",
    "np.random.seed(0)\n",
    "Dres, Zres_rm, Xres, Yres, *_ = residualizeW(W, D, Z, X, Y)"
   ]
  },
  {
   "cell_type": "code",
   "execution_count": null,
   "id": "13",
   "metadata": {},
   "outputs": [],
   "source": [
    "prm = WeakProxyRemoval(Xres,Zres_rm,Dres,primal_type='full', violation_type='full',est_thresh=.05)\n",
    "prm.update_Y(Yres)"
   ]
  },
  {
   "cell_type": "code",
   "execution_count": null,
   "id": "14",
   "metadata": {},
   "outputs": [],
   "source": [
    "prm.violation_est(np.arange(Xres.shape[1]), np.arange(Zres_rm.shape[1]))[:2]"
   ]
  },
  {
   "cell_type": "code",
   "execution_count": null,
   "id": "15",
   "metadata": {},
   "outputs": [],
   "source": [
    "prm.violation_full(np.arange(Xres.shape[1]), np.arange(Zres_rm.shape[1]))[:2]"
   ]
  },
  {
   "cell_type": "code",
   "execution_count": null,
   "id": "16",
   "metadata": {},
   "outputs": [],
   "source": [
    "candidates = prm.find_candidate_sets(10,niters=2,second_xset_thresh=1)\n",
    "len(candidates)"
   ]
  },
  {
   "cell_type": "code",
   "execution_count": null,
   "id": "17",
   "metadata": {},
   "outputs": [],
   "source": [
    "# Only shows when # test passes > 2 \n",
    "prm.get_estimates(candidates, verbose=1,npass=2)"
   ]
  },
  {
   "cell_type": "markdown",
   "id": "18",
   "metadata": {},
   "source": [
    "# Real"
   ]
  },
  {
   "cell_type": "code",
   "execution_count": null,
   "id": "19",
   "metadata": {},
   "outputs": [],
   "source": [
    "# Interpretable X, Z features \n",
    "def rmNaZ(Zres_rm, Zint):\n",
    "    bad_idx = np.array([('Do not know' in x) or ('Prefer not to' in x) for x in Zint])\n",
    "    Zres_rm = Zres_rm[:,~bad_idx]\n",
    "    Zint = Zint[~bad_idx]\n",
    "    return Zres_rm, Zint\n",
    "\n",
    "X, X_feats, Z, Z_feats = load_ukbb_XZ_data()\n",
    "Xint = get_int_feats(X_feats)\n",
    "Zint_ = get_int_feats(Z_feats)\n",
    "D_label = 'Obese'\n",
    "Y_label = 'back'\n",
    "Xres, Zres_rm, Yres, Dres = load_ukbb_res_data(D_label, Y_label)\n",
    "\n",
    "bad_idx = np.array([('Do not know' in x) or ('Prefer not to' in x) for x in Zint_])\n",
    "Xres, Zres_rm, Yres, Dres = load_ukbb_res_data(D_label, Y_label)\n",
    "Zres_rm = Zres_rm[:,~bad_idx]\n",
    "Zint = Zint_[~bad_idx]"
   ]
  },
  {
   "cell_type": "code",
   "execution_count": null,
   "id": "20",
   "metadata": {},
   "outputs": [],
   "source": [
    "est.summary()"
   ]
  },
  {
   "cell_type": "code",
   "execution_count": null,
   "id": "21",
   "metadata": {},
   "outputs": [],
   "source": [
    "covZD = covariance(prm.Zres_rm, Dres)\n",
    "split_covs = []\n",
    "for m in [prm.covXZ.T, prm.covZY, covZD]:\n",
    "    split_covs += [m[bad_idx], m[~bad_idx]]\n",
    "    x = np.concatenate([m[bad_idx], np.zeros(m[:1].shape), m[~bad_idx]],axis=0)\n",
    "    sns.heatmap(np.abs(x),cmap='Blues')\n",
    "    plt.title('na | rest')\n",
    "    plt.show()\n",
    "#     x = np.concatenate([m[bad_idx], np.zeros(m[:1].shape), np.abs(m[~bad_idx])],axis=1)\n",
    "#     sns.heatmap(np.abs(x))\n",
    "#     plt.title('na | rest')\n",
    "#     plt.show()\n",
    "XZna, XZ, ZYna, ZY, ZDna, ZD = split_covs\n"
   ]
  },
  {
   "cell_type": "code",
   "execution_count": null,
   "id": "22",
   "metadata": {},
   "outputs": [],
   "source": []
  },
  {
   "cell_type": "markdown",
   "id": "23",
   "metadata": {},
   "source": [
    "### Interpretability into the candidate sets the algorithm found"
   ]
  },
  {
   "cell_type": "code",
   "execution_count": null,
   "id": "24",
   "metadata": {},
   "outputs": [],
   "source": [
    "import itertools\n",
    "import pickle as pk \n",
    "\n",
    "ds = ['Low_inc', 'On_dis', 'No_priv_insr', 'No_uni', 'Female', 'Black', 'Obese', 'Asian']\n",
    "ys = ['OA', 'myoc','deprs', 'back', 'RA', 'fibro', 'infl', 'copd','chrkd','mgrn','mela', 'preg', 'endo']\n",
    "dys = list(itertools.product(ds, ys))\n",
    "dys = ['_'.join(x) for x in dys]\n",
    "\n",
    "def get_median_item(y):\n",
    "    srt_idx = np.argsort(y)\n",
    "    if len(y) % 2 == 0: # if even elements, get max point\n",
    "        i1 = len(y)//2 - 1\n",
    "        i2 = len(y)//2\n",
    "        if np.abs(y[srt_idx[i1]]) > np.abs(y[srt_idx[i2]]):\n",
    "            return y[srt_idx[i1]], srt_idx[i1]\n",
    "        else:\n",
    "            return y[srt_idx[i2]], srt_idx[i2]\n",
    "    else:\n",
    "        return y[srt_idx[len(y)//2]], srt_idx[len(y)//2]\n",
    "\n",
    "def rmNaZ(Zres_rm, Zint):\n",
    "    bad_idx = np.array([('Do not know' in x) or ('Prefer not to' in x) for x in Zint])\n",
    "    Zres_rm = Zres_rm[:,~bad_idx]\n",
    "    Zint = Zint[~bad_idx]\n",
    "    return Zres_rm, Zint\n",
    "\n",
    "X, X_feats, Z, Z_feats = load_ukbb_XZ_data()\n",
    "Xint = get_int_feats(X_feats)\n",
    "Zint_ = get_int_feats(Z_feats)\n",
    "bad_idx = np.array([('Do not know' in x) or ('Prefer not to' in x) for x in Zint_])\n",
    "\n",
    "Xres, Zres, Yres, Dres = load_ukbb_res_data('Black', 'OA')\n",
    "Zres = Zres[:,~bad_idx]\n",
    "Zint = Zint_[~bad_idx]\n",
    "\n",
    "ss_dy = pk.load(open('ss_dy.pkl', 'rb'))\n"
   ]
  },
  {
   "cell_type": "code",
   "execution_count": null,
   "id": "25",
   "metadata": {},
   "outputs": [],
   "source": [
    "xs.mean(axis=0)#==18"
   ]
  },
  {
   "cell_type": "code",
   "execution_count": null,
   "id": "26",
   "metadata": {},
   "outputs": [],
   "source": [
    "sns.clustermap(np.corrcoef(np.concatenate([zs,xs],axis=1)),yticklabels=labels_,xticklabels=labels_,linecolor='white',linewidths=.01,center=0,cmap='RdBu')\n"
   ]
  },
  {
   "cell_type": "code",
   "execution_count": null,
   "id": "27",
   "metadata": {},
   "outputs": [],
   "source": [
    "\n",
    "# xs, zs = [], []\n",
    "# labels = []\n",
    "# get_local = False\n",
    "# for dy, v in ss_dy.items():\n",
    "#     print(dy)\n",
    "#     points= np.array([x[0].point.iloc[0] for x in ss_dy[dy]])\n",
    "# #     plt.hist(points)\n",
    "# #     plt.show()\n",
    "#     m, idx = get_median_item(points)\n",
    "#     print(m,idx,len(points),np.std(points)*1.96)\n",
    "#     if get_local:\n",
    "#         for point, test, inf_idxs, path, (Xset, Zset) in ss_dy[dy]:\n",
    "#             xset_ = np.zeros(65)\n",
    "#             zset_ = np.zeros(Zres.shape[1])\n",
    "#             xset_[Xset] = 1\n",
    "#             zset_[Zset] = 1\n",
    "#             xs.append(xset_[None,:])\n",
    "#             zs.append(zset_[None,:])\n",
    "# #         if len(xs)>1 and np.abs(m)>0.05:\n",
    "# #             sns.heatmap(np.corrcoef(np.concatenate(xs)),center=0,cmap='RdBu') \n",
    "# #             plt.show()\n",
    "# #             sns.heatmap(np.corrcoef(np.concatenate(zs)),center=0,cmap='RdBu') \n",
    "# #             plt.show()\n",
    "# #             idx = np.argsort(np.concatenate(zs).mean(axis=0))[::-1]\n",
    "# #             print(Zint[idx[:10]])\n",
    "# #             idx = np.argsort(np.concatenate(xs).mean(axis=0))[::-1]\n",
    "# #             print(Xint[idx[:10]])\n",
    "#         xs, zs = [], []\n",
    "\n",
    "#     print()\n",
    "#     print()\n",
    "#     if np.abs(m) > .05:\n",
    "#         labels.append(dy)\n",
    "#         point, test, inf_idxs, path, (Xset, Zset)= ss_dy[f'{dy}'][idx]\n",
    "#         xset_ = np.zeros(65)\n",
    "#         zset_ = np.zeros(Zres.shape[1])\n",
    "#         xset_[Xset] = 1\n",
    "#         zset_[Zset] = 1\n",
    "#         xs.append(xset_[None,:])\n",
    "#         zs.append(zset_[None,:])\n",
    "# xs=np.concatenate(xs)\n",
    "# zs=np.concatenate(zs)\n",
    "xs_ = xs[:,(xs.mean(axis=0) != 0) & (xs.mean(axis=0) !=1)]\n",
    "zs_ = zs[:,(zs.mean(axis=0) != 0) & (zs.mean(axis=0) !=1)]\n",
    "yy={'OA': 'Osteoarthritis','mgrn':'Migraine','copd':'COPD', 'back': 'Back pain', 'deprs': 'Depression', 'myoc': \"Heart disease\", 'RA': 'Rh. Arthritis', 'fibro': 'Fibromyalgia', 'chrkd': 'Chronic kidney disease'}\n",
    "dd={'No_uni': 'No p.s. education', 'Low_inc': 'Low income','Obese':'Obese', 'Female': 'Female', 'Black': 'Black', 'Asian': \"Asian\", 'On_dis': 'Disability insurance'}\n",
    "labels_ = [dd['_'.join(x.split('_')[:-1])] + ', ' + yy[x.split('_')[-1]] for x in labels]\n",
    "plt.subplots(figsize=(10,10),dpi=100)\n",
    "plt.imshow(xs)\n",
    "plt.show()\n",
    "# sns.heatmap(np.corrcoef(xs),xticklabels=labels,center=0,cmap='RdBu')\n",
    "sns.clustermap(np.corrcoef(xs_),yticklabels=labels_,xticklabels=labels_,center=0,linecolor='white',linewidths=.006,cmap='RdBu')\n",
    "plt.show()\n",
    "idx = np.argsort(xs.mean(axis=0))[::-1]\n",
    "print(Xint[idx[:6]],xs.mean(axis=0)[idx[:6]] )\n",
    "print(Xint[idx[-6:]],xs.mean(axis=0)[idx[-6:]] )\n",
    "plt.hist(xs.var(axis=0))\n",
    "plt.show()\n",
    "\n",
    "plt.subplots(figsize=(10,10),dpi=100)\n",
    "plt.imshow(zs)\n",
    "plt.show()\n",
    "# sns.heatmap(np.corrcoef(zs),xticklabels=labels,center=0,cmap='RdBu')\n",
    "sns.clustermap(np.corrcoef(zs_),yticklabels=labels_,xticklabels=labels_,linecolor='white',linewidths=.01,center=0,cmap='RdBu')\n",
    "plt.show()\n",
    "idx = np.argsort(zs.mean(axis=0))[::-1]\n",
    "print(Zint[idx[:6]],zs.mean(axis=0)[idx[:6]] )\n",
    "print(Zint[idx[-6:]],zs.mean(axis=0)[idx[-6:]] )\n",
    "plt.hist(zs.var(axis=0))\n",
    "plt.show()"
   ]
  },
  {
   "cell_type": "code",
   "execution_count": null,
   "id": "28",
   "metadata": {},
   "outputs": [],
   "source": []
  },
  {
   "cell_type": "code",
   "execution_count": null,
   "id": "29",
   "metadata": {},
   "outputs": [],
   "source": [
    "def get_cov(A,B,get_pvals=True):\n",
    "    return A.T @ B / B.shape[0]\n",
    "def wrap_labels(labels, max_characters):\n",
    "    return [textwrap.fill(label, max_characters) for label in labels]\n",
    "   \n",
    "print(f\"{D_label}->{Y_label}\")\n",
    "# _, _, Yres, Dres = load_ukbb_res_data(D_label, Y_label)\n",
    "# Zres_rm = Zres[:,Zset]\n",
    "# Xres_rm = Xres[:,Xset]\n",
    "\n",
    "# Zres_other = Zres[:, np.setdiff1d(np.arange(Zres.shape[1]), Zset)]\n",
    "# Xres_other = Xres[:, np.setdiff1d(np.arange(Xres.shape[1]), Xset)]\n",
    "\n",
    "# XZres_rm_cov= get_cov(Xres_rm,Zres_rm, get_pvals=True)\n",
    "# XZres_cov= get_cov(Xres_other,Zres_other, get_pvals=True)\n",
    "# DXres_rm_cov = get_cov(Dres, Xres_rm, get_pvals=True)\n",
    "# DXres_cov = get_cov(Dres, Xres_other, get_pvals=True)\n",
    "# YZres_rm_cov = get_cov(Yres, Zres_rm, get_pvals=True)\n",
    "# YZres_cov = get_cov(Yres, Zres_other, get_pvals=True)\n",
    "sns.kdeplot(DXres_cov.squeeze(), label='other')\n",
    "sns.kdeplot(DXres_rm_cov.squeeze(), label='rm')\n",
    "plt.show()\n",
    "plt.legend()\n",
    "from scipy import stats\n",
    "print(stats.ks_2samp(DXres_rm_cov.squeeze(),DXres_cov.squeeze())) #pval1 = same\n",
    "\n",
    "sns.kdeplot(YZres_cov.squeeze(), label='other')\n",
    "sns.kdeplot(YZres_rm_cov.squeeze(), label='rm')\n",
    "plt.show()\n",
    "plt.legend()\n",
    "from scipy import stats\n",
    "print(stats.ks_2samp(YZres_cov.squeeze(),YZres_rm_cov.squeeze())) #pval1 = same\n",
    "\n",
    "DYXres_rm = np.concatenate([Dres, Yres, Xres_rm], axis=1)\n",
    "Zall_cov = get_cov(DYXres_rm, Zres_rm, get_pvals=True)\n",
    "plt.subplots(1,1,figsize=(12,8),dpi=60)\n",
    "sns.heatmap(np.abs(Zall_cov), cmap='Blues')\n",
    "xtick_labels =[f'D={D_label}', f'Y={Y_label}'] + list(Xint[Xset])  # First N are xi, last one is D\n",
    "plt.yticks(ticks=np.arange(Xres_rm.shape[1]+2)+.5, labels=xtick_labels, rotation=0)\n",
    "ytick_labels = list(Zint[Zset])\n",
    "plt.xticks(ticks=np.arange(Zres_rm.shape[1])+.5, labels=wrap_labels(ytick_labels,50),rotation=90, fontsize=10)\n",
    "plt.ylabel('X feats')\n",
    "plt.xlabel('Z feats')\n",
    "plt.title(f'|Cov(DYX,Z)| after filtering X,Z\\n{D_label}->{Y_label}')\n",
    "plt.show()\n",
    "\n",
    "\n",
    "DYZres_rm = np.concatenate([Dres, Yres, Zres_rm], axis=1)\n",
    "Zall_cov = get_cov(DYZres_rm, Xres_rm, get_pvals=True)\n",
    "plt.subplots(1,1,figsize=(12,8),dpi=60)\n",
    "sns.heatmap(np.abs(Zall_cov), cmap='Blues')\n",
    "xtick_labels =[f'D={D_label}', f'Y={Y_label}'] + list(Zint[Zset])  # First N are xi, last one is D\n",
    "plt.yticks(ticks=np.arange(Zres_rm.shape[1]+2)+.5, labels=xtick_labels, rotation=0)\n",
    "ytick_labels = list(Xint[Xset])\n",
    "plt.xticks(ticks=np.arange(Xres_rm.shape[1])+.5, labels=wrap_labels(ytick_labels,50),rotation=90, fontsize=10)\n",
    "plt.ylabel('Z feats')\n",
    "plt.xlabel('X feats')\n",
    "plt.title(f'|Cov(DYZ,X| after filtering X,Z\\n{D_label}->{Y_label}')\n",
    "plt.show()"
   ]
  },
  {
   "cell_type": "code",
   "execution_count": null,
   "id": "30",
   "metadata": {},
   "outputs": [],
   "source": [
    "def XZ_vis_cov(D_label, Y_label, Xset, Zset):\n",
    "\n",
    "\n",
    "    print(f\"{D_label}->{Y_label}\")\n",
    "    _, _, Yres, Dres = load_ukbb_res_data(D_label, Y_label)\n",
    "    Zres_rm_ = rmNaZ(Zres_rm,Zint)\n",
    "    Zres_rm_rm = Zres_rm[:,Zset]\n",
    "    Xres_rm = Xres[:,Xset]\n",
    "\n",
    "    XZres_rm_cov, XZres_rm_pvals, XZres_rm_thresh = get_cov(Xres,Zres_rm_, get_pvals=True)\n",
    "    DXres_cov, DXres_pvals, DXres_thresh = get_cov(Dres, Xres, get_pvals=True)\n",
    "    YZres_rm_cov, YZres_rm_pvals, YZres_rm_thresh = get_cov(Yres, Zres_rm, get_pvals=True)\n",
    "\n",
    "    DYXres = np.concatenate([Dres, Yres, Xres], axis=1)\n",
    "    Zall_cov, Zall_pvals, Zall_thresh = get_cov(DYXres, Zres_rm, get_pvals=True)\n",
    "    plt.subplots(1,1,figsize=(12,8),dpi=60)\n",
    "    sns.heatmap(np.abs(Zall_cov), cmap='Blues')\n",
    "    xtick_labels =[f'D={D_label}', f'Y={Y_label}'] + list(Xint)  # First N are xi, last one is D\n",
    "    plt.yticks(ticks=np.arange(Xres.shape[1]+2)+.5, labels=xtick_labels, rotation=0)\n",
    "    ytick_labels = list(Zint)\n",
    "    plt.xticks(ticks=np.arange(Zres_rm.shape[1])+.5, labels=wrap_labels(ytick_labels,50),rotation=90, fontsize=10)\n",
    "    plt.ylabel('X feats')\n",
    "    plt.xlabel('Z feats')\n",
    "    plt.title(f'|Cov(DYX,Z)| after filtering X,Z\\n{D_label}->{Y_label}')\n",
    "    plt.show()\n",
    "\n",
    "\n",
    "    DYZres_rm = np.concatenate([Dres, Yres, Zres_rm], axis=1)\n",
    "    Zall_cov, Zall_pvals, Zall_thresh = get_cov(DYZres_rm, Xres, get_pvals=True)\n",
    "    plt.subplots(1,1,figsize=(12,8),dpi=60)\n",
    "    sns.heatmap(np.abs(Zall_cov), cmap='Blues')\n",
    "    xtick_labels =[f'D={D_label}', f'Y={Y_label}'] + list(Zint)  # First N are xi, last one is D\n",
    "    plt.yticks(ticks=np.arange(Zres_rm.shape[1]+2)+.5, labels=xtick_labels, rotation=0)\n",
    "    ytick_labels = list(Xint)\n",
    "    plt.xticks(ticks=np.arange(Xres.shape[1])+.5, labels=wrap_labels(ytick_labels,50),rotation=90, fontsize=10)\n",
    "    plt.ylabel('Z feats')\n",
    "    plt.xlabel('X feats')\n",
    "    plt.title(f'|Cov(DYZ,X| after filtering X,Z\\n{D_label}->{Y_label}')\n",
    "    plt.show()"
   ]
  },
  {
   "cell_type": "code",
   "execution_count": null,
   "id": "31",
   "metadata": {},
   "outputs": [],
   "source": [
    "test_dfs = []\n",
    "res_dfs = []\n",
    "point_dfs = []\n",
    "model_regression = 'linear'\n",
    "model_classification = 'linear'\n",
    "Dbin = False \n",
    "Ybin = False\n",
    "SAVE_PATH = './results/'\n",
    "XZbin = False\n",
    "for D_label in ['Black', 'Female', 'Obese','Asian']:\n",
    "        print(D_label)\n",
    "        for Y_label in ['OA', 'RA', 'myoc','deprs', 'back']:\n",
    "\n",
    "            try:\n",
    "#                     res_model_save = ''\n",
    "#                     if res_model == 'xgb':\n",
    "#                         res_model_save = '_xgb'\n",
    "                save_dir = f'{SAVE_PATH}/D={D_label}_Y={Y_label}/Dbin={Dbin}_Ybin={Ybin}_XZbin={XZbin}_Rgr={model_regression}'\n",
    "                test_df = pd.read_csv(save_dir + '/table2.csv', header=1, index_col=1)\n",
    "                test_df = test_df.drop(columns=['0'])\n",
    "                test_df_flat = test_df.T.unstack().to_frame().sort_index(level=1).T\n",
    "                test_df_flat.columns = test_df_flat.columns.map('_'.join)\n",
    "                point_df = pd.read_csv(save_dir + '/table0.csv', header=1, index_col=1)\n",
    "                point_df = point_df.drop(columns=['0'])                    \n",
    "                res_df = pd.read_csv(save_dir + '/table1.csv', header=1, index_col=1)\n",
    "                res_df = res_df.drop(columns=['0'])\n",
    "                test_df_flat['D_Y'] = point_df['D_Y'] = res_df['D_Y'] = f'{D_label}_{Y_label}'\n",
    "#                 test_df_flat['res_model'] = point_df['res_model'] = res_df['res_model'] = res_model\n",
    "                res_dfs.append(res_df)\n",
    "                point_dfs.append(point_df)\n",
    "                test_dfs.append(test_df_flat)\n",
    "            except Exception as e:\n",
    "                print(e)\n",
    "\n",
    "point_df = pd.concat(point_dfs)\n",
    "res_df = pd.concat(res_dfs)\n",
    "test_df = pd.concat(test_dfs)\n",
    "test_df = test_df.reindex(sorted(test_df.columns), axis=1)\n",
    "point_df"
   ]
  },
  {
   "cell_type": "code",
   "execution_count": null,
   "id": "32",
   "metadata": {},
   "outputs": [],
   "source": [
    "from scipy.stats import t\n",
    "import textwrap \n",
    "def wrap_labels(labels, max_characters):\n",
    "    return [textwrap.fill(label, max_characters) for label in labels]\n",
    "    \n",
    "UKBB_DATA_DIR = '/oak/stanford/groups/rbaltman/karaliu/bias_detection/cohort_creation/data/'\n",
    "\n",
    "def _load_data(fname: str):\n",
    "    data = np.load(UKBB_DATA_DIR + f'{fname}_data_rd.npy', allow_pickle=False)    \n",
    "    feats = np.load(UKBB_DATA_DIR + f'{fname}_feats_rd.npy', allow_pickle=False)\n",
    "    assert np.isnan(data).sum() == 0, 'NaN values cannot exist in data'\n",
    "    return data, feats\n",
    "    \n",
    "def load_XZ_data():\n",
    "    Z, Z_feats = _load_data(fname = 'srMntSlp')\n",
    "    X, X_feats = _load_data(fname = 'biomMed')\n",
    "    return X, X_feats, Z, Z_feats\n",
    "\n",
    "def load_DY_data(D_label, Y_label):\n",
    "    D_df = pd.read_csv(UKBB_DATA_DIR + 'updated_sa_df_pp.csv')\n",
    "    D = D_df[D_label].to_numpy()     \n",
    "    Y = pd.read_csv(UKBB_DATA_DIR + 'updated_Y_labels.csv')[Y_label].to_numpy()[:,None] \n",
    "    return D, Y\n",
    "\n",
    "def load_res_data(D_label, Y_label):\n",
    "    _get_path = lambda fname: f'/oak/stanford/groups/rbaltman/karaliu/bias_detection/causal_analysis/data_hm/{fname}'\n",
    "    D_label = D_label.replace('_', '')\n",
    "    Winfo = f'_Wrm{D_label}'\n",
    "    Yres = np.load(_get_path(f'Yres_{Y_label}{Winfo}.npy')) \n",
    "    Dres = np.load(_get_path(f'Dres_{D_label}.npy')) \n",
    "    Xres = np.load(_get_path(f'Xres{Winfo}.npy')) \n",
    "    Zres_rm = np.load(_get_path(f'Zres_rm{Winfo}.npy')) \n",
    "    return Xres, Zres_rm, Yres, Dres\n",
    "\n",
    "def XZ_hparam_plot(dual_or_primal='dual'):\n",
    "    \"\"\"\n",
    "    Tool for visualizing covariance matrices \n",
    "    and how different thresholds for N affect the corresponding covariance.\n",
    "    Could be for dual or primal. \n",
    "    \"\"\"\n",
    "    \n",
    "    D_labels = ['Female', 'Obese','Black', 'Asian']\n",
    "    if dual_or_primal=='dual':\n",
    "        Y_labels = ['OA']\n",
    "    else:\n",
    "        Y_labels = ['OA', 'RA', 'myoc', 'copd', 'deprs', 'back']\n",
    "    for D_label in D_labels:\n",
    "        print(D_label)\n",
    "        for Y_label in Y_labels:\n",
    "            Xres, Zres_rm, _, Dres = load_res_data(D_label, Y_label=Y_label)\n",
    "            if dual_or_primal=='dual':\n",
    "                Xrpr, Zrpr, Drpr, label = 'X', 'Z', 'D', D_label\n",
    "                XZres_rm_cov, XZres_rm_pvals, XZres_rm_thresh = get_cov(Xres, Zres_rm, get_pvals=True)\n",
    "                DXres_cov, DXres_pvals, DXres_thresh = get_cov(Dres, Xres, get_pvals=True)\n",
    "            else:\n",
    "                Xrpr, Zrpr, Drpr, label = 'Z', 'X', 'Y', Y_label\n",
    "                XZres_rm_cov, XZres_rm_pvals, XZres_rm_thresh = get_cov(Zres_rm, Xres, get_pvals=True)\n",
    "                DXres_cov, DXres_pvals, DXres_thresh = get_cov(Yres, Zres_rm, get_pvals=True)\n",
    "            \n",
    "            # We only care about X feats with st.sig. assn with D\n",
    "            ss_DXidx = (DXres_pvals < DXres_thresh).squeeze()\n",
    "            if dual_or_primal=='dual':\n",
    "                fig, axs = plt.subplots(1, 2, figsize=(20, 5), dpi=70)\n",
    "            else:\n",
    "                fig, axs = plt.subplots(1, 2, figsize=(12, 5), dpi=70)\n",
    "\n",
    "            im = axs[0].imshow((XZres_rm_pvals[ss_DXidx] < XZres_rm_thresh), aspect='auto', cmap='Blues', interpolation='nearest')\n",
    "            axs[0].set_title(f\"Nonzero Covariance({Xrpr},{Zrpr})\\n(if spearman pvalue < .05/dz*dx)\", fontsize=12)\n",
    "            axs[0].set_ylabel(f\"{Xrpr} feats\", fontsize=10)\n",
    "            axs[0].set_xlabel(f\"{Zrpr} feats\", fontsize=10)\n",
    "            cbar = fig.colorbar(im, ax=axs[0], orientation='vertical')\n",
    "            cbar.set_ticks([0, 1])\n",
    "            cbar.set_ticklabels(['Zero', 'Nonzero'])\n",
    "\n",
    "            \n",
    "            nZfeats = []\n",
    "            Xfeats_w_zero_Zfeats = []\n",
    "            for i in range(40):\n",
    "                keep = (XZres_rm_pvals[ss_DXidx] < XZres_rm_thresh).sum(axis=0) > i\n",
    "                zero = ((XZres_rm_pvals[ss_DXidx][:, keep] < XZres_rm_thresh).sum(axis=1) == 0).sum()\n",
    "                nZfeats.append(keep.sum())\n",
    "                Xfeats_w_zero_Zfeats.append(zero)\n",
    "                \n",
    "            axs[1].set_title(f\"Each {Zrpr} feat's # st.sig. correlations w/ all {Xrpr} feats, {Drpr}={label}\", fontsize=12)\n",
    "            ax3 = axs[1]\n",
    "            ax3.plot(range(40), nZfeats, color='blue')\n",
    "            ax3.set_ylabel(f\"# {Zrpr} feats correlated with >N {Xrpr} feats\", color='blue')\n",
    "            ax3.set_xlabel(f\"N\\n(hparam for filtering {Xrpr} feats)\")\n",
    "            ax3.tick_params(axis='y', labelcolor='blue')\n",
    "\n",
    "            ax3b = ax3.twinx()\n",
    "            ax3b.plot(range(40), Xfeats_w_zero_Zfeats, color='green')\n",
    "            ax3b.set_ylabel(f\"# {Xrpr} feats w/ 0 st.sig. feat correlation\\nafter rm {Zrpr} feats correlated with <N {Xrpr} feats\", color='green')\n",
    "            ax3b.tick_params(axis='y')\n",
    "\n",
    "            ax3.set_title(f'How removing {Zrpr} feats affects Cov(X,Z)')\n",
    "            ax3.grid(True, axis='y', linestyle='--', linewidth=0.5, color='lightgray')\n",
    "\n",
    "            # Adjust layout to prevent overlapping\n",
    "            plt.tight_layout()\n",
    "            plt.suptitle(f\"{dual_or_primal} violation plots for {Drpr}={label}\\nusing Xres, Zres_rm\")\n",
    "            # Show the combined plots\n",
    "            plt.show()\n",
    "\n"
   ]
  },
  {
   "cell_type": "code",
   "execution_count": null,
   "id": "33",
   "metadata": {},
   "outputs": [],
   "source": []
  },
  {
   "cell_type": "code",
   "execution_count": null,
   "id": "34",
   "metadata": {},
   "outputs": [],
   "source": [
    "np.random.seed(0)\n",
    "for i in idx_list = np.random.choice(np.arange(len(candidates)), size=2)\n",
    "for Xset, Zset in candidates[idx_list]:\n",
    "    print(\"Xset =\", Xset)\n",
    "    print(\"Zset =\", Zset)\n",
    "    print()\n",
    "    est = ProximalDE(random_state=3)\n",
    "    est.fit(None, Dres, Zres_rm[:, Zset], Xres[:, Xset], Yres)\n",
    "    t = est.summary().tables[2]\n",
    "    df = pd.DataFrame.from_records(t.data)\n",
    "    header = df.iloc[0] # grab the first row for the header\n",
    "    df = df[1:] # take the data less the header row\n",
    "    df.columns = header\n",
    "    df['pass test'] = df['pass test'].map(lambda x: x == 'True')\n",
    "    if df['pass test'].all():\n",
    "        display(est.summary().tables[0], est.summary().tables[2])\n",
    "        print(\"Xset =\", Xset)\n",
    "        print(\"Zset =\", Zset)"
   ]
  }
 ],
 "metadata": {
  "accelerator": "GPU",
  "colab": {
   "collapsed_sections": [
    "T6FelHd78d8T",
    "57abc1f7-1569-469d-8239-12fce056e875",
    "a482021b-9c5b-4123-b20c-878b2940ee33",
    "M0Zp1JDoZBbi"
   ],
   "gpuType": "T4",
   "machine_shape": "hm",
   "provenance": [
    {
     "file_id": "11wI4lKMKFJmVN9v4WAK15TtifoY686Vb",
     "timestamp": 1726017290265
    }
   ],
   "toc_visible": true
  },
  "kernelspec": {
   "display_name": "Python 3 (ipykernel)",
   "language": "python",
   "name": "python3"
  },
  "language_info": {
   "codemirror_mode": {
    "name": "ipython",
    "version": 3
   },
   "file_extension": ".py",
   "mimetype": "text/x-python",
   "name": "python",
   "nbconvert_exporter": "python",
   "pygments_lexer": "ipython3",
   "version": "3.8.13"
  }
 },
 "nbformat": 4,
 "nbformat_minor": 5
}
